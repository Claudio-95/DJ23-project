{
 "cells": [
  {
   "cell_type": "code",
   "execution_count": 1,
   "id": "2dc1bc95",
   "metadata": {
    "_cell_guid": "b1076dfc-b9ad-4769-8c92-a6c4dae69d19",
    "_uuid": "8f2839f25d086af736a60e9eeb907d3b93b6e0e5",
    "execution": {
     "iopub.execute_input": "2023-02-25T09:16:10.289413Z",
     "iopub.status.busy": "2023-02-25T09:16:10.288547Z",
     "iopub.status.idle": "2023-02-25T09:16:10.310005Z",
     "shell.execute_reply": "2023-02-25T09:16:10.308593Z"
    },
    "papermill": {
     "duration": 0.04421,
     "end_time": "2023-02-25T09:16:10.313473",
     "exception": false,
     "start_time": "2023-02-25T09:16:10.269263",
     "status": "completed"
    },
    "tags": []
   },
   "outputs": [],
   "source": [
    "# This Python 3 environment comes with many helpful analytics libraries installed\n",
    "# It is defined by the kaggle/python Docker image: https://github.com/kaggle/docker-python\n",
    "# For example, here's several helpful packages to load\n",
    "\n",
    "import numpy as np # linear algebra\n",
    "import pandas as pd # data processing, CSV file I/O (e.g. pd.read_csv)\n",
    "\n",
    "# Input data files are available in the read-only \"../input/\" directory\n",
    "# For example, running this (by clicking run or pressing Shift+Enter) will list all files under the input directory\n",
    "\n",
    "import os\n",
    "for dirname, _, filenames in os.walk('/kaggle/input'):\n",
    "    for filename in filenames:\n",
    "        print(os.path.join(dirname, filename))\n",
    "\n",
    "# You can write up to 20GB to the current directory (/kaggle/working/) that gets preserved as output when you create a version using \"Save & Run All\" \n",
    "# You can also write temporary files to /kaggle/temp/, but they won't be saved outside of the current session"
   ]
  },
  {
   "cell_type": "code",
   "execution_count": 1,
   "id": "a5eb4d81",
   "metadata": {},
   "outputs": [],
   "source": [
    "import numpy as np # linear algebra\n",
    "import pandas as pd # data processing, CSV file I/O (e.g. pd.read_csv)"
   ]
  },
  {
   "cell_type": "code",
   "execution_count": 15,
   "id": "569b94ab",
   "metadata": {
    "execution": {
     "iopub.execute_input": "2023-02-25T09:16:10.350278Z",
     "iopub.status.busy": "2023-02-25T09:16:10.349589Z",
     "iopub.status.idle": "2023-02-25T09:16:11.518345Z",
     "shell.execute_reply": "2023-02-25T09:16:11.517032Z"
    },
    "papermill": {
     "duration": 1.190364,
     "end_time": "2023-02-25T09:16:11.521118",
     "exception": false,
     "start_time": "2023-02-25T09:16:10.330754",
     "status": "completed"
    },
    "tags": []
   },
   "outputs": [
    {
     "data": {
      "text/html": [
       "<div>\n",
       "<style scoped>\n",
       "    .dataframe tbody tr th:only-of-type {\n",
       "        vertical-align: middle;\n",
       "    }\n",
       "\n",
       "    .dataframe tbody tr th {\n",
       "        vertical-align: top;\n",
       "    }\n",
       "\n",
       "    .dataframe thead th {\n",
       "        text-align: right;\n",
       "    }\n",
       "</style>\n",
       "<table border=\"1\" class=\"dataframe\">\n",
       "  <thead>\n",
       "    <tr style=\"text-align: right;\">\n",
       "      <th></th>\n",
       "      <th>Unnamed: 0.1</th>\n",
       "      <th>Unnamed: 0</th>\n",
       "      <th>date</th>\n",
       "      <th>id</th>\n",
       "      <th>tweetText</th>\n",
       "      <th>user</th>\n",
       "      <th>likeCount</th>\n",
       "      <th>lang</th>\n",
       "      <th>replies</th>\n",
       "      <th>mentions</th>\n",
       "      <th>outlinks</th>\n",
       "    </tr>\n",
       "  </thead>\n",
       "  <tbody>\n",
       "    <tr>\n",
       "      <th>0</th>\n",
       "      <td>0</td>\n",
       "      <td>0</td>\n",
       "      <td>17-05-2023</td>\n",
       "      <td>1658980398242713603</td>\n",
       "      <td>@SibillaDavid Infatti ChatGPT ogni tanto si la...</td>\n",
       "      <td>katiadiluna16</td>\n",
       "      <td>1</td>\n",
       "      <td>it</td>\n",
       "      <td>1</td>\n",
       "      <td>[User(username='SibillaDavid', id=159558223479...</td>\n",
       "      <td>[]</td>\n",
       "    </tr>\n",
       "    <tr>\n",
       "      <th>1</th>\n",
       "      <td>1</td>\n",
       "      <td>1</td>\n",
       "      <td>17-05-2023</td>\n",
       "      <td>1658978881783701504</td>\n",
       "      <td>@katiadiluna16 Sono peggio di ChatGPT</td>\n",
       "      <td>SibillaDavid</td>\n",
       "      <td>1</td>\n",
       "      <td>it</td>\n",
       "      <td>1</td>\n",
       "      <td>[User(username='katiadiluna16', id=3669961223,...</td>\n",
       "      <td>[]</td>\n",
       "    </tr>\n",
       "    <tr>\n",
       "      <th>2</th>\n",
       "      <td>2</td>\n",
       "      <td>2</td>\n",
       "      <td>17-05-2023</td>\n",
       "      <td>1658976280086233089</td>\n",
       "      <td>@northern_mr Oggi basta chiederlo a Chatgpt e ...</td>\n",
       "      <td>katiadiluna16</td>\n",
       "      <td>1</td>\n",
       "      <td>it</td>\n",
       "      <td>1</td>\n",
       "      <td>[User(username='northern_mr', id=1485114886808...</td>\n",
       "      <td>[]</td>\n",
       "    </tr>\n",
       "    <tr>\n",
       "      <th>3</th>\n",
       "      <td>3</td>\n",
       "      <td>3</td>\n",
       "      <td>17-05-2023</td>\n",
       "      <td>1658959657912729602</td>\n",
       "      <td>Grazie per la tua iscrizione a #AI &amp;amp; #Chat...</td>\n",
       "      <td>bruniverso</td>\n",
       "      <td>0</td>\n",
       "      <td>it</td>\n",
       "      <td>1</td>\n",
       "      <td>[User(username='flavia_marzano', id=14145846, ...</td>\n",
       "      <td>['http://cdti.org/ai-chatgpt-tra-innovazione-e...</td>\n",
       "    </tr>\n",
       "    <tr>\n",
       "      <th>4</th>\n",
       "      <td>4</td>\n",
       "      <td>4</td>\n",
       "      <td>17-05-2023</td>\n",
       "      <td>1658958570040205313</td>\n",
       "      <td>L'intelligenza artificiale può causare danni s...</td>\n",
       "      <td>Amorne_1979</td>\n",
       "      <td>0</td>\n",
       "      <td>it</td>\n",
       "      <td>1</td>\n",
       "      <td>NaN</td>\n",
       "      <td>['https://ift.tt/V7mbhcA']</td>\n",
       "    </tr>\n",
       "    <tr>\n",
       "      <th>...</th>\n",
       "      <td>...</td>\n",
       "      <td>...</td>\n",
       "      <td>...</td>\n",
       "      <td>...</td>\n",
       "      <td>...</td>\n",
       "      <td>...</td>\n",
       "      <td>...</td>\n",
       "      <td>...</td>\n",
       "      <td>...</td>\n",
       "      <td>...</td>\n",
       "      <td>...</td>\n",
       "    </tr>\n",
       "    <tr>\n",
       "      <th>26999</th>\n",
       "      <td>26999</td>\n",
       "      <td>9996</td>\n",
       "      <td>29-05-2023</td>\n",
       "      <td>1663049685324398593</td>\n",
       "      <td>idk abt u guys but im telling chatgpt thank yo...</td>\n",
       "      <td>gooddaymp3</td>\n",
       "      <td>2</td>\n",
       "      <td>en</td>\n",
       "      <td>1</td>\n",
       "      <td>NaN</td>\n",
       "      <td>[]</td>\n",
       "    </tr>\n",
       "    <tr>\n",
       "      <th>27000</th>\n",
       "      <td>27000</td>\n",
       "      <td>9997</td>\n",
       "      <td>29-05-2023</td>\n",
       "      <td>1663049619763499010</td>\n",
       "      <td>@BeastOfGoyim It already has when i tried it o...</td>\n",
       "      <td>asheuriii</td>\n",
       "      <td>0</td>\n",
       "      <td>en</td>\n",
       "      <td>1</td>\n",
       "      <td>[User(username='BeastOfGoyim', id=145786421175...</td>\n",
       "      <td>[]</td>\n",
       "    </tr>\n",
       "    <tr>\n",
       "      <th>27001</th>\n",
       "      <td>27001</td>\n",
       "      <td>9998</td>\n",
       "      <td>29-05-2023</td>\n",
       "      <td>1663049602851807232</td>\n",
       "      <td>@ivy_wylder @ask_aubry I’ve been looking for s...</td>\n",
       "      <td>dan_dd</td>\n",
       "      <td>6</td>\n",
       "      <td>en</td>\n",
       "      <td>0</td>\n",
       "      <td>[User(username='ivy_wylder', id=12147283985404...</td>\n",
       "      <td>[]</td>\n",
       "    </tr>\n",
       "    <tr>\n",
       "      <th>27002</th>\n",
       "      <td>27002</td>\n",
       "      <td>9999</td>\n",
       "      <td>29-05-2023</td>\n",
       "      <td>1663049444613410816</td>\n",
       "      <td>Is someone gonna remake Facade with ChatGPT?</td>\n",
       "      <td>PwnySlaystation</td>\n",
       "      <td>1</td>\n",
       "      <td>en</td>\n",
       "      <td>0</td>\n",
       "      <td>NaN</td>\n",
       "      <td>[]</td>\n",
       "    </tr>\n",
       "    <tr>\n",
       "      <th>27003</th>\n",
       "      <td>27003</td>\n",
       "      <td>10000</td>\n",
       "      <td>29-05-2023</td>\n",
       "      <td>1663049350560514050</td>\n",
       "      <td>@shotgun2thehead chatgpt is really good people...</td>\n",
       "      <td>teengoatmance</td>\n",
       "      <td>1</td>\n",
       "      <td>en</td>\n",
       "      <td>1</td>\n",
       "      <td>[User(username='shotgun2thehead', id=257651288...</td>\n",
       "      <td>[]</td>\n",
       "    </tr>\n",
       "  </tbody>\n",
       "</table>\n",
       "<p>27004 rows × 11 columns</p>\n",
       "</div>"
      ],
      "text/plain": [
       "       Unnamed: 0.1  Unnamed: 0        date                   id  \\\n",
       "0                 0           0  17-05-2023  1658980398242713603   \n",
       "1                 1           1  17-05-2023  1658978881783701504   \n",
       "2                 2           2  17-05-2023  1658976280086233089   \n",
       "3                 3           3  17-05-2023  1658959657912729602   \n",
       "4                 4           4  17-05-2023  1658958570040205313   \n",
       "...             ...         ...         ...                  ...   \n",
       "26999         26999        9996  29-05-2023  1663049685324398593   \n",
       "27000         27000        9997  29-05-2023  1663049619763499010   \n",
       "27001         27001        9998  29-05-2023  1663049602851807232   \n",
       "27002         27002        9999  29-05-2023  1663049444613410816   \n",
       "27003         27003       10000  29-05-2023  1663049350560514050   \n",
       "\n",
       "                                               tweetText             user  \\\n",
       "0      @SibillaDavid Infatti ChatGPT ogni tanto si la...    katiadiluna16   \n",
       "1                  @katiadiluna16 Sono peggio di ChatGPT     SibillaDavid   \n",
       "2      @northern_mr Oggi basta chiederlo a Chatgpt e ...    katiadiluna16   \n",
       "3      Grazie per la tua iscrizione a #AI &amp; #Chat...       bruniverso   \n",
       "4      L'intelligenza artificiale può causare danni s...      Amorne_1979   \n",
       "...                                                  ...              ...   \n",
       "26999  idk abt u guys but im telling chatgpt thank yo...       gooddaymp3   \n",
       "27000  @BeastOfGoyim It already has when i tried it o...        asheuriii   \n",
       "27001  @ivy_wylder @ask_aubry I’ve been looking for s...           dan_dd   \n",
       "27002       Is someone gonna remake Facade with ChatGPT?  PwnySlaystation   \n",
       "27003  @shotgun2thehead chatgpt is really good people...    teengoatmance   \n",
       "\n",
       "       likeCount lang  replies  \\\n",
       "0              1   it        1   \n",
       "1              1   it        1   \n",
       "2              1   it        1   \n",
       "3              0   it        1   \n",
       "4              0   it        1   \n",
       "...          ...  ...      ...   \n",
       "26999          2   en        1   \n",
       "27000          0   en        1   \n",
       "27001          6   en        0   \n",
       "27002          1   en        0   \n",
       "27003          1   en        1   \n",
       "\n",
       "                                                mentions  \\\n",
       "0      [User(username='SibillaDavid', id=159558223479...   \n",
       "1      [User(username='katiadiluna16', id=3669961223,...   \n",
       "2      [User(username='northern_mr', id=1485114886808...   \n",
       "3      [User(username='flavia_marzano', id=14145846, ...   \n",
       "4                                                    NaN   \n",
       "...                                                  ...   \n",
       "26999                                                NaN   \n",
       "27000  [User(username='BeastOfGoyim', id=145786421175...   \n",
       "27001  [User(username='ivy_wylder', id=12147283985404...   \n",
       "27002                                                NaN   \n",
       "27003  [User(username='shotgun2thehead', id=257651288...   \n",
       "\n",
       "                                                outlinks  \n",
       "0                                                     []  \n",
       "1                                                     []  \n",
       "2                                                     []  \n",
       "3      ['http://cdti.org/ai-chatgpt-tra-innovazione-e...  \n",
       "4                             ['https://ift.tt/V7mbhcA']  \n",
       "...                                                  ...  \n",
       "26999                                                 []  \n",
       "27000                                                 []  \n",
       "27001                                                 []  \n",
       "27002                                                 []  \n",
       "27003                                                 []  \n",
       "\n",
       "[27004 rows x 11 columns]"
      ]
     },
     "execution_count": 15,
     "metadata": {},
     "output_type": "execute_result"
    }
   ],
   "source": [
    "df = pd.read_csv('dataset_italianoEinglese_martina.csv')\n",
    "df"
   ]
  },
  {
   "cell_type": "code",
   "execution_count": 16,
   "id": "768baa19",
   "metadata": {},
   "outputs": [],
   "source": [
    "df.drop(columns=['Unnamed: 0', 'Unnamed: 0.1'], inplace = True)"
   ]
  },
  {
   "cell_type": "code",
   "execution_count": 17,
   "id": "a1d3716f",
   "metadata": {
    "execution": {
     "iopub.execute_input": "2023-02-25T09:16:11.556445Z",
     "iopub.status.busy": "2023-02-25T09:16:11.556037Z",
     "iopub.status.idle": "2023-02-25T09:16:11.594365Z",
     "shell.execute_reply": "2023-02-25T09:16:11.592978Z"
    },
    "papermill": {
     "duration": 0.060063,
     "end_time": "2023-02-25T09:16:11.597099",
     "exception": false,
     "start_time": "2023-02-25T09:16:11.537036",
     "status": "completed"
    },
    "tags": []
   },
   "outputs": [
    {
     "data": {
      "text/html": [
       "<div>\n",
       "<style scoped>\n",
       "    .dataframe tbody tr th:only-of-type {\n",
       "        vertical-align: middle;\n",
       "    }\n",
       "\n",
       "    .dataframe tbody tr th {\n",
       "        vertical-align: top;\n",
       "    }\n",
       "\n",
       "    .dataframe thead th {\n",
       "        text-align: right;\n",
       "    }\n",
       "</style>\n",
       "<table border=\"1\" class=\"dataframe\">\n",
       "  <thead>\n",
       "    <tr style=\"text-align: right;\">\n",
       "      <th></th>\n",
       "      <th>date</th>\n",
       "      <th>id</th>\n",
       "      <th>tweetText</th>\n",
       "      <th>user</th>\n",
       "      <th>likeCount</th>\n",
       "      <th>lang</th>\n",
       "      <th>replies</th>\n",
       "      <th>mentions</th>\n",
       "      <th>outlinks</th>\n",
       "    </tr>\n",
       "  </thead>\n",
       "  <tbody>\n",
       "    <tr>\n",
       "      <th>0</th>\n",
       "      <td>17-05-2023</td>\n",
       "      <td>1658980398242713603</td>\n",
       "      <td>@SibillaDavid Infatti ChatGPT ogni tanto si la...</td>\n",
       "      <td>katiadiluna16</td>\n",
       "      <td>1</td>\n",
       "      <td>it</td>\n",
       "      <td>1</td>\n",
       "      <td>[User(username='SibillaDavid', id=159558223479...</td>\n",
       "      <td>[]</td>\n",
       "    </tr>\n",
       "    <tr>\n",
       "      <th>1</th>\n",
       "      <td>17-05-2023</td>\n",
       "      <td>1658978881783701504</td>\n",
       "      <td>@katiadiluna16 Sono peggio di ChatGPT</td>\n",
       "      <td>SibillaDavid</td>\n",
       "      <td>1</td>\n",
       "      <td>it</td>\n",
       "      <td>1</td>\n",
       "      <td>[User(username='katiadiluna16', id=3669961223,...</td>\n",
       "      <td>[]</td>\n",
       "    </tr>\n",
       "    <tr>\n",
       "      <th>2</th>\n",
       "      <td>17-05-2023</td>\n",
       "      <td>1658976280086233089</td>\n",
       "      <td>@northern_mr Oggi basta chiederlo a Chatgpt e ...</td>\n",
       "      <td>katiadiluna16</td>\n",
       "      <td>1</td>\n",
       "      <td>it</td>\n",
       "      <td>1</td>\n",
       "      <td>[User(username='northern_mr', id=1485114886808...</td>\n",
       "      <td>[]</td>\n",
       "    </tr>\n",
       "    <tr>\n",
       "      <th>3</th>\n",
       "      <td>17-05-2023</td>\n",
       "      <td>1658959657912729602</td>\n",
       "      <td>Grazie per la tua iscrizione a #AI &amp;amp; #Chat...</td>\n",
       "      <td>bruniverso</td>\n",
       "      <td>0</td>\n",
       "      <td>it</td>\n",
       "      <td>1</td>\n",
       "      <td>[User(username='flavia_marzano', id=14145846, ...</td>\n",
       "      <td>['http://cdti.org/ai-chatgpt-tra-innovazione-e...</td>\n",
       "    </tr>\n",
       "    <tr>\n",
       "      <th>4</th>\n",
       "      <td>17-05-2023</td>\n",
       "      <td>1658958570040205313</td>\n",
       "      <td>L'intelligenza artificiale può causare danni s...</td>\n",
       "      <td>Amorne_1979</td>\n",
       "      <td>0</td>\n",
       "      <td>it</td>\n",
       "      <td>1</td>\n",
       "      <td>NaN</td>\n",
       "      <td>['https://ift.tt/V7mbhcA']</td>\n",
       "    </tr>\n",
       "  </tbody>\n",
       "</table>\n",
       "</div>"
      ],
      "text/plain": [
       "         date                   id  \\\n",
       "0  17-05-2023  1658980398242713603   \n",
       "1  17-05-2023  1658978881783701504   \n",
       "2  17-05-2023  1658976280086233089   \n",
       "3  17-05-2023  1658959657912729602   \n",
       "4  17-05-2023  1658958570040205313   \n",
       "\n",
       "                                           tweetText           user  \\\n",
       "0  @SibillaDavid Infatti ChatGPT ogni tanto si la...  katiadiluna16   \n",
       "1              @katiadiluna16 Sono peggio di ChatGPT   SibillaDavid   \n",
       "2  @northern_mr Oggi basta chiederlo a Chatgpt e ...  katiadiluna16   \n",
       "3  Grazie per la tua iscrizione a #AI &amp; #Chat...     bruniverso   \n",
       "4  L'intelligenza artificiale può causare danni s...    Amorne_1979   \n",
       "\n",
       "   likeCount lang  replies                                           mentions  \\\n",
       "0          1   it        1  [User(username='SibillaDavid', id=159558223479...   \n",
       "1          1   it        1  [User(username='katiadiluna16', id=3669961223,...   \n",
       "2          1   it        1  [User(username='northern_mr', id=1485114886808...   \n",
       "3          0   it        1  [User(username='flavia_marzano', id=14145846, ...   \n",
       "4          0   it        1                                                NaN   \n",
       "\n",
       "                                            outlinks  \n",
       "0                                                 []  \n",
       "1                                                 []  \n",
       "2                                                 []  \n",
       "3  ['http://cdti.org/ai-chatgpt-tra-innovazione-e...  \n",
       "4                         ['https://ift.tt/V7mbhcA']  "
      ]
     },
     "execution_count": 17,
     "metadata": {},
     "output_type": "execute_result"
    }
   ],
   "source": [
    "df.head()"
   ]
  },
  {
   "cell_type": "code",
   "execution_count": 18,
   "id": "1d657129",
   "metadata": {
    "execution": {
     "iopub.execute_input": "2023-02-25T09:16:11.632188Z",
     "iopub.status.busy": "2023-02-25T09:16:11.631775Z",
     "iopub.status.idle": "2023-02-25T09:16:11.653570Z",
     "shell.execute_reply": "2023-02-25T09:16:11.652477Z"
    },
    "papermill": {
     "duration": 0.041984,
     "end_time": "2023-02-25T09:16:11.655807",
     "exception": false,
     "start_time": "2023-02-25T09:16:11.613823",
     "status": "completed"
    },
    "tags": []
   },
   "outputs": [
    {
     "data": {
      "text/html": [
       "<div>\n",
       "<style scoped>\n",
       "    .dataframe tbody tr th:only-of-type {\n",
       "        vertical-align: middle;\n",
       "    }\n",
       "\n",
       "    .dataframe tbody tr th {\n",
       "        vertical-align: top;\n",
       "    }\n",
       "\n",
       "    .dataframe thead th {\n",
       "        text-align: right;\n",
       "    }\n",
       "</style>\n",
       "<table border=\"1\" class=\"dataframe\">\n",
       "  <thead>\n",
       "    <tr style=\"text-align: right;\">\n",
       "      <th></th>\n",
       "      <th>date</th>\n",
       "      <th>id</th>\n",
       "      <th>tweetText</th>\n",
       "      <th>user</th>\n",
       "      <th>likeCount</th>\n",
       "      <th>lang</th>\n",
       "      <th>replies</th>\n",
       "      <th>mentions</th>\n",
       "      <th>outlinks</th>\n",
       "    </tr>\n",
       "  </thead>\n",
       "  <tbody>\n",
       "    <tr>\n",
       "      <th>26999</th>\n",
       "      <td>29-05-2023</td>\n",
       "      <td>1663049685324398593</td>\n",
       "      <td>idk abt u guys but im telling chatgpt thank yo...</td>\n",
       "      <td>gooddaymp3</td>\n",
       "      <td>2</td>\n",
       "      <td>en</td>\n",
       "      <td>1</td>\n",
       "      <td>NaN</td>\n",
       "      <td>[]</td>\n",
       "    </tr>\n",
       "    <tr>\n",
       "      <th>27000</th>\n",
       "      <td>29-05-2023</td>\n",
       "      <td>1663049619763499010</td>\n",
       "      <td>@BeastOfGoyim It already has when i tried it o...</td>\n",
       "      <td>asheuriii</td>\n",
       "      <td>0</td>\n",
       "      <td>en</td>\n",
       "      <td>1</td>\n",
       "      <td>[User(username='BeastOfGoyim', id=145786421175...</td>\n",
       "      <td>[]</td>\n",
       "    </tr>\n",
       "    <tr>\n",
       "      <th>27001</th>\n",
       "      <td>29-05-2023</td>\n",
       "      <td>1663049602851807232</td>\n",
       "      <td>@ivy_wylder @ask_aubry I’ve been looking for s...</td>\n",
       "      <td>dan_dd</td>\n",
       "      <td>6</td>\n",
       "      <td>en</td>\n",
       "      <td>0</td>\n",
       "      <td>[User(username='ivy_wylder', id=12147283985404...</td>\n",
       "      <td>[]</td>\n",
       "    </tr>\n",
       "    <tr>\n",
       "      <th>27002</th>\n",
       "      <td>29-05-2023</td>\n",
       "      <td>1663049444613410816</td>\n",
       "      <td>Is someone gonna remake Facade with ChatGPT?</td>\n",
       "      <td>PwnySlaystation</td>\n",
       "      <td>1</td>\n",
       "      <td>en</td>\n",
       "      <td>0</td>\n",
       "      <td>NaN</td>\n",
       "      <td>[]</td>\n",
       "    </tr>\n",
       "    <tr>\n",
       "      <th>27003</th>\n",
       "      <td>29-05-2023</td>\n",
       "      <td>1663049350560514050</td>\n",
       "      <td>@shotgun2thehead chatgpt is really good people...</td>\n",
       "      <td>teengoatmance</td>\n",
       "      <td>1</td>\n",
       "      <td>en</td>\n",
       "      <td>1</td>\n",
       "      <td>[User(username='shotgun2thehead', id=257651288...</td>\n",
       "      <td>[]</td>\n",
       "    </tr>\n",
       "  </tbody>\n",
       "</table>\n",
       "</div>"
      ],
      "text/plain": [
       "             date                   id  \\\n",
       "26999  29-05-2023  1663049685324398593   \n",
       "27000  29-05-2023  1663049619763499010   \n",
       "27001  29-05-2023  1663049602851807232   \n",
       "27002  29-05-2023  1663049444613410816   \n",
       "27003  29-05-2023  1663049350560514050   \n",
       "\n",
       "                                               tweetText             user  \\\n",
       "26999  idk abt u guys but im telling chatgpt thank yo...       gooddaymp3   \n",
       "27000  @BeastOfGoyim It already has when i tried it o...        asheuriii   \n",
       "27001  @ivy_wylder @ask_aubry I’ve been looking for s...           dan_dd   \n",
       "27002       Is someone gonna remake Facade with ChatGPT?  PwnySlaystation   \n",
       "27003  @shotgun2thehead chatgpt is really good people...    teengoatmance   \n",
       "\n",
       "       likeCount lang  replies  \\\n",
       "26999          2   en        1   \n",
       "27000          0   en        1   \n",
       "27001          6   en        0   \n",
       "27002          1   en        0   \n",
       "27003          1   en        1   \n",
       "\n",
       "                                                mentions outlinks  \n",
       "26999                                                NaN       []  \n",
       "27000  [User(username='BeastOfGoyim', id=145786421175...       []  \n",
       "27001  [User(username='ivy_wylder', id=12147283985404...       []  \n",
       "27002                                                NaN       []  \n",
       "27003  [User(username='shotgun2thehead', id=257651288...       []  "
      ]
     },
     "execution_count": 18,
     "metadata": {},
     "output_type": "execute_result"
    }
   ],
   "source": [
    "df.tail()"
   ]
  },
  {
   "cell_type": "code",
   "execution_count": 19,
   "id": "c1bea8c0",
   "metadata": {
    "execution": {
     "iopub.execute_input": "2023-02-25T09:16:11.692076Z",
     "iopub.status.busy": "2023-02-25T09:16:11.691239Z",
     "iopub.status.idle": "2023-02-25T09:16:11.697256Z",
     "shell.execute_reply": "2023-02-25T09:16:11.696436Z"
    },
    "papermill": {
     "duration": 0.026547,
     "end_time": "2023-02-25T09:16:11.699340",
     "exception": false,
     "start_time": "2023-02-25T09:16:11.672793",
     "status": "completed"
    },
    "tags": []
   },
   "outputs": [
    {
     "data": {
      "text/plain": [
       "(27004, 9)"
      ]
     },
     "execution_count": 19,
     "metadata": {},
     "output_type": "execute_result"
    }
   ],
   "source": [
    "df.shape"
   ]
  },
  {
   "cell_type": "code",
   "execution_count": 20,
   "id": "4ef1f37e",
   "metadata": {
    "execution": {
     "iopub.execute_input": "2023-02-25T09:16:11.735466Z",
     "iopub.status.busy": "2023-02-25T09:16:11.735022Z",
     "iopub.status.idle": "2023-02-25T09:16:11.742561Z",
     "shell.execute_reply": "2023-02-25T09:16:11.741465Z"
    },
    "papermill": {
     "duration": 0.028428,
     "end_time": "2023-02-25T09:16:11.744863",
     "exception": false,
     "start_time": "2023-02-25T09:16:11.716435",
     "status": "completed"
    },
    "tags": []
   },
   "outputs": [
    {
     "data": {
      "text/plain": [
       "Index(['date', 'id', 'tweetText', 'user', 'likeCount', 'lang', 'replies',\n",
       "       'mentions', 'outlinks'],\n",
       "      dtype='object')"
      ]
     },
     "execution_count": 20,
     "metadata": {},
     "output_type": "execute_result"
    }
   ],
   "source": [
    "df.columns"
   ]
  },
  {
   "cell_type": "code",
   "execution_count": 21,
   "id": "1d2047c0",
   "metadata": {
    "execution": {
     "iopub.execute_input": "2023-02-25T09:16:11.781158Z",
     "iopub.status.busy": "2023-02-25T09:16:11.780660Z",
     "iopub.status.idle": "2023-02-25T09:16:11.972593Z",
     "shell.execute_reply": "2023-02-25T09:16:11.971606Z"
    },
    "papermill": {
     "duration": 0.213035,
     "end_time": "2023-02-25T09:16:11.975085",
     "exception": false,
     "start_time": "2023-02-25T09:16:11.762050",
     "status": "completed"
    },
    "tags": []
   },
   "outputs": [
    {
     "data": {
      "text/plain": [
       "25"
      ]
     },
     "execution_count": 21,
     "metadata": {},
     "output_type": "execute_result"
    }
   ],
   "source": [
    "df.duplicated().sum()"
   ]
  },
  {
   "cell_type": "code",
   "execution_count": 22,
   "id": "92343207",
   "metadata": {
    "execution": {
     "iopub.execute_input": "2023-02-25T09:16:12.011059Z",
     "iopub.status.busy": "2023-02-25T09:16:12.010625Z",
     "iopub.status.idle": "2023-02-25T09:16:12.058090Z",
     "shell.execute_reply": "2023-02-25T09:16:12.056824Z"
    },
    "papermill": {
     "duration": 0.06859,
     "end_time": "2023-02-25T09:16:12.060776",
     "exception": false,
     "start_time": "2023-02-25T09:16:11.992186",
     "status": "completed"
    },
    "tags": []
   },
   "outputs": [
    {
     "data": {
      "text/plain": [
       "date             0\n",
       "id               0\n",
       "tweetText        0\n",
       "user             0\n",
       "likeCount        0\n",
       "lang             0\n",
       "replies          0\n",
       "mentions     15211\n",
       "outlinks         0\n",
       "dtype: int64"
      ]
     },
     "execution_count": 22,
     "metadata": {},
     "output_type": "execute_result"
    }
   ],
   "source": [
    "df.isnull().sum()"
   ]
  },
  {
   "cell_type": "code",
   "execution_count": 23,
   "id": "908c0f4b",
   "metadata": {
    "execution": {
     "iopub.execute_input": "2023-02-25T09:16:12.097499Z",
     "iopub.status.busy": "2023-02-25T09:16:12.097119Z",
     "iopub.status.idle": "2023-02-25T09:16:12.152112Z",
     "shell.execute_reply": "2023-02-25T09:16:12.150270Z"
    },
    "papermill": {
     "duration": 0.07654,
     "end_time": "2023-02-25T09:16:12.154723",
     "exception": false,
     "start_time": "2023-02-25T09:16:12.078183",
     "status": "completed"
    },
    "tags": []
   },
   "outputs": [
    {
     "name": "stdout",
     "output_type": "stream",
     "text": [
      "<class 'pandas.core.frame.DataFrame'>\n",
      "RangeIndex: 27004 entries, 0 to 27003\n",
      "Data columns (total 9 columns):\n",
      " #   Column     Non-Null Count  Dtype \n",
      "---  ------     --------------  ----- \n",
      " 0   date       27004 non-null  object\n",
      " 1   id         27004 non-null  int64 \n",
      " 2   tweetText  27004 non-null  object\n",
      " 3   user       27004 non-null  object\n",
      " 4   likeCount  27004 non-null  int64 \n",
      " 5   lang       27004 non-null  object\n",
      " 6   replies    27004 non-null  int64 \n",
      " 7   mentions   11793 non-null  object\n",
      " 8   outlinks   27004 non-null  object\n",
      "dtypes: int64(3), object(6)\n",
      "memory usage: 1.9+ MB\n"
     ]
    }
   ],
   "source": [
    "df.info()"
   ]
  },
  {
   "cell_type": "code",
   "execution_count": 24,
   "id": "01a2998c",
   "metadata": {
    "execution": {
     "iopub.execute_input": "2023-02-25T09:16:12.192730Z",
     "iopub.status.busy": "2023-02-25T09:16:12.191615Z",
     "iopub.status.idle": "2023-02-25T09:16:12.235319Z",
     "shell.execute_reply": "2023-02-25T09:16:12.234082Z"
    },
    "papermill": {
     "duration": 0.064951,
     "end_time": "2023-02-25T09:16:12.237684",
     "exception": false,
     "start_time": "2023-02-25T09:16:12.172733",
     "status": "completed"
    },
    "tags": []
   },
   "outputs": [
    {
     "data": {
      "text/html": [
       "<div>\n",
       "<style scoped>\n",
       "    .dataframe tbody tr th:only-of-type {\n",
       "        vertical-align: middle;\n",
       "    }\n",
       "\n",
       "    .dataframe tbody tr th {\n",
       "        vertical-align: top;\n",
       "    }\n",
       "\n",
       "    .dataframe thead th {\n",
       "        text-align: right;\n",
       "    }\n",
       "</style>\n",
       "<table border=\"1\" class=\"dataframe\">\n",
       "  <thead>\n",
       "    <tr style=\"text-align: right;\">\n",
       "      <th></th>\n",
       "      <th>id</th>\n",
       "      <th>likeCount</th>\n",
       "      <th>replies</th>\n",
       "    </tr>\n",
       "  </thead>\n",
       "  <tbody>\n",
       "    <tr>\n",
       "      <th>count</th>\n",
       "      <td>2.700400e+04</td>\n",
       "      <td>27004.000000</td>\n",
       "      <td>27004.000000</td>\n",
       "    </tr>\n",
       "    <tr>\n",
       "      <th>mean</th>\n",
       "      <td>1.654816e+18</td>\n",
       "      <td>12.338987</td>\n",
       "      <td>1.517516</td>\n",
       "    </tr>\n",
       "    <tr>\n",
       "      <th>std</th>\n",
       "      <td>8.176154e+15</td>\n",
       "      <td>387.031448</td>\n",
       "      <td>34.860720</td>\n",
       "    </tr>\n",
       "    <tr>\n",
       "      <th>min</th>\n",
       "      <td>1.640752e+18</td>\n",
       "      <td>0.000000</td>\n",
       "      <td>0.000000</td>\n",
       "    </tr>\n",
       "    <tr>\n",
       "      <th>25%</th>\n",
       "      <td>1.652271e+18</td>\n",
       "      <td>0.000000</td>\n",
       "      <td>0.000000</td>\n",
       "    </tr>\n",
       "    <tr>\n",
       "      <th>50%</th>\n",
       "      <td>1.652415e+18</td>\n",
       "      <td>1.000000</td>\n",
       "      <td>0.000000</td>\n",
       "    </tr>\n",
       "    <tr>\n",
       "      <th>75%</th>\n",
       "      <td>1.663166e+18</td>\n",
       "      <td>2.000000</td>\n",
       "      <td>1.000000</td>\n",
       "    </tr>\n",
       "    <tr>\n",
       "      <th>max</th>\n",
       "      <td>1.663334e+18</td>\n",
       "      <td>48534.000000</td>\n",
       "      <td>3712.000000</td>\n",
       "    </tr>\n",
       "  </tbody>\n",
       "</table>\n",
       "</div>"
      ],
      "text/plain": [
       "                 id     likeCount       replies\n",
       "count  2.700400e+04  27004.000000  27004.000000\n",
       "mean   1.654816e+18     12.338987      1.517516\n",
       "std    8.176154e+15    387.031448     34.860720\n",
       "min    1.640752e+18      0.000000      0.000000\n",
       "25%    1.652271e+18      0.000000      0.000000\n",
       "50%    1.652415e+18      1.000000      0.000000\n",
       "75%    1.663166e+18      2.000000      1.000000\n",
       "max    1.663334e+18  48534.000000   3712.000000"
      ]
     },
     "execution_count": 24,
     "metadata": {},
     "output_type": "execute_result"
    }
   ],
   "source": [
    "df.describe()"
   ]
  },
  {
   "cell_type": "code",
   "execution_count": 25,
   "id": "def65c56",
   "metadata": {
    "execution": {
     "iopub.execute_input": "2023-02-25T09:16:12.275453Z",
     "iopub.status.busy": "2023-02-25T09:16:12.274766Z",
     "iopub.status.idle": "2023-02-25T09:16:12.423217Z",
     "shell.execute_reply": "2023-02-25T09:16:12.422255Z"
    },
    "papermill": {
     "duration": 0.170223,
     "end_time": "2023-02-25T09:16:12.425704",
     "exception": false,
     "start_time": "2023-02-25T09:16:12.255481",
     "status": "completed"
    },
    "tags": []
   },
   "outputs": [
    {
     "data": {
      "text/plain": [
       "date            17\n",
       "id           26979\n",
       "tweetText    26741\n",
       "user         20701\n",
       "likeCount      306\n",
       "lang             2\n",
       "replies        101\n",
       "mentions      8431\n",
       "outlinks      6779\n",
       "dtype: int64"
      ]
     },
     "execution_count": 25,
     "metadata": {},
     "output_type": "execute_result"
    }
   ],
   "source": [
    "df.nunique() #non è strano che ci siano solo 17 date su 27000 righe?"
   ]
  },
  {
   "cell_type": "code",
   "execution_count": 26,
   "id": "157670e9",
   "metadata": {
    "execution": {
     "iopub.execute_input": "2023-02-25T09:16:12.463704Z",
     "iopub.status.busy": "2023-02-25T09:16:12.462891Z",
     "iopub.status.idle": "2023-02-25T09:16:12.471961Z",
     "shell.execute_reply": "2023-02-25T09:16:12.470689Z"
    },
    "papermill": {
     "duration": 0.03108,
     "end_time": "2023-02-25T09:16:12.474501",
     "exception": false,
     "start_time": "2023-02-25T09:16:12.443421",
     "status": "completed"
    },
    "tags": []
   },
   "outputs": [],
   "source": [
    "def most_frequent_values(data):\n",
    "    total = data.count()\n",
    "    tt = pd.DataFrame(total)\n",
    "    tt.columns = ['Total']\n",
    "    items = []\n",
    "    vals = []\n",
    "    for col in data.columns:\n",
    "        try:\n",
    "            itm = data[col].value_counts().index[0]\n",
    "            val = data[col].value_counts().values[0]\n",
    "            items.append(itm)\n",
    "            vals.append(val)\n",
    "        except Exception as ex:\n",
    "            print(ex)\n",
    "            items.append(0)\n",
    "            vals.append(0)\n",
    "            continue\n",
    "    tt['Most frequent item'] = items\n",
    "    tt['Frequence'] = vals\n",
    "    tt['Percent from total'] = np.round(vals / total * 100, 3)\n",
    "    return(np.transpose(tt))"
   ]
  },
  {
   "cell_type": "code",
   "execution_count": 27,
   "id": "1a834163",
   "metadata": {
    "execution": {
     "iopub.execute_input": "2023-02-25T09:16:12.512530Z",
     "iopub.status.busy": "2023-02-25T09:16:12.511605Z",
     "iopub.status.idle": "2023-02-25T09:16:12.887312Z",
     "shell.execute_reply": "2023-02-25T09:16:12.885993Z"
    },
    "papermill": {
     "duration": 0.397596,
     "end_time": "2023-02-25T09:16:12.890035",
     "exception": false,
     "start_time": "2023-02-25T09:16:12.492439",
     "status": "completed"
    },
    "tags": []
   },
   "outputs": [
    {
     "data": {
      "text/html": [
       "<div>\n",
       "<style scoped>\n",
       "    .dataframe tbody tr th:only-of-type {\n",
       "        vertical-align: middle;\n",
       "    }\n",
       "\n",
       "    .dataframe tbody tr th {\n",
       "        vertical-align: top;\n",
       "    }\n",
       "\n",
       "    .dataframe thead th {\n",
       "        text-align: right;\n",
       "    }\n",
       "</style>\n",
       "<table border=\"1\" class=\"dataframe\">\n",
       "  <thead>\n",
       "    <tr style=\"text-align: right;\">\n",
       "      <th></th>\n",
       "      <th>date</th>\n",
       "      <th>id</th>\n",
       "      <th>tweetText</th>\n",
       "      <th>user</th>\n",
       "      <th>likeCount</th>\n",
       "      <th>lang</th>\n",
       "      <th>replies</th>\n",
       "      <th>mentions</th>\n",
       "      <th>outlinks</th>\n",
       "    </tr>\n",
       "  </thead>\n",
       "  <tbody>\n",
       "    <tr>\n",
       "      <th>Total</th>\n",
       "      <td>27004</td>\n",
       "      <td>27004</td>\n",
       "      <td>27004</td>\n",
       "      <td>27004</td>\n",
       "      <td>27004</td>\n",
       "      <td>27004</td>\n",
       "      <td>27004</td>\n",
       "      <td>11793</td>\n",
       "      <td>27004</td>\n",
       "    </tr>\n",
       "    <tr>\n",
       "      <th>Most frequent item</th>\n",
       "      <td>29-04-2023</td>\n",
       "      <td>1640817199328923657</td>\n",
       "      <td>@hasantoxr 3x Udemy &amp;amp; ChatGPT Courses</td>\n",
       "      <td>serenesells</td>\n",
       "      <td>0</td>\n",
       "      <td>en</td>\n",
       "      <td>0</td>\n",
       "      <td>[User(username='hasantoxr', id=150605500599202...</td>\n",
       "      <td>[]</td>\n",
       "    </tr>\n",
       "    <tr>\n",
       "      <th>Frequence</th>\n",
       "      <td>9987</td>\n",
       "      <td>2</td>\n",
       "      <td>64</td>\n",
       "      <td>213</td>\n",
       "      <td>13212</td>\n",
       "      <td>24964</td>\n",
       "      <td>17021</td>\n",
       "      <td>335</td>\n",
       "      <td>19018</td>\n",
       "    </tr>\n",
       "    <tr>\n",
       "      <th>Percent from total</th>\n",
       "      <td>36.983</td>\n",
       "      <td>0.007</td>\n",
       "      <td>0.237</td>\n",
       "      <td>0.789</td>\n",
       "      <td>48.926</td>\n",
       "      <td>92.446</td>\n",
       "      <td>63.031</td>\n",
       "      <td>2.841</td>\n",
       "      <td>70.427</td>\n",
       "    </tr>\n",
       "  </tbody>\n",
       "</table>\n",
       "</div>"
      ],
      "text/plain": [
       "                          date                   id  \\\n",
       "Total                    27004                27004   \n",
       "Most frequent item  29-04-2023  1640817199328923657   \n",
       "Frequence                 9987                    2   \n",
       "Percent from total      36.983                0.007   \n",
       "\n",
       "                                                    tweetText         user  \\\n",
       "Total                                                   27004        27004   \n",
       "Most frequent item  @hasantoxr 3x Udemy &amp; ChatGPT Courses  serenesells   \n",
       "Frequence                                                  64          213   \n",
       "Percent from total                                      0.237        0.789   \n",
       "\n",
       "                   likeCount    lang replies  \\\n",
       "Total                  27004   27004   27004   \n",
       "Most frequent item         0      en       0   \n",
       "Frequence              13212   24964   17021   \n",
       "Percent from total    48.926  92.446  63.031   \n",
       "\n",
       "                                                             mentions outlinks  \n",
       "Total                                                           11793    27004  \n",
       "Most frequent item  [User(username='hasantoxr', id=150605500599202...       []  \n",
       "Frequence                                                         335    19018  \n",
       "Percent from total                                              2.841   70.427  "
      ]
     },
     "execution_count": 27,
     "metadata": {},
     "output_type": "execute_result"
    }
   ],
   "source": [
    "most_frequent_values(df)"
   ]
  },
  {
   "cell_type": "code",
   "execution_count": 28,
   "id": "c1e5ccd1",
   "metadata": {
    "execution": {
     "iopub.execute_input": "2023-02-25T09:16:12.929147Z",
     "iopub.status.busy": "2023-02-25T09:16:12.928131Z",
     "iopub.status.idle": "2023-02-25T09:16:14.130599Z",
     "shell.execute_reply": "2023-02-25T09:16:14.129471Z"
    },
    "papermill": {
     "duration": 1.224782,
     "end_time": "2023-02-25T09:16:14.133287",
     "exception": false,
     "start_time": "2023-02-25T09:16:12.908505",
     "status": "completed"
    },
    "tags": []
   },
   "outputs": [],
   "source": [
    "import matplotlib.pyplot as plt\n",
    "import seaborn as sns"
   ]
  },
  {
   "cell_type": "code",
   "execution_count": 30,
   "id": "5969e467",
   "metadata": {
    "execution": {
     "iopub.execute_input": "2023-02-25T09:16:14.172505Z",
     "iopub.status.busy": "2023-02-25T09:16:14.171741Z",
     "iopub.status.idle": "2023-02-25T09:16:14.187092Z",
     "shell.execute_reply": "2023-02-25T09:16:14.185883Z"
    },
    "papermill": {
     "duration": 0.037951,
     "end_time": "2023-02-25T09:16:14.189802",
     "exception": false,
     "start_time": "2023-02-25T09:16:14.151851",
     "status": "completed"
    },
    "tags": []
   },
   "outputs": [
    {
     "data": {
      "text/plain": [
       "array(['katiadiluna16', 'SibillaDavid', 'bruniverso', ..., 'dan_dd',\n",
       "       'PwnySlaystation', 'teengoatmance'], dtype=object)"
      ]
     },
     "execution_count": 30,
     "metadata": {},
     "output_type": "execute_result"
    }
   ],
   "source": [
    "df['user'].unique()"
   ]
  },
  {
   "cell_type": "code",
   "execution_count": 32,
   "id": "ea7bf810",
   "metadata": {
    "execution": {
     "iopub.execute_input": "2023-02-25T09:16:14.229328Z",
     "iopub.status.busy": "2023-02-25T09:16:14.228471Z",
     "iopub.status.idle": "2023-02-25T09:16:14.255967Z",
     "shell.execute_reply": "2023-02-25T09:16:14.254616Z"
    },
    "papermill": {
     "duration": 0.050847,
     "end_time": "2023-02-25T09:16:14.258848",
     "exception": false,
     "start_time": "2023-02-25T09:16:14.208001",
     "status": "completed"
    },
    "tags": []
   },
   "outputs": [
    {
     "data": {
      "text/plain": [
       "serenesells       213\n",
       "paramendra         92\n",
       "ChatGPT_yearn      91\n",
       "nftsalesbot        69\n",
       "memdotai           62\n",
       "                 ... \n",
       "codewithkenny_      1\n",
       "stefanbtav          1\n",
       "SindhMines          1\n",
       "markobilal          1\n",
       "teengoatmance       1\n",
       "Name: user, Length: 20701, dtype: int64"
      ]
     },
     "execution_count": 32,
     "metadata": {},
     "output_type": "execute_result"
    }
   ],
   "source": [
    "df['user'].value_counts()"
   ]
  },
  {
   "cell_type": "code",
   "execution_count": 34,
   "id": "375706a0",
   "metadata": {
    "execution": {
     "iopub.execute_input": "2023-02-25T09:16:14.298571Z",
     "iopub.status.busy": "2023-02-25T09:16:14.297687Z",
     "iopub.status.idle": "2023-02-25T09:16:14.834158Z",
     "shell.execute_reply": "2023-02-25T09:16:14.832910Z"
    },
    "papermill": {
     "duration": 0.559793,
     "end_time": "2023-02-25T09:16:14.836960",
     "exception": false,
     "start_time": "2023-02-25T09:16:14.277167",
     "status": "completed"
    },
    "tags": []
   },
   "outputs": [
    {
     "data": {
      "image/png": "[encoded data removed]",
      "text/plain": [
       "<Figure size 1080x432 with 1 Axes>"
      ]
     },
     "metadata": {
      "needs_background": "light"
     },
     "output_type": "display_data"
    }
   ],
   "source": [
    "plt.figure(figsize=(15,6))\n",
    "sns.countplot(data=df, x='user', order=df[\"user\"].value_counts().index[:20])\n",
    "plt.xticks(rotation=90)\n",
    "plt.show()"
   ]
  },
  {
   "cell_type": "code",
   "execution_count": 35,
   "id": "10c96bf3",
   "metadata": {
    "execution": {
     "iopub.execute_input": "2023-02-25T09:16:14.878594Z",
     "iopub.status.busy": "2023-02-25T09:16:14.877805Z",
     "iopub.status.idle": "2023-02-25T09:16:14.896671Z",
     "shell.execute_reply": "2023-02-25T09:16:14.895574Z"
    },
    "papermill": {
     "duration": 0.04221,
     "end_time": "2023-02-25T09:16:14.899130",
     "exception": false,
     "start_time": "2023-02-25T09:16:14.856920",
     "status": "completed"
    },
    "tags": []
   },
   "outputs": [
    {
     "data": {
      "text/plain": [
       "array([1658980398242713603, 1658978881783701504, 1658976280086233089, ...,\n",
       "       1663049602851807232, 1663049444613410816, 1663049350560514050])"
      ]
     },
     "execution_count": 35,
     "metadata": {},
     "output_type": "execute_result"
    }
   ],
   "source": [
    "df['id'].unique()"
   ]
  },
  {
   "cell_type": "code",
   "execution_count": 36,
   "id": "e46c8410",
   "metadata": {
    "execution": {
     "iopub.execute_input": "2023-02-25T09:16:14.942213Z",
     "iopub.status.busy": "2023-02-25T09:16:14.940786Z",
     "iopub.status.idle": "2023-02-25T09:16:14.973983Z",
     "shell.execute_reply": "2023-02-25T09:16:14.972800Z"
    },
    "papermill": {
     "duration": 0.05727,
     "end_time": "2023-02-25T09:16:14.976579",
     "exception": false,
     "start_time": "2023-02-25T09:16:14.919309",
     "status": "completed"
    },
    "tags": []
   },
   "outputs": [
    {
     "data": {
      "text/plain": [
       "1640817199328923657    2\n",
       "1640848943822123010    2\n",
       "1640828461702057984    2\n",
       "1640851926748131330    2\n",
       "1640860074729000962    2\n",
       "                      ..\n",
       "1652276344565436416    1\n",
       "1652276352345620480    1\n",
       "1652276362034520066    1\n",
       "1652276391738580992    1\n",
       "1663049350560514050    1\n",
       "Name: id, Length: 26979, dtype: int64"
      ]
     },
     "execution_count": 36,
     "metadata": {},
     "output_type": "execute_result"
    }
   ],
   "source": [
    "df['id'].value_counts()"
   ]
  },
  {
   "cell_type": "code",
   "execution_count": 37,
   "id": "eed1cdcf",
   "metadata": {
    "execution": {
     "iopub.execute_input": "2023-02-25T09:16:15.017704Z",
     "iopub.status.busy": "2023-02-25T09:16:15.017271Z",
     "iopub.status.idle": "2023-02-25T09:16:15.580882Z",
     "shell.execute_reply": "2023-02-25T09:16:15.579545Z"
    },
    "papermill": {
     "duration": 0.587535,
     "end_time": "2023-02-25T09:16:15.583821",
     "exception": false,
     "start_time": "2023-02-25T09:16:14.996286",
     "status": "completed"
    },
    "tags": []
   },
   "outputs": [
    {
     "data": {
      "image/png": "[encoded data removed]",
      "text/plain": [
       "<Figure size 1080x432 with 1 Axes>"
      ]
     },
     "metadata": {
      "needs_background": "light"
     },
     "output_type": "display_data"
    }
   ],
   "source": [
    "plt.figure(figsize=(15,6))\n",
    "sns.countplot(data=df, x='id', order=df[\"id\"].value_counts().index[:20])\n",
    "plt.xticks(rotation=90)\n",
    "plt.show()"
   ]
  },
  {
   "cell_type": "code",
   "execution_count": 38,
   "id": "ea9980ea",
   "metadata": {},
   "outputs": [
    {
     "data": {
      "text/html": [
       "<div>\n",
       "<style scoped>\n",
       "    .dataframe tbody tr th:only-of-type {\n",
       "        vertical-align: middle;\n",
       "    }\n",
       "\n",
       "    .dataframe tbody tr th {\n",
       "        vertical-align: top;\n",
       "    }\n",
       "\n",
       "    .dataframe thead th {\n",
       "        text-align: right;\n",
       "    }\n",
       "</style>\n",
       "<table border=\"1\" class=\"dataframe\">\n",
       "  <thead>\n",
       "    <tr style=\"text-align: right;\">\n",
       "      <th></th>\n",
       "      <th>date</th>\n",
       "      <th>id</th>\n",
       "      <th>tweetText</th>\n",
       "      <th>user</th>\n",
       "      <th>likeCount</th>\n",
       "      <th>lang</th>\n",
       "      <th>replies</th>\n",
       "      <th>mentions</th>\n",
       "      <th>outlinks</th>\n",
       "    </tr>\n",
       "  </thead>\n",
       "  <tbody>\n",
       "    <tr>\n",
       "      <th>0</th>\n",
       "      <td>17-05-2023</td>\n",
       "      <td>1658980398242713603</td>\n",
       "      <td>@SibillaDavid Infatti ChatGPT ogni tanto si la...</td>\n",
       "      <td>katiadiluna16</td>\n",
       "      <td>1</td>\n",
       "      <td>it</td>\n",
       "      <td>1</td>\n",
       "      <td>[User(username='SibillaDavid', id=159558223479...</td>\n",
       "      <td>[]</td>\n",
       "    </tr>\n",
       "    <tr>\n",
       "      <th>1</th>\n",
       "      <td>17-05-2023</td>\n",
       "      <td>1658978881783701504</td>\n",
       "      <td>@katiadiluna16 Sono peggio di ChatGPT</td>\n",
       "      <td>SibillaDavid</td>\n",
       "      <td>1</td>\n",
       "      <td>it</td>\n",
       "      <td>1</td>\n",
       "      <td>[User(username='katiadiluna16', id=3669961223,...</td>\n",
       "      <td>[]</td>\n",
       "    </tr>\n",
       "    <tr>\n",
       "      <th>2</th>\n",
       "      <td>17-05-2023</td>\n",
       "      <td>1658976280086233089</td>\n",
       "      <td>@northern_mr Oggi basta chiederlo a Chatgpt e ...</td>\n",
       "      <td>katiadiluna16</td>\n",
       "      <td>1</td>\n",
       "      <td>it</td>\n",
       "      <td>1</td>\n",
       "      <td>[User(username='northern_mr', id=1485114886808...</td>\n",
       "      <td>[]</td>\n",
       "    </tr>\n",
       "    <tr>\n",
       "      <th>3</th>\n",
       "      <td>17-05-2023</td>\n",
       "      <td>1658959657912729602</td>\n",
       "      <td>Grazie per la tua iscrizione a #AI &amp;amp; #Chat...</td>\n",
       "      <td>bruniverso</td>\n",
       "      <td>0</td>\n",
       "      <td>it</td>\n",
       "      <td>1</td>\n",
       "      <td>[User(username='flavia_marzano', id=14145846, ...</td>\n",
       "      <td>['http://cdti.org/ai-chatgpt-tra-innovazione-e...</td>\n",
       "    </tr>\n",
       "    <tr>\n",
       "      <th>4</th>\n",
       "      <td>17-05-2023</td>\n",
       "      <td>1658958570040205313</td>\n",
       "      <td>L'intelligenza artificiale può causare danni s...</td>\n",
       "      <td>Amorne_1979</td>\n",
       "      <td>0</td>\n",
       "      <td>it</td>\n",
       "      <td>1</td>\n",
       "      <td>NaN</td>\n",
       "      <td>['https://ift.tt/V7mbhcA']</td>\n",
       "    </tr>\n",
       "    <tr>\n",
       "      <th>...</th>\n",
       "      <td>...</td>\n",
       "      <td>...</td>\n",
       "      <td>...</td>\n",
       "      <td>...</td>\n",
       "      <td>...</td>\n",
       "      <td>...</td>\n",
       "      <td>...</td>\n",
       "      <td>...</td>\n",
       "      <td>...</td>\n",
       "    </tr>\n",
       "    <tr>\n",
       "      <th>26999</th>\n",
       "      <td>29-05-2023</td>\n",
       "      <td>1663049685324398593</td>\n",
       "      <td>idk abt u guys but im telling chatgpt thank yo...</td>\n",
       "      <td>gooddaymp3</td>\n",
       "      <td>2</td>\n",
       "      <td>en</td>\n",
       "      <td>1</td>\n",
       "      <td>NaN</td>\n",
       "      <td>[]</td>\n",
       "    </tr>\n",
       "    <tr>\n",
       "      <th>27000</th>\n",
       "      <td>29-05-2023</td>\n",
       "      <td>1663049619763499010</td>\n",
       "      <td>@BeastOfGoyim It already has when i tried it o...</td>\n",
       "      <td>asheuriii</td>\n",
       "      <td>0</td>\n",
       "      <td>en</td>\n",
       "      <td>1</td>\n",
       "      <td>[User(username='BeastOfGoyim', id=145786421175...</td>\n",
       "      <td>[]</td>\n",
       "    </tr>\n",
       "    <tr>\n",
       "      <th>27001</th>\n",
       "      <td>29-05-2023</td>\n",
       "      <td>1663049602851807232</td>\n",
       "      <td>@ivy_wylder @ask_aubry I’ve been looking for s...</td>\n",
       "      <td>dan_dd</td>\n",
       "      <td>6</td>\n",
       "      <td>en</td>\n",
       "      <td>0</td>\n",
       "      <td>[User(username='ivy_wylder', id=12147283985404...</td>\n",
       "      <td>[]</td>\n",
       "    </tr>\n",
       "    <tr>\n",
       "      <th>27002</th>\n",
       "      <td>29-05-2023</td>\n",
       "      <td>1663049444613410816</td>\n",
       "      <td>Is someone gonna remake Facade with ChatGPT?</td>\n",
       "      <td>PwnySlaystation</td>\n",
       "      <td>1</td>\n",
       "      <td>en</td>\n",
       "      <td>0</td>\n",
       "      <td>NaN</td>\n",
       "      <td>[]</td>\n",
       "    </tr>\n",
       "    <tr>\n",
       "      <th>27003</th>\n",
       "      <td>29-05-2023</td>\n",
       "      <td>1663049350560514050</td>\n",
       "      <td>@shotgun2thehead chatgpt is really good people...</td>\n",
       "      <td>teengoatmance</td>\n",
       "      <td>1</td>\n",
       "      <td>en</td>\n",
       "      <td>1</td>\n",
       "      <td>[User(username='shotgun2thehead', id=257651288...</td>\n",
       "      <td>[]</td>\n",
       "    </tr>\n",
       "  </tbody>\n",
       "</table>\n",
       "<p>27004 rows × 9 columns</p>\n",
       "</div>"
      ],
      "text/plain": [
       "             date                   id  \\\n",
       "0      17-05-2023  1658980398242713603   \n",
       "1      17-05-2023  1658978881783701504   \n",
       "2      17-05-2023  1658976280086233089   \n",
       "3      17-05-2023  1658959657912729602   \n",
       "4      17-05-2023  1658958570040205313   \n",
       "...           ...                  ...   \n",
       "26999  29-05-2023  1663049685324398593   \n",
       "27000  29-05-2023  1663049619763499010   \n",
       "27001  29-05-2023  1663049602851807232   \n",
       "27002  29-05-2023  1663049444613410816   \n",
       "27003  29-05-2023  1663049350560514050   \n",
       "\n",
       "                                               tweetText             user  \\\n",
       "0      @SibillaDavid Infatti ChatGPT ogni tanto si la...    katiadiluna16   \n",
       "1                  @katiadiluna16 Sono peggio di ChatGPT     SibillaDavid   \n",
       "2      @northern_mr Oggi basta chiederlo a Chatgpt e ...    katiadiluna16   \n",
       "3      Grazie per la tua iscrizione a #AI &amp; #Chat...       bruniverso   \n",
       "4      L'intelligenza artificiale può causare danni s...      Amorne_1979   \n",
       "...                                                  ...              ...   \n",
       "26999  idk abt u guys but im telling chatgpt thank yo...       gooddaymp3   \n",
       "27000  @BeastOfGoyim It already has when i tried it o...        asheuriii   \n",
       "27001  @ivy_wylder @ask_aubry I’ve been looking for s...           dan_dd   \n",
       "27002       Is someone gonna remake Facade with ChatGPT?  PwnySlaystation   \n",
       "27003  @shotgun2thehead chatgpt is really good people...    teengoatmance   \n",
       "\n",
       "       likeCount lang  replies  \\\n",
       "0              1   it        1   \n",
       "1              1   it        1   \n",
       "2              1   it        1   \n",
       "3              0   it        1   \n",
       "4              0   it        1   \n",
       "...          ...  ...      ...   \n",
       "26999          2   en        1   \n",
       "27000          0   en        1   \n",
       "27001          6   en        0   \n",
       "27002          1   en        0   \n",
       "27003          1   en        1   \n",
       "\n",
       "                                                mentions  \\\n",
       "0      [User(username='SibillaDavid', id=159558223479...   \n",
       "1      [User(username='katiadiluna16', id=3669961223,...   \n",
       "2      [User(username='northern_mr', id=1485114886808...   \n",
       "3      [User(username='flavia_marzano', id=14145846, ...   \n",
       "4                                                    NaN   \n",
       "...                                                  ...   \n",
       "26999                                                NaN   \n",
       "27000  [User(username='BeastOfGoyim', id=145786421175...   \n",
       "27001  [User(username='ivy_wylder', id=12147283985404...   \n",
       "27002                                                NaN   \n",
       "27003  [User(username='shotgun2thehead', id=257651288...   \n",
       "\n",
       "                                                outlinks  \n",
       "0                                                     []  \n",
       "1                                                     []  \n",
       "2                                                     []  \n",
       "3      ['http://cdti.org/ai-chatgpt-tra-innovazione-e...  \n",
       "4                             ['https://ift.tt/V7mbhcA']  \n",
       "...                                                  ...  \n",
       "26999                                                 []  \n",
       "27000                                                 []  \n",
       "27001                                                 []  \n",
       "27002                                                 []  \n",
       "27003                                                 []  \n",
       "\n",
       "[27004 rows x 9 columns]"
      ]
     },
     "execution_count": 38,
     "metadata": {},
     "output_type": "execute_result"
    }
   ],
   "source": [
    "df"
   ]
  },
  {
   "cell_type": "code",
   "execution_count": 39,
   "id": "89a443d3",
   "metadata": {
    "execution": {
     "iopub.execute_input": "2023-02-25T09:16:15.631359Z",
     "iopub.status.busy": "2023-02-25T09:16:15.630348Z",
     "iopub.status.idle": "2023-02-25T09:16:15.637733Z",
     "shell.execute_reply": "2023-02-25T09:16:15.636831Z"
    },
    "papermill": {
     "duration": 0.034155,
     "end_time": "2023-02-25T09:16:15.639784",
     "exception": false,
     "start_time": "2023-02-25T09:16:15.605629",
     "status": "completed"
    },
    "tags": []
   },
   "outputs": [
    {
     "data": {
      "text/plain": [
       "array([   1,    0,    5,    2,    3,    6,    9,    4,   24,    8,   12,\n",
       "         13,   10,   23,   22,    7,   17,   94, 3712,   14,   26,   18,\n",
       "        331, 1361,  137,   42,   29,   15,  366,  119,   16,   53,  169,\n",
       "         27,   25,   34,   46,   73,   11,   35,  222,   19,   37,  114,\n",
       "        104,  121,   58,   20,   50, 1098,  781,   21,   41,   32, 1261,\n",
       "        110,  117,  138,   64,   47,  312,  103,   44,  101,   72,  478,\n",
       "         30,   31,   56,   87,   40,   43,   33,  195,   52,  248,  502,\n",
       "        198,  362,  176,  113,  135,  188, 3073,  116,  150,  223,   86,\n",
       "         63,   66,  120,  134,   74,   28,   54,  224,   49,  927,  187,\n",
       "         67, 1284])"
      ]
     },
     "execution_count": 39,
     "metadata": {},
     "output_type": "execute_result"
    }
   ],
   "source": [
    "df['replies'].unique()"
   ]
  },
  {
   "cell_type": "code",
   "execution_count": 41,
   "id": "a5ea8b42",
   "metadata": {},
   "outputs": [
    {
     "data": {
      "text/plain": [
       "101"
      ]
     },
     "execution_count": 41,
     "metadata": {},
     "output_type": "execute_result"
    }
   ],
   "source": [
    "len(df['replies'].unique()) #numero di valori per il conteggio dei Reply"
   ]
  },
  {
   "cell_type": "code",
   "execution_count": 42,
   "id": "36ea21c9",
   "metadata": {
    "execution": {
     "iopub.execute_input": "2023-02-25T09:16:15.685410Z",
     "iopub.status.busy": "2023-02-25T09:16:15.684680Z",
     "iopub.status.idle": "2023-02-25T09:16:15.694175Z",
     "shell.execute_reply": "2023-02-25T09:16:15.692748Z"
    },
    "papermill": {
     "duration": 0.035156,
     "end_time": "2023-02-25T09:16:15.696514",
     "exception": false,
     "start_time": "2023-02-25T09:16:15.661358",
     "status": "completed"
    },
    "tags": []
   },
   "outputs": [
    {
     "data": {
      "text/plain": [
       "0       17021\n",
       "1        7112\n",
       "2        1505\n",
       "3         490\n",
       "4         217\n",
       "        ...  \n",
       "103         1\n",
       "101         1\n",
       "478         1\n",
       "30          1\n",
       "1284        1\n",
       "Name: replies, Length: 101, dtype: int64"
      ]
     },
     "execution_count": 42,
     "metadata": {},
     "output_type": "execute_result"
    }
   ],
   "source": [
    "df['replies'].value_counts()"
   ]
  },
  {
   "cell_type": "code",
   "execution_count": 44,
   "id": "a4e33a3c",
   "metadata": {
    "execution": {
     "iopub.execute_input": "2023-02-25T09:16:15.742197Z",
     "iopub.status.busy": "2023-02-25T09:16:15.741760Z",
     "iopub.status.idle": "2023-02-25T09:16:15.979043Z",
     "shell.execute_reply": "2023-02-25T09:16:15.977858Z"
    },
    "papermill": {
     "duration": 0.263069,
     "end_time": "2023-02-25T09:16:15.981355",
     "exception": false,
     "start_time": "2023-02-25T09:16:15.718286",
     "status": "completed"
    },
    "tags": []
   },
   "outputs": [
    {
     "data": {
      "image/png": "[encoded data removed]",
      "text/plain": [
       "<Figure size 1080x432 with 1 Axes>"
      ]
     },
     "metadata": {
      "needs_background": "light"
     },
     "output_type": "display_data"
    }
   ],
   "source": [
    "plt.figure(figsize=(15,6))\n",
    "sns.countplot(data=df, x='replies', order=df[\"replies\"].value_counts().index[:5])\n",
    "plt.xticks(rotation=90)\n",
    "plt.show()"
   ]
  },
  {
   "cell_type": "code",
   "execution_count": 45,
   "id": "4451a11d",
   "metadata": {
    "execution": {
     "iopub.execute_input": "2023-02-25T09:16:16.433134Z",
     "iopub.status.busy": "2023-02-25T09:16:16.432396Z",
     "iopub.status.idle": "2023-02-25T09:16:16.440937Z",
     "shell.execute_reply": "2023-02-25T09:16:16.439704Z"
    },
    "papermill": {
     "duration": 0.035284,
     "end_time": "2023-02-25T09:16:16.443174",
     "exception": false,
     "start_time": "2023-02-25T09:16:16.407890",
     "status": "completed"
    },
    "tags": []
   },
   "outputs": [
    {
     "data": {
      "text/plain": [
       "array([    1,     0,     4,     6,    10,     2,    11,     3,     8,\n",
       "          15,    72,     5,    16,    17,     9,    69,    21,    14,\n",
       "           7,    13,    12,   158,    75,   124,    24,    18,    53,\n",
       "          25,    19,    50,   129,    35,   473,    20,    22,    26,\n",
       "          57,    40,    29,   198,    28,    54,    41,    64,   171,\n",
       "          71,    39,   101,   221,    37,    78,  2963,    23,    34,\n",
       "          33,    55,   170,    59,    63,    36,    58,  4128,    96,\n",
       "         194,    92,   247,    73,   169, 48534,    44,   452,    32,\n",
       "        1666,   131,    83,   617,    76,    85,   264,   315,    56,\n",
       "         840,    46,   858,    27,   166,   160,   406,   104,  1976,\n",
       "          87,    38,   749,    93,   202,    81,  3289,   163,    30,\n",
       "         102,   813,    60,    62,    86,    65,   514,    49,   262,\n",
       "          91,   132,    51,  1569,  1876,    31,  1177, 12950,   319,\n",
       "         125,   116,   239,   369,   232,    94, 32225,   112,   115,\n",
       "         186,   152,    95,   229,   105,   587,    88,   750,    52,\n",
       "         305,   958,    74,   311,   227,   121,  2683,   128,   388,\n",
       "         214,  1813,   149,    43,   212,  1664,    98,  4216,   337,\n",
       "        1608,  1039,   107,    68,   531,   159,    45,    99,  1990,\n",
       "         106,    47,  2498,   211,   174,   111,    97,   118,    70,\n",
       "          61,  3531,  5981,   151,   391,   666,   328,    42,   141,\n",
       "        1140,  1063,   197,  1334,   321,   179,   474,   870,   191,\n",
       "        2744,   346,   312,   569,  3323,    89,   743,   263,   237,\n",
       "          82,   379,   168,   167,   113,   122,    90,   668,   126,\n",
       "         157,   719,   145,   223,   426,   172,   435,    80,   123,\n",
       "         108,   271,    48,    84,   571,  1147,   100,   199,   283,\n",
       "         327,    67,   504,   449,   103,   245,   401,   187,   560,\n",
       "       14060,    77,   345,   156,   277,  1774,   287,   130,  1888,\n",
       "         195,   375,  1284,   190,  2287,   188,   261,   522,   178,\n",
       "         558,  1021,   872,  1644,  1357,  2901,  3506,   507,  2680,\n",
       "          66,   148,   424,   127,   238,   343,   373,   625,   438,\n",
       "         228,   225,   365,   200,   353,   922,   460,   177,  1504,\n",
       "         518,  1938,   275,    79,  4845,   995,   867,   243,   563,\n",
       "         255,   550,   109,  2885,   173,  1134,   326,   637,   146,\n",
       "         119,  1642,  1649,   964,   301,   318,  1297,   139,   354])"
      ]
     },
     "execution_count": 45,
     "metadata": {},
     "output_type": "execute_result"
    }
   ],
   "source": [
    "df['likeCount'].unique()"
   ]
  },
  {
   "cell_type": "code",
   "execution_count": 46,
   "id": "277b356e",
   "metadata": {
    "execution": {
     "iopub.execute_input": "2023-02-25T09:16:16.491300Z",
     "iopub.status.busy": "2023-02-25T09:16:16.490866Z",
     "iopub.status.idle": "2023-02-25T09:16:16.500256Z",
     "shell.execute_reply": "2023-02-25T09:16:16.498955Z"
    },
    "papermill": {
     "duration": 0.036306,
     "end_time": "2023-02-25T09:16:16.502510",
     "exception": false,
     "start_time": "2023-02-25T09:16:16.466204",
     "status": "completed"
    },
    "tags": []
   },
   "outputs": [
    {
     "data": {
      "text/plain": [
       "0      13212\n",
       "1       5873\n",
       "2       2399\n",
       "3       1250\n",
       "4        758\n",
       "       ...  \n",
       "391        1\n",
       "666        1\n",
       "328        1\n",
       "141        1\n",
       "354        1\n",
       "Name: likeCount, Length: 306, dtype: int64"
      ]
     },
     "execution_count": 46,
     "metadata": {},
     "output_type": "execute_result"
    }
   ],
   "source": [
    "df['likeCount'].value_counts()"
   ]
  },
  {
   "cell_type": "code",
   "execution_count": 47,
   "id": "819843d5",
   "metadata": {
    "execution": {
     "iopub.execute_input": "2023-02-25T09:16:16.551209Z",
     "iopub.status.busy": "2023-02-25T09:16:16.550086Z",
     "iopub.status.idle": "2023-02-25T09:16:16.811141Z",
     "shell.execute_reply": "2023-02-25T09:16:16.810131Z"
    },
    "papermill": {
     "duration": 0.287654,
     "end_time": "2023-02-25T09:16:16.813199",
     "exception": false,
     "start_time": "2023-02-25T09:16:16.525545",
     "status": "completed"
    },
    "tags": []
   },
   "outputs": [
    {
     "data": {
      "image/png": "[encoded data removed]",
      "text/plain": [
       "<Figure size 1080x432 with 1 Axes>"
      ]
     },
     "metadata": {
      "needs_background": "light"
     },
     "output_type": "display_data"
    }
   ],
   "source": [
    "plt.figure(figsize=(15,6))\n",
    "sns.countplot(data=df, x='likeCount', order=df[\"likeCount\"].value_counts().index[:10])\n",
    "plt.xticks(rotation=90)\n",
    "plt.show()"
   ]
  },
  {
   "cell_type": "code",
   "execution_count": 48,
   "id": "32468597",
   "metadata": {},
   "outputs": [
    {
     "name": "stdout",
     "output_type": "stream",
     "text": [
      "Requirement already satisfied: wordcloud in /Applications/anaconda3/lib/python3.9/site-packages (1.9.2)\n",
      "Requirement already satisfied: pillow in /Applications/anaconda3/lib/python3.9/site-packages (from wordcloud) (9.0.1)\n",
      "Requirement already satisfied: numpy>=1.6.1 in /Applications/anaconda3/lib/python3.9/site-packages (from wordcloud) (1.21.5)\n",
      "Requirement already satisfied: matplotlib in /Applications/anaconda3/lib/python3.9/site-packages (from wordcloud) (3.5.1)\n",
      "Requirement already satisfied: fonttools>=4.22.0 in /Applications/anaconda3/lib/python3.9/site-packages (from matplotlib->wordcloud) (4.25.0)\n",
      "Requirement already satisfied: packaging>=20.0 in /Applications/anaconda3/lib/python3.9/site-packages (from matplotlib->wordcloud) (21.3)\n",
      "Requirement already satisfied: cycler>=0.10 in /Applications/anaconda3/lib/python3.9/site-packages (from matplotlib->wordcloud) (0.11.0)\n",
      "Requirement already satisfied: kiwisolver>=1.0.1 in /Applications/anaconda3/lib/python3.9/site-packages (from matplotlib->wordcloud) (1.3.2)\n",
      "Requirement already satisfied: pyparsing>=2.2.1 in /Applications/anaconda3/lib/python3.9/site-packages (from matplotlib->wordcloud) (3.0.4)\n",
      "Requirement already satisfied: python-dateutil>=2.7 in /Applications/anaconda3/lib/python3.9/site-packages (from matplotlib->wordcloud) (2.8.2)\n",
      "Requirement already satisfied: six>=1.5 in /Applications/anaconda3/lib/python3.9/site-packages (from python-dateutil>=2.7->matplotlib->wordcloud) (1.16.0)\n",
      "Note: you may need to restart the kernel to use updated packages.\n"
     ]
    }
   ],
   "source": [
    "pip install wordcloud"
   ]
  },
  {
   "cell_type": "code",
   "execution_count": 49,
   "id": "eb6e8746",
   "metadata": {},
   "outputs": [],
   "source": [
    "from wordcloud import WordCloud, STOPWORDS"
   ]
  },
  {
   "cell_type": "code",
   "execution_count": 50,
   "id": "a1236945",
   "metadata": {
    "execution": {
     "iopub.execute_input": "2023-02-25T09:16:18.895656Z",
     "iopub.status.busy": "2023-02-25T09:16:18.894450Z",
     "iopub.status.idle": "2023-02-25T09:16:19.952507Z",
     "shell.execute_reply": "2023-02-25T09:16:19.951020Z"
    },
    "papermill": {
     "duration": 1.09456,
     "end_time": "2023-02-25T09:16:19.955470",
     "exception": false,
     "start_time": "2023-02-25T09:16:18.860910",
     "status": "completed"
    },
    "tags": []
   },
   "outputs": [],
   "source": [
    "\n",
    "from sklearn.decomposition import LatentDirichletAllocation\n",
    "from collections import Counter\n",
    "from nltk.sentiment import SentimentIntensityAnalyzer\n"
   ]
  },
  {
   "cell_type": "code",
   "execution_count": 42,
   "id": "1c6a7eab",
   "metadata": {},
   "outputs": [],
   "source": [
    "#pip install textblob"
   ]
  },
  {
   "cell_type": "code",
   "execution_count": 51,
   "id": "96d02d9c",
   "metadata": {},
   "outputs": [],
   "source": [
    "from textblob import TextBlob"
   ]
  },
  {
   "cell_type": "code",
   "execution_count": 44,
   "id": "90f5a721",
   "metadata": {},
   "outputs": [],
   "source": [
    "# Percorso del font TrueType\n",
    "#font_path = 'percorso_del_font.ttf'\n",
    "\n",
    "# Creazione della tag cloud con il percorso del font specificato\n",
    "#wordcloud = WordCloud(font_path=font_path)"
   ]
  },
  {
   "cell_type": "code",
   "execution_count": 52,
   "id": "0b2a268e",
   "metadata": {
    "execution": {
     "iopub.execute_input": "2023-02-25T09:16:20.021896Z",
     "iopub.status.busy": "2023-02-25T09:16:20.021444Z",
     "iopub.status.idle": "2023-02-25T09:16:20.029949Z",
     "shell.execute_reply": "2023-02-25T09:16:20.028724Z"
    },
    "papermill": {
     "duration": 0.044464,
     "end_time": "2023-02-25T09:16:20.032189",
     "exception": false,
     "start_time": "2023-02-25T09:16:19.987725",
     "status": "completed"
    },
    "tags": []
   },
   "outputs": [],
   "source": [
    "stopwords = set(STOPWORDS)\n",
    "\n",
    "def show_wordcloud(data, mask=None, title=\"\"):\n",
    "    text = \" \".join(t for t in data.dropna())\n",
    "    stopwords = set(STOPWORDS)\n",
    "    stopwords.update([\"t\", \"co\", \"https\", \"amp\", \"U\", \"Comment\", \"text\", \"attr\", \"object\"])\n",
    "    wordcloud = WordCloud(stopwords=stopwords, scale=4, max_font_size=50, max_words=500,mask=mask, background_color=\"white\").generate(text)\n",
    "    fig = plt.figure(1, figsize=(16,16))\n",
    "    plt.axis('off')\n",
    "    fig.suptitle(title, fontsize=20)\n",
    "    fig.subplots_adjust(top=2.3)\n",
    "    plt.imshow(wordcloud, interpolation='bilinear')\n",
    "    plt.show() "
   ]
  },
  {
   "cell_type": "code",
   "execution_count": 53,
   "id": "cd9fb51c",
   "metadata": {
    "execution": {
     "iopub.execute_input": "2023-02-25T09:16:20.097868Z",
     "iopub.status.busy": "2023-02-25T09:16:20.097164Z",
     "iopub.status.idle": "2023-02-25T09:16:27.392166Z",
     "shell.execute_reply": "2023-02-25T09:16:27.390837Z"
    },
    "papermill": {
     "duration": 7.338985,
     "end_time": "2023-02-25T09:16:27.403299",
     "exception": false,
     "start_time": "2023-02-25T09:16:20.064314",
     "status": "completed"
    },
    "tags": []
   },
   "outputs": [
    {
     "ename": "ValueError",
     "evalue": "Only supported for TrueType fonts",
     "output_type": "error",
     "traceback": [
      "\u001b[0;31m---------------------------------------------------------------------------\u001b[0m",
      "\u001b[0;31mValueError\u001b[0m                                Traceback (most recent call last)",
      "Input \u001b[0;32mIn [53]\u001b[0m, in \u001b[0;36m<cell line: 1>\u001b[0;34m()\u001b[0m\n\u001b[0;32m----> 1\u001b[0m \u001b[43mshow_wordcloud\u001b[49m\u001b[43m(\u001b[49m\u001b[43mdf\u001b[49m\u001b[43m[\u001b[49m\u001b[38;5;124;43m'\u001b[39;49m\u001b[38;5;124;43mtweetText\u001b[39;49m\u001b[38;5;124;43m'\u001b[39;49m\u001b[43m]\u001b[49m\u001b[43m,\u001b[49m\u001b[43m \u001b[49m\u001b[43mtitle\u001b[49m\u001b[43m \u001b[49m\u001b[38;5;241;43m=\u001b[39;49m\u001b[43m \u001b[49m\u001b[38;5;124;43m'\u001b[39;49m\u001b[38;5;124;43mPrevalent words in tweets\u001b[39;49m\u001b[38;5;124;43m'\u001b[39;49m\u001b[43m)\u001b[49m\n",
      "Input \u001b[0;32mIn [52]\u001b[0m, in \u001b[0;36mshow_wordcloud\u001b[0;34m(data, mask, title)\u001b[0m\n\u001b[1;32m      5\u001b[0m stopwords \u001b[38;5;241m=\u001b[39m \u001b[38;5;28mset\u001b[39m(STOPWORDS)\n\u001b[1;32m      6\u001b[0m stopwords\u001b[38;5;241m.\u001b[39mupdate([\u001b[38;5;124m\"\u001b[39m\u001b[38;5;124mt\u001b[39m\u001b[38;5;124m\"\u001b[39m, \u001b[38;5;124m\"\u001b[39m\u001b[38;5;124mco\u001b[39m\u001b[38;5;124m\"\u001b[39m, \u001b[38;5;124m\"\u001b[39m\u001b[38;5;124mhttps\u001b[39m\u001b[38;5;124m\"\u001b[39m, \u001b[38;5;124m\"\u001b[39m\u001b[38;5;124mamp\u001b[39m\u001b[38;5;124m\"\u001b[39m, \u001b[38;5;124m\"\u001b[39m\u001b[38;5;124mU\u001b[39m\u001b[38;5;124m\"\u001b[39m, \u001b[38;5;124m\"\u001b[39m\u001b[38;5;124mComment\u001b[39m\u001b[38;5;124m\"\u001b[39m, \u001b[38;5;124m\"\u001b[39m\u001b[38;5;124mtext\u001b[39m\u001b[38;5;124m\"\u001b[39m, \u001b[38;5;124m\"\u001b[39m\u001b[38;5;124mattr\u001b[39m\u001b[38;5;124m\"\u001b[39m, \u001b[38;5;124m\"\u001b[39m\u001b[38;5;124mobject\u001b[39m\u001b[38;5;124m\"\u001b[39m])\n\u001b[0;32m----> 7\u001b[0m wordcloud \u001b[38;5;241m=\u001b[39m \u001b[43mWordCloud\u001b[49m\u001b[43m(\u001b[49m\u001b[43mstopwords\u001b[49m\u001b[38;5;241;43m=\u001b[39;49m\u001b[43mstopwords\u001b[49m\u001b[43m,\u001b[49m\u001b[43m \u001b[49m\u001b[43mscale\u001b[49m\u001b[38;5;241;43m=\u001b[39;49m\u001b[38;5;241;43m4\u001b[39;49m\u001b[43m,\u001b[49m\u001b[43m \u001b[49m\u001b[43mmax_font_size\u001b[49m\u001b[38;5;241;43m=\u001b[39;49m\u001b[38;5;241;43m50\u001b[39;49m\u001b[43m,\u001b[49m\u001b[43m \u001b[49m\u001b[43mmax_words\u001b[49m\u001b[38;5;241;43m=\u001b[39;49m\u001b[38;5;241;43m500\u001b[39;49m\u001b[43m,\u001b[49m\u001b[43mmask\u001b[49m\u001b[38;5;241;43m=\u001b[39;49m\u001b[43mmask\u001b[49m\u001b[43m,\u001b[49m\u001b[43m \u001b[49m\u001b[43mbackground_color\u001b[49m\u001b[38;5;241;43m=\u001b[39;49m\u001b[38;5;124;43m\"\u001b[39;49m\u001b[38;5;124;43mwhite\u001b[39;49m\u001b[38;5;124;43m\"\u001b[39;49m\u001b[43m)\u001b[49m\u001b[38;5;241;43m.\u001b[39;49m\u001b[43mgenerate\u001b[49m\u001b[43m(\u001b[49m\u001b[43mtext\u001b[49m\u001b[43m)\u001b[49m\n\u001b[1;32m      8\u001b[0m fig \u001b[38;5;241m=\u001b[39m plt\u001b[38;5;241m.\u001b[39mfigure(\u001b[38;5;241m1\u001b[39m, figsize\u001b[38;5;241m=\u001b[39m(\u001b[38;5;241m16\u001b[39m,\u001b[38;5;241m16\u001b[39m))\n\u001b[1;32m      9\u001b[0m plt\u001b[38;5;241m.\u001b[39maxis(\u001b[38;5;124m'\u001b[39m\u001b[38;5;124moff\u001b[39m\u001b[38;5;124m'\u001b[39m)\n",
      "File \u001b[0;32m/Applications/anaconda3/lib/python3.9/site-packages/wordcloud/wordcloud.py:639\u001b[0m, in \u001b[0;36mWordCloud.generate\u001b[0;34m(self, text)\u001b[0m\n\u001b[1;32m    624\u001b[0m \u001b[38;5;28;01mdef\u001b[39;00m \u001b[38;5;21mgenerate\u001b[39m(\u001b[38;5;28mself\u001b[39m, text):\n\u001b[1;32m    625\u001b[0m     \u001b[38;5;124;03m\"\"\"Generate wordcloud from text.\u001b[39;00m\n\u001b[1;32m    626\u001b[0m \n\u001b[1;32m    627\u001b[0m \u001b[38;5;124;03m    The input \"text\" is expected to be a natural text. If you pass a sorted\u001b[39;00m\n\u001b[0;32m   (...)\u001b[0m\n\u001b[1;32m    637\u001b[0m \u001b[38;5;124;03m    self\u001b[39;00m\n\u001b[1;32m    638\u001b[0m \u001b[38;5;124;03m    \"\"\"\u001b[39;00m\n\u001b[0;32m--> 639\u001b[0m     \u001b[38;5;28;01mreturn\u001b[39;00m \u001b[38;5;28;43mself\u001b[39;49m\u001b[38;5;241;43m.\u001b[39;49m\u001b[43mgenerate_from_text\u001b[49m\u001b[43m(\u001b[49m\u001b[43mtext\u001b[49m\u001b[43m)\u001b[49m\n",
      "File \u001b[0;32m/Applications/anaconda3/lib/python3.9/site-packages/wordcloud/wordcloud.py:621\u001b[0m, in \u001b[0;36mWordCloud.generate_from_text\u001b[0;34m(self, text)\u001b[0m\n\u001b[1;32m    604\u001b[0m \u001b[38;5;124;03m\"\"\"Generate wordcloud from text.\u001b[39;00m\n\u001b[1;32m    605\u001b[0m \n\u001b[1;32m    606\u001b[0m \u001b[38;5;124;03mThe input \"text\" is expected to be a natural text. If you pass a sorted\u001b[39;00m\n\u001b[0;32m   (...)\u001b[0m\n\u001b[1;32m    618\u001b[0m \u001b[38;5;124;03mself\u001b[39;00m\n\u001b[1;32m    619\u001b[0m \u001b[38;5;124;03m\"\"\"\u001b[39;00m\n\u001b[1;32m    620\u001b[0m words \u001b[38;5;241m=\u001b[39m \u001b[38;5;28mself\u001b[39m\u001b[38;5;241m.\u001b[39mprocess_text(text)\n\u001b[0;32m--> 621\u001b[0m \u001b[38;5;28;43mself\u001b[39;49m\u001b[38;5;241;43m.\u001b[39;49m\u001b[43mgenerate_from_frequencies\u001b[49m\u001b[43m(\u001b[49m\u001b[43mwords\u001b[49m\u001b[43m)\u001b[49m\n\u001b[1;32m    622\u001b[0m \u001b[38;5;28;01mreturn\u001b[39;00m \u001b[38;5;28mself\u001b[39m\n",
      "File \u001b[0;32m/Applications/anaconda3/lib/python3.9/site-packages/wordcloud/wordcloud.py:508\u001b[0m, in \u001b[0;36mWordCloud.generate_from_frequencies\u001b[0;34m(self, frequencies, max_font_size)\u001b[0m\n\u001b[1;32m    505\u001b[0m transposed_font \u001b[38;5;241m=\u001b[39m ImageFont\u001b[38;5;241m.\u001b[39mTransposedFont(\n\u001b[1;32m    506\u001b[0m     font, orientation\u001b[38;5;241m=\u001b[39morientation)\n\u001b[1;32m    507\u001b[0m \u001b[38;5;66;03m# get size of resulting text\u001b[39;00m\n\u001b[0;32m--> 508\u001b[0m box_size \u001b[38;5;241m=\u001b[39m \u001b[43mdraw\u001b[49m\u001b[38;5;241;43m.\u001b[39;49m\u001b[43mtextbbox\u001b[49m\u001b[43m(\u001b[49m\u001b[43m(\u001b[49m\u001b[38;5;241;43m0\u001b[39;49m\u001b[43m,\u001b[49m\u001b[43m \u001b[49m\u001b[38;5;241;43m0\u001b[39;49m\u001b[43m)\u001b[49m\u001b[43m,\u001b[49m\u001b[43m \u001b[49m\u001b[43mword\u001b[49m\u001b[43m,\u001b[49m\u001b[43m \u001b[49m\u001b[43mfont\u001b[49m\u001b[38;5;241;43m=\u001b[39;49m\u001b[43mtransposed_font\u001b[49m\u001b[43m,\u001b[49m\u001b[43m \u001b[49m\u001b[43manchor\u001b[49m\u001b[38;5;241;43m=\u001b[39;49m\u001b[38;5;124;43m\"\u001b[39;49m\u001b[38;5;124;43mlt\u001b[39;49m\u001b[38;5;124;43m\"\u001b[39;49m\u001b[43m)\u001b[49m\n\u001b[1;32m    509\u001b[0m \u001b[38;5;66;03m# find possible places using integral image:\u001b[39;00m\n\u001b[1;32m    510\u001b[0m result \u001b[38;5;241m=\u001b[39m occupancy\u001b[38;5;241m.\u001b[39msample_position(box_size[\u001b[38;5;241m3\u001b[39m] \u001b[38;5;241m+\u001b[39m \u001b[38;5;28mself\u001b[39m\u001b[38;5;241m.\u001b[39mmargin,\n\u001b[1;32m    511\u001b[0m                                    box_size[\u001b[38;5;241m2\u001b[39m] \u001b[38;5;241m+\u001b[39m \u001b[38;5;28mself\u001b[39m\u001b[38;5;241m.\u001b[39mmargin,\n\u001b[1;32m    512\u001b[0m                                    random_state)\n",
      "File \u001b[0;32m/Applications/anaconda3/lib/python3.9/site-packages/PIL/ImageDraw.py:671\u001b[0m, in \u001b[0;36mImageDraw.textbbox\u001b[0;34m(self, xy, text, font, anchor, spacing, align, direction, features, language, stroke_width, embedded_color)\u001b[0m\n\u001b[1;32m    669\u001b[0m     font \u001b[38;5;241m=\u001b[39m \u001b[38;5;28mself\u001b[39m\u001b[38;5;241m.\u001b[39mgetfont()\n\u001b[1;32m    670\u001b[0m \u001b[38;5;28;01mif\u001b[39;00m \u001b[38;5;129;01mnot\u001b[39;00m \u001b[38;5;28misinstance\u001b[39m(font, ImageFont\u001b[38;5;241m.\u001b[39mFreeTypeFont):\n\u001b[0;32m--> 671\u001b[0m     \u001b[38;5;28;01mraise\u001b[39;00m \u001b[38;5;167;01mValueError\u001b[39;00m(\u001b[38;5;124m\"\u001b[39m\u001b[38;5;124mOnly supported for TrueType fonts\u001b[39m\u001b[38;5;124m\"\u001b[39m)\n\u001b[1;32m    672\u001b[0m mode \u001b[38;5;241m=\u001b[39m \u001b[38;5;124m\"\u001b[39m\u001b[38;5;124mRGBA\u001b[39m\u001b[38;5;124m\"\u001b[39m \u001b[38;5;28;01mif\u001b[39;00m embedded_color \u001b[38;5;28;01melse\u001b[39;00m \u001b[38;5;28mself\u001b[39m\u001b[38;5;241m.\u001b[39mfontmode\n\u001b[1;32m    673\u001b[0m bbox \u001b[38;5;241m=\u001b[39m font\u001b[38;5;241m.\u001b[39mgetbbox(\n\u001b[1;32m    674\u001b[0m     text, mode, direction, features, language, stroke_width, anchor\n\u001b[1;32m    675\u001b[0m )\n",
      "\u001b[0;31mValueError\u001b[0m: Only supported for TrueType fonts"
     ]
    }
   ],
   "source": [
    "show_wordcloud(df['tweetText'], title = 'Prevalent words in tweets')"
   ]
  },
  {
   "cell_type": "markdown",
   "id": "51cda469",
   "metadata": {},
   "source": [
    "# Parte che non ho eseguito sul dataset di Giorgia perchè già sistemato time"
   ]
  },
  {
   "cell_type": "markdown",
   "id": "5a765407",
   "metadata": {
    "execution": {
     "iopub.execute_input": "2023-02-25T09:16:27.496206Z",
     "iopub.status.busy": "2023-02-25T09:16:27.495761Z",
     "iopub.status.idle": "2023-02-25T09:16:27.530867Z",
     "shell.execute_reply": "2023-02-25T09:16:27.529761Z"
    },
    "papermill": {
     "duration": 0.084861,
     "end_time": "2023-02-25T09:16:27.533626",
     "exception": false,
     "start_time": "2023-02-25T09:16:27.448765",
     "status": "completed"
    },
    "tags": []
   },
   "source": [
    "df['Datetime'] = pd.to_datetime(df['Date Created']) #trasformo i valori temporali"
   ]
  },
  {
   "cell_type": "markdown",
   "id": "0df4c51b",
   "metadata": {
    "execution": {
     "iopub.execute_input": "2023-02-25T09:16:27.625812Z",
     "iopub.status.busy": "2023-02-25T09:16:27.624718Z",
     "iopub.status.idle": "2023-02-25T09:16:27.689012Z",
     "shell.execute_reply": "2023-02-25T09:16:27.687823Z"
    },
    "papermill": {
     "duration": 0.113091,
     "end_time": "2023-02-25T09:16:27.691749",
     "exception": false,
     "start_time": "2023-02-25T09:16:27.578658",
     "status": "completed"
    },
    "tags": []
   },
   "source": [
    "df['year'] = df['Datetime'].dt.year\n",
    "df['month'] = df['Datetime'].dt.month\n",
    "df['day'] = df['Datetime'].dt.day\n",
    "df['dayofweek'] = df['Datetime'].dt.dayofweek\n",
    "df['hour'] = df['Datetime'].dt.hour\n",
    "df['minute'] = df['Datetime'].dt.minute\n",
    "df['dayofyear'] = df['Datetime'].dt.dayofyear\n",
    "df['date_only'] = df['Datetime'].dt.date"
   ]
  },
  {
   "cell_type": "code",
   "execution_count": 54,
   "id": "8dfe8418",
   "metadata": {},
   "outputs": [
    {
     "data": {
      "text/html": [
       "<div>\n",
       "<style scoped>\n",
       "    .dataframe tbody tr th:only-of-type {\n",
       "        vertical-align: middle;\n",
       "    }\n",
       "\n",
       "    .dataframe tbody tr th {\n",
       "        vertical-align: top;\n",
       "    }\n",
       "\n",
       "    .dataframe thead th {\n",
       "        text-align: right;\n",
       "    }\n",
       "</style>\n",
       "<table border=\"1\" class=\"dataframe\">\n",
       "  <thead>\n",
       "    <tr style=\"text-align: right;\">\n",
       "      <th></th>\n",
       "      <th>date</th>\n",
       "      <th>id</th>\n",
       "      <th>tweetText</th>\n",
       "      <th>user</th>\n",
       "      <th>likeCount</th>\n",
       "      <th>lang</th>\n",
       "      <th>replies</th>\n",
       "      <th>mentions</th>\n",
       "      <th>outlinks</th>\n",
       "    </tr>\n",
       "  </thead>\n",
       "  <tbody>\n",
       "    <tr>\n",
       "      <th>0</th>\n",
       "      <td>17-05-2023</td>\n",
       "      <td>1658980398242713603</td>\n",
       "      <td>@SibillaDavid Infatti ChatGPT ogni tanto si la...</td>\n",
       "      <td>katiadiluna16</td>\n",
       "      <td>1</td>\n",
       "      <td>it</td>\n",
       "      <td>1</td>\n",
       "      <td>[User(username='SibillaDavid', id=159558223479...</td>\n",
       "      <td>[]</td>\n",
       "    </tr>\n",
       "    <tr>\n",
       "      <th>1</th>\n",
       "      <td>17-05-2023</td>\n",
       "      <td>1658978881783701504</td>\n",
       "      <td>@katiadiluna16 Sono peggio di ChatGPT</td>\n",
       "      <td>SibillaDavid</td>\n",
       "      <td>1</td>\n",
       "      <td>it</td>\n",
       "      <td>1</td>\n",
       "      <td>[User(username='katiadiluna16', id=3669961223,...</td>\n",
       "      <td>[]</td>\n",
       "    </tr>\n",
       "    <tr>\n",
       "      <th>2</th>\n",
       "      <td>17-05-2023</td>\n",
       "      <td>1658976280086233089</td>\n",
       "      <td>@northern_mr Oggi basta chiederlo a Chatgpt e ...</td>\n",
       "      <td>katiadiluna16</td>\n",
       "      <td>1</td>\n",
       "      <td>it</td>\n",
       "      <td>1</td>\n",
       "      <td>[User(username='northern_mr', id=1485114886808...</td>\n",
       "      <td>[]</td>\n",
       "    </tr>\n",
       "    <tr>\n",
       "      <th>3</th>\n",
       "      <td>17-05-2023</td>\n",
       "      <td>1658959657912729602</td>\n",
       "      <td>Grazie per la tua iscrizione a #AI &amp;amp; #Chat...</td>\n",
       "      <td>bruniverso</td>\n",
       "      <td>0</td>\n",
       "      <td>it</td>\n",
       "      <td>1</td>\n",
       "      <td>[User(username='flavia_marzano', id=14145846, ...</td>\n",
       "      <td>['http://cdti.org/ai-chatgpt-tra-innovazione-e...</td>\n",
       "    </tr>\n",
       "    <tr>\n",
       "      <th>4</th>\n",
       "      <td>17-05-2023</td>\n",
       "      <td>1658958570040205313</td>\n",
       "      <td>L'intelligenza artificiale può causare danni s...</td>\n",
       "      <td>Amorne_1979</td>\n",
       "      <td>0</td>\n",
       "      <td>it</td>\n",
       "      <td>1</td>\n",
       "      <td>NaN</td>\n",
       "      <td>['https://ift.tt/V7mbhcA']</td>\n",
       "    </tr>\n",
       "    <tr>\n",
       "      <th>...</th>\n",
       "      <td>...</td>\n",
       "      <td>...</td>\n",
       "      <td>...</td>\n",
       "      <td>...</td>\n",
       "      <td>...</td>\n",
       "      <td>...</td>\n",
       "      <td>...</td>\n",
       "      <td>...</td>\n",
       "      <td>...</td>\n",
       "    </tr>\n",
       "    <tr>\n",
       "      <th>26999</th>\n",
       "      <td>29-05-2023</td>\n",
       "      <td>1663049685324398593</td>\n",
       "      <td>idk abt u guys but im telling chatgpt thank yo...</td>\n",
       "      <td>gooddaymp3</td>\n",
       "      <td>2</td>\n",
       "      <td>en</td>\n",
       "      <td>1</td>\n",
       "      <td>NaN</td>\n",
       "      <td>[]</td>\n",
       "    </tr>\n",
       "    <tr>\n",
       "      <th>27000</th>\n",
       "      <td>29-05-2023</td>\n",
       "      <td>1663049619763499010</td>\n",
       "      <td>@BeastOfGoyim It already has when i tried it o...</td>\n",
       "      <td>asheuriii</td>\n",
       "      <td>0</td>\n",
       "      <td>en</td>\n",
       "      <td>1</td>\n",
       "      <td>[User(username='BeastOfGoyim', id=145786421175...</td>\n",
       "      <td>[]</td>\n",
       "    </tr>\n",
       "    <tr>\n",
       "      <th>27001</th>\n",
       "      <td>29-05-2023</td>\n",
       "      <td>1663049602851807232</td>\n",
       "      <td>@ivy_wylder @ask_aubry I’ve been looking for s...</td>\n",
       "      <td>dan_dd</td>\n",
       "      <td>6</td>\n",
       "      <td>en</td>\n",
       "      <td>0</td>\n",
       "      <td>[User(username='ivy_wylder', id=12147283985404...</td>\n",
       "      <td>[]</td>\n",
       "    </tr>\n",
       "    <tr>\n",
       "      <th>27002</th>\n",
       "      <td>29-05-2023</td>\n",
       "      <td>1663049444613410816</td>\n",
       "      <td>Is someone gonna remake Facade with ChatGPT?</td>\n",
       "      <td>PwnySlaystation</td>\n",
       "      <td>1</td>\n",
       "      <td>en</td>\n",
       "      <td>0</td>\n",
       "      <td>NaN</td>\n",
       "      <td>[]</td>\n",
       "    </tr>\n",
       "    <tr>\n",
       "      <th>27003</th>\n",
       "      <td>29-05-2023</td>\n",
       "      <td>1663049350560514050</td>\n",
       "      <td>@shotgun2thehead chatgpt is really good people...</td>\n",
       "      <td>teengoatmance</td>\n",
       "      <td>1</td>\n",
       "      <td>en</td>\n",
       "      <td>1</td>\n",
       "      <td>[User(username='shotgun2thehead', id=257651288...</td>\n",
       "      <td>[]</td>\n",
       "    </tr>\n",
       "  </tbody>\n",
       "</table>\n",
       "<p>27004 rows × 9 columns</p>\n",
       "</div>"
      ],
      "text/plain": [
       "             date                   id  \\\n",
       "0      17-05-2023  1658980398242713603   \n",
       "1      17-05-2023  1658978881783701504   \n",
       "2      17-05-2023  1658976280086233089   \n",
       "3      17-05-2023  1658959657912729602   \n",
       "4      17-05-2023  1658958570040205313   \n",
       "...           ...                  ...   \n",
       "26999  29-05-2023  1663049685324398593   \n",
       "27000  29-05-2023  1663049619763499010   \n",
       "27001  29-05-2023  1663049602851807232   \n",
       "27002  29-05-2023  1663049444613410816   \n",
       "27003  29-05-2023  1663049350560514050   \n",
       "\n",
       "                                               tweetText             user  \\\n",
       "0      @SibillaDavid Infatti ChatGPT ogni tanto si la...    katiadiluna16   \n",
       "1                  @katiadiluna16 Sono peggio di ChatGPT     SibillaDavid   \n",
       "2      @northern_mr Oggi basta chiederlo a Chatgpt e ...    katiadiluna16   \n",
       "3      Grazie per la tua iscrizione a #AI &amp; #Chat...       bruniverso   \n",
       "4      L'intelligenza artificiale può causare danni s...      Amorne_1979   \n",
       "...                                                  ...              ...   \n",
       "26999  idk abt u guys but im telling chatgpt thank yo...       gooddaymp3   \n",
       "27000  @BeastOfGoyim It already has when i tried it o...        asheuriii   \n",
       "27001  @ivy_wylder @ask_aubry I’ve been looking for s...           dan_dd   \n",
       "27002       Is someone gonna remake Facade with ChatGPT?  PwnySlaystation   \n",
       "27003  @shotgun2thehead chatgpt is really good people...    teengoatmance   \n",
       "\n",
       "       likeCount lang  replies  \\\n",
       "0              1   it        1   \n",
       "1              1   it        1   \n",
       "2              1   it        1   \n",
       "3              0   it        1   \n",
       "4              0   it        1   \n",
       "...          ...  ...      ...   \n",
       "26999          2   en        1   \n",
       "27000          0   en        1   \n",
       "27001          6   en        0   \n",
       "27002          1   en        0   \n",
       "27003          1   en        1   \n",
       "\n",
       "                                                mentions  \\\n",
       "0      [User(username='SibillaDavid', id=159558223479...   \n",
       "1      [User(username='katiadiluna16', id=3669961223,...   \n",
       "2      [User(username='northern_mr', id=1485114886808...   \n",
       "3      [User(username='flavia_marzano', id=14145846, ...   \n",
       "4                                                    NaN   \n",
       "...                                                  ...   \n",
       "26999                                                NaN   \n",
       "27000  [User(username='BeastOfGoyim', id=145786421175...   \n",
       "27001  [User(username='ivy_wylder', id=12147283985404...   \n",
       "27002                                                NaN   \n",
       "27003  [User(username='shotgun2thehead', id=257651288...   \n",
       "\n",
       "                                                outlinks  \n",
       "0                                                     []  \n",
       "1                                                     []  \n",
       "2                                                     []  \n",
       "3      ['http://cdti.org/ai-chatgpt-tra-innovazione-e...  \n",
       "4                             ['https://ift.tt/V7mbhcA']  \n",
       "...                                                  ...  \n",
       "26999                                                 []  \n",
       "27000                                                 []  \n",
       "27001                                                 []  \n",
       "27002                                                 []  \n",
       "27003                                                 []  \n",
       "\n",
       "[27004 rows x 9 columns]"
      ]
     },
     "execution_count": 54,
     "metadata": {},
     "output_type": "execute_result"
    }
   ],
   "source": [
    "df"
   ]
  },
  {
   "cell_type": "markdown",
   "id": "f86c2a17",
   "metadata": {
    "execution": {
     "iopub.execute_input": "2023-02-25T09:16:27.785183Z",
     "iopub.status.busy": "2023-02-25T09:16:27.783983Z",
     "iopub.status.idle": "2023-02-25T09:16:27.805480Z",
     "shell.execute_reply": "2023-02-25T09:16:27.804235Z"
    },
    "papermill": {
     "duration": 0.071538,
     "end_time": "2023-02-25T09:16:27.808272",
     "exception": false,
     "start_time": "2023-02-25T09:16:27.736734",
     "status": "completed"
    },
    "tags": []
   },
   "source": [
    "tweets_agg_df = df.groupby([\"date_only\"])[\"Content\"].count().reset_index()\n",
    "tweets_agg_df.columns = [\"date_only\", \"count\"]"
   ]
  },
  {
   "cell_type": "code",
   "execution_count": 70,
   "id": "543808ab",
   "metadata": {
    "execution": {
     "iopub.execute_input": "2023-02-25T09:16:27.900853Z",
     "iopub.status.busy": "2023-02-25T09:16:27.900376Z",
     "iopub.status.idle": "2023-02-25T09:16:27.909639Z",
     "shell.execute_reply": "2023-02-25T09:16:27.908243Z"
    },
    "papermill": {
     "duration": 0.058634,
     "end_time": "2023-02-25T09:16:27.912129",
     "exception": false,
     "start_time": "2023-02-25T09:16:27.853495",
     "status": "completed"
    },
    "tags": []
   },
   "outputs": [],
   "source": [
    "def plot_time_variation(df, x='date', y='count', hue=None, size=1, title=\"\", is_log=False):\n",
    "    sns.set(style=\"whitegrid\")                                                 \n",
    "    paper_rc = {'lines.linewidth': 3, 'lines.markersize': 20}                  \n",
    "    sns.set_context(\"paper\", rc = paper_rc)  \n",
    "    f, ax = plt.subplots(1,1, figsize=(4*size,3*size))\n",
    "    g = sns.lineplot(x=x, y=y, hue=hue, data=df)\n",
    "    plt.xticks(rotation=90)\n",
    "    if hue:\n",
    "        plt.title(f'{y} grouped by {hue} | {title}')\n",
    "    else:\n",
    "        plt.title(f'{y} | {title}')\n",
    "    if(is_log):\n",
    "        ax.set(yscale=\"log\")\n",
    "    ax.grid(color='black', linestyle='dotted', linewidth=0.75)\n",
    "    plt.show() "
   ]
  },
  {
   "cell_type": "code",
   "execution_count": 71,
   "id": "35eefe5a",
   "metadata": {
    "execution": {
     "iopub.execute_input": "2023-02-25T09:16:28.004896Z",
     "iopub.status.busy": "2023-02-25T09:16:28.004447Z",
     "iopub.status.idle": "2023-02-25T09:16:28.423621Z",
     "shell.execute_reply": "2023-02-25T09:16:28.422373Z"
    },
    "papermill": {
     "duration": 0.469481,
     "end_time": "2023-02-25T09:16:28.426878",
     "exception": false,
     "start_time": "2023-02-25T09:16:27.957397",
     "status": "completed"
    },
    "tags": []
   },
   "outputs": [
    {
     "data": {
      "image/png": "[encoded data removed]",
      "text/plain": [
       "<Figure size 864x648 with 1 Axes>"
      ]
     },
     "metadata": {},
     "output_type": "display_data"
    }
   ],
   "source": [
    "plot_time_variation(tweets_agg_df, x='date', title=\"Number of tweets / day\",size=3)"
   ]
  },
  {
   "cell_type": "code",
   "execution_count": 72,
   "id": "e743022b",
   "metadata": {
    "execution": {
     "iopub.execute_input": "2023-02-25T09:16:28.522792Z",
     "iopub.status.busy": "2023-02-25T09:16:28.521902Z",
     "iopub.status.idle": "2023-02-25T09:16:28.530627Z",
     "shell.execute_reply": "2023-02-25T09:16:28.529367Z"
    },
    "papermill": {
     "duration": 0.059823,
     "end_time": "2023-02-25T09:16:28.533118",
     "exception": false,
     "start_time": "2023-02-25T09:16:28.473295",
     "status": "completed"
    },
    "tags": []
   },
   "outputs": [
    {
     "data": {
      "text/plain": [
       "array(['17-05-2023', '16-05-2023', '15-05-2023', '14-05-2023',\n",
       "       '13-05-2023', '19-05-2023', '29-04-2023', '26-05-2023',\n",
       "       '25-05-2023', '24-05-2023', '23-05-2023', '22-05-2023',\n",
       "       '21-05-2023', '28-03-2023', '28-05-2023', '27-05-2023',\n",
       "       '29-05-2023'], dtype=object)"
      ]
     },
     "execution_count": 72,
     "metadata": {},
     "output_type": "execute_result"
    }
   ],
   "source": [
    "df['date'].unique()"
   ]
  },
  {
   "cell_type": "code",
   "execution_count": 73,
   "id": "dc1067c4",
   "metadata": {
    "execution": {
     "iopub.execute_input": "2023-02-25T09:16:28.630871Z",
     "iopub.status.busy": "2023-02-25T09:16:28.630148Z",
     "iopub.status.idle": "2023-02-25T09:16:28.638365Z",
     "shell.execute_reply": "2023-02-25T09:16:28.637559Z"
    },
    "papermill": {
     "duration": 0.058878,
     "end_time": "2023-02-25T09:16:28.640438",
     "exception": false,
     "start_time": "2023-02-25T09:16:28.581560",
     "status": "completed"
    },
    "tags": []
   },
   "outputs": [
    {
     "data": {
      "text/plain": [
       "29-04-2023    9987\n",
       "29-05-2023    9984\n",
       "28-03-2023    4994\n",
       "19-05-2023     213\n",
       "27-05-2023     191\n",
       "16-05-2023     179\n",
       "17-05-2023     179\n",
       "22-05-2023     154\n",
       "24-05-2023     150\n",
       "28-05-2023     144\n",
       "15-05-2023     131\n",
       "13-05-2023     128\n",
       "23-05-2023     127\n",
       "26-05-2023     118\n",
       "25-05-2023     118\n",
       "14-05-2023     113\n",
       "21-05-2023      94\n",
       "Name: date, dtype: int64"
      ]
     },
     "execution_count": 73,
     "metadata": {},
     "output_type": "execute_result"
    }
   ],
   "source": [
    "df['date'].value_counts()"
   ]
  },
  {
   "cell_type": "code",
   "execution_count": 74,
   "id": "b2bb25db",
   "metadata": {
    "execution": {
     "iopub.execute_input": "2023-02-25T09:16:28.736953Z",
     "iopub.status.busy": "2023-02-25T09:16:28.736485Z",
     "iopub.status.idle": "2023-02-25T09:16:28.973714Z",
     "shell.execute_reply": "2023-02-25T09:16:28.972410Z"
    },
    "papermill": {
     "duration": 0.289233,
     "end_time": "2023-02-25T09:16:28.976648",
     "exception": false,
     "start_time": "2023-02-25T09:16:28.687415",
     "status": "completed"
    },
    "tags": []
   },
   "outputs": [
    {
     "data": {
      "image/png": "[encoded data removed]",
      "text/plain": [
       "<Figure size 1080x432 with 1 Axes>"
      ]
     },
     "metadata": {},
     "output_type": "display_data"
    }
   ],
   "source": [
    "plt.figure(figsize=(15,6))\n",
    "sns.countplot(data=df, x='date')\n",
    "plt.show()"
   ]
  },
  {
   "cell_type": "markdown",
   "id": "249dba64",
   "metadata": {
    "execution": {
     "iopub.execute_input": "2023-02-25T09:16:29.076700Z",
     "iopub.status.busy": "2023-02-25T09:16:29.076167Z",
     "iopub.status.idle": "2023-02-25T09:16:29.084814Z",
     "shell.execute_reply": "2023-02-25T09:16:29.083553Z"
    },
    "papermill": {
     "duration": 0.061516,
     "end_time": "2023-02-25T09:16:29.087321",
     "exception": false,
     "start_time": "2023-02-25T09:16:29.025805",
     "status": "completed"
    },
    "tags": []
   },
   "source": [
    "df['dayofyear'].unique()"
   ]
  },
  {
   "cell_type": "markdown",
   "id": "1a83ecc1",
   "metadata": {
    "execution": {
     "iopub.execute_input": "2023-02-25T09:16:29.186223Z",
     "iopub.status.busy": "2023-02-25T09:16:29.185411Z",
     "iopub.status.idle": "2023-02-25T09:16:29.194501Z",
     "shell.execute_reply": "2023-02-25T09:16:29.193550Z"
    },
    "papermill": {
     "duration": 0.060651,
     "end_time": "2023-02-25T09:16:29.196784",
     "exception": false,
     "start_time": "2023-02-25T09:16:29.136133",
     "status": "completed"
    },
    "tags": []
   },
   "source": [
    "df['dayofyear'].value_counts()"
   ]
  },
  {
   "cell_type": "markdown",
   "id": "777cc08a",
   "metadata": {
    "execution": {
     "iopub.execute_input": "2023-02-25T09:16:29.293257Z",
     "iopub.status.busy": "2023-02-25T09:16:29.292832Z",
     "iopub.status.idle": "2023-02-25T09:16:29.532096Z",
     "shell.execute_reply": "2023-02-25T09:16:29.530626Z"
    },
    "papermill": {
     "duration": 0.290594,
     "end_time": "2023-02-25T09:16:29.534888",
     "exception": false,
     "start_time": "2023-02-25T09:16:29.244294",
     "status": "completed"
    },
    "tags": []
   },
   "source": [
    "plt.figure(figsize=(15,6))\n",
    "sns.countplot(data=df, x='dayofyear')\n",
    "plt.show()"
   ]
  },
  {
   "cell_type": "markdown",
   "id": "fbfeb9ab",
   "metadata": {
    "execution": {
     "iopub.execute_input": "2023-02-25T09:16:29.633434Z",
     "iopub.status.busy": "2023-02-25T09:16:29.632152Z",
     "iopub.status.idle": "2023-02-25T09:16:29.643053Z",
     "shell.execute_reply": "2023-02-25T09:16:29.641966Z"
    },
    "papermill": {
     "duration": 0.061933,
     "end_time": "2023-02-25T09:16:29.645251",
     "exception": false,
     "start_time": "2023-02-25T09:16:29.583318",
     "status": "completed"
    },
    "tags": []
   },
   "source": [
    "df['date_only'].unique()"
   ]
  },
  {
   "cell_type": "markdown",
   "id": "d47bee06",
   "metadata": {
    "execution": {
     "iopub.execute_input": "2023-02-25T09:16:29.743324Z",
     "iopub.status.busy": "2023-02-25T09:16:29.742615Z",
     "iopub.status.idle": "2023-02-25T09:16:29.754869Z",
     "shell.execute_reply": "2023-02-25T09:16:29.753606Z"
    },
    "papermill": {
     "duration": 0.06444,
     "end_time": "2023-02-25T09:16:29.757191",
     "exception": false,
     "start_time": "2023-02-25T09:16:29.692751",
     "status": "completed"
    },
    "tags": []
   },
   "source": [
    "df['date_only'].value_counts()"
   ]
  },
  {
   "cell_type": "markdown",
   "id": "02da56bb",
   "metadata": {
    "execution": {
     "iopub.execute_input": "2023-02-25T09:16:29.855795Z",
     "iopub.status.busy": "2023-02-25T09:16:29.854984Z",
     "iopub.status.idle": "2023-02-25T09:16:30.120003Z",
     "shell.execute_reply": "2023-02-25T09:16:30.119038Z"
    },
    "papermill": {
     "duration": 0.316888,
     "end_time": "2023-02-25T09:16:30.122431",
     "exception": false,
     "start_time": "2023-02-25T09:16:29.805543",
     "status": "completed"
    },
    "tags": []
   },
   "source": [
    "plt.figure(figsize=(15,6))\n",
    "sns.countplot(data=df, x='date_only')\n",
    "plt.show()"
   ]
  },
  {
   "cell_type": "markdown",
   "id": "532105e7",
   "metadata": {
    "execution": {
     "iopub.execute_input": "2023-02-25T09:16:30.221623Z",
     "iopub.status.busy": "2023-02-25T09:16:30.221162Z",
     "iopub.status.idle": "2023-02-25T09:16:30.229433Z",
     "shell.execute_reply": "2023-02-25T09:16:30.228587Z"
    },
    "papermill": {
     "duration": 0.060645,
     "end_time": "2023-02-25T09:16:30.231586",
     "exception": false,
     "start_time": "2023-02-25T09:16:30.170941",
     "status": "completed"
    },
    "tags": []
   },
   "source": [
    "df['hour'].unique()"
   ]
  },
  {
   "cell_type": "markdown",
   "id": "21446006",
   "metadata": {
    "execution": {
     "iopub.execute_input": "2023-02-25T09:16:30.331105Z",
     "iopub.status.busy": "2023-02-25T09:16:30.330133Z",
     "iopub.status.idle": "2023-02-25T09:16:30.340052Z",
     "shell.execute_reply": "2023-02-25T09:16:30.338995Z"
    },
    "papermill": {
     "duration": 0.062499,
     "end_time": "2023-02-25T09:16:30.342451",
     "exception": false,
     "start_time": "2023-02-25T09:16:30.279952",
     "status": "completed"
    },
    "tags": []
   },
   "source": [
    "df['hour'].value_counts()"
   ]
  },
  {
   "cell_type": "markdown",
   "id": "79c407f2",
   "metadata": {
    "execution": {
     "iopub.execute_input": "2023-02-25T09:16:30.442473Z",
     "iopub.status.busy": "2023-02-25T09:16:30.442019Z",
     "iopub.status.idle": "2023-02-25T09:16:30.807869Z",
     "shell.execute_reply": "2023-02-25T09:16:30.806601Z"
    },
    "papermill": {
     "duration": 0.418856,
     "end_time": "2023-02-25T09:16:30.810607",
     "exception": false,
     "start_time": "2023-02-25T09:16:30.391751",
     "status": "completed"
    },
    "tags": []
   },
   "source": [
    "plt.figure(figsize=(15,6))\n",
    "sns.countplot(data=df, x='hour')\n",
    "plt.show()"
   ]
  },
  {
   "cell_type": "markdown",
   "id": "554abcee",
   "metadata": {
    "execution": {
     "iopub.execute_input": "2023-02-25T09:16:30.912249Z",
     "iopub.status.busy": "2023-02-25T09:16:30.911377Z",
     "iopub.status.idle": "2023-02-25T09:16:30.919714Z",
     "shell.execute_reply": "2023-02-25T09:16:30.918751Z"
    },
    "papermill": {
     "duration": 0.062032,
     "end_time": "2023-02-25T09:16:30.922055",
     "exception": false,
     "start_time": "2023-02-25T09:16:30.860023",
     "status": "completed"
    },
    "tags": []
   },
   "source": [
    "df['minute'].unique()"
   ]
  },
  {
   "cell_type": "markdown",
   "id": "7ac3f35c",
   "metadata": {
    "execution": {
     "iopub.execute_input": "2023-02-25T09:16:31.023730Z",
     "iopub.status.busy": "2023-02-25T09:16:31.022852Z",
     "iopub.status.idle": "2023-02-25T09:16:31.032816Z",
     "shell.execute_reply": "2023-02-25T09:16:31.031690Z"
    },
    "papermill": {
     "duration": 0.063776,
     "end_time": "2023-02-25T09:16:31.035211",
     "exception": false,
     "start_time": "2023-02-25T09:16:30.971435",
     "status": "completed"
    },
    "tags": []
   },
   "source": [
    "df['minute'].value_counts()"
   ]
  },
  {
   "cell_type": "markdown",
   "id": "b3055d5c",
   "metadata": {
    "execution": {
     "iopub.execute_input": "2023-02-25T09:16:31.136225Z",
     "iopub.status.busy": "2023-02-25T09:16:31.135817Z",
     "iopub.status.idle": "2023-02-25T09:16:32.463739Z",
     "shell.execute_reply": "2023-02-25T09:16:32.462413Z"
    },
    "papermill": {
     "duration": 1.381932,
     "end_time": "2023-02-25T09:16:32.466948",
     "exception": false,
     "start_time": "2023-02-25T09:16:31.085016",
     "status": "completed"
    },
    "tags": []
   },
   "source": [
    "plt.figure(figsize=(15,6))\n",
    "sns.countplot(data=df, x='minute')\n",
    "plt.show()"
   ]
  },
  {
   "cell_type": "code",
   "execution_count": 64,
   "id": "7c294c33",
   "metadata": {},
   "outputs": [
    {
     "data": {
      "text/html": [
       "<div>\n",
       "<style scoped>\n",
       "    .dataframe tbody tr th:only-of-type {\n",
       "        vertical-align: middle;\n",
       "    }\n",
       "\n",
       "    .dataframe tbody tr th {\n",
       "        vertical-align: top;\n",
       "    }\n",
       "\n",
       "    .dataframe thead th {\n",
       "        text-align: right;\n",
       "    }\n",
       "</style>\n",
       "<table border=\"1\" class=\"dataframe\">\n",
       "  <thead>\n",
       "    <tr style=\"text-align: right;\">\n",
       "      <th></th>\n",
       "      <th>date</th>\n",
       "      <th>id</th>\n",
       "      <th>tweetText</th>\n",
       "      <th>user</th>\n",
       "      <th>likeCount</th>\n",
       "      <th>lang</th>\n",
       "      <th>replies</th>\n",
       "      <th>mentions</th>\n",
       "      <th>outlinks</th>\n",
       "      <th>text_sentiment</th>\n",
       "    </tr>\n",
       "  </thead>\n",
       "  <tbody>\n",
       "    <tr>\n",
       "      <th>0</th>\n",
       "      <td>17-05-2023</td>\n",
       "      <td>1658980398242713603</td>\n",
       "      <td>@SibillaDavid Infatti ChatGPT ogni tanto si la...</td>\n",
       "      <td>katiadiluna16</td>\n",
       "      <td>1</td>\n",
       "      <td>it</td>\n",
       "      <td>1</td>\n",
       "      <td>[User(username='SibillaDavid', id=159558223479...</td>\n",
       "      <td>[]</td>\n",
       "      <td>Neutral</td>\n",
       "    </tr>\n",
       "    <tr>\n",
       "      <th>1</th>\n",
       "      <td>17-05-2023</td>\n",
       "      <td>1658978881783701504</td>\n",
       "      <td>@katiadiluna16 Sono peggio di ChatGPT</td>\n",
       "      <td>SibillaDavid</td>\n",
       "      <td>1</td>\n",
       "      <td>it</td>\n",
       "      <td>1</td>\n",
       "      <td>[User(username='katiadiluna16', id=3669961223,...</td>\n",
       "      <td>[]</td>\n",
       "      <td>Neutral</td>\n",
       "    </tr>\n",
       "    <tr>\n",
       "      <th>2</th>\n",
       "      <td>17-05-2023</td>\n",
       "      <td>1658976280086233089</td>\n",
       "      <td>@northern_mr Oggi basta chiederlo a Chatgpt e ...</td>\n",
       "      <td>katiadiluna16</td>\n",
       "      <td>1</td>\n",
       "      <td>it</td>\n",
       "      <td>1</td>\n",
       "      <td>[User(username='northern_mr', id=1485114886808...</td>\n",
       "      <td>[]</td>\n",
       "      <td>Neutral</td>\n",
       "    </tr>\n",
       "    <tr>\n",
       "      <th>3</th>\n",
       "      <td>17-05-2023</td>\n",
       "      <td>1658959657912729602</td>\n",
       "      <td>Grazie per la tua iscrizione a #AI &amp;amp; #Chat...</td>\n",
       "      <td>bruniverso</td>\n",
       "      <td>0</td>\n",
       "      <td>it</td>\n",
       "      <td>1</td>\n",
       "      <td>[User(username='flavia_marzano', id=14145846, ...</td>\n",
       "      <td>['http://cdti.org/ai-chatgpt-tra-innovazione-e...</td>\n",
       "      <td>Neutral</td>\n",
       "    </tr>\n",
       "    <tr>\n",
       "      <th>4</th>\n",
       "      <td>17-05-2023</td>\n",
       "      <td>1658958570040205313</td>\n",
       "      <td>L'intelligenza artificiale può causare danni s...</td>\n",
       "      <td>Amorne_1979</td>\n",
       "      <td>0</td>\n",
       "      <td>it</td>\n",
       "      <td>1</td>\n",
       "      <td>NaN</td>\n",
       "      <td>['https://ift.tt/V7mbhcA']</td>\n",
       "      <td>Neutral</td>\n",
       "    </tr>\n",
       "    <tr>\n",
       "      <th>...</th>\n",
       "      <td>...</td>\n",
       "      <td>...</td>\n",
       "      <td>...</td>\n",
       "      <td>...</td>\n",
       "      <td>...</td>\n",
       "      <td>...</td>\n",
       "      <td>...</td>\n",
       "      <td>...</td>\n",
       "      <td>...</td>\n",
       "      <td>...</td>\n",
       "    </tr>\n",
       "    <tr>\n",
       "      <th>26999</th>\n",
       "      <td>29-05-2023</td>\n",
       "      <td>1663049685324398593</td>\n",
       "      <td>idk abt u guys but im telling chatgpt thank yo...</td>\n",
       "      <td>gooddaymp3</td>\n",
       "      <td>2</td>\n",
       "      <td>en</td>\n",
       "      <td>1</td>\n",
       "      <td>NaN</td>\n",
       "      <td>[]</td>\n",
       "      <td>Positive</td>\n",
       "    </tr>\n",
       "    <tr>\n",
       "      <th>27000</th>\n",
       "      <td>29-05-2023</td>\n",
       "      <td>1663049619763499010</td>\n",
       "      <td>@BeastOfGoyim It already has when i tried it o...</td>\n",
       "      <td>asheuriii</td>\n",
       "      <td>0</td>\n",
       "      <td>en</td>\n",
       "      <td>1</td>\n",
       "      <td>[User(username='BeastOfGoyim', id=145786421175...</td>\n",
       "      <td>[]</td>\n",
       "      <td>Neutral</td>\n",
       "    </tr>\n",
       "    <tr>\n",
       "      <th>27001</th>\n",
       "      <td>29-05-2023</td>\n",
       "      <td>1663049602851807232</td>\n",
       "      <td>@ivy_wylder @ask_aubry I’ve been looking for s...</td>\n",
       "      <td>dan_dd</td>\n",
       "      <td>6</td>\n",
       "      <td>en</td>\n",
       "      <td>0</td>\n",
       "      <td>[User(username='ivy_wylder', id=12147283985404...</td>\n",
       "      <td>[]</td>\n",
       "      <td>Positive</td>\n",
       "    </tr>\n",
       "    <tr>\n",
       "      <th>27002</th>\n",
       "      <td>29-05-2023</td>\n",
       "      <td>1663049444613410816</td>\n",
       "      <td>Is someone gonna remake Facade with ChatGPT?</td>\n",
       "      <td>PwnySlaystation</td>\n",
       "      <td>1</td>\n",
       "      <td>en</td>\n",
       "      <td>0</td>\n",
       "      <td>NaN</td>\n",
       "      <td>[]</td>\n",
       "      <td>Neutral</td>\n",
       "    </tr>\n",
       "    <tr>\n",
       "      <th>27003</th>\n",
       "      <td>29-05-2023</td>\n",
       "      <td>1663049350560514050</td>\n",
       "      <td>@shotgun2thehead chatgpt is really good people...</td>\n",
       "      <td>teengoatmance</td>\n",
       "      <td>1</td>\n",
       "      <td>en</td>\n",
       "      <td>1</td>\n",
       "      <td>[User(username='shotgun2thehead', id=257651288...</td>\n",
       "      <td>[]</td>\n",
       "      <td>Positive</td>\n",
       "    </tr>\n",
       "  </tbody>\n",
       "</table>\n",
       "<p>27004 rows × 10 columns</p>\n",
       "</div>"
      ],
      "text/plain": [
       "             date                   id  \\\n",
       "0      17-05-2023  1658980398242713603   \n",
       "1      17-05-2023  1658978881783701504   \n",
       "2      17-05-2023  1658976280086233089   \n",
       "3      17-05-2023  1658959657912729602   \n",
       "4      17-05-2023  1658958570040205313   \n",
       "...           ...                  ...   \n",
       "26999  29-05-2023  1663049685324398593   \n",
       "27000  29-05-2023  1663049619763499010   \n",
       "27001  29-05-2023  1663049602851807232   \n",
       "27002  29-05-2023  1663049444613410816   \n",
       "27003  29-05-2023  1663049350560514050   \n",
       "\n",
       "                                               tweetText             user  \\\n",
       "0      @SibillaDavid Infatti ChatGPT ogni tanto si la...    katiadiluna16   \n",
       "1                  @katiadiluna16 Sono peggio di ChatGPT     SibillaDavid   \n",
       "2      @northern_mr Oggi basta chiederlo a Chatgpt e ...    katiadiluna16   \n",
       "3      Grazie per la tua iscrizione a #AI &amp; #Chat...       bruniverso   \n",
       "4      L'intelligenza artificiale può causare danni s...      Amorne_1979   \n",
       "...                                                  ...              ...   \n",
       "26999  idk abt u guys but im telling chatgpt thank yo...       gooddaymp3   \n",
       "27000  @BeastOfGoyim It already has when i tried it o...        asheuriii   \n",
       "27001  @ivy_wylder @ask_aubry I’ve been looking for s...           dan_dd   \n",
       "27002       Is someone gonna remake Facade with ChatGPT?  PwnySlaystation   \n",
       "27003  @shotgun2thehead chatgpt is really good people...    teengoatmance   \n",
       "\n",
       "       likeCount lang  replies  \\\n",
       "0              1   it        1   \n",
       "1              1   it        1   \n",
       "2              1   it        1   \n",
       "3              0   it        1   \n",
       "4              0   it        1   \n",
       "...          ...  ...      ...   \n",
       "26999          2   en        1   \n",
       "27000          0   en        1   \n",
       "27001          6   en        0   \n",
       "27002          1   en        0   \n",
       "27003          1   en        1   \n",
       "\n",
       "                                                mentions  \\\n",
       "0      [User(username='SibillaDavid', id=159558223479...   \n",
       "1      [User(username='katiadiluna16', id=3669961223,...   \n",
       "2      [User(username='northern_mr', id=1485114886808...   \n",
       "3      [User(username='flavia_marzano', id=14145846, ...   \n",
       "4                                                    NaN   \n",
       "...                                                  ...   \n",
       "26999                                                NaN   \n",
       "27000  [User(username='BeastOfGoyim', id=145786421175...   \n",
       "27001  [User(username='ivy_wylder', id=12147283985404...   \n",
       "27002                                                NaN   \n",
       "27003  [User(username='shotgun2thehead', id=257651288...   \n",
       "\n",
       "                                                outlinks text_sentiment  \n",
       "0                                                     []        Neutral  \n",
       "1                                                     []        Neutral  \n",
       "2                                                     []        Neutral  \n",
       "3      ['http://cdti.org/ai-chatgpt-tra-innovazione-e...        Neutral  \n",
       "4                             ['https://ift.tt/V7mbhcA']        Neutral  \n",
       "...                                                  ...            ...  \n",
       "26999                                                 []       Positive  \n",
       "27000                                                 []        Neutral  \n",
       "27001                                                 []       Positive  \n",
       "27002                                                 []        Neutral  \n",
       "27003                                                 []       Positive  \n",
       "\n",
       "[27004 rows x 10 columns]"
      ]
     },
     "execution_count": 64,
     "metadata": {},
     "output_type": "execute_result"
    }
   ],
   "source": [
    "df"
   ]
  },
  {
   "cell_type": "markdown",
   "id": "49d8afdc",
   "metadata": {},
   "source": [
    "# Prova di sentiment analysis che avevo fatto"
   ]
  },
  {
   "cell_type": "code",
   "execution_count": 65,
   "id": "6de146b7",
   "metadata": {
    "execution": {
     "iopub.execute_input": "2023-02-25T09:16:32.578259Z",
     "iopub.status.busy": "2023-02-25T09:16:32.577858Z",
     "iopub.status.idle": "2023-02-25T09:16:32.604131Z",
     "shell.execute_reply": "2023-02-25T09:16:32.602855Z"
    },
    "papermill": {
     "duration": 0.087645,
     "end_time": "2023-02-25T09:16:32.607211",
     "exception": false,
     "start_time": "2023-02-25T09:16:32.519566",
     "status": "completed"
    },
    "tags": []
   },
   "outputs": [],
   "source": [
    "sia = SentimentIntensityAnalyzer()\n",
    "def find_sentiment(post):\n",
    "    try:\n",
    "        if sia.polarity_scores(post)[\"compound\"] > 0:\n",
    "            return \"Positive\"\n",
    "        elif sia.polarity_scores(post)[\"compound\"] < 0:\n",
    "            return \"Negative\"\n",
    "        else:\n",
    "            return \"Neutral\"  \n",
    "    except:\n",
    "        return \"Neutral\""
   ]
  },
  {
   "cell_type": "code",
   "execution_count": 66,
   "id": "7503f13e",
   "metadata": {
    "execution": {
     "iopub.execute_input": "2023-02-25T09:16:32.716627Z",
     "iopub.status.busy": "2023-02-25T09:16:32.715324Z",
     "iopub.status.idle": "2023-02-25T09:16:32.723891Z",
     "shell.execute_reply": "2023-02-25T09:16:32.722951Z"
    },
    "papermill": {
     "duration": 0.06586,
     "end_time": "2023-02-25T09:16:32.726403",
     "exception": false,
     "start_time": "2023-02-25T09:16:32.660543",
     "status": "completed"
    },
    "tags": []
   },
   "outputs": [],
   "source": [
    "def plot_sentiment(df, feature, title):\n",
    "    counts = df[feature].value_counts()\n",
    "    percent = counts/sum(counts)\n",
    "\n",
    "    fig, (ax1, ax2) = plt.subplots(ncols=2, figsize=(12, 5))\n",
    "    \n",
    "    colors = [\"green\", \"red\", \"blue\"]\n",
    "    counts.plot(kind='bar', ax=ax1, color=colors)\n",
    "    percent.plot(kind='bar', ax=ax2, color=colors)\n",
    "    ax1.set_ylabel(f'Counts : {title} sentiments', size=12)\n",
    "    ax2.set_ylabel(f'Percentage : {title} sentiments', size=12)\n",
    "    plt.suptitle(f\"Sentiment analysis: {title}\")\n",
    "    plt.tight_layout()\n",
    "    plt.show()"
   ]
  },
  {
   "cell_type": "code",
   "execution_count": 67,
   "id": "b7ffcfb2",
   "metadata": {
    "execution": {
     "iopub.execute_input": "2023-02-25T09:16:32.829910Z",
     "iopub.status.busy": "2023-02-25T09:16:32.829464Z",
     "iopub.status.idle": "2023-02-25T09:16:56.737272Z",
     "shell.execute_reply": "2023-02-25T09:16:56.736046Z"
    },
    "papermill": {
     "duration": 23.96275,
     "end_time": "2023-02-25T09:16:56.739900",
     "exception": false,
     "start_time": "2023-02-25T09:16:32.777150",
     "status": "completed"
    },
    "tags": []
   },
   "outputs": [
    {
     "data": {
      "image/png": "[encoded data removed]",
      "text/plain": [
       "<Figure size 864x360 with 2 Axes>"
      ]
     },
     "metadata": {
      "needs_background": "light"
     },
     "output_type": "display_data"
    }
   ],
   "source": [
    "df['text_sentiment'] = df['tweetText'].apply(lambda x: find_sentiment(x))\n",
    "plot_sentiment(df, 'text_sentiment', 'tweetText')"
   ]
  },
  {
   "cell_type": "code",
   "execution_count": 75,
   "id": "2266578e",
   "metadata": {
    "execution": {
     "iopub.execute_input": "2023-02-25T09:16:56.847418Z",
     "iopub.status.busy": "2023-02-25T09:16:56.846025Z",
     "iopub.status.idle": "2023-02-25T09:16:56.872282Z",
     "shell.execute_reply": "2023-02-25T09:16:56.871212Z"
    },
    "papermill": {
     "duration": 0.083765,
     "end_time": "2023-02-25T09:16:56.874943",
     "exception": false,
     "start_time": "2023-02-25T09:16:56.791178",
     "status": "completed"
    },
    "tags": []
   },
   "outputs": [],
   "source": [
    "tweets_agg_df = df.groupby([\"date\", \"text_sentiment\"])[\"tweetText\"].count().reset_index()\n",
    "tweets_agg_df.columns = [\"date\", \"text_sentiment\", \"count\"]"
   ]
  },
  {
   "cell_type": "code",
   "execution_count": 76,
   "id": "58a09d4f",
   "metadata": {
    "execution": {
     "iopub.execute_input": "2023-02-25T09:16:56.980245Z",
     "iopub.status.busy": "2023-02-25T09:16:56.979768Z",
     "iopub.status.idle": "2023-02-25T09:16:57.462450Z",
     "shell.execute_reply": "2023-02-25T09:16:57.460965Z"
    },
    "papermill": {
     "duration": 0.538492,
     "end_time": "2023-02-25T09:16:57.465157",
     "exception": false,
     "start_time": "2023-02-25T09:16:56.926665",
     "status": "completed"
    },
    "tags": []
   },
   "outputs": [
    {
     "data": {
      "image/png": "[encoded data removed]",
      "text/plain": [
       "<Figure size 864x648 with 1 Axes>"
      ]
     },
     "metadata": {},
     "output_type": "display_data"
    }
   ],
   "source": [
    "plot_time_variation(tweets_agg_df, x='date', hue=\"text_sentiment\", title=\"Number of tweets / day (grouped by sentiment)\",size=3)"
   ]
  },
  {
   "cell_type": "code",
   "execution_count": 77,
   "id": "f01c35a2",
   "metadata": {
    "execution": {
     "iopub.execute_input": "2023-02-25T09:16:57.577490Z",
     "iopub.status.busy": "2023-02-25T09:16:57.577045Z",
     "iopub.status.idle": "2023-02-25T09:17:00.642360Z",
     "shell.execute_reply": "2023-02-25T09:17:00.640722Z"
    },
    "papermill": {
     "duration": 3.128366,
     "end_time": "2023-02-25T09:17:00.648968",
     "exception": false,
     "start_time": "2023-02-25T09:16:57.520602",
     "status": "completed"
    },
    "tags": []
   },
   "outputs": [
    {
     "ename": "KeyError",
     "evalue": "'Content'",
     "output_type": "error",
     "traceback": [
      "\u001b[0;31m---------------------------------------------------------------------------\u001b[0m",
      "\u001b[0;31mKeyError\u001b[0m                                  Traceback (most recent call last)",
      "File \u001b[0;32m/Applications/anaconda3/lib/python3.9/site-packages/pandas/core/indexes/base.py:3621\u001b[0m, in \u001b[0;36mIndex.get_loc\u001b[0;34m(self, key, method, tolerance)\u001b[0m\n\u001b[1;32m   3620\u001b[0m \u001b[38;5;28;01mtry\u001b[39;00m:\n\u001b[0;32m-> 3621\u001b[0m     \u001b[38;5;28;01mreturn\u001b[39;00m \u001b[38;5;28;43mself\u001b[39;49m\u001b[38;5;241;43m.\u001b[39;49m\u001b[43m_engine\u001b[49m\u001b[38;5;241;43m.\u001b[39;49m\u001b[43mget_loc\u001b[49m\u001b[43m(\u001b[49m\u001b[43mcasted_key\u001b[49m\u001b[43m)\u001b[49m\n\u001b[1;32m   3622\u001b[0m \u001b[38;5;28;01mexcept\u001b[39;00m \u001b[38;5;167;01mKeyError\u001b[39;00m \u001b[38;5;28;01mas\u001b[39;00m err:\n",
      "File \u001b[0;32m/Applications/anaconda3/lib/python3.9/site-packages/pandas/_libs/index.pyx:136\u001b[0m, in \u001b[0;36mpandas._libs.index.IndexEngine.get_loc\u001b[0;34m()\u001b[0m\n",
      "File \u001b[0;32m/Applications/anaconda3/lib/python3.9/site-packages/pandas/_libs/index.pyx:163\u001b[0m, in \u001b[0;36mpandas._libs.index.IndexEngine.get_loc\u001b[0;34m()\u001b[0m\n",
      "File \u001b[0;32mpandas/_libs/hashtable_class_helper.pxi:5198\u001b[0m, in \u001b[0;36mpandas._libs.hashtable.PyObjectHashTable.get_item\u001b[0;34m()\u001b[0m\n",
      "File \u001b[0;32mpandas/_libs/hashtable_class_helper.pxi:5206\u001b[0m, in \u001b[0;36mpandas._libs.hashtable.PyObjectHashTable.get_item\u001b[0;34m()\u001b[0m\n",
      "\u001b[0;31mKeyError\u001b[0m: 'Content'",
      "\nThe above exception was the direct cause of the following exception:\n",
      "\u001b[0;31mKeyError\u001b[0m                                  Traceback (most recent call last)",
      "Input \u001b[0;32mIn [77]\u001b[0m, in \u001b[0;36m<cell line: 1>\u001b[0;34m()\u001b[0m\n\u001b[0;32m----> 1\u001b[0m show_wordcloud(\u001b[43mdf\u001b[49m\u001b[38;5;241;43m.\u001b[39;49m\u001b[43mloc\u001b[49m\u001b[43m[\u001b[49m\u001b[43mdf\u001b[49m\u001b[43m[\u001b[49m\u001b[38;5;124;43m'\u001b[39;49m\u001b[38;5;124;43mtext_sentiment\u001b[39;49m\u001b[38;5;124;43m'\u001b[39;49m\u001b[43m]\u001b[49m\u001b[38;5;241;43m==\u001b[39;49m\u001b[38;5;124;43m\"\u001b[39;49m\u001b[38;5;124;43mPositive\u001b[39;49m\u001b[38;5;124;43m\"\u001b[39;49m\u001b[43m,\u001b[49m\u001b[43m \u001b[49m\u001b[38;5;124;43m'\u001b[39;49m\u001b[38;5;124;43mContent\u001b[39;49m\u001b[38;5;124;43m'\u001b[39;49m\u001b[43m]\u001b[49m, title \u001b[38;5;241m=\u001b[39m \u001b[38;5;124m'\u001b[39m\u001b[38;5;124mPrevalent words in Text with Positive sentiment\u001b[39m\u001b[38;5;124m'\u001b[39m, mask\u001b[38;5;241m=\u001b[39m\u001b[38;5;28;01mNone\u001b[39;00m)\n",
      "File \u001b[0;32m/Applications/anaconda3/lib/python3.9/site-packages/pandas/core/indexing.py:961\u001b[0m, in \u001b[0;36m_LocationIndexer.__getitem__\u001b[0;34m(self, key)\u001b[0m\n\u001b[1;32m    959\u001b[0m     \u001b[38;5;28;01mif\u001b[39;00m \u001b[38;5;28mself\u001b[39m\u001b[38;5;241m.\u001b[39m_is_scalar_access(key):\n\u001b[1;32m    960\u001b[0m         \u001b[38;5;28;01mreturn\u001b[39;00m \u001b[38;5;28mself\u001b[39m\u001b[38;5;241m.\u001b[39mobj\u001b[38;5;241m.\u001b[39m_get_value(\u001b[38;5;241m*\u001b[39mkey, takeable\u001b[38;5;241m=\u001b[39m\u001b[38;5;28mself\u001b[39m\u001b[38;5;241m.\u001b[39m_takeable)\n\u001b[0;32m--> 961\u001b[0m     \u001b[38;5;28;01mreturn\u001b[39;00m \u001b[38;5;28;43mself\u001b[39;49m\u001b[38;5;241;43m.\u001b[39;49m\u001b[43m_getitem_tuple\u001b[49m\u001b[43m(\u001b[49m\u001b[43mkey\u001b[49m\u001b[43m)\u001b[49m\n\u001b[1;32m    962\u001b[0m \u001b[38;5;28;01melse\u001b[39;00m:\n\u001b[1;32m    963\u001b[0m     \u001b[38;5;66;03m# we by definition only have the 0th axis\u001b[39;00m\n\u001b[1;32m    964\u001b[0m     axis \u001b[38;5;241m=\u001b[39m \u001b[38;5;28mself\u001b[39m\u001b[38;5;241m.\u001b[39maxis \u001b[38;5;129;01mor\u001b[39;00m \u001b[38;5;241m0\u001b[39m\n",
      "File \u001b[0;32m/Applications/anaconda3/lib/python3.9/site-packages/pandas/core/indexing.py:1140\u001b[0m, in \u001b[0;36m_LocIndexer._getitem_tuple\u001b[0;34m(self, tup)\u001b[0m\n\u001b[1;32m   1138\u001b[0m \u001b[38;5;28;01mwith\u001b[39;00m suppress(IndexingError):\n\u001b[1;32m   1139\u001b[0m     tup \u001b[38;5;241m=\u001b[39m \u001b[38;5;28mself\u001b[39m\u001b[38;5;241m.\u001b[39m_expand_ellipsis(tup)\n\u001b[0;32m-> 1140\u001b[0m     \u001b[38;5;28;01mreturn\u001b[39;00m \u001b[38;5;28;43mself\u001b[39;49m\u001b[38;5;241;43m.\u001b[39;49m\u001b[43m_getitem_lowerdim\u001b[49m\u001b[43m(\u001b[49m\u001b[43mtup\u001b[49m\u001b[43m)\u001b[49m\n\u001b[1;32m   1142\u001b[0m \u001b[38;5;66;03m# no multi-index, so validate all of the indexers\u001b[39;00m\n\u001b[1;32m   1143\u001b[0m tup \u001b[38;5;241m=\u001b[39m \u001b[38;5;28mself\u001b[39m\u001b[38;5;241m.\u001b[39m_validate_tuple_indexer(tup)\n",
      "File \u001b[0;32m/Applications/anaconda3/lib/python3.9/site-packages/pandas/core/indexing.py:867\u001b[0m, in \u001b[0;36m_LocationIndexer._getitem_lowerdim\u001b[0;34m(self, tup)\u001b[0m\n\u001b[1;32m    863\u001b[0m \u001b[38;5;28;01mfor\u001b[39;00m i, key \u001b[38;5;129;01min\u001b[39;00m \u001b[38;5;28menumerate\u001b[39m(tup):\n\u001b[1;32m    864\u001b[0m     \u001b[38;5;28;01mif\u001b[39;00m is_label_like(key):\n\u001b[1;32m    865\u001b[0m         \u001b[38;5;66;03m# We don't need to check for tuples here because those are\u001b[39;00m\n\u001b[1;32m    866\u001b[0m         \u001b[38;5;66;03m#  caught by the _is_nested_tuple_indexer check above.\u001b[39;00m\n\u001b[0;32m--> 867\u001b[0m         section \u001b[38;5;241m=\u001b[39m \u001b[38;5;28;43mself\u001b[39;49m\u001b[38;5;241;43m.\u001b[39;49m\u001b[43m_getitem_axis\u001b[49m\u001b[43m(\u001b[49m\u001b[43mkey\u001b[49m\u001b[43m,\u001b[49m\u001b[43m \u001b[49m\u001b[43maxis\u001b[49m\u001b[38;5;241;43m=\u001b[39;49m\u001b[43mi\u001b[49m\u001b[43m)\u001b[49m\n\u001b[1;32m    869\u001b[0m         \u001b[38;5;66;03m# We should never have a scalar section here, because\u001b[39;00m\n\u001b[1;32m    870\u001b[0m         \u001b[38;5;66;03m#  _getitem_lowerdim is only called after a check for\u001b[39;00m\n\u001b[1;32m    871\u001b[0m         \u001b[38;5;66;03m#  is_scalar_access, which that would be.\u001b[39;00m\n\u001b[1;32m    872\u001b[0m         \u001b[38;5;28;01mif\u001b[39;00m section\u001b[38;5;241m.\u001b[39mndim \u001b[38;5;241m==\u001b[39m \u001b[38;5;28mself\u001b[39m\u001b[38;5;241m.\u001b[39mndim:\n\u001b[1;32m    873\u001b[0m             \u001b[38;5;66;03m# we're in the middle of slicing through a MultiIndex\u001b[39;00m\n\u001b[1;32m    874\u001b[0m             \u001b[38;5;66;03m# revise the key wrt to `section` by inserting an _NS\u001b[39;00m\n",
      "File \u001b[0;32m/Applications/anaconda3/lib/python3.9/site-packages/pandas/core/indexing.py:1202\u001b[0m, in \u001b[0;36m_LocIndexer._getitem_axis\u001b[0;34m(self, key, axis)\u001b[0m\n\u001b[1;32m   1200\u001b[0m \u001b[38;5;66;03m# fall thru to straight lookup\u001b[39;00m\n\u001b[1;32m   1201\u001b[0m \u001b[38;5;28mself\u001b[39m\u001b[38;5;241m.\u001b[39m_validate_key(key, axis)\n\u001b[0;32m-> 1202\u001b[0m \u001b[38;5;28;01mreturn\u001b[39;00m \u001b[38;5;28;43mself\u001b[39;49m\u001b[38;5;241;43m.\u001b[39;49m\u001b[43m_get_label\u001b[49m\u001b[43m(\u001b[49m\u001b[43mkey\u001b[49m\u001b[43m,\u001b[49m\u001b[43m \u001b[49m\u001b[43maxis\u001b[49m\u001b[38;5;241;43m=\u001b[39;49m\u001b[43maxis\u001b[49m\u001b[43m)\u001b[49m\n",
      "File \u001b[0;32m/Applications/anaconda3/lib/python3.9/site-packages/pandas/core/indexing.py:1153\u001b[0m, in \u001b[0;36m_LocIndexer._get_label\u001b[0;34m(self, label, axis)\u001b[0m\n\u001b[1;32m   1151\u001b[0m \u001b[38;5;28;01mdef\u001b[39;00m \u001b[38;5;21m_get_label\u001b[39m(\u001b[38;5;28mself\u001b[39m, label, axis: \u001b[38;5;28mint\u001b[39m):\n\u001b[1;32m   1152\u001b[0m     \u001b[38;5;66;03m# GH#5667 this will fail if the label is not present in the axis.\u001b[39;00m\n\u001b[0;32m-> 1153\u001b[0m     \u001b[38;5;28;01mreturn\u001b[39;00m \u001b[38;5;28;43mself\u001b[39;49m\u001b[38;5;241;43m.\u001b[39;49m\u001b[43mobj\u001b[49m\u001b[38;5;241;43m.\u001b[39;49m\u001b[43mxs\u001b[49m\u001b[43m(\u001b[49m\u001b[43mlabel\u001b[49m\u001b[43m,\u001b[49m\u001b[43m \u001b[49m\u001b[43maxis\u001b[49m\u001b[38;5;241;43m=\u001b[39;49m\u001b[43maxis\u001b[49m\u001b[43m)\u001b[49m\n",
      "File \u001b[0;32m/Applications/anaconda3/lib/python3.9/site-packages/pandas/core/generic.py:3849\u001b[0m, in \u001b[0;36mNDFrame.xs\u001b[0;34m(self, key, axis, level, drop_level)\u001b[0m\n\u001b[1;32m   3847\u001b[0m \u001b[38;5;28;01mif\u001b[39;00m axis \u001b[38;5;241m==\u001b[39m \u001b[38;5;241m1\u001b[39m:\n\u001b[1;32m   3848\u001b[0m     \u001b[38;5;28;01mif\u001b[39;00m drop_level:\n\u001b[0;32m-> 3849\u001b[0m         \u001b[38;5;28;01mreturn\u001b[39;00m \u001b[38;5;28;43mself\u001b[39;49m\u001b[43m[\u001b[49m\u001b[43mkey\u001b[49m\u001b[43m]\u001b[49m\n\u001b[1;32m   3850\u001b[0m     index \u001b[38;5;241m=\u001b[39m \u001b[38;5;28mself\u001b[39m\u001b[38;5;241m.\u001b[39mcolumns\n\u001b[1;32m   3851\u001b[0m \u001b[38;5;28;01melse\u001b[39;00m:\n",
      "File \u001b[0;32m/Applications/anaconda3/lib/python3.9/site-packages/pandas/core/frame.py:3505\u001b[0m, in \u001b[0;36mDataFrame.__getitem__\u001b[0;34m(self, key)\u001b[0m\n\u001b[1;32m   3503\u001b[0m \u001b[38;5;28;01mif\u001b[39;00m \u001b[38;5;28mself\u001b[39m\u001b[38;5;241m.\u001b[39mcolumns\u001b[38;5;241m.\u001b[39mnlevels \u001b[38;5;241m>\u001b[39m \u001b[38;5;241m1\u001b[39m:\n\u001b[1;32m   3504\u001b[0m     \u001b[38;5;28;01mreturn\u001b[39;00m \u001b[38;5;28mself\u001b[39m\u001b[38;5;241m.\u001b[39m_getitem_multilevel(key)\n\u001b[0;32m-> 3505\u001b[0m indexer \u001b[38;5;241m=\u001b[39m \u001b[38;5;28;43mself\u001b[39;49m\u001b[38;5;241;43m.\u001b[39;49m\u001b[43mcolumns\u001b[49m\u001b[38;5;241;43m.\u001b[39;49m\u001b[43mget_loc\u001b[49m\u001b[43m(\u001b[49m\u001b[43mkey\u001b[49m\u001b[43m)\u001b[49m\n\u001b[1;32m   3506\u001b[0m \u001b[38;5;28;01mif\u001b[39;00m is_integer(indexer):\n\u001b[1;32m   3507\u001b[0m     indexer \u001b[38;5;241m=\u001b[39m [indexer]\n",
      "File \u001b[0;32m/Applications/anaconda3/lib/python3.9/site-packages/pandas/core/indexes/base.py:3623\u001b[0m, in \u001b[0;36mIndex.get_loc\u001b[0;34m(self, key, method, tolerance)\u001b[0m\n\u001b[1;32m   3621\u001b[0m     \u001b[38;5;28;01mreturn\u001b[39;00m \u001b[38;5;28mself\u001b[39m\u001b[38;5;241m.\u001b[39m_engine\u001b[38;5;241m.\u001b[39mget_loc(casted_key)\n\u001b[1;32m   3622\u001b[0m \u001b[38;5;28;01mexcept\u001b[39;00m \u001b[38;5;167;01mKeyError\u001b[39;00m \u001b[38;5;28;01mas\u001b[39;00m err:\n\u001b[0;32m-> 3623\u001b[0m     \u001b[38;5;28;01mraise\u001b[39;00m \u001b[38;5;167;01mKeyError\u001b[39;00m(key) \u001b[38;5;28;01mfrom\u001b[39;00m \u001b[38;5;21;01merr\u001b[39;00m\n\u001b[1;32m   3624\u001b[0m \u001b[38;5;28;01mexcept\u001b[39;00m \u001b[38;5;167;01mTypeError\u001b[39;00m:\n\u001b[1;32m   3625\u001b[0m     \u001b[38;5;66;03m# If we have a listlike key, _check_indexing_error will raise\u001b[39;00m\n\u001b[1;32m   3626\u001b[0m     \u001b[38;5;66;03m#  InvalidIndexError. Otherwise we fall through and re-raise\u001b[39;00m\n\u001b[1;32m   3627\u001b[0m     \u001b[38;5;66;03m#  the TypeError.\u001b[39;00m\n\u001b[1;32m   3628\u001b[0m     \u001b[38;5;28mself\u001b[39m\u001b[38;5;241m.\u001b[39m_check_indexing_error(key)\n",
      "\u001b[0;31mKeyError\u001b[0m: 'Content'"
     ]
    }
   ],
   "source": [
    "show_wordcloud(df.loc[df['text_sentiment']==\"Positive\", 'Content'], title = 'Prevalent words in Text with Positive sentiment', mask=None)"
   ]
  },
  {
   "cell_type": "code",
   "execution_count": 128,
   "id": "eab0140a",
   "metadata": {
    "execution": {
     "iopub.execute_input": "2023-02-25T09:17:00.785902Z",
     "iopub.status.busy": "2023-02-25T09:17:00.785486Z",
     "iopub.status.idle": "2023-02-25T09:17:02.916732Z",
     "shell.execute_reply": "2023-02-25T09:17:02.915591Z"
    },
    "papermill": {
     "duration": 2.211353,
     "end_time": "2023-02-25T09:17:02.928230",
     "exception": false,
     "start_time": "2023-02-25T09:17:00.716877",
     "status": "completed"
    },
    "tags": []
   },
   "outputs": [
    {
     "ename": "ValueError",
     "evalue": "Only supported for TrueType fonts",
     "output_type": "error",
     "traceback": [
      "\u001b[0;31m---------------------------------------------------------------------------\u001b[0m",
      "\u001b[0;31mValueError\u001b[0m                                Traceback (most recent call last)",
      "Input \u001b[0;32mIn [128]\u001b[0m, in \u001b[0;36m<cell line: 1>\u001b[0;34m()\u001b[0m\n\u001b[0;32m----> 1\u001b[0m \u001b[43mshow_wordcloud\u001b[49m\u001b[43m(\u001b[49m\u001b[43mdf\u001b[49m\u001b[38;5;241;43m.\u001b[39;49m\u001b[43mloc\u001b[49m\u001b[43m[\u001b[49m\u001b[43mdf\u001b[49m\u001b[43m[\u001b[49m\u001b[38;5;124;43m'\u001b[39;49m\u001b[38;5;124;43mtext_sentiment\u001b[39;49m\u001b[38;5;124;43m'\u001b[39;49m\u001b[43m]\u001b[49m\u001b[38;5;241;43m==\u001b[39;49m\u001b[38;5;124;43m\"\u001b[39;49m\u001b[38;5;124;43mNegative\u001b[39;49m\u001b[38;5;124;43m\"\u001b[39;49m\u001b[43m,\u001b[49m\u001b[43m \u001b[49m\u001b[38;5;124;43m'\u001b[39;49m\u001b[38;5;124;43mContent\u001b[39;49m\u001b[38;5;124;43m'\u001b[39;49m\u001b[43m]\u001b[49m\u001b[43m,\u001b[49m\u001b[43m \u001b[49m\u001b[43mtitle\u001b[49m\u001b[43m \u001b[49m\u001b[38;5;241;43m=\u001b[39;49m\u001b[43m \u001b[49m\u001b[38;5;124;43m'\u001b[39;49m\u001b[38;5;124;43mPrevalent words in Text with Negative sentiment\u001b[39;49m\u001b[38;5;124;43m'\u001b[39;49m\u001b[43m,\u001b[49m\u001b[43m \u001b[49m\u001b[43mmask\u001b[49m\u001b[38;5;241;43m=\u001b[39;49m\u001b[38;5;28;43;01mNone\u001b[39;49;00m\u001b[43m)\u001b[49m\n",
      "Input \u001b[0;32mIn [61]\u001b[0m, in \u001b[0;36mshow_wordcloud\u001b[0;34m(data, mask, title)\u001b[0m\n\u001b[1;32m      5\u001b[0m stopwords \u001b[38;5;241m=\u001b[39m \u001b[38;5;28mset\u001b[39m(STOPWORDS)\n\u001b[1;32m      6\u001b[0m stopwords\u001b[38;5;241m.\u001b[39mupdate([\u001b[38;5;124m\"\u001b[39m\u001b[38;5;124mt\u001b[39m\u001b[38;5;124m\"\u001b[39m, \u001b[38;5;124m\"\u001b[39m\u001b[38;5;124mco\u001b[39m\u001b[38;5;124m\"\u001b[39m, \u001b[38;5;124m\"\u001b[39m\u001b[38;5;124mhttps\u001b[39m\u001b[38;5;124m\"\u001b[39m, \u001b[38;5;124m\"\u001b[39m\u001b[38;5;124mamp\u001b[39m\u001b[38;5;124m\"\u001b[39m, \u001b[38;5;124m\"\u001b[39m\u001b[38;5;124mU\u001b[39m\u001b[38;5;124m\"\u001b[39m, \u001b[38;5;124m\"\u001b[39m\u001b[38;5;124mComment\u001b[39m\u001b[38;5;124m\"\u001b[39m, \u001b[38;5;124m\"\u001b[39m\u001b[38;5;124mtext\u001b[39m\u001b[38;5;124m\"\u001b[39m, \u001b[38;5;124m\"\u001b[39m\u001b[38;5;124mattr\u001b[39m\u001b[38;5;124m\"\u001b[39m, \u001b[38;5;124m\"\u001b[39m\u001b[38;5;124mobject\u001b[39m\u001b[38;5;124m\"\u001b[39m])\n\u001b[0;32m----> 7\u001b[0m wordcloud \u001b[38;5;241m=\u001b[39m \u001b[43mWordCloud\u001b[49m\u001b[43m(\u001b[49m\u001b[43mstopwords\u001b[49m\u001b[38;5;241;43m=\u001b[39;49m\u001b[43mstopwords\u001b[49m\u001b[43m,\u001b[49m\u001b[43m \u001b[49m\u001b[43mscale\u001b[49m\u001b[38;5;241;43m=\u001b[39;49m\u001b[38;5;241;43m4\u001b[39;49m\u001b[43m,\u001b[49m\u001b[43m \u001b[49m\u001b[43mmax_font_size\u001b[49m\u001b[38;5;241;43m=\u001b[39;49m\u001b[38;5;241;43m50\u001b[39;49m\u001b[43m,\u001b[49m\u001b[43m \u001b[49m\u001b[43mmax_words\u001b[49m\u001b[38;5;241;43m=\u001b[39;49m\u001b[38;5;241;43m500\u001b[39;49m\u001b[43m,\u001b[49m\u001b[43mmask\u001b[49m\u001b[38;5;241;43m=\u001b[39;49m\u001b[43mmask\u001b[49m\u001b[43m,\u001b[49m\u001b[43m \u001b[49m\u001b[43mbackground_color\u001b[49m\u001b[38;5;241;43m=\u001b[39;49m\u001b[38;5;124;43m\"\u001b[39;49m\u001b[38;5;124;43mwhite\u001b[39;49m\u001b[38;5;124;43m\"\u001b[39;49m\u001b[43m)\u001b[49m\u001b[38;5;241;43m.\u001b[39;49m\u001b[43mgenerate\u001b[49m\u001b[43m(\u001b[49m\u001b[43mtext\u001b[49m\u001b[43m)\u001b[49m\n\u001b[1;32m      8\u001b[0m fig \u001b[38;5;241m=\u001b[39m plt\u001b[38;5;241m.\u001b[39mfigure(\u001b[38;5;241m1\u001b[39m, figsize\u001b[38;5;241m=\u001b[39m(\u001b[38;5;241m16\u001b[39m,\u001b[38;5;241m16\u001b[39m))\n\u001b[1;32m      9\u001b[0m plt\u001b[38;5;241m.\u001b[39maxis(\u001b[38;5;124m'\u001b[39m\u001b[38;5;124moff\u001b[39m\u001b[38;5;124m'\u001b[39m)\n",
      "File \u001b[0;32m/Applications/anaconda3/lib/python3.9/site-packages/wordcloud/wordcloud.py:639\u001b[0m, in \u001b[0;36mWordCloud.generate\u001b[0;34m(self, text)\u001b[0m\n\u001b[1;32m    624\u001b[0m \u001b[38;5;28;01mdef\u001b[39;00m \u001b[38;5;21mgenerate\u001b[39m(\u001b[38;5;28mself\u001b[39m, text):\n\u001b[1;32m    625\u001b[0m     \u001b[38;5;124;03m\"\"\"Generate wordcloud from text.\u001b[39;00m\n\u001b[1;32m    626\u001b[0m \n\u001b[1;32m    627\u001b[0m \u001b[38;5;124;03m    The input \"text\" is expected to be a natural text. If you pass a sorted\u001b[39;00m\n\u001b[0;32m   (...)\u001b[0m\n\u001b[1;32m    637\u001b[0m \u001b[38;5;124;03m    self\u001b[39;00m\n\u001b[1;32m    638\u001b[0m \u001b[38;5;124;03m    \"\"\"\u001b[39;00m\n\u001b[0;32m--> 639\u001b[0m     \u001b[38;5;28;01mreturn\u001b[39;00m \u001b[38;5;28;43mself\u001b[39;49m\u001b[38;5;241;43m.\u001b[39;49m\u001b[43mgenerate_from_text\u001b[49m\u001b[43m(\u001b[49m\u001b[43mtext\u001b[49m\u001b[43m)\u001b[49m\n",
      "File \u001b[0;32m/Applications/anaconda3/lib/python3.9/site-packages/wordcloud/wordcloud.py:621\u001b[0m, in \u001b[0;36mWordCloud.generate_from_text\u001b[0;34m(self, text)\u001b[0m\n\u001b[1;32m    604\u001b[0m \u001b[38;5;124;03m\"\"\"Generate wordcloud from text.\u001b[39;00m\n\u001b[1;32m    605\u001b[0m \n\u001b[1;32m    606\u001b[0m \u001b[38;5;124;03mThe input \"text\" is expected to be a natural text. If you pass a sorted\u001b[39;00m\n\u001b[0;32m   (...)\u001b[0m\n\u001b[1;32m    618\u001b[0m \u001b[38;5;124;03mself\u001b[39;00m\n\u001b[1;32m    619\u001b[0m \u001b[38;5;124;03m\"\"\"\u001b[39;00m\n\u001b[1;32m    620\u001b[0m words \u001b[38;5;241m=\u001b[39m \u001b[38;5;28mself\u001b[39m\u001b[38;5;241m.\u001b[39mprocess_text(text)\n\u001b[0;32m--> 621\u001b[0m \u001b[38;5;28;43mself\u001b[39;49m\u001b[38;5;241;43m.\u001b[39;49m\u001b[43mgenerate_from_frequencies\u001b[49m\u001b[43m(\u001b[49m\u001b[43mwords\u001b[49m\u001b[43m)\u001b[49m\n\u001b[1;32m    622\u001b[0m \u001b[38;5;28;01mreturn\u001b[39;00m \u001b[38;5;28mself\u001b[39m\n",
      "File \u001b[0;32m/Applications/anaconda3/lib/python3.9/site-packages/wordcloud/wordcloud.py:508\u001b[0m, in \u001b[0;36mWordCloud.generate_from_frequencies\u001b[0;34m(self, frequencies, max_font_size)\u001b[0m\n\u001b[1;32m    505\u001b[0m transposed_font \u001b[38;5;241m=\u001b[39m ImageFont\u001b[38;5;241m.\u001b[39mTransposedFont(\n\u001b[1;32m    506\u001b[0m     font, orientation\u001b[38;5;241m=\u001b[39morientation)\n\u001b[1;32m    507\u001b[0m \u001b[38;5;66;03m# get size of resulting text\u001b[39;00m\n\u001b[0;32m--> 508\u001b[0m box_size \u001b[38;5;241m=\u001b[39m \u001b[43mdraw\u001b[49m\u001b[38;5;241;43m.\u001b[39;49m\u001b[43mtextbbox\u001b[49m\u001b[43m(\u001b[49m\u001b[43m(\u001b[49m\u001b[38;5;241;43m0\u001b[39;49m\u001b[43m,\u001b[49m\u001b[43m \u001b[49m\u001b[38;5;241;43m0\u001b[39;49m\u001b[43m)\u001b[49m\u001b[43m,\u001b[49m\u001b[43m \u001b[49m\u001b[43mword\u001b[49m\u001b[43m,\u001b[49m\u001b[43m \u001b[49m\u001b[43mfont\u001b[49m\u001b[38;5;241;43m=\u001b[39;49m\u001b[43mtransposed_font\u001b[49m\u001b[43m,\u001b[49m\u001b[43m \u001b[49m\u001b[43manchor\u001b[49m\u001b[38;5;241;43m=\u001b[39;49m\u001b[38;5;124;43m\"\u001b[39;49m\u001b[38;5;124;43mlt\u001b[39;49m\u001b[38;5;124;43m\"\u001b[39;49m\u001b[43m)\u001b[49m\n\u001b[1;32m    509\u001b[0m \u001b[38;5;66;03m# find possible places using integral image:\u001b[39;00m\n\u001b[1;32m    510\u001b[0m result \u001b[38;5;241m=\u001b[39m occupancy\u001b[38;5;241m.\u001b[39msample_position(box_size[\u001b[38;5;241m3\u001b[39m] \u001b[38;5;241m+\u001b[39m \u001b[38;5;28mself\u001b[39m\u001b[38;5;241m.\u001b[39mmargin,\n\u001b[1;32m    511\u001b[0m                                    box_size[\u001b[38;5;241m2\u001b[39m] \u001b[38;5;241m+\u001b[39m \u001b[38;5;28mself\u001b[39m\u001b[38;5;241m.\u001b[39mmargin,\n\u001b[1;32m    512\u001b[0m                                    random_state)\n",
      "File \u001b[0;32m/Applications/anaconda3/lib/python3.9/site-packages/PIL/ImageDraw.py:671\u001b[0m, in \u001b[0;36mImageDraw.textbbox\u001b[0;34m(self, xy, text, font, anchor, spacing, align, direction, features, language, stroke_width, embedded_color)\u001b[0m\n\u001b[1;32m    669\u001b[0m     font \u001b[38;5;241m=\u001b[39m \u001b[38;5;28mself\u001b[39m\u001b[38;5;241m.\u001b[39mgetfont()\n\u001b[1;32m    670\u001b[0m \u001b[38;5;28;01mif\u001b[39;00m \u001b[38;5;129;01mnot\u001b[39;00m \u001b[38;5;28misinstance\u001b[39m(font, ImageFont\u001b[38;5;241m.\u001b[39mFreeTypeFont):\n\u001b[0;32m--> 671\u001b[0m     \u001b[38;5;28;01mraise\u001b[39;00m \u001b[38;5;167;01mValueError\u001b[39;00m(\u001b[38;5;124m\"\u001b[39m\u001b[38;5;124mOnly supported for TrueType fonts\u001b[39m\u001b[38;5;124m\"\u001b[39m)\n\u001b[1;32m    672\u001b[0m mode \u001b[38;5;241m=\u001b[39m \u001b[38;5;124m\"\u001b[39m\u001b[38;5;124mRGBA\u001b[39m\u001b[38;5;124m\"\u001b[39m \u001b[38;5;28;01mif\u001b[39;00m embedded_color \u001b[38;5;28;01melse\u001b[39;00m \u001b[38;5;28mself\u001b[39m\u001b[38;5;241m.\u001b[39mfontmode\n\u001b[1;32m    673\u001b[0m bbox \u001b[38;5;241m=\u001b[39m font\u001b[38;5;241m.\u001b[39mgetbbox(\n\u001b[1;32m    674\u001b[0m     text, mode, direction, features, language, stroke_width, anchor\n\u001b[1;32m    675\u001b[0m )\n",
      "\u001b[0;31mValueError\u001b[0m: Only supported for TrueType fonts"
     ]
    }
   ],
   "source": [
    "show_wordcloud(df.loc[df['text_sentiment']==\"Negative\", 'Content'], title = 'Prevalent words in Text with Negative sentiment', mask=None)"
   ]
  },
  {
   "cell_type": "code",
   "execution_count": 129,
   "id": "88a0fcf3",
   "metadata": {
    "execution": {
     "iopub.execute_input": "2023-02-25T09:17:03.094712Z",
     "iopub.status.busy": "2023-02-25T09:17:03.093839Z",
     "iopub.status.idle": "2023-02-25T09:17:06.996049Z",
     "shell.execute_reply": "2023-02-25T09:17:06.994913Z"
    },
    "papermill": {
     "duration": 3.9947,
     "end_time": "2023-02-25T09:17:07.004889",
     "exception": false,
     "start_time": "2023-02-25T09:17:03.010189",
     "status": "completed"
    },
    "tags": []
   },
   "outputs": [
    {
     "ename": "KeyError",
     "evalue": "'Text'",
     "output_type": "error",
     "traceback": [
      "\u001b[0;31m---------------------------------------------------------------------------\u001b[0m",
      "\u001b[0;31mKeyError\u001b[0m                                  Traceback (most recent call last)",
      "File \u001b[0;32m/Applications/anaconda3/lib/python3.9/site-packages/pandas/core/indexes/base.py:3621\u001b[0m, in \u001b[0;36mIndex.get_loc\u001b[0;34m(self, key, method, tolerance)\u001b[0m\n\u001b[1;32m   3620\u001b[0m \u001b[38;5;28;01mtry\u001b[39;00m:\n\u001b[0;32m-> 3621\u001b[0m     \u001b[38;5;28;01mreturn\u001b[39;00m \u001b[38;5;28;43mself\u001b[39;49m\u001b[38;5;241;43m.\u001b[39;49m\u001b[43m_engine\u001b[49m\u001b[38;5;241;43m.\u001b[39;49m\u001b[43mget_loc\u001b[49m\u001b[43m(\u001b[49m\u001b[43mcasted_key\u001b[49m\u001b[43m)\u001b[49m\n\u001b[1;32m   3622\u001b[0m \u001b[38;5;28;01mexcept\u001b[39;00m \u001b[38;5;167;01mKeyError\u001b[39;00m \u001b[38;5;28;01mas\u001b[39;00m err:\n",
      "File \u001b[0;32m/Applications/anaconda3/lib/python3.9/site-packages/pandas/_libs/index.pyx:136\u001b[0m, in \u001b[0;36mpandas._libs.index.IndexEngine.get_loc\u001b[0;34m()\u001b[0m\n",
      "File \u001b[0;32m/Applications/anaconda3/lib/python3.9/site-packages/pandas/_libs/index.pyx:163\u001b[0m, in \u001b[0;36mpandas._libs.index.IndexEngine.get_loc\u001b[0;34m()\u001b[0m\n",
      "File \u001b[0;32mpandas/_libs/hashtable_class_helper.pxi:5198\u001b[0m, in \u001b[0;36mpandas._libs.hashtable.PyObjectHashTable.get_item\u001b[0;34m()\u001b[0m\n",
      "File \u001b[0;32mpandas/_libs/hashtable_class_helper.pxi:5206\u001b[0m, in \u001b[0;36mpandas._libs.hashtable.PyObjectHashTable.get_item\u001b[0;34m()\u001b[0m\n",
      "\u001b[0;31mKeyError\u001b[0m: 'Text'",
      "\nThe above exception was the direct cause of the following exception:\n",
      "\u001b[0;31mKeyError\u001b[0m                                  Traceback (most recent call last)",
      "Input \u001b[0;32mIn [129]\u001b[0m, in \u001b[0;36m<cell line: 1>\u001b[0;34m()\u001b[0m\n\u001b[0;32m----> 1\u001b[0m show_wordcloud(\u001b[43mdf\u001b[49m\u001b[38;5;241;43m.\u001b[39;49m\u001b[43mloc\u001b[49m\u001b[43m[\u001b[49m\u001b[43mdf\u001b[49m\u001b[43m[\u001b[49m\u001b[38;5;124;43m'\u001b[39;49m\u001b[38;5;124;43mtext_sentiment\u001b[39;49m\u001b[38;5;124;43m'\u001b[39;49m\u001b[43m]\u001b[49m\u001b[38;5;241;43m==\u001b[39;49m\u001b[38;5;124;43m\"\u001b[39;49m\u001b[38;5;124;43mNeutral\u001b[39;49m\u001b[38;5;124;43m\"\u001b[39;49m\u001b[43m,\u001b[49m\u001b[43m \u001b[49m\u001b[38;5;124;43m'\u001b[39;49m\u001b[38;5;124;43mText\u001b[39;49m\u001b[38;5;124;43m'\u001b[39;49m\u001b[43m]\u001b[49m, title \u001b[38;5;241m=\u001b[39m \u001b[38;5;124m'\u001b[39m\u001b[38;5;124mPrevalent words in Text with Neutral sentiment\u001b[39m\u001b[38;5;124m'\u001b[39m, mask\u001b[38;5;241m=\u001b[39m\u001b[38;5;28;01mNone\u001b[39;00m)\n",
      "File \u001b[0;32m/Applications/anaconda3/lib/python3.9/site-packages/pandas/core/indexing.py:961\u001b[0m, in \u001b[0;36m_LocationIndexer.__getitem__\u001b[0;34m(self, key)\u001b[0m\n\u001b[1;32m    959\u001b[0m     \u001b[38;5;28;01mif\u001b[39;00m \u001b[38;5;28mself\u001b[39m\u001b[38;5;241m.\u001b[39m_is_scalar_access(key):\n\u001b[1;32m    960\u001b[0m         \u001b[38;5;28;01mreturn\u001b[39;00m \u001b[38;5;28mself\u001b[39m\u001b[38;5;241m.\u001b[39mobj\u001b[38;5;241m.\u001b[39m_get_value(\u001b[38;5;241m*\u001b[39mkey, takeable\u001b[38;5;241m=\u001b[39m\u001b[38;5;28mself\u001b[39m\u001b[38;5;241m.\u001b[39m_takeable)\n\u001b[0;32m--> 961\u001b[0m     \u001b[38;5;28;01mreturn\u001b[39;00m \u001b[38;5;28;43mself\u001b[39;49m\u001b[38;5;241;43m.\u001b[39;49m\u001b[43m_getitem_tuple\u001b[49m\u001b[43m(\u001b[49m\u001b[43mkey\u001b[49m\u001b[43m)\u001b[49m\n\u001b[1;32m    962\u001b[0m \u001b[38;5;28;01melse\u001b[39;00m:\n\u001b[1;32m    963\u001b[0m     \u001b[38;5;66;03m# we by definition only have the 0th axis\u001b[39;00m\n\u001b[1;32m    964\u001b[0m     axis \u001b[38;5;241m=\u001b[39m \u001b[38;5;28mself\u001b[39m\u001b[38;5;241m.\u001b[39maxis \u001b[38;5;129;01mor\u001b[39;00m \u001b[38;5;241m0\u001b[39m\n",
      "File \u001b[0;32m/Applications/anaconda3/lib/python3.9/site-packages/pandas/core/indexing.py:1140\u001b[0m, in \u001b[0;36m_LocIndexer._getitem_tuple\u001b[0;34m(self, tup)\u001b[0m\n\u001b[1;32m   1138\u001b[0m \u001b[38;5;28;01mwith\u001b[39;00m suppress(IndexingError):\n\u001b[1;32m   1139\u001b[0m     tup \u001b[38;5;241m=\u001b[39m \u001b[38;5;28mself\u001b[39m\u001b[38;5;241m.\u001b[39m_expand_ellipsis(tup)\n\u001b[0;32m-> 1140\u001b[0m     \u001b[38;5;28;01mreturn\u001b[39;00m \u001b[38;5;28;43mself\u001b[39;49m\u001b[38;5;241;43m.\u001b[39;49m\u001b[43m_getitem_lowerdim\u001b[49m\u001b[43m(\u001b[49m\u001b[43mtup\u001b[49m\u001b[43m)\u001b[49m\n\u001b[1;32m   1142\u001b[0m \u001b[38;5;66;03m# no multi-index, so validate all of the indexers\u001b[39;00m\n\u001b[1;32m   1143\u001b[0m tup \u001b[38;5;241m=\u001b[39m \u001b[38;5;28mself\u001b[39m\u001b[38;5;241m.\u001b[39m_validate_tuple_indexer(tup)\n",
      "File \u001b[0;32m/Applications/anaconda3/lib/python3.9/site-packages/pandas/core/indexing.py:867\u001b[0m, in \u001b[0;36m_LocationIndexer._getitem_lowerdim\u001b[0;34m(self, tup)\u001b[0m\n\u001b[1;32m    863\u001b[0m \u001b[38;5;28;01mfor\u001b[39;00m i, key \u001b[38;5;129;01min\u001b[39;00m \u001b[38;5;28menumerate\u001b[39m(tup):\n\u001b[1;32m    864\u001b[0m     \u001b[38;5;28;01mif\u001b[39;00m is_label_like(key):\n\u001b[1;32m    865\u001b[0m         \u001b[38;5;66;03m# We don't need to check for tuples here because those are\u001b[39;00m\n\u001b[1;32m    866\u001b[0m         \u001b[38;5;66;03m#  caught by the _is_nested_tuple_indexer check above.\u001b[39;00m\n\u001b[0;32m--> 867\u001b[0m         section \u001b[38;5;241m=\u001b[39m \u001b[38;5;28;43mself\u001b[39;49m\u001b[38;5;241;43m.\u001b[39;49m\u001b[43m_getitem_axis\u001b[49m\u001b[43m(\u001b[49m\u001b[43mkey\u001b[49m\u001b[43m,\u001b[49m\u001b[43m \u001b[49m\u001b[43maxis\u001b[49m\u001b[38;5;241;43m=\u001b[39;49m\u001b[43mi\u001b[49m\u001b[43m)\u001b[49m\n\u001b[1;32m    869\u001b[0m         \u001b[38;5;66;03m# We should never have a scalar section here, because\u001b[39;00m\n\u001b[1;32m    870\u001b[0m         \u001b[38;5;66;03m#  _getitem_lowerdim is only called after a check for\u001b[39;00m\n\u001b[1;32m    871\u001b[0m         \u001b[38;5;66;03m#  is_scalar_access, which that would be.\u001b[39;00m\n\u001b[1;32m    872\u001b[0m         \u001b[38;5;28;01mif\u001b[39;00m section\u001b[38;5;241m.\u001b[39mndim \u001b[38;5;241m==\u001b[39m \u001b[38;5;28mself\u001b[39m\u001b[38;5;241m.\u001b[39mndim:\n\u001b[1;32m    873\u001b[0m             \u001b[38;5;66;03m# we're in the middle of slicing through a MultiIndex\u001b[39;00m\n\u001b[1;32m    874\u001b[0m             \u001b[38;5;66;03m# revise the key wrt to `section` by inserting an _NS\u001b[39;00m\n",
      "File \u001b[0;32m/Applications/anaconda3/lib/python3.9/site-packages/pandas/core/indexing.py:1202\u001b[0m, in \u001b[0;36m_LocIndexer._getitem_axis\u001b[0;34m(self, key, axis)\u001b[0m\n\u001b[1;32m   1200\u001b[0m \u001b[38;5;66;03m# fall thru to straight lookup\u001b[39;00m\n\u001b[1;32m   1201\u001b[0m \u001b[38;5;28mself\u001b[39m\u001b[38;5;241m.\u001b[39m_validate_key(key, axis)\n\u001b[0;32m-> 1202\u001b[0m \u001b[38;5;28;01mreturn\u001b[39;00m \u001b[38;5;28;43mself\u001b[39;49m\u001b[38;5;241;43m.\u001b[39;49m\u001b[43m_get_label\u001b[49m\u001b[43m(\u001b[49m\u001b[43mkey\u001b[49m\u001b[43m,\u001b[49m\u001b[43m \u001b[49m\u001b[43maxis\u001b[49m\u001b[38;5;241;43m=\u001b[39;49m\u001b[43maxis\u001b[49m\u001b[43m)\u001b[49m\n",
      "File \u001b[0;32m/Applications/anaconda3/lib/python3.9/site-packages/pandas/core/indexing.py:1153\u001b[0m, in \u001b[0;36m_LocIndexer._get_label\u001b[0;34m(self, label, axis)\u001b[0m\n\u001b[1;32m   1151\u001b[0m \u001b[38;5;28;01mdef\u001b[39;00m \u001b[38;5;21m_get_label\u001b[39m(\u001b[38;5;28mself\u001b[39m, label, axis: \u001b[38;5;28mint\u001b[39m):\n\u001b[1;32m   1152\u001b[0m     \u001b[38;5;66;03m# GH#5667 this will fail if the label is not present in the axis.\u001b[39;00m\n\u001b[0;32m-> 1153\u001b[0m     \u001b[38;5;28;01mreturn\u001b[39;00m \u001b[38;5;28;43mself\u001b[39;49m\u001b[38;5;241;43m.\u001b[39;49m\u001b[43mobj\u001b[49m\u001b[38;5;241;43m.\u001b[39;49m\u001b[43mxs\u001b[49m\u001b[43m(\u001b[49m\u001b[43mlabel\u001b[49m\u001b[43m,\u001b[49m\u001b[43m \u001b[49m\u001b[43maxis\u001b[49m\u001b[38;5;241;43m=\u001b[39;49m\u001b[43maxis\u001b[49m\u001b[43m)\u001b[49m\n",
      "File \u001b[0;32m/Applications/anaconda3/lib/python3.9/site-packages/pandas/core/generic.py:3849\u001b[0m, in \u001b[0;36mNDFrame.xs\u001b[0;34m(self, key, axis, level, drop_level)\u001b[0m\n\u001b[1;32m   3847\u001b[0m \u001b[38;5;28;01mif\u001b[39;00m axis \u001b[38;5;241m==\u001b[39m \u001b[38;5;241m1\u001b[39m:\n\u001b[1;32m   3848\u001b[0m     \u001b[38;5;28;01mif\u001b[39;00m drop_level:\n\u001b[0;32m-> 3849\u001b[0m         \u001b[38;5;28;01mreturn\u001b[39;00m \u001b[38;5;28;43mself\u001b[39;49m\u001b[43m[\u001b[49m\u001b[43mkey\u001b[49m\u001b[43m]\u001b[49m\n\u001b[1;32m   3850\u001b[0m     index \u001b[38;5;241m=\u001b[39m \u001b[38;5;28mself\u001b[39m\u001b[38;5;241m.\u001b[39mcolumns\n\u001b[1;32m   3851\u001b[0m \u001b[38;5;28;01melse\u001b[39;00m:\n",
      "File \u001b[0;32m/Applications/anaconda3/lib/python3.9/site-packages/pandas/core/frame.py:3505\u001b[0m, in \u001b[0;36mDataFrame.__getitem__\u001b[0;34m(self, key)\u001b[0m\n\u001b[1;32m   3503\u001b[0m \u001b[38;5;28;01mif\u001b[39;00m \u001b[38;5;28mself\u001b[39m\u001b[38;5;241m.\u001b[39mcolumns\u001b[38;5;241m.\u001b[39mnlevels \u001b[38;5;241m>\u001b[39m \u001b[38;5;241m1\u001b[39m:\n\u001b[1;32m   3504\u001b[0m     \u001b[38;5;28;01mreturn\u001b[39;00m \u001b[38;5;28mself\u001b[39m\u001b[38;5;241m.\u001b[39m_getitem_multilevel(key)\n\u001b[0;32m-> 3505\u001b[0m indexer \u001b[38;5;241m=\u001b[39m \u001b[38;5;28;43mself\u001b[39;49m\u001b[38;5;241;43m.\u001b[39;49m\u001b[43mcolumns\u001b[49m\u001b[38;5;241;43m.\u001b[39;49m\u001b[43mget_loc\u001b[49m\u001b[43m(\u001b[49m\u001b[43mkey\u001b[49m\u001b[43m)\u001b[49m\n\u001b[1;32m   3506\u001b[0m \u001b[38;5;28;01mif\u001b[39;00m is_integer(indexer):\n\u001b[1;32m   3507\u001b[0m     indexer \u001b[38;5;241m=\u001b[39m [indexer]\n",
      "File \u001b[0;32m/Applications/anaconda3/lib/python3.9/site-packages/pandas/core/indexes/base.py:3623\u001b[0m, in \u001b[0;36mIndex.get_loc\u001b[0;34m(self, key, method, tolerance)\u001b[0m\n\u001b[1;32m   3621\u001b[0m     \u001b[38;5;28;01mreturn\u001b[39;00m \u001b[38;5;28mself\u001b[39m\u001b[38;5;241m.\u001b[39m_engine\u001b[38;5;241m.\u001b[39mget_loc(casted_key)\n\u001b[1;32m   3622\u001b[0m \u001b[38;5;28;01mexcept\u001b[39;00m \u001b[38;5;167;01mKeyError\u001b[39;00m \u001b[38;5;28;01mas\u001b[39;00m err:\n\u001b[0;32m-> 3623\u001b[0m     \u001b[38;5;28;01mraise\u001b[39;00m \u001b[38;5;167;01mKeyError\u001b[39;00m(key) \u001b[38;5;28;01mfrom\u001b[39;00m \u001b[38;5;21;01merr\u001b[39;00m\n\u001b[1;32m   3624\u001b[0m \u001b[38;5;28;01mexcept\u001b[39;00m \u001b[38;5;167;01mTypeError\u001b[39;00m:\n\u001b[1;32m   3625\u001b[0m     \u001b[38;5;66;03m# If we have a listlike key, _check_indexing_error will raise\u001b[39;00m\n\u001b[1;32m   3626\u001b[0m     \u001b[38;5;66;03m#  InvalidIndexError. Otherwise we fall through and re-raise\u001b[39;00m\n\u001b[1;32m   3627\u001b[0m     \u001b[38;5;66;03m#  the TypeError.\u001b[39;00m\n\u001b[1;32m   3628\u001b[0m     \u001b[38;5;28mself\u001b[39m\u001b[38;5;241m.\u001b[39m_check_indexing_error(key)\n",
      "\u001b[0;31mKeyError\u001b[0m: 'Text'"
     ]
    }
   ],
   "source": [
    "show_wordcloud(df.loc[df['text_sentiment']==\"Neutral\", 'Text'], title = 'Prevalent words in Text with Neutral sentiment', mask=None)"
   ]
  },
  {
   "cell_type": "code",
   "execution_count": null,
   "id": "e7ab7e3d",
   "metadata": {},
   "outputs": [],
   "source": []
  }
 ],
 "metadata": {
  "kernelspec": {
   "display_name": "Python 3 (ipykernel)",
   "language": "python",
   "name": "python3"
  },
  "language_info": {
   "codemirror_mode": {
    "name": "ipython",
    "version": 3
   },
   "file_extension": ".py",
   "mimetype": "text/x-python",
   "name": "python",
   "nbconvert_exporter": "python",
   "pygments_lexer": "ipython3",
   "version": "3.9.12"
  },
  "papermill": {
   "default_parameters": {},
   "duration": 67.997491,
   "end_time": "2023-02-25T09:17:08.023095",
   "environment_variables": {},
   "exception": null,
   "input_path": "__notebook__.ipynb",
   "output_path": "__notebook__.ipynb",
   "parameters": {},
   "start_time": "2023-02-25T09:16:00.025604",
   "version": "2.4.0"
  }
 },
 "nbformat": 4,
 "nbformat_minor": 5
}
