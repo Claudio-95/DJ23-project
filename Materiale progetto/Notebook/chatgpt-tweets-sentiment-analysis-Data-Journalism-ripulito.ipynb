{
 "cells": [
  {
   "cell_type": "code",
   "execution_count": 1,
   "id": "2dc1bc95",
   "metadata": {
    "_cell_guid": "b1076dfc-b9ad-4769-8c92-a6c4dae69d19",
    "_uuid": "8f2839f25d086af736a60e9eeb907d3b93b6e0e5",
    "execution": {
     "iopub.execute_input": "2023-02-25T09:16:10.289413Z",
     "iopub.status.busy": "2023-02-25T09:16:10.288547Z",
     "iopub.status.idle": "2023-02-25T09:16:10.310005Z",
     "shell.execute_reply": "2023-02-25T09:16:10.308593Z"
    },
    "papermill": {
     "duration": 0.04421,
     "end_time": "2023-02-25T09:16:10.313473",
     "exception": false,
     "start_time": "2023-02-25T09:16:10.269263",
     "status": "completed"
    },
    "tags": []
   },
   "outputs": [],
   "source": [
    "# This Python 3 environment comes with many helpful analytics libraries installed\n",
    "# It is defined by the kaggle/python Docker image: https://github.com/kaggle/docker-python\n",
    "# For example, here's several helpful packages to load\n",
    "\n",
    "import numpy as np # linear algebra\n",
    "import pandas as pd # data processing, CSV file I/O (e.g. pd.read_csv)\n",
    "\n",
    "# Input data files are available in the read-only \"../input/\" directory\n",
    "# For example, running this (by clicking run or pressing Shift+Enter) will list all files under the input directory\n",
    "\n",
    "import os\n",
    "for dirname, _, filenames in os.walk('/kaggle/input'):\n",
    "    for filename in filenames:\n",
    "        print(os.path.join(dirname, filename))\n",
    "\n",
    "# You can write up to 20GB to the current directory (/kaggle/working/) that gets preserved as output when you create a version using \"Save & Run All\" \n",
    "# You can also write temporary files to /kaggle/temp/, but they won't be saved outside of the current session"
   ]
  },
  {
   "cell_type": "code",
   "execution_count": 2,
   "id": "569b94ab",
   "metadata": {
    "execution": {
     "iopub.execute_input": "2023-02-25T09:16:10.350278Z",
     "iopub.status.busy": "2023-02-25T09:16:10.349589Z",
     "iopub.status.idle": "2023-02-25T09:16:11.518345Z",
     "shell.execute_reply": "2023-02-25T09:16:11.517032Z"
    },
    "papermill": {
     "duration": 1.190364,
     "end_time": "2023-02-25T09:16:11.521118",
     "exception": false,
     "start_time": "2023-02-25T09:16:10.330754",
     "status": "completed"
    },
    "tags": []
   },
   "outputs": [
    {
     "data": {
      "text/html": [
       "<div>\n",
       "<style scoped>\n",
       "    .dataframe tbody tr th:only-of-type {\n",
       "        vertical-align: middle;\n",
       "    }\n",
       "\n",
       "    .dataframe tbody tr th {\n",
       "        vertical-align: top;\n",
       "    }\n",
       "\n",
       "    .dataframe thead th {\n",
       "        text-align: right;\n",
       "    }\n",
       "</style>\n",
       "<table border=\"1\" class=\"dataframe\">\n",
       "  <thead>\n",
       "    <tr style=\"text-align: right;\">\n",
       "      <th></th>\n",
       "      <th>Unnamed: 0.1</th>\n",
       "      <th>Unnamed: 0</th>\n",
       "      <th>date</th>\n",
       "      <th>id</th>\n",
       "      <th>tweetText</th>\n",
       "      <th>user</th>\n",
       "      <th>likeCount</th>\n",
       "      <th>lang</th>\n",
       "      <th>replies</th>\n",
       "      <th>mentions</th>\n",
       "      <th>outlinks</th>\n",
       "    </tr>\n",
       "  </thead>\n",
       "  <tbody>\n",
       "    <tr>\n",
       "      <th>0</th>\n",
       "      <td>0</td>\n",
       "      <td>0</td>\n",
       "      <td>17-05-2023</td>\n",
       "      <td>1658980398242713603</td>\n",
       "      <td>@SibillaDavid Infatti ChatGPT ogni tanto si la...</td>\n",
       "      <td>katiadiluna16</td>\n",
       "      <td>1</td>\n",
       "      <td>it</td>\n",
       "      <td>1</td>\n",
       "      <td>[User(username='SibillaDavid', id=159558223479...</td>\n",
       "      <td>[]</td>\n",
       "    </tr>\n",
       "    <tr>\n",
       "      <th>1</th>\n",
       "      <td>1</td>\n",
       "      <td>1</td>\n",
       "      <td>17-05-2023</td>\n",
       "      <td>1658978881783701504</td>\n",
       "      <td>@katiadiluna16 Sono peggio di ChatGPT</td>\n",
       "      <td>SibillaDavid</td>\n",
       "      <td>1</td>\n",
       "      <td>it</td>\n",
       "      <td>1</td>\n",
       "      <td>[User(username='katiadiluna16', id=3669961223,...</td>\n",
       "      <td>[]</td>\n",
       "    </tr>\n",
       "    <tr>\n",
       "      <th>2</th>\n",
       "      <td>2</td>\n",
       "      <td>2</td>\n",
       "      <td>17-05-2023</td>\n",
       "      <td>1658976280086233089</td>\n",
       "      <td>@northern_mr Oggi basta chiederlo a Chatgpt e ...</td>\n",
       "      <td>katiadiluna16</td>\n",
       "      <td>1</td>\n",
       "      <td>it</td>\n",
       "      <td>1</td>\n",
       "      <td>[User(username='northern_mr', id=1485114886808...</td>\n",
       "      <td>[]</td>\n",
       "    </tr>\n",
       "    <tr>\n",
       "      <th>3</th>\n",
       "      <td>3</td>\n",
       "      <td>3</td>\n",
       "      <td>17-05-2023</td>\n",
       "      <td>1658959657912729602</td>\n",
       "      <td>Grazie per la tua iscrizione a #AI &amp;amp; #Chat...</td>\n",
       "      <td>bruniverso</td>\n",
       "      <td>0</td>\n",
       "      <td>it</td>\n",
       "      <td>1</td>\n",
       "      <td>[User(username='flavia_marzano', id=14145846, ...</td>\n",
       "      <td>['http://cdti.org/ai-chatgpt-tra-innovazione-e...</td>\n",
       "    </tr>\n",
       "    <tr>\n",
       "      <th>4</th>\n",
       "      <td>4</td>\n",
       "      <td>4</td>\n",
       "      <td>17-05-2023</td>\n",
       "      <td>1658958570040205313</td>\n",
       "      <td>L'intelligenza artificiale può causare danni s...</td>\n",
       "      <td>Amorne_1979</td>\n",
       "      <td>0</td>\n",
       "      <td>it</td>\n",
       "      <td>1</td>\n",
       "      <td>NaN</td>\n",
       "      <td>['https://ift.tt/V7mbhcA']</td>\n",
       "    </tr>\n",
       "  </tbody>\n",
       "</table>\n",
       "</div>"
      ],
      "text/plain": [
       "   Unnamed: 0.1  Unnamed: 0        date                   id  \\\n",
       "0             0           0  17-05-2023  1658980398242713603   \n",
       "1             1           1  17-05-2023  1658978881783701504   \n",
       "2             2           2  17-05-2023  1658976280086233089   \n",
       "3             3           3  17-05-2023  1658959657912729602   \n",
       "4             4           4  17-05-2023  1658958570040205313   \n",
       "\n",
       "                                           tweetText           user  \\\n",
       "0  @SibillaDavid Infatti ChatGPT ogni tanto si la...  katiadiluna16   \n",
       "1              @katiadiluna16 Sono peggio di ChatGPT   SibillaDavid   \n",
       "2  @northern_mr Oggi basta chiederlo a Chatgpt e ...  katiadiluna16   \n",
       "3  Grazie per la tua iscrizione a #AI &amp; #Chat...     bruniverso   \n",
       "4  L'intelligenza artificiale può causare danni s...    Amorne_1979   \n",
       "\n",
       "   likeCount lang  replies                                           mentions  \\\n",
       "0          1   it        1  [User(username='SibillaDavid', id=159558223479...   \n",
       "1          1   it        1  [User(username='katiadiluna16', id=3669961223,...   \n",
       "2          1   it        1  [User(username='northern_mr', id=1485114886808...   \n",
       "3          0   it        1  [User(username='flavia_marzano', id=14145846, ...   \n",
       "4          0   it        1                                                NaN   \n",
       "\n",
       "                                            outlinks  \n",
       "0                                                 []  \n",
       "1                                                 []  \n",
       "2                                                 []  \n",
       "3  ['http://cdti.org/ai-chatgpt-tra-innovazione-e...  \n",
       "4                         ['https://ift.tt/V7mbhcA']  "
      ]
     },
     "execution_count": 2,
     "metadata": {},
     "output_type": "execute_result"
    }
   ],
   "source": [
    "import pandas as pd\n",
    "\n",
    "df = pd.read_csv(\"dataset_italianoEinglese_martina.csv\")\n",
    "df.head(5)"
   ]
  },
  {
   "cell_type": "code",
   "execution_count": 3,
   "id": "a1d3716f",
   "metadata": {
    "execution": {
     "iopub.execute_input": "2023-02-25T09:16:11.556445Z",
     "iopub.status.busy": "2023-02-25T09:16:11.556037Z",
     "iopub.status.idle": "2023-02-25T09:16:11.594365Z",
     "shell.execute_reply": "2023-02-25T09:16:11.592978Z"
    },
    "papermill": {
     "duration": 0.060063,
     "end_time": "2023-02-25T09:16:11.597099",
     "exception": false,
     "start_time": "2023-02-25T09:16:11.537036",
     "status": "completed"
    },
    "tags": []
   },
   "outputs": [
    {
     "data": {
      "text/html": [
       "<div>\n",
       "<style scoped>\n",
       "    .dataframe tbody tr th:only-of-type {\n",
       "        vertical-align: middle;\n",
       "    }\n",
       "\n",
       "    .dataframe tbody tr th {\n",
       "        vertical-align: top;\n",
       "    }\n",
       "\n",
       "    .dataframe thead th {\n",
       "        text-align: right;\n",
       "    }\n",
       "</style>\n",
       "<table border=\"1\" class=\"dataframe\">\n",
       "  <thead>\n",
       "    <tr style=\"text-align: right;\">\n",
       "      <th></th>\n",
       "      <th>Unnamed: 0.1</th>\n",
       "      <th>Unnamed: 0</th>\n",
       "      <th>date</th>\n",
       "      <th>id</th>\n",
       "      <th>tweetText</th>\n",
       "      <th>user</th>\n",
       "      <th>likeCount</th>\n",
       "      <th>lang</th>\n",
       "      <th>replies</th>\n",
       "      <th>mentions</th>\n",
       "      <th>outlinks</th>\n",
       "    </tr>\n",
       "  </thead>\n",
       "  <tbody>\n",
       "    <tr>\n",
       "      <th>943</th>\n",
       "      <td>943</td>\n",
       "      <td>0</td>\n",
       "      <td>29-04-2023</td>\n",
       "      <td>1652462748792672257</td>\n",
       "      <td>Some of the best #AI writing assistants in 202...</td>\n",
       "      <td>farahsays01</td>\n",
       "      <td>1</td>\n",
       "      <td>en</td>\n",
       "      <td>1</td>\n",
       "      <td>[User(username='OpenAI', id=4398626122, displa...</td>\n",
       "      <td>[]</td>\n",
       "    </tr>\n",
       "    <tr>\n",
       "      <th>944</th>\n",
       "      <td>944</td>\n",
       "      <td>1</td>\n",
       "      <td>29-04-2023</td>\n",
       "      <td>1652462745772597249</td>\n",
       "      <td>#RT @phocuswire: In an interview with PhocusWi...</td>\n",
       "      <td>CravenTravels</td>\n",
       "      <td>0</td>\n",
       "      <td>en</td>\n",
       "      <td>0</td>\n",
       "      <td>[User(username='phocuswire', id=109269437, dis...</td>\n",
       "      <td>['https://bit.ly/3LtSQlB']</td>\n",
       "    </tr>\n",
       "    <tr>\n",
       "      <th>945</th>\n",
       "      <td>945</td>\n",
       "      <td>2</td>\n",
       "      <td>29-04-2023</td>\n",
       "      <td>1652462718920654883</td>\n",
       "      <td>@skepoet and I discuss the internet, ChatGPT a...</td>\n",
       "      <td>ViewsParallax</td>\n",
       "      <td>4</td>\n",
       "      <td>en</td>\n",
       "      <td>0</td>\n",
       "      <td>[User(username='skepoet', id=401715612, displa...</td>\n",
       "      <td>['https://www.patreon.com/posts/parallax-vlog-...</td>\n",
       "    </tr>\n",
       "    <tr>\n",
       "      <th>946</th>\n",
       "      <td>946</td>\n",
       "      <td>3</td>\n",
       "      <td>29-04-2023</td>\n",
       "      <td>1652462702219132928</td>\n",
       "      <td>The latest in #AI news.\\n\\nThey don’t want to ...</td>\n",
       "      <td>WhizPill</td>\n",
       "      <td>2</td>\n",
       "      <td>en</td>\n",
       "      <td>1</td>\n",
       "      <td>[User(username='OpenAI', id=4398626122, displa...</td>\n",
       "      <td>[]</td>\n",
       "    </tr>\n",
       "    <tr>\n",
       "      <th>947</th>\n",
       "      <td>947</td>\n",
       "      <td>4</td>\n",
       "      <td>29-04-2023</td>\n",
       "      <td>1652462667003568129</td>\n",
       "      <td>@Lyle_AI Well said, its those of us on the fro...</td>\n",
       "      <td>Luc_AI_Insights</td>\n",
       "      <td>0</td>\n",
       "      <td>en</td>\n",
       "      <td>0</td>\n",
       "      <td>[User(username='Lyle_AI', id=165422263, displa...</td>\n",
       "      <td>[]</td>\n",
       "    </tr>\n",
       "    <tr>\n",
       "      <th>...</th>\n",
       "      <td>...</td>\n",
       "      <td>...</td>\n",
       "      <td>...</td>\n",
       "      <td>...</td>\n",
       "      <td>...</td>\n",
       "      <td>...</td>\n",
       "      <td>...</td>\n",
       "      <td>...</td>\n",
       "      <td>...</td>\n",
       "      <td>...</td>\n",
       "      <td>...</td>\n",
       "    </tr>\n",
       "    <tr>\n",
       "      <th>26999</th>\n",
       "      <td>26999</td>\n",
       "      <td>9996</td>\n",
       "      <td>29-05-2023</td>\n",
       "      <td>1663049685324398593</td>\n",
       "      <td>idk abt u guys but im telling chatgpt thank yo...</td>\n",
       "      <td>gooddaymp3</td>\n",
       "      <td>2</td>\n",
       "      <td>en</td>\n",
       "      <td>1</td>\n",
       "      <td>NaN</td>\n",
       "      <td>[]</td>\n",
       "    </tr>\n",
       "    <tr>\n",
       "      <th>27000</th>\n",
       "      <td>27000</td>\n",
       "      <td>9997</td>\n",
       "      <td>29-05-2023</td>\n",
       "      <td>1663049619763499010</td>\n",
       "      <td>@BeastOfGoyim It already has when i tried it o...</td>\n",
       "      <td>asheuriii</td>\n",
       "      <td>0</td>\n",
       "      <td>en</td>\n",
       "      <td>1</td>\n",
       "      <td>[User(username='BeastOfGoyim', id=145786421175...</td>\n",
       "      <td>[]</td>\n",
       "    </tr>\n",
       "    <tr>\n",
       "      <th>27001</th>\n",
       "      <td>27001</td>\n",
       "      <td>9998</td>\n",
       "      <td>29-05-2023</td>\n",
       "      <td>1663049602851807232</td>\n",
       "      <td>@ivy_wylder @ask_aubry I’ve been looking for s...</td>\n",
       "      <td>dan_dd</td>\n",
       "      <td>6</td>\n",
       "      <td>en</td>\n",
       "      <td>0</td>\n",
       "      <td>[User(username='ivy_wylder', id=12147283985404...</td>\n",
       "      <td>[]</td>\n",
       "    </tr>\n",
       "    <tr>\n",
       "      <th>27002</th>\n",
       "      <td>27002</td>\n",
       "      <td>9999</td>\n",
       "      <td>29-05-2023</td>\n",
       "      <td>1663049444613410816</td>\n",
       "      <td>Is someone gonna remake Facade with ChatGPT?</td>\n",
       "      <td>PwnySlaystation</td>\n",
       "      <td>1</td>\n",
       "      <td>en</td>\n",
       "      <td>0</td>\n",
       "      <td>NaN</td>\n",
       "      <td>[]</td>\n",
       "    </tr>\n",
       "    <tr>\n",
       "      <th>27003</th>\n",
       "      <td>27003</td>\n",
       "      <td>10000</td>\n",
       "      <td>29-05-2023</td>\n",
       "      <td>1663049350560514050</td>\n",
       "      <td>@shotgun2thehead chatgpt is really good people...</td>\n",
       "      <td>teengoatmance</td>\n",
       "      <td>1</td>\n",
       "      <td>en</td>\n",
       "      <td>1</td>\n",
       "      <td>[User(username='shotgun2thehead', id=257651288...</td>\n",
       "      <td>[]</td>\n",
       "    </tr>\n",
       "  </tbody>\n",
       "</table>\n",
       "<p>24964 rows × 11 columns</p>\n",
       "</div>"
      ],
      "text/plain": [
       "       Unnamed: 0.1  Unnamed: 0        date                   id  \\\n",
       "943             943           0  29-04-2023  1652462748792672257   \n",
       "944             944           1  29-04-2023  1652462745772597249   \n",
       "945             945           2  29-04-2023  1652462718920654883   \n",
       "946             946           3  29-04-2023  1652462702219132928   \n",
       "947             947           4  29-04-2023  1652462667003568129   \n",
       "...             ...         ...         ...                  ...   \n",
       "26999         26999        9996  29-05-2023  1663049685324398593   \n",
       "27000         27000        9997  29-05-2023  1663049619763499010   \n",
       "27001         27001        9998  29-05-2023  1663049602851807232   \n",
       "27002         27002        9999  29-05-2023  1663049444613410816   \n",
       "27003         27003       10000  29-05-2023  1663049350560514050   \n",
       "\n",
       "                                               tweetText             user  \\\n",
       "943    Some of the best #AI writing assistants in 202...      farahsays01   \n",
       "944    #RT @phocuswire: In an interview with PhocusWi...    CravenTravels   \n",
       "945    @skepoet and I discuss the internet, ChatGPT a...    ViewsParallax   \n",
       "946    The latest in #AI news.\\n\\nThey don’t want to ...         WhizPill   \n",
       "947    @Lyle_AI Well said, its those of us on the fro...  Luc_AI_Insights   \n",
       "...                                                  ...              ...   \n",
       "26999  idk abt u guys but im telling chatgpt thank yo...       gooddaymp3   \n",
       "27000  @BeastOfGoyim It already has when i tried it o...        asheuriii   \n",
       "27001  @ivy_wylder @ask_aubry I’ve been looking for s...           dan_dd   \n",
       "27002       Is someone gonna remake Facade with ChatGPT?  PwnySlaystation   \n",
       "27003  @shotgun2thehead chatgpt is really good people...    teengoatmance   \n",
       "\n",
       "       likeCount lang  replies  \\\n",
       "943            1   en        1   \n",
       "944            0   en        0   \n",
       "945            4   en        0   \n",
       "946            2   en        1   \n",
       "947            0   en        0   \n",
       "...          ...  ...      ...   \n",
       "26999          2   en        1   \n",
       "27000          0   en        1   \n",
       "27001          6   en        0   \n",
       "27002          1   en        0   \n",
       "27003          1   en        1   \n",
       "\n",
       "                                                mentions  \\\n",
       "943    [User(username='OpenAI', id=4398626122, displa...   \n",
       "944    [User(username='phocuswire', id=109269437, dis...   \n",
       "945    [User(username='skepoet', id=401715612, displa...   \n",
       "946    [User(username='OpenAI', id=4398626122, displa...   \n",
       "947    [User(username='Lyle_AI', id=165422263, displa...   \n",
       "...                                                  ...   \n",
       "26999                                                NaN   \n",
       "27000  [User(username='BeastOfGoyim', id=145786421175...   \n",
       "27001  [User(username='ivy_wylder', id=12147283985404...   \n",
       "27002                                                NaN   \n",
       "27003  [User(username='shotgun2thehead', id=257651288...   \n",
       "\n",
       "                                                outlinks  \n",
       "943                                                   []  \n",
       "944                           ['https://bit.ly/3LtSQlB']  \n",
       "945    ['https://www.patreon.com/posts/parallax-vlog-...  \n",
       "946                                                   []  \n",
       "947                                                   []  \n",
       "...                                                  ...  \n",
       "26999                                                 []  \n",
       "27000                                                 []  \n",
       "27001                                                 []  \n",
       "27002                                                 []  \n",
       "27003                                                 []  \n",
       "\n",
       "[24964 rows x 11 columns]"
      ]
     },
     "execution_count": 3,
     "metadata": {},
     "output_type": "execute_result"
    }
   ],
   "source": [
    "df = df[df['lang'] == 'en']\n",
    "df"
   ]
  },
  {
   "cell_type": "code",
   "execution_count": 4,
   "id": "1d657129",
   "metadata": {
    "execution": {
     "iopub.execute_input": "2023-02-25T09:16:11.632188Z",
     "iopub.status.busy": "2023-02-25T09:16:11.631775Z",
     "iopub.status.idle": "2023-02-25T09:16:11.653570Z",
     "shell.execute_reply": "2023-02-25T09:16:11.652477Z"
    },
    "papermill": {
     "duration": 0.041984,
     "end_time": "2023-02-25T09:16:11.655807",
     "exception": false,
     "start_time": "2023-02-25T09:16:11.613823",
     "status": "completed"
    },
    "tags": []
   },
   "outputs": [
    {
     "data": {
      "text/html": [
       "<div>\n",
       "<style scoped>\n",
       "    .dataframe tbody tr th:only-of-type {\n",
       "        vertical-align: middle;\n",
       "    }\n",
       "\n",
       "    .dataframe tbody tr th {\n",
       "        vertical-align: top;\n",
       "    }\n",
       "\n",
       "    .dataframe thead th {\n",
       "        text-align: right;\n",
       "    }\n",
       "</style>\n",
       "<table border=\"1\" class=\"dataframe\">\n",
       "  <thead>\n",
       "    <tr style=\"text-align: right;\">\n",
       "      <th></th>\n",
       "      <th>Unnamed: 0.1</th>\n",
       "      <th>Unnamed: 0</th>\n",
       "      <th>date</th>\n",
       "      <th>id</th>\n",
       "      <th>tweetText</th>\n",
       "      <th>user</th>\n",
       "      <th>likeCount</th>\n",
       "      <th>lang</th>\n",
       "      <th>replies</th>\n",
       "      <th>mentions</th>\n",
       "      <th>outlinks</th>\n",
       "    </tr>\n",
       "  </thead>\n",
       "  <tbody>\n",
       "    <tr>\n",
       "      <th>26999</th>\n",
       "      <td>26999</td>\n",
       "      <td>9996</td>\n",
       "      <td>29-05-2023</td>\n",
       "      <td>1663049685324398593</td>\n",
       "      <td>idk abt u guys but im telling chatgpt thank yo...</td>\n",
       "      <td>gooddaymp3</td>\n",
       "      <td>2</td>\n",
       "      <td>en</td>\n",
       "      <td>1</td>\n",
       "      <td>NaN</td>\n",
       "      <td>[]</td>\n",
       "    </tr>\n",
       "    <tr>\n",
       "      <th>27000</th>\n",
       "      <td>27000</td>\n",
       "      <td>9997</td>\n",
       "      <td>29-05-2023</td>\n",
       "      <td>1663049619763499010</td>\n",
       "      <td>@BeastOfGoyim It already has when i tried it o...</td>\n",
       "      <td>asheuriii</td>\n",
       "      <td>0</td>\n",
       "      <td>en</td>\n",
       "      <td>1</td>\n",
       "      <td>[User(username='BeastOfGoyim', id=145786421175...</td>\n",
       "      <td>[]</td>\n",
       "    </tr>\n",
       "    <tr>\n",
       "      <th>27001</th>\n",
       "      <td>27001</td>\n",
       "      <td>9998</td>\n",
       "      <td>29-05-2023</td>\n",
       "      <td>1663049602851807232</td>\n",
       "      <td>@ivy_wylder @ask_aubry I’ve been looking for s...</td>\n",
       "      <td>dan_dd</td>\n",
       "      <td>6</td>\n",
       "      <td>en</td>\n",
       "      <td>0</td>\n",
       "      <td>[User(username='ivy_wylder', id=12147283985404...</td>\n",
       "      <td>[]</td>\n",
       "    </tr>\n",
       "    <tr>\n",
       "      <th>27002</th>\n",
       "      <td>27002</td>\n",
       "      <td>9999</td>\n",
       "      <td>29-05-2023</td>\n",
       "      <td>1663049444613410816</td>\n",
       "      <td>Is someone gonna remake Facade with ChatGPT?</td>\n",
       "      <td>PwnySlaystation</td>\n",
       "      <td>1</td>\n",
       "      <td>en</td>\n",
       "      <td>0</td>\n",
       "      <td>NaN</td>\n",
       "      <td>[]</td>\n",
       "    </tr>\n",
       "    <tr>\n",
       "      <th>27003</th>\n",
       "      <td>27003</td>\n",
       "      <td>10000</td>\n",
       "      <td>29-05-2023</td>\n",
       "      <td>1663049350560514050</td>\n",
       "      <td>@shotgun2thehead chatgpt is really good people...</td>\n",
       "      <td>teengoatmance</td>\n",
       "      <td>1</td>\n",
       "      <td>en</td>\n",
       "      <td>1</td>\n",
       "      <td>[User(username='shotgun2thehead', id=257651288...</td>\n",
       "      <td>[]</td>\n",
       "    </tr>\n",
       "  </tbody>\n",
       "</table>\n",
       "</div>"
      ],
      "text/plain": [
       "       Unnamed: 0.1  Unnamed: 0        date                   id  \\\n",
       "26999         26999        9996  29-05-2023  1663049685324398593   \n",
       "27000         27000        9997  29-05-2023  1663049619763499010   \n",
       "27001         27001        9998  29-05-2023  1663049602851807232   \n",
       "27002         27002        9999  29-05-2023  1663049444613410816   \n",
       "27003         27003       10000  29-05-2023  1663049350560514050   \n",
       "\n",
       "                                               tweetText             user  \\\n",
       "26999  idk abt u guys but im telling chatgpt thank yo...       gooddaymp3   \n",
       "27000  @BeastOfGoyim It already has when i tried it o...        asheuriii   \n",
       "27001  @ivy_wylder @ask_aubry I’ve been looking for s...           dan_dd   \n",
       "27002       Is someone gonna remake Facade with ChatGPT?  PwnySlaystation   \n",
       "27003  @shotgun2thehead chatgpt is really good people...    teengoatmance   \n",
       "\n",
       "       likeCount lang  replies  \\\n",
       "26999          2   en        1   \n",
       "27000          0   en        1   \n",
       "27001          6   en        0   \n",
       "27002          1   en        0   \n",
       "27003          1   en        1   \n",
       "\n",
       "                                                mentions outlinks  \n",
       "26999                                                NaN       []  \n",
       "27000  [User(username='BeastOfGoyim', id=145786421175...       []  \n",
       "27001  [User(username='ivy_wylder', id=12147283985404...       []  \n",
       "27002                                                NaN       []  \n",
       "27003  [User(username='shotgun2thehead', id=257651288...       []  "
      ]
     },
     "execution_count": 4,
     "metadata": {},
     "output_type": "execute_result"
    }
   ],
   "source": [
    "df.tail()"
   ]
  },
  {
   "cell_type": "code",
   "execution_count": 5,
   "id": "c1bea8c0",
   "metadata": {
    "execution": {
     "iopub.execute_input": "2023-02-25T09:16:11.692076Z",
     "iopub.status.busy": "2023-02-25T09:16:11.691239Z",
     "iopub.status.idle": "2023-02-25T09:16:11.697256Z",
     "shell.execute_reply": "2023-02-25T09:16:11.696436Z"
    },
    "papermill": {
     "duration": 0.026547,
     "end_time": "2023-02-25T09:16:11.699340",
     "exception": false,
     "start_time": "2023-02-25T09:16:11.672793",
     "status": "completed"
    },
    "tags": []
   },
   "outputs": [
    {
     "data": {
      "text/plain": [
       "(24964, 11)"
      ]
     },
     "execution_count": 5,
     "metadata": {},
     "output_type": "execute_result"
    }
   ],
   "source": [
    "df.shape"
   ]
  },
  {
   "cell_type": "code",
   "execution_count": 6,
   "id": "4ef1f37e",
   "metadata": {
    "execution": {
     "iopub.execute_input": "2023-02-25T09:16:11.735466Z",
     "iopub.status.busy": "2023-02-25T09:16:11.735022Z",
     "iopub.status.idle": "2023-02-25T09:16:11.742561Z",
     "shell.execute_reply": "2023-02-25T09:16:11.741465Z"
    },
    "papermill": {
     "duration": 0.028428,
     "end_time": "2023-02-25T09:16:11.744863",
     "exception": false,
     "start_time": "2023-02-25T09:16:11.716435",
     "status": "completed"
    },
    "tags": []
   },
   "outputs": [
    {
     "data": {
      "text/plain": [
       "Index(['Unnamed: 0.1', 'Unnamed: 0', 'date', 'id', 'tweetText', 'user',\n",
       "       'likeCount', 'lang', 'replies', 'mentions', 'outlinks'],\n",
       "      dtype='object')"
      ]
     },
     "execution_count": 6,
     "metadata": {},
     "output_type": "execute_result"
    }
   ],
   "source": [
    "df.columns"
   ]
  },
  {
   "cell_type": "code",
   "execution_count": 7,
   "id": "1d2047c0",
   "metadata": {
    "execution": {
     "iopub.execute_input": "2023-02-25T09:16:11.781158Z",
     "iopub.status.busy": "2023-02-25T09:16:11.780660Z",
     "iopub.status.idle": "2023-02-25T09:16:11.972593Z",
     "shell.execute_reply": "2023-02-25T09:16:11.971606Z"
    },
    "papermill": {
     "duration": 0.213035,
     "end_time": "2023-02-25T09:16:11.975085",
     "exception": false,
     "start_time": "2023-02-25T09:16:11.762050",
     "status": "completed"
    },
    "tags": []
   },
   "outputs": [
    {
     "data": {
      "text/plain": [
       "0"
      ]
     },
     "execution_count": 7,
     "metadata": {},
     "output_type": "execute_result"
    }
   ],
   "source": [
    "df.duplicated().sum()"
   ]
  },
  {
   "cell_type": "code",
   "execution_count": 8,
   "id": "92343207",
   "metadata": {
    "execution": {
     "iopub.execute_input": "2023-02-25T09:16:12.011059Z",
     "iopub.status.busy": "2023-02-25T09:16:12.010625Z",
     "iopub.status.idle": "2023-02-25T09:16:12.058090Z",
     "shell.execute_reply": "2023-02-25T09:16:12.056824Z"
    },
    "papermill": {
     "duration": 0.06859,
     "end_time": "2023-02-25T09:16:12.060776",
     "exception": false,
     "start_time": "2023-02-25T09:16:11.992186",
     "status": "completed"
    },
    "tags": []
   },
   "outputs": [
    {
     "data": {
      "text/plain": [
       "Unnamed: 0.1        0\n",
       "Unnamed: 0          0\n",
       "date                0\n",
       "id                  0\n",
       "tweetText           0\n",
       "user                0\n",
       "likeCount           0\n",
       "lang                0\n",
       "replies             0\n",
       "mentions        14033\n",
       "outlinks            0\n",
       "dtype: int64"
      ]
     },
     "execution_count": 8,
     "metadata": {},
     "output_type": "execute_result"
    }
   ],
   "source": [
    "df.isnull().sum()"
   ]
  },
  {
   "cell_type": "code",
   "execution_count": 9,
   "id": "908c0f4b",
   "metadata": {
    "execution": {
     "iopub.execute_input": "2023-02-25T09:16:12.097499Z",
     "iopub.status.busy": "2023-02-25T09:16:12.097119Z",
     "iopub.status.idle": "2023-02-25T09:16:12.152112Z",
     "shell.execute_reply": "2023-02-25T09:16:12.150270Z"
    },
    "papermill": {
     "duration": 0.07654,
     "end_time": "2023-02-25T09:16:12.154723",
     "exception": false,
     "start_time": "2023-02-25T09:16:12.078183",
     "status": "completed"
    },
    "tags": []
   },
   "outputs": [
    {
     "name": "stdout",
     "output_type": "stream",
     "text": [
      "<class 'pandas.core.frame.DataFrame'>\n",
      "RangeIndex: 10001 entries, 0 to 10000\n",
      "Data columns (total 11 columns):\n",
      " #   Column        Non-Null Count  Dtype  \n",
      "---  ------        --------------  -----  \n",
      " 0   Unnamed: 0    10001 non-null  int64  \n",
      " 1   Date Created  10001 non-null  object \n",
      " 2   Tweet ID      10001 non-null  int64  \n",
      " 3   Content       10001 non-null  object \n",
      " 4   Username      10001 non-null  object \n",
      " 5   Nr. Likes     10001 non-null  int64  \n",
      " 6   Lang          10001 non-null  object \n",
      " 7   Tweet Source  0 non-null      float64\n",
      " 8   Replies       10001 non-null  int64  \n",
      " 9   Mentions      4464 non-null   object \n",
      " 10  outlinks      10001 non-null  object \n",
      "dtypes: float64(1), int64(4), object(6)\n",
      "memory usage: 859.6+ KB\n"
     ]
    }
   ],
   "source": [
    "df.info()"
   ]
  },
  {
   "cell_type": "code",
   "execution_count": 11,
   "id": "b973cb92",
   "metadata": {},
   "outputs": [
    {
     "data": {
      "text/html": [
       "<div>\n",
       "<style scoped>\n",
       "    .dataframe tbody tr th:only-of-type {\n",
       "        vertical-align: middle;\n",
       "    }\n",
       "\n",
       "    .dataframe tbody tr th {\n",
       "        vertical-align: top;\n",
       "    }\n",
       "\n",
       "    .dataframe thead th {\n",
       "        text-align: right;\n",
       "    }\n",
       "</style>\n",
       "<table border=\"1\" class=\"dataframe\">\n",
       "  <thead>\n",
       "    <tr style=\"text-align: right;\">\n",
       "      <th></th>\n",
       "      <th>date</th>\n",
       "      <th>id</th>\n",
       "      <th>tweetText</th>\n",
       "      <th>user</th>\n",
       "      <th>likeCount</th>\n",
       "      <th>lang</th>\n",
       "      <th>replies</th>\n",
       "      <th>mentions</th>\n",
       "      <th>outlinks</th>\n",
       "    </tr>\n",
       "  </thead>\n",
       "  <tbody>\n",
       "    <tr>\n",
       "      <th>943</th>\n",
       "      <td>29-04-2023</td>\n",
       "      <td>1652462748792672257</td>\n",
       "      <td>Some of the best #AI writing assistants in 202...</td>\n",
       "      <td>farahsays01</td>\n",
       "      <td>1</td>\n",
       "      <td>en</td>\n",
       "      <td>1</td>\n",
       "      <td>[User(username='OpenAI', id=4398626122, displa...</td>\n",
       "      <td>[]</td>\n",
       "    </tr>\n",
       "    <tr>\n",
       "      <th>944</th>\n",
       "      <td>29-04-2023</td>\n",
       "      <td>1652462745772597249</td>\n",
       "      <td>#RT @phocuswire: In an interview with PhocusWi...</td>\n",
       "      <td>CravenTravels</td>\n",
       "      <td>0</td>\n",
       "      <td>en</td>\n",
       "      <td>0</td>\n",
       "      <td>[User(username='phocuswire', id=109269437, dis...</td>\n",
       "      <td>['https://bit.ly/3LtSQlB']</td>\n",
       "    </tr>\n",
       "    <tr>\n",
       "      <th>945</th>\n",
       "      <td>29-04-2023</td>\n",
       "      <td>1652462718920654883</td>\n",
       "      <td>@skepoet and I discuss the internet, ChatGPT a...</td>\n",
       "      <td>ViewsParallax</td>\n",
       "      <td>4</td>\n",
       "      <td>en</td>\n",
       "      <td>0</td>\n",
       "      <td>[User(username='skepoet', id=401715612, displa...</td>\n",
       "      <td>['https://www.patreon.com/posts/parallax-vlog-...</td>\n",
       "    </tr>\n",
       "    <tr>\n",
       "      <th>946</th>\n",
       "      <td>29-04-2023</td>\n",
       "      <td>1652462702219132928</td>\n",
       "      <td>The latest in #AI news.\\n\\nThey don’t want to ...</td>\n",
       "      <td>WhizPill</td>\n",
       "      <td>2</td>\n",
       "      <td>en</td>\n",
       "      <td>1</td>\n",
       "      <td>[User(username='OpenAI', id=4398626122, displa...</td>\n",
       "      <td>[]</td>\n",
       "    </tr>\n",
       "    <tr>\n",
       "      <th>947</th>\n",
       "      <td>29-04-2023</td>\n",
       "      <td>1652462667003568129</td>\n",
       "      <td>@Lyle_AI Well said, its those of us on the fro...</td>\n",
       "      <td>Luc_AI_Insights</td>\n",
       "      <td>0</td>\n",
       "      <td>en</td>\n",
       "      <td>0</td>\n",
       "      <td>[User(username='Lyle_AI', id=165422263, displa...</td>\n",
       "      <td>[]</td>\n",
       "    </tr>\n",
       "    <tr>\n",
       "      <th>...</th>\n",
       "      <td>...</td>\n",
       "      <td>...</td>\n",
       "      <td>...</td>\n",
       "      <td>...</td>\n",
       "      <td>...</td>\n",
       "      <td>...</td>\n",
       "      <td>...</td>\n",
       "      <td>...</td>\n",
       "      <td>...</td>\n",
       "    </tr>\n",
       "    <tr>\n",
       "      <th>26999</th>\n",
       "      <td>29-05-2023</td>\n",
       "      <td>1663049685324398593</td>\n",
       "      <td>idk abt u guys but im telling chatgpt thank yo...</td>\n",
       "      <td>gooddaymp3</td>\n",
       "      <td>2</td>\n",
       "      <td>en</td>\n",
       "      <td>1</td>\n",
       "      <td>NaN</td>\n",
       "      <td>[]</td>\n",
       "    </tr>\n",
       "    <tr>\n",
       "      <th>27000</th>\n",
       "      <td>29-05-2023</td>\n",
       "      <td>1663049619763499010</td>\n",
       "      <td>@BeastOfGoyim It already has when i tried it o...</td>\n",
       "      <td>asheuriii</td>\n",
       "      <td>0</td>\n",
       "      <td>en</td>\n",
       "      <td>1</td>\n",
       "      <td>[User(username='BeastOfGoyim', id=145786421175...</td>\n",
       "      <td>[]</td>\n",
       "    </tr>\n",
       "    <tr>\n",
       "      <th>27001</th>\n",
       "      <td>29-05-2023</td>\n",
       "      <td>1663049602851807232</td>\n",
       "      <td>@ivy_wylder @ask_aubry I’ve been looking for s...</td>\n",
       "      <td>dan_dd</td>\n",
       "      <td>6</td>\n",
       "      <td>en</td>\n",
       "      <td>0</td>\n",
       "      <td>[User(username='ivy_wylder', id=12147283985404...</td>\n",
       "      <td>[]</td>\n",
       "    </tr>\n",
       "    <tr>\n",
       "      <th>27002</th>\n",
       "      <td>29-05-2023</td>\n",
       "      <td>1663049444613410816</td>\n",
       "      <td>Is someone gonna remake Facade with ChatGPT?</td>\n",
       "      <td>PwnySlaystation</td>\n",
       "      <td>1</td>\n",
       "      <td>en</td>\n",
       "      <td>0</td>\n",
       "      <td>NaN</td>\n",
       "      <td>[]</td>\n",
       "    </tr>\n",
       "    <tr>\n",
       "      <th>27003</th>\n",
       "      <td>29-05-2023</td>\n",
       "      <td>1663049350560514050</td>\n",
       "      <td>@shotgun2thehead chatgpt is really good people...</td>\n",
       "      <td>teengoatmance</td>\n",
       "      <td>1</td>\n",
       "      <td>en</td>\n",
       "      <td>1</td>\n",
       "      <td>[User(username='shotgun2thehead', id=257651288...</td>\n",
       "      <td>[]</td>\n",
       "    </tr>\n",
       "  </tbody>\n",
       "</table>\n",
       "<p>24964 rows × 9 columns</p>\n",
       "</div>"
      ],
      "text/plain": [
       "             date                   id  \\\n",
       "943    29-04-2023  1652462748792672257   \n",
       "944    29-04-2023  1652462745772597249   \n",
       "945    29-04-2023  1652462718920654883   \n",
       "946    29-04-2023  1652462702219132928   \n",
       "947    29-04-2023  1652462667003568129   \n",
       "...           ...                  ...   \n",
       "26999  29-05-2023  1663049685324398593   \n",
       "27000  29-05-2023  1663049619763499010   \n",
       "27001  29-05-2023  1663049602851807232   \n",
       "27002  29-05-2023  1663049444613410816   \n",
       "27003  29-05-2023  1663049350560514050   \n",
       "\n",
       "                                               tweetText             user  \\\n",
       "943    Some of the best #AI writing assistants in 202...      farahsays01   \n",
       "944    #RT @phocuswire: In an interview with PhocusWi...    CravenTravels   \n",
       "945    @skepoet and I discuss the internet, ChatGPT a...    ViewsParallax   \n",
       "946    The latest in #AI news.\\n\\nThey don’t want to ...         WhizPill   \n",
       "947    @Lyle_AI Well said, its those of us on the fro...  Luc_AI_Insights   \n",
       "...                                                  ...              ...   \n",
       "26999  idk abt u guys but im telling chatgpt thank yo...       gooddaymp3   \n",
       "27000  @BeastOfGoyim It already has when i tried it o...        asheuriii   \n",
       "27001  @ivy_wylder @ask_aubry I’ve been looking for s...           dan_dd   \n",
       "27002       Is someone gonna remake Facade with ChatGPT?  PwnySlaystation   \n",
       "27003  @shotgun2thehead chatgpt is really good people...    teengoatmance   \n",
       "\n",
       "       likeCount lang  replies  \\\n",
       "943            1   en        1   \n",
       "944            0   en        0   \n",
       "945            4   en        0   \n",
       "946            2   en        1   \n",
       "947            0   en        0   \n",
       "...          ...  ...      ...   \n",
       "26999          2   en        1   \n",
       "27000          0   en        1   \n",
       "27001          6   en        0   \n",
       "27002          1   en        0   \n",
       "27003          1   en        1   \n",
       "\n",
       "                                                mentions  \\\n",
       "943    [User(username='OpenAI', id=4398626122, displa...   \n",
       "944    [User(username='phocuswire', id=109269437, dis...   \n",
       "945    [User(username='skepoet', id=401715612, displa...   \n",
       "946    [User(username='OpenAI', id=4398626122, displa...   \n",
       "947    [User(username='Lyle_AI', id=165422263, displa...   \n",
       "...                                                  ...   \n",
       "26999                                                NaN   \n",
       "27000  [User(username='BeastOfGoyim', id=145786421175...   \n",
       "27001  [User(username='ivy_wylder', id=12147283985404...   \n",
       "27002                                                NaN   \n",
       "27003  [User(username='shotgun2thehead', id=257651288...   \n",
       "\n",
       "                                                outlinks  \n",
       "943                                                   []  \n",
       "944                           ['https://bit.ly/3LtSQlB']  \n",
       "945    ['https://www.patreon.com/posts/parallax-vlog-...  \n",
       "946                                                   []  \n",
       "947                                                   []  \n",
       "...                                                  ...  \n",
       "26999                                                 []  \n",
       "27000                                                 []  \n",
       "27001                                                 []  \n",
       "27002                                                 []  \n",
       "27003                                                 []  \n",
       "\n",
       "[24964 rows x 9 columns]"
      ]
     },
     "execution_count": 11,
     "metadata": {},
     "output_type": "execute_result"
    }
   ],
   "source": [
    "df.drop(['Unnamed: 0', 'Unnamed: 0.1'], axis=1, inplace= True)\n",
    "df"
   ]
  },
  {
   "cell_type": "code",
   "execution_count": 12,
   "id": "01a2998c",
   "metadata": {
    "execution": {
     "iopub.execute_input": "2023-02-25T09:16:12.192730Z",
     "iopub.status.busy": "2023-02-25T09:16:12.191615Z",
     "iopub.status.idle": "2023-02-25T09:16:12.235319Z",
     "shell.execute_reply": "2023-02-25T09:16:12.234082Z"
    },
    "papermill": {
     "duration": 0.064951,
     "end_time": "2023-02-25T09:16:12.237684",
     "exception": false,
     "start_time": "2023-02-25T09:16:12.172733",
     "status": "completed"
    },
    "tags": []
   },
   "outputs": [
    {
     "data": {
      "text/html": [
       "<div>\n",
       "<style scoped>\n",
       "    .dataframe tbody tr th:only-of-type {\n",
       "        vertical-align: middle;\n",
       "    }\n",
       "\n",
       "    .dataframe tbody tr th {\n",
       "        vertical-align: top;\n",
       "    }\n",
       "\n",
       "    .dataframe thead th {\n",
       "        text-align: right;\n",
       "    }\n",
       "</style>\n",
       "<table border=\"1\" class=\"dataframe\">\n",
       "  <thead>\n",
       "    <tr style=\"text-align: right;\">\n",
       "      <th></th>\n",
       "      <th>id</th>\n",
       "      <th>likeCount</th>\n",
       "      <th>replies</th>\n",
       "    </tr>\n",
       "  </thead>\n",
       "  <tbody>\n",
       "    <tr>\n",
       "      <th>count</th>\n",
       "      <td>2.496400e+04</td>\n",
       "      <td>24964.000000</td>\n",
       "      <td>24964.000000</td>\n",
       "    </tr>\n",
       "    <tr>\n",
       "      <th>mean</th>\n",
       "      <td>1.654379e+18</td>\n",
       "      <td>13.116408</td>\n",
       "      <td>1.582038</td>\n",
       "    </tr>\n",
       "    <tr>\n",
       "      <th>std</th>\n",
       "      <td>8.338840e+15</td>\n",
       "      <td>402.501776</td>\n",
       "      <td>36.220727</td>\n",
       "    </tr>\n",
       "    <tr>\n",
       "      <th>min</th>\n",
       "      <td>1.640752e+18</td>\n",
       "      <td>0.000000</td>\n",
       "      <td>0.000000</td>\n",
       "    </tr>\n",
       "    <tr>\n",
       "      <th>25%</th>\n",
       "      <td>1.652256e+18</td>\n",
       "      <td>0.000000</td>\n",
       "      <td>0.000000</td>\n",
       "    </tr>\n",
       "    <tr>\n",
       "      <th>50%</th>\n",
       "      <td>1.652392e+18</td>\n",
       "      <td>1.000000</td>\n",
       "      <td>0.000000</td>\n",
       "    </tr>\n",
       "    <tr>\n",
       "      <th>75%</th>\n",
       "      <td>1.663177e+18</td>\n",
       "      <td>2.000000</td>\n",
       "      <td>1.000000</td>\n",
       "    </tr>\n",
       "    <tr>\n",
       "      <th>max</th>\n",
       "      <td>1.663334e+18</td>\n",
       "      <td>48534.000000</td>\n",
       "      <td>3712.000000</td>\n",
       "    </tr>\n",
       "  </tbody>\n",
       "</table>\n",
       "</div>"
      ],
      "text/plain": [
       "                 id     likeCount       replies\n",
       "count  2.496400e+04  24964.000000  24964.000000\n",
       "mean   1.654379e+18     13.116408      1.582038\n",
       "std    8.338840e+15    402.501776     36.220727\n",
       "min    1.640752e+18      0.000000      0.000000\n",
       "25%    1.652256e+18      0.000000      0.000000\n",
       "50%    1.652392e+18      1.000000      0.000000\n",
       "75%    1.663177e+18      2.000000      1.000000\n",
       "max    1.663334e+18  48534.000000   3712.000000"
      ]
     },
     "execution_count": 12,
     "metadata": {},
     "output_type": "execute_result"
    }
   ],
   "source": [
    "df.describe()"
   ]
  },
  {
   "cell_type": "code",
   "execution_count": 13,
   "id": "def65c56",
   "metadata": {
    "execution": {
     "iopub.execute_input": "2023-02-25T09:16:12.275453Z",
     "iopub.status.busy": "2023-02-25T09:16:12.274766Z",
     "iopub.status.idle": "2023-02-25T09:16:12.423217Z",
     "shell.execute_reply": "2023-02-25T09:16:12.422255Z"
    },
    "papermill": {
     "duration": 0.170223,
     "end_time": "2023-02-25T09:16:12.425704",
     "exception": false,
     "start_time": "2023-02-25T09:16:12.255481",
     "status": "completed"
    },
    "tags": []
   },
   "outputs": [
    {
     "data": {
      "text/plain": [
       "date             3\n",
       "id           24939\n",
       "tweetText    24708\n",
       "user         19266\n",
       "likeCount      301\n",
       "lang             1\n",
       "replies        100\n",
       "mentions      7799\n",
       "outlinks      6002\n",
       "dtype: int64"
      ]
     },
     "execution_count": 13,
     "metadata": {},
     "output_type": "execute_result"
    }
   ],
   "source": [
    "df.nunique()"
   ]
  },
  {
   "cell_type": "code",
   "execution_count": 14,
   "id": "157670e9",
   "metadata": {
    "execution": {
     "iopub.execute_input": "2023-02-25T09:16:12.463704Z",
     "iopub.status.busy": "2023-02-25T09:16:12.462891Z",
     "iopub.status.idle": "2023-02-25T09:16:12.471961Z",
     "shell.execute_reply": "2023-02-25T09:16:12.470689Z"
    },
    "papermill": {
     "duration": 0.03108,
     "end_time": "2023-02-25T09:16:12.474501",
     "exception": false,
     "start_time": "2023-02-25T09:16:12.443421",
     "status": "completed"
    },
    "tags": []
   },
   "outputs": [],
   "source": [
    "def most_frequent_values(data):\n",
    "    total = data.count()\n",
    "    tt = pd.DataFrame(total)\n",
    "    tt.columns = ['Total']\n",
    "    items = []\n",
    "    vals = []\n",
    "    for col in data.columns:\n",
    "        try:\n",
    "            itm = data[col].value_counts().index[0]\n",
    "            val = data[col].value_counts().values[0]\n",
    "            items.append(itm)\n",
    "            vals.append(val)\n",
    "        except Exception as ex:\n",
    "            print(ex)\n",
    "            items.append(0)\n",
    "            vals.append(0)\n",
    "            continue\n",
    "    tt['Most frequent item'] = items\n",
    "    tt['Frequence'] = vals\n",
    "    tt['Percent from total'] = np.round(vals / total * 100, 3)\n",
    "    return(np.transpose(tt))"
   ]
  },
  {
   "cell_type": "code",
   "execution_count": 15,
   "id": "1a834163",
   "metadata": {
    "execution": {
     "iopub.execute_input": "2023-02-25T09:16:12.512530Z",
     "iopub.status.busy": "2023-02-25T09:16:12.511605Z",
     "iopub.status.idle": "2023-02-25T09:16:12.887312Z",
     "shell.execute_reply": "2023-02-25T09:16:12.885993Z"
    },
    "papermill": {
     "duration": 0.397596,
     "end_time": "2023-02-25T09:16:12.890035",
     "exception": false,
     "start_time": "2023-02-25T09:16:12.492439",
     "status": "completed"
    },
    "tags": []
   },
   "outputs": [
    {
     "data": {
      "text/html": [
       "<div>\n",
       "<style scoped>\n",
       "    .dataframe tbody tr th:only-of-type {\n",
       "        vertical-align: middle;\n",
       "    }\n",
       "\n",
       "    .dataframe tbody tr th {\n",
       "        vertical-align: top;\n",
       "    }\n",
       "\n",
       "    .dataframe thead th {\n",
       "        text-align: right;\n",
       "    }\n",
       "</style>\n",
       "<table border=\"1\" class=\"dataframe\">\n",
       "  <thead>\n",
       "    <tr style=\"text-align: right;\">\n",
       "      <th></th>\n",
       "      <th>date</th>\n",
       "      <th>id</th>\n",
       "      <th>tweetText</th>\n",
       "      <th>user</th>\n",
       "      <th>likeCount</th>\n",
       "      <th>lang</th>\n",
       "      <th>replies</th>\n",
       "      <th>mentions</th>\n",
       "      <th>outlinks</th>\n",
       "    </tr>\n",
       "  </thead>\n",
       "  <tbody>\n",
       "    <tr>\n",
       "      <th>Total</th>\n",
       "      <td>24964</td>\n",
       "      <td>24964</td>\n",
       "      <td>24964</td>\n",
       "      <td>24964</td>\n",
       "      <td>24964</td>\n",
       "      <td>24964</td>\n",
       "      <td>24964</td>\n",
       "      <td>10931</td>\n",
       "      <td>24964</td>\n",
       "    </tr>\n",
       "    <tr>\n",
       "      <th>Most frequent item</th>\n",
       "      <td>29-04-2023</td>\n",
       "      <td>1640821074739990554</td>\n",
       "      <td>@hasantoxr 3x Udemy &amp;amp; ChatGPT Courses</td>\n",
       "      <td>serenesells</td>\n",
       "      <td>0</td>\n",
       "      <td>en</td>\n",
       "      <td>0</td>\n",
       "      <td>[User(username='hasantoxr', id=150605500599202...</td>\n",
       "      <td>[]</td>\n",
       "    </tr>\n",
       "    <tr>\n",
       "      <th>Frequence</th>\n",
       "      <td>9986</td>\n",
       "      <td>2</td>\n",
       "      <td>64</td>\n",
       "      <td>213</td>\n",
       "      <td>12181</td>\n",
       "      <td>24964</td>\n",
       "      <td>15807</td>\n",
       "      <td>335</td>\n",
       "      <td>17853</td>\n",
       "    </tr>\n",
       "    <tr>\n",
       "      <th>Percent from total</th>\n",
       "      <td>40.002</td>\n",
       "      <td>0.008</td>\n",
       "      <td>0.256</td>\n",
       "      <td>0.853</td>\n",
       "      <td>48.794</td>\n",
       "      <td>100.0</td>\n",
       "      <td>63.319</td>\n",
       "      <td>3.065</td>\n",
       "      <td>71.515</td>\n",
       "    </tr>\n",
       "  </tbody>\n",
       "</table>\n",
       "</div>"
      ],
      "text/plain": [
       "                          date                   id  \\\n",
       "Total                    24964                24964   \n",
       "Most frequent item  29-04-2023  1640821074739990554   \n",
       "Frequence                 9986                    2   \n",
       "Percent from total      40.002                0.008   \n",
       "\n",
       "                                                    tweetText         user  \\\n",
       "Total                                                   24964        24964   \n",
       "Most frequent item  @hasantoxr 3x Udemy &amp; ChatGPT Courses  serenesells   \n",
       "Frequence                                                  64          213   \n",
       "Percent from total                                      0.256        0.853   \n",
       "\n",
       "                   likeCount   lang replies  \\\n",
       "Total                  24964  24964   24964   \n",
       "Most frequent item         0     en       0   \n",
       "Frequence              12181  24964   15807   \n",
       "Percent from total    48.794  100.0  63.319   \n",
       "\n",
       "                                                             mentions outlinks  \n",
       "Total                                                           10931    24964  \n",
       "Most frequent item  [User(username='hasantoxr', id=150605500599202...       []  \n",
       "Frequence                                                         335    17853  \n",
       "Percent from total                                              3.065   71.515  "
      ]
     },
     "execution_count": 15,
     "metadata": {},
     "output_type": "execute_result"
    }
   ],
   "source": [
    "most_frequent_values(df)"
   ]
  },
  {
   "cell_type": "code",
   "execution_count": 16,
   "id": "c1e5ccd1",
   "metadata": {
    "execution": {
     "iopub.execute_input": "2023-02-25T09:16:12.929147Z",
     "iopub.status.busy": "2023-02-25T09:16:12.928131Z",
     "iopub.status.idle": "2023-02-25T09:16:14.130599Z",
     "shell.execute_reply": "2023-02-25T09:16:14.129471Z"
    },
    "papermill": {
     "duration": 1.224782,
     "end_time": "2023-02-25T09:16:14.133287",
     "exception": false,
     "start_time": "2023-02-25T09:16:12.908505",
     "status": "completed"
    },
    "tags": []
   },
   "outputs": [],
   "source": [
    "import matplotlib.pyplot as plt\n",
    "import seaborn as sns"
   ]
  },
  {
   "cell_type": "code",
   "execution_count": 18,
   "id": "5969e467",
   "metadata": {
    "execution": {
     "iopub.execute_input": "2023-02-25T09:16:14.172505Z",
     "iopub.status.busy": "2023-02-25T09:16:14.171741Z",
     "iopub.status.idle": "2023-02-25T09:16:14.187092Z",
     "shell.execute_reply": "2023-02-25T09:16:14.185883Z"
    },
    "papermill": {
     "duration": 0.037951,
     "end_time": "2023-02-25T09:16:14.189802",
     "exception": false,
     "start_time": "2023-02-25T09:16:14.151851",
     "status": "completed"
    },
    "tags": []
   },
   "outputs": [
    {
     "data": {
      "text/plain": [
       "array(['farahsays01', 'CravenTravels', 'ViewsParallax', ..., 'dan_dd',\n",
       "       'PwnySlaystation', 'teengoatmance'], dtype=object)"
      ]
     },
     "execution_count": 18,
     "metadata": {},
     "output_type": "execute_result"
    }
   ],
   "source": [
    "df['user'].unique()"
   ]
  },
  {
   "cell_type": "code",
   "execution_count": 19,
   "id": "ea7bf810",
   "metadata": {
    "execution": {
     "iopub.execute_input": "2023-02-25T09:16:14.229328Z",
     "iopub.status.busy": "2023-02-25T09:16:14.228471Z",
     "iopub.status.idle": "2023-02-25T09:16:14.255967Z",
     "shell.execute_reply": "2023-02-25T09:16:14.254616Z"
    },
    "papermill": {
     "duration": 0.050847,
     "end_time": "2023-02-25T09:16:14.258848",
     "exception": false,
     "start_time": "2023-02-25T09:16:14.208001",
     "status": "completed"
    },
    "tags": []
   },
   "outputs": [
    {
     "data": {
      "text/plain": [
       "serenesells       213\n",
       "paramendra         92\n",
       "ChatGPT_yearn      89\n",
       "nftsalesbot        69\n",
       "memdotai           62\n",
       "                 ... \n",
       "notjuve             1\n",
       "AbundanceAvnue      1\n",
       "petetrainor         1\n",
       "geekyants           1\n",
       "teengoatmance       1\n",
       "Name: user, Length: 19266, dtype: int64"
      ]
     },
     "execution_count": 19,
     "metadata": {},
     "output_type": "execute_result"
    }
   ],
   "source": [
    "df['user'].value_counts()"
   ]
  },
  {
   "cell_type": "code",
   "execution_count": 20,
   "id": "375706a0",
   "metadata": {
    "execution": {
     "iopub.execute_input": "2023-02-25T09:16:14.298571Z",
     "iopub.status.busy": "2023-02-25T09:16:14.297687Z",
     "iopub.status.idle": "2023-02-25T09:16:14.834158Z",
     "shell.execute_reply": "2023-02-25T09:16:14.832910Z"
    },
    "papermill": {
     "duration": 0.559793,
     "end_time": "2023-02-25T09:16:14.836960",
     "exception": false,
     "start_time": "2023-02-25T09:16:14.277167",
     "status": "completed"
    },
    "tags": []
   },
   "outputs": [
    {
     "data": {
      "image/png": "[encoded data removed]",
      "text/plain": [
       "<Figure size 1080x432 with 1 Axes>"
      ]
     },
     "metadata": {
      "needs_background": "light"
     },
     "output_type": "display_data"
    }
   ],
   "source": [
    "plt.figure(figsize=(15,6))\n",
    "sns.countplot(data=df, x='user', order=df[\"user\"].value_counts().index[:20])\n",
    "plt.xticks(rotation=90)\n",
    "plt.show()"
   ]
  },
  {
   "cell_type": "code",
   "execution_count": 21,
   "id": "10c96bf3",
   "metadata": {
    "execution": {
     "iopub.execute_input": "2023-02-25T09:16:14.878594Z",
     "iopub.status.busy": "2023-02-25T09:16:14.877805Z",
     "iopub.status.idle": "2023-02-25T09:16:14.896671Z",
     "shell.execute_reply": "2023-02-25T09:16:14.895574Z"
    },
    "papermill": {
     "duration": 0.04221,
     "end_time": "2023-02-25T09:16:14.899130",
     "exception": false,
     "start_time": "2023-02-25T09:16:14.856920",
     "status": "completed"
    },
    "tags": []
   },
   "outputs": [
    {
     "data": {
      "text/plain": [
       "array([1652462748792672257, 1652462745772597249, 1652462718920654883, ...,\n",
       "       1663049602851807232, 1663049444613410816, 1663049350560514050])"
      ]
     },
     "execution_count": 21,
     "metadata": {},
     "output_type": "execute_result"
    }
   ],
   "source": [
    "df['id'].unique()"
   ]
  },
  {
   "cell_type": "code",
   "execution_count": 22,
   "id": "e46c8410",
   "metadata": {
    "execution": {
     "iopub.execute_input": "2023-02-25T09:16:14.942213Z",
     "iopub.status.busy": "2023-02-25T09:16:14.940786Z",
     "iopub.status.idle": "2023-02-25T09:16:14.973983Z",
     "shell.execute_reply": "2023-02-25T09:16:14.972800Z"
    },
    "papermill": {
     "duration": 0.05727,
     "end_time": "2023-02-25T09:16:14.976579",
     "exception": false,
     "start_time": "2023-02-25T09:16:14.919309",
     "status": "completed"
    },
    "tags": []
   },
   "outputs": [
    {
     "data": {
      "text/plain": [
       "1640821074739990554    2\n",
       "1640860799651524610    2\n",
       "1640861707412340738    2\n",
       "1640852606162550784    2\n",
       "1640843898267348992    2\n",
       "                      ..\n",
       "1652268731609886724    1\n",
       "1652268758160015362    1\n",
       "1652268836840943619    1\n",
       "1652268910069137411    1\n",
       "1663049350560514050    1\n",
       "Name: id, Length: 24939, dtype: int64"
      ]
     },
     "execution_count": 22,
     "metadata": {},
     "output_type": "execute_result"
    }
   ],
   "source": [
    "df['id'].value_counts()"
   ]
  },
  {
   "cell_type": "code",
   "execution_count": 23,
   "id": "eed1cdcf",
   "metadata": {
    "execution": {
     "iopub.execute_input": "2023-02-25T09:16:15.017704Z",
     "iopub.status.busy": "2023-02-25T09:16:15.017271Z",
     "iopub.status.idle": "2023-02-25T09:16:15.580882Z",
     "shell.execute_reply": "2023-02-25T09:16:15.579545Z"
    },
    "papermill": {
     "duration": 0.587535,
     "end_time": "2023-02-25T09:16:15.583821",
     "exception": false,
     "start_time": "2023-02-25T09:16:14.996286",
     "status": "completed"
    },
    "tags": []
   },
   "outputs": [
    {
     "data": {
      "image/png": "[encoded data removed]",
      "text/plain": [
       "<Figure size 1080x432 with 1 Axes>"
      ]
     },
     "metadata": {
      "needs_background": "light"
     },
     "output_type": "display_data"
    }
   ],
   "source": [
    "plt.figure(figsize=(15,6))\n",
    "sns.countplot(data=df, x='id', order=df[\"id\"].value_counts().index[:20])\n",
    "plt.xticks(rotation=90)\n",
    "plt.show()"
   ]
  },
  {
   "cell_type": "code",
   "execution_count": 24,
   "id": "ea9980ea",
   "metadata": {},
   "outputs": [
    {
     "data": {
      "text/html": [
       "<div>\n",
       "<style scoped>\n",
       "    .dataframe tbody tr th:only-of-type {\n",
       "        vertical-align: middle;\n",
       "    }\n",
       "\n",
       "    .dataframe tbody tr th {\n",
       "        vertical-align: top;\n",
       "    }\n",
       "\n",
       "    .dataframe thead th {\n",
       "        text-align: right;\n",
       "    }\n",
       "</style>\n",
       "<table border=\"1\" class=\"dataframe\">\n",
       "  <thead>\n",
       "    <tr style=\"text-align: right;\">\n",
       "      <th></th>\n",
       "      <th>date</th>\n",
       "      <th>id</th>\n",
       "      <th>tweetText</th>\n",
       "      <th>user</th>\n",
       "      <th>likeCount</th>\n",
       "      <th>lang</th>\n",
       "      <th>replies</th>\n",
       "      <th>mentions</th>\n",
       "      <th>outlinks</th>\n",
       "    </tr>\n",
       "  </thead>\n",
       "  <tbody>\n",
       "    <tr>\n",
       "      <th>943</th>\n",
       "      <td>29-04-2023</td>\n",
       "      <td>1652462748792672257</td>\n",
       "      <td>Some of the best #AI writing assistants in 202...</td>\n",
       "      <td>farahsays01</td>\n",
       "      <td>1</td>\n",
       "      <td>en</td>\n",
       "      <td>1</td>\n",
       "      <td>[User(username='OpenAI', id=4398626122, displa...</td>\n",
       "      <td>[]</td>\n",
       "    </tr>\n",
       "    <tr>\n",
       "      <th>944</th>\n",
       "      <td>29-04-2023</td>\n",
       "      <td>1652462745772597249</td>\n",
       "      <td>#RT @phocuswire: In an interview with PhocusWi...</td>\n",
       "      <td>CravenTravels</td>\n",
       "      <td>0</td>\n",
       "      <td>en</td>\n",
       "      <td>0</td>\n",
       "      <td>[User(username='phocuswire', id=109269437, dis...</td>\n",
       "      <td>['https://bit.ly/3LtSQlB']</td>\n",
       "    </tr>\n",
       "    <tr>\n",
       "      <th>945</th>\n",
       "      <td>29-04-2023</td>\n",
       "      <td>1652462718920654883</td>\n",
       "      <td>@skepoet and I discuss the internet, ChatGPT a...</td>\n",
       "      <td>ViewsParallax</td>\n",
       "      <td>4</td>\n",
       "      <td>en</td>\n",
       "      <td>0</td>\n",
       "      <td>[User(username='skepoet', id=401715612, displa...</td>\n",
       "      <td>['https://www.patreon.com/posts/parallax-vlog-...</td>\n",
       "    </tr>\n",
       "    <tr>\n",
       "      <th>946</th>\n",
       "      <td>29-04-2023</td>\n",
       "      <td>1652462702219132928</td>\n",
       "      <td>The latest in #AI news.\\n\\nThey don’t want to ...</td>\n",
       "      <td>WhizPill</td>\n",
       "      <td>2</td>\n",
       "      <td>en</td>\n",
       "      <td>1</td>\n",
       "      <td>[User(username='OpenAI', id=4398626122, displa...</td>\n",
       "      <td>[]</td>\n",
       "    </tr>\n",
       "    <tr>\n",
       "      <th>947</th>\n",
       "      <td>29-04-2023</td>\n",
       "      <td>1652462667003568129</td>\n",
       "      <td>@Lyle_AI Well said, its those of us on the fro...</td>\n",
       "      <td>Luc_AI_Insights</td>\n",
       "      <td>0</td>\n",
       "      <td>en</td>\n",
       "      <td>0</td>\n",
       "      <td>[User(username='Lyle_AI', id=165422263, displa...</td>\n",
       "      <td>[]</td>\n",
       "    </tr>\n",
       "    <tr>\n",
       "      <th>...</th>\n",
       "      <td>...</td>\n",
       "      <td>...</td>\n",
       "      <td>...</td>\n",
       "      <td>...</td>\n",
       "      <td>...</td>\n",
       "      <td>...</td>\n",
       "      <td>...</td>\n",
       "      <td>...</td>\n",
       "      <td>...</td>\n",
       "    </tr>\n",
       "    <tr>\n",
       "      <th>26999</th>\n",
       "      <td>29-05-2023</td>\n",
       "      <td>1663049685324398593</td>\n",
       "      <td>idk abt u guys but im telling chatgpt thank yo...</td>\n",
       "      <td>gooddaymp3</td>\n",
       "      <td>2</td>\n",
       "      <td>en</td>\n",
       "      <td>1</td>\n",
       "      <td>NaN</td>\n",
       "      <td>[]</td>\n",
       "    </tr>\n",
       "    <tr>\n",
       "      <th>27000</th>\n",
       "      <td>29-05-2023</td>\n",
       "      <td>1663049619763499010</td>\n",
       "      <td>@BeastOfGoyim It already has when i tried it o...</td>\n",
       "      <td>asheuriii</td>\n",
       "      <td>0</td>\n",
       "      <td>en</td>\n",
       "      <td>1</td>\n",
       "      <td>[User(username='BeastOfGoyim', id=145786421175...</td>\n",
       "      <td>[]</td>\n",
       "    </tr>\n",
       "    <tr>\n",
       "      <th>27001</th>\n",
       "      <td>29-05-2023</td>\n",
       "      <td>1663049602851807232</td>\n",
       "      <td>@ivy_wylder @ask_aubry I’ve been looking for s...</td>\n",
       "      <td>dan_dd</td>\n",
       "      <td>6</td>\n",
       "      <td>en</td>\n",
       "      <td>0</td>\n",
       "      <td>[User(username='ivy_wylder', id=12147283985404...</td>\n",
       "      <td>[]</td>\n",
       "    </tr>\n",
       "    <tr>\n",
       "      <th>27002</th>\n",
       "      <td>29-05-2023</td>\n",
       "      <td>1663049444613410816</td>\n",
       "      <td>Is someone gonna remake Facade with ChatGPT?</td>\n",
       "      <td>PwnySlaystation</td>\n",
       "      <td>1</td>\n",
       "      <td>en</td>\n",
       "      <td>0</td>\n",
       "      <td>NaN</td>\n",
       "      <td>[]</td>\n",
       "    </tr>\n",
       "    <tr>\n",
       "      <th>27003</th>\n",
       "      <td>29-05-2023</td>\n",
       "      <td>1663049350560514050</td>\n",
       "      <td>@shotgun2thehead chatgpt is really good people...</td>\n",
       "      <td>teengoatmance</td>\n",
       "      <td>1</td>\n",
       "      <td>en</td>\n",
       "      <td>1</td>\n",
       "      <td>[User(username='shotgun2thehead', id=257651288...</td>\n",
       "      <td>[]</td>\n",
       "    </tr>\n",
       "  </tbody>\n",
       "</table>\n",
       "<p>24964 rows × 9 columns</p>\n",
       "</div>"
      ],
      "text/plain": [
       "             date                   id  \\\n",
       "943    29-04-2023  1652462748792672257   \n",
       "944    29-04-2023  1652462745772597249   \n",
       "945    29-04-2023  1652462718920654883   \n",
       "946    29-04-2023  1652462702219132928   \n",
       "947    29-04-2023  1652462667003568129   \n",
       "...           ...                  ...   \n",
       "26999  29-05-2023  1663049685324398593   \n",
       "27000  29-05-2023  1663049619763499010   \n",
       "27001  29-05-2023  1663049602851807232   \n",
       "27002  29-05-2023  1663049444613410816   \n",
       "27003  29-05-2023  1663049350560514050   \n",
       "\n",
       "                                               tweetText             user  \\\n",
       "943    Some of the best #AI writing assistants in 202...      farahsays01   \n",
       "944    #RT @phocuswire: In an interview with PhocusWi...    CravenTravels   \n",
       "945    @skepoet and I discuss the internet, ChatGPT a...    ViewsParallax   \n",
       "946    The latest in #AI news.\\n\\nThey don’t want to ...         WhizPill   \n",
       "947    @Lyle_AI Well said, its those of us on the fro...  Luc_AI_Insights   \n",
       "...                                                  ...              ...   \n",
       "26999  idk abt u guys but im telling chatgpt thank yo...       gooddaymp3   \n",
       "27000  @BeastOfGoyim It already has when i tried it o...        asheuriii   \n",
       "27001  @ivy_wylder @ask_aubry I’ve been looking for s...           dan_dd   \n",
       "27002       Is someone gonna remake Facade with ChatGPT?  PwnySlaystation   \n",
       "27003  @shotgun2thehead chatgpt is really good people...    teengoatmance   \n",
       "\n",
       "       likeCount lang  replies  \\\n",
       "943            1   en        1   \n",
       "944            0   en        0   \n",
       "945            4   en        0   \n",
       "946            2   en        1   \n",
       "947            0   en        0   \n",
       "...          ...  ...      ...   \n",
       "26999          2   en        1   \n",
       "27000          0   en        1   \n",
       "27001          6   en        0   \n",
       "27002          1   en        0   \n",
       "27003          1   en        1   \n",
       "\n",
       "                                                mentions  \\\n",
       "943    [User(username='OpenAI', id=4398626122, displa...   \n",
       "944    [User(username='phocuswire', id=109269437, dis...   \n",
       "945    [User(username='skepoet', id=401715612, displa...   \n",
       "946    [User(username='OpenAI', id=4398626122, displa...   \n",
       "947    [User(username='Lyle_AI', id=165422263, displa...   \n",
       "...                                                  ...   \n",
       "26999                                                NaN   \n",
       "27000  [User(username='BeastOfGoyim', id=145786421175...   \n",
       "27001  [User(username='ivy_wylder', id=12147283985404...   \n",
       "27002                                                NaN   \n",
       "27003  [User(username='shotgun2thehead', id=257651288...   \n",
       "\n",
       "                                                outlinks  \n",
       "943                                                   []  \n",
       "944                           ['https://bit.ly/3LtSQlB']  \n",
       "945    ['https://www.patreon.com/posts/parallax-vlog-...  \n",
       "946                                                   []  \n",
       "947                                                   []  \n",
       "...                                                  ...  \n",
       "26999                                                 []  \n",
       "27000                                                 []  \n",
       "27001                                                 []  \n",
       "27002                                                 []  \n",
       "27003                                                 []  \n",
       "\n",
       "[24964 rows x 9 columns]"
      ]
     },
     "execution_count": 24,
     "metadata": {},
     "output_type": "execute_result"
    }
   ],
   "source": [
    "df"
   ]
  },
  {
   "cell_type": "code",
   "execution_count": 25,
   "id": "89a443d3",
   "metadata": {
    "execution": {
     "iopub.execute_input": "2023-02-25T09:16:15.631359Z",
     "iopub.status.busy": "2023-02-25T09:16:15.630348Z",
     "iopub.status.idle": "2023-02-25T09:16:15.637733Z",
     "shell.execute_reply": "2023-02-25T09:16:15.636831Z"
    },
    "papermill": {
     "duration": 0.034155,
     "end_time": "2023-02-25T09:16:15.639784",
     "exception": false,
     "start_time": "2023-02-25T09:16:15.605629",
     "status": "completed"
    },
    "tags": []
   },
   "outputs": [
    {
     "data": {
      "text/plain": [
       "array([   1,    0,    2,   23,    3,    6,    5,   10,    8,    4,   22,\n",
       "         13,    7,   17,   94,    9, 3712,   14,   26,   18,  331, 1361,\n",
       "        137,   42,   29,   15,  366,  119,   16,   53,  169,   27,   25,\n",
       "         34,   46,   73,   11,   35,  222,   19,   37,  114,  104,  121,\n",
       "         58,   20,   50, 1098,  781,   21,   41,   32, 1261,   12,  110,\n",
       "        117,  138,   64,   24,   47,  312,  103,   44,  101,   72,  478,\n",
       "         30,   31,   56,   87,   40,   43,   33,  195,   52,  502,  198,\n",
       "        362,  176,  113,  135,  188, 3073,  116,  150,  223,   86,   63,\n",
       "         66,  120,  134,   74,   28,   54,  224,   49,  927,  187,   67,\n",
       "       1284])"
      ]
     },
     "execution_count": 25,
     "metadata": {},
     "output_type": "execute_result"
    }
   ],
   "source": [
    "df['replies'].unique()"
   ]
  },
  {
   "cell_type": "code",
   "execution_count": 26,
   "id": "a5ea8b42",
   "metadata": {},
   "outputs": [
    {
     "data": {
      "text/plain": [
       "100"
      ]
     },
     "execution_count": 26,
     "metadata": {},
     "output_type": "execute_result"
    }
   ],
   "source": [
    "len(df['replies'].unique()) #numero di valori per il conteggio dei Reply"
   ]
  },
  {
   "cell_type": "code",
   "execution_count": 27,
   "id": "36ea21c9",
   "metadata": {
    "execution": {
     "iopub.execute_input": "2023-02-25T09:16:15.685410Z",
     "iopub.status.busy": "2023-02-25T09:16:15.684680Z",
     "iopub.status.idle": "2023-02-25T09:16:15.694175Z",
     "shell.execute_reply": "2023-02-25T09:16:15.692748Z"
    },
    "papermill": {
     "duration": 0.035156,
     "end_time": "2023-02-25T09:16:15.696514",
     "exception": false,
     "start_time": "2023-02-25T09:16:15.661358",
     "status": "completed"
    },
    "tags": []
   },
   "outputs": [
    {
     "data": {
      "text/plain": [
       "0       15807\n",
       "1        6456\n",
       "2        1413\n",
       "3         455\n",
       "4         205\n",
       "        ...  \n",
       "103         1\n",
       "101         1\n",
       "478         1\n",
       "87          1\n",
       "1284        1\n",
       "Name: replies, Length: 100, dtype: int64"
      ]
     },
     "execution_count": 27,
     "metadata": {},
     "output_type": "execute_result"
    }
   ],
   "source": [
    "df['replies'].value_counts()"
   ]
  },
  {
   "cell_type": "code",
   "execution_count": 29,
   "id": "a4e33a3c",
   "metadata": {
    "execution": {
     "iopub.execute_input": "2023-02-25T09:16:15.742197Z",
     "iopub.status.busy": "2023-02-25T09:16:15.741760Z",
     "iopub.status.idle": "2023-02-25T09:16:15.979043Z",
     "shell.execute_reply": "2023-02-25T09:16:15.977858Z"
    },
    "papermill": {
     "duration": 0.263069,
     "end_time": "2023-02-25T09:16:15.981355",
     "exception": false,
     "start_time": "2023-02-25T09:16:15.718286",
     "status": "completed"
    },
    "tags": []
   },
   "outputs": [
    {
     "data": {
      "image/png": "[encoded data removed]",
      "text/plain": [
       "<Figure size 1080x432 with 1 Axes>"
      ]
     },
     "metadata": {
      "needs_background": "light"
     },
     "output_type": "display_data"
    }
   ],
   "source": [
    "plt.figure(figsize=(15,6))\n",
    "sns.countplot(data=df, x='replies', order=df[\"replies\"].value_counts().index[:5])\n",
    "plt.xticks(rotation=90)\n",
    "plt.show()"
   ]
  },
  {
   "cell_type": "code",
   "execution_count": 30,
   "id": "4451a11d",
   "metadata": {
    "execution": {
     "iopub.execute_input": "2023-02-25T09:16:16.433134Z",
     "iopub.status.busy": "2023-02-25T09:16:16.432396Z",
     "iopub.status.idle": "2023-02-25T09:16:16.440937Z",
     "shell.execute_reply": "2023-02-25T09:16:16.439704Z"
    },
    "papermill": {
     "duration": 0.035284,
     "end_time": "2023-02-25T09:16:16.443174",
     "exception": false,
     "start_time": "2023-02-25T09:16:16.407890",
     "status": "completed"
    },
    "tags": []
   },
   "outputs": [
    {
     "data": {
      "text/plain": [
       "array([    1,     0,     4,     2,     5,     7,     6,     3,    17,\n",
       "          15,    11,    57,    13,    40,    50,    29,     8,   198,\n",
       "          28,    22,    54,    41,    21,     9,    64,   171,    71,\n",
       "          10,    18,    14,    39,    19,    26,   101,   221,    12,\n",
       "          37,    78,  2963,    23,    34,    35,    16,    25,    33,\n",
       "          55,    24,   170,    59,    63,    20,    36,    58,  4128,\n",
       "          96,   124,   194,    92,   247,    73,   169, 48534,    44,\n",
       "         452,    32,  1666,   131,    83,   617,    76,    85,   264,\n",
       "         315,    56,   840,    46,   858,    27,   166,   160,   406,\n",
       "         104,  1976,    87,    38,   749,    93,   202,    81,  3289,\n",
       "         163,    30,   102,   813,    60,    62,    86,    65,   514,\n",
       "          49,   262,    91,   132,    51,  1569,  1876,    31,  1177,\n",
       "       12950,   319,   125,   116,   239,   369,   232,    94, 32225,\n",
       "         112,   115,   186,   152,    95,   229,   105,    72,   587,\n",
       "          88,   750,    52,   305,   958,    74,   311,   227,   121,\n",
       "        2683,   128,   388,   214,  1813,   149,    43,   212,  1664,\n",
       "          98,  4216,    69,   337,  1608,  1039,   107,    68,   531,\n",
       "         159,    45,    99,  1990,   106,    47,  2498,   211,   174,\n",
       "         111,    97,   118,    70,    61,  3531,  5981,   151,   391,\n",
       "         666,   328,    42,   141,  1140,  1063,   197,  1334,   321,\n",
       "         179,   474,   870,   191,  2744,   346,   312,   569,  3323,\n",
       "          89,   743,   263,   237,    82,   379,   168,   113,    75,\n",
       "         122,    53,    90,   668,   126,   157,   719,   145,   223,\n",
       "         426,   172,   435,    80,   123,   108,   271,    48,    84,\n",
       "         571,  1147,   100,   199,   283,   327,    67,   504,   449,\n",
       "         103,   245,   401,   187,   560, 14060,    77,   345,  1774,\n",
       "         287,   130,  1888,   195,   375,  1284,   190,  2287,   188,\n",
       "         261,   522,   178,   558,  1021,   872,  1644,  1357,  2901,\n",
       "        3506,   507,  2680,    66,   148,   424,   127,   238,   343,\n",
       "         373,   625,   438,   228,   225,   365,   200,   353,   922,\n",
       "         460,   177,  1504,   518,  1938,   275,    79,  4845,   995,\n",
       "         867,   243,   563,   255,   550,   109,  2885,   173,  1134,\n",
       "         326,   637,   146,   158,   119,  1642,  1649,   964,   301,\n",
       "         318,  1297,   139,   354])"
      ]
     },
     "execution_count": 30,
     "metadata": {},
     "output_type": "execute_result"
    }
   ],
   "source": [
    "df['likeCount'].unique()"
   ]
  },
  {
   "cell_type": "code",
   "execution_count": 31,
   "id": "277b356e",
   "metadata": {
    "execution": {
     "iopub.execute_input": "2023-02-25T09:16:16.491300Z",
     "iopub.status.busy": "2023-02-25T09:16:16.490866Z",
     "iopub.status.idle": "2023-02-25T09:16:16.500256Z",
     "shell.execute_reply": "2023-02-25T09:16:16.498955Z"
    },
    "papermill": {
     "duration": 0.036306,
     "end_time": "2023-02-25T09:16:16.502510",
     "exception": false,
     "start_time": "2023-02-25T09:16:16.466204",
     "status": "completed"
    },
    "tags": []
   },
   "outputs": [
    {
     "data": {
      "text/plain": [
       "0       12181\n",
       "1        5433\n",
       "2        2211\n",
       "3        1159\n",
       "4         693\n",
       "        ...  \n",
       "197         1\n",
       "1334        1\n",
       "321         1\n",
       "179         1\n",
       "354         1\n",
       "Name: likeCount, Length: 301, dtype: int64"
      ]
     },
     "execution_count": 31,
     "metadata": {},
     "output_type": "execute_result"
    }
   ],
   "source": [
    "df['likeCount'].value_counts()"
   ]
  },
  {
   "cell_type": "code",
   "execution_count": 32,
   "id": "819843d5",
   "metadata": {
    "execution": {
     "iopub.execute_input": "2023-02-25T09:16:16.551209Z",
     "iopub.status.busy": "2023-02-25T09:16:16.550086Z",
     "iopub.status.idle": "2023-02-25T09:16:16.811141Z",
     "shell.execute_reply": "2023-02-25T09:16:16.810131Z"
    },
    "papermill": {
     "duration": 0.287654,
     "end_time": "2023-02-25T09:16:16.813199",
     "exception": false,
     "start_time": "2023-02-25T09:16:16.525545",
     "status": "completed"
    },
    "tags": []
   },
   "outputs": [
    {
     "data": {
      "image/png": "[encoded data removed]",
      "text/plain": [
       "<Figure size 1080x432 with 1 Axes>"
      ]
     },
     "metadata": {
      "needs_background": "light"
     },
     "output_type": "display_data"
    }
   ],
   "source": [
    "plt.figure(figsize=(15,6))\n",
    "sns.countplot(data=df, x='likeCount', order=df[\"likeCount\"].value_counts().index[:10])\n",
    "plt.xticks(rotation=90)\n",
    "plt.show()"
   ]
  },
  {
   "cell_type": "code",
   "execution_count": 33,
   "id": "32468597",
   "metadata": {},
   "outputs": [
    {
     "name": "stdout",
     "output_type": "stream",
     "text": [
      "Requirement already satisfied: wordcloud in /Applications/anaconda3/lib/python3.9/site-packages (1.9.2)\n",
      "Requirement already satisfied: pillow in /Applications/anaconda3/lib/python3.9/site-packages (from wordcloud) (9.0.1)\n",
      "Requirement already satisfied: numpy>=1.6.1 in /Applications/anaconda3/lib/python3.9/site-packages (from wordcloud) (1.21.5)\n",
      "Requirement already satisfied: matplotlib in /Applications/anaconda3/lib/python3.9/site-packages (from wordcloud) (3.5.1)\n",
      "Requirement already satisfied: packaging>=20.0 in /Applications/anaconda3/lib/python3.9/site-packages (from matplotlib->wordcloud) (21.3)\n",
      "Requirement already satisfied: pyparsing>=2.2.1 in /Applications/anaconda3/lib/python3.9/site-packages (from matplotlib->wordcloud) (3.0.4)\n",
      "Requirement already satisfied: fonttools>=4.22.0 in /Applications/anaconda3/lib/python3.9/site-packages (from matplotlib->wordcloud) (4.25.0)\n",
      "Requirement already satisfied: kiwisolver>=1.0.1 in /Applications/anaconda3/lib/python3.9/site-packages (from matplotlib->wordcloud) (1.3.2)\n",
      "Requirement already satisfied: python-dateutil>=2.7 in /Applications/anaconda3/lib/python3.9/site-packages (from matplotlib->wordcloud) (2.8.2)\n",
      "Requirement already satisfied: cycler>=0.10 in /Applications/anaconda3/lib/python3.9/site-packages (from matplotlib->wordcloud) (0.11.0)\n",
      "Requirement already satisfied: six>=1.5 in /Applications/anaconda3/lib/python3.9/site-packages (from python-dateutil>=2.7->matplotlib->wordcloud) (1.16.0)\n",
      "Note: you may need to restart the kernel to use updated packages.\n"
     ]
    }
   ],
   "source": [
    "pip install wordcloud"
   ]
  },
  {
   "cell_type": "code",
   "execution_count": 34,
   "id": "eb6e8746",
   "metadata": {},
   "outputs": [],
   "source": [
    "import re\n",
    "from wordcloud import WordCloud, STOPWORDS"
   ]
  },
  {
   "cell_type": "code",
   "execution_count": 35,
   "id": "a1236945",
   "metadata": {
    "execution": {
     "iopub.execute_input": "2023-02-25T09:16:18.895656Z",
     "iopub.status.busy": "2023-02-25T09:16:18.894450Z",
     "iopub.status.idle": "2023-02-25T09:16:19.952507Z",
     "shell.execute_reply": "2023-02-25T09:16:19.951020Z"
    },
    "papermill": {
     "duration": 1.09456,
     "end_time": "2023-02-25T09:16:19.955470",
     "exception": false,
     "start_time": "2023-02-25T09:16:18.860910",
     "status": "completed"
    },
    "tags": []
   },
   "outputs": [],
   "source": [
    "\n",
    "from sklearn.decomposition import LatentDirichletAllocation\n",
    "from collections import Counter\n",
    "from nltk.sentiment import SentimentIntensityAnalyzer\n"
   ]
  },
  {
   "cell_type": "code",
   "execution_count": 44,
   "id": "90f5a721",
   "metadata": {},
   "outputs": [],
   "source": [
    "# Percorso del font TrueType\n",
    "#font_path = 'percorso_del_font.ttf'\n",
    "\n",
    "# Creazione della tag cloud con il percorso del font specificato\n",
    "#wordcloud = WordCloud(font_path=font_path)"
   ]
  },
  {
   "cell_type": "code",
   "execution_count": 36,
   "id": "0b2a268e",
   "metadata": {
    "execution": {
     "iopub.execute_input": "2023-02-25T09:16:20.021896Z",
     "iopub.status.busy": "2023-02-25T09:16:20.021444Z",
     "iopub.status.idle": "2023-02-25T09:16:20.029949Z",
     "shell.execute_reply": "2023-02-25T09:16:20.028724Z"
    },
    "papermill": {
     "duration": 0.044464,
     "end_time": "2023-02-25T09:16:20.032189",
     "exception": false,
     "start_time": "2023-02-25T09:16:19.987725",
     "status": "completed"
    },
    "tags": []
   },
   "outputs": [],
   "source": [
    "stopwords = set(STOPWORDS)\n",
    "\n",
    "def show_wordcloud(data, mask=None, title=\"\"):\n",
    "    text = \" \".join(t for t in data.dropna())\n",
    "    stopwords = set(STOPWORDS)\n",
    "    stopwords.update([\"t\", \"co\", \"https\", \"amp\", \"U\", \"Comment\", \"text\", \"attr\", \"object\"])\n",
    "    wordcloud = WordCloud(stopwords=stopwords, scale=4, max_font_size=50, max_words=500,mask=mask, background_color=\"white\").generate(text)\n",
    "    fig = plt.figure(1, figsize=(16,16))\n",
    "    plt.axis('off')\n",
    "    fig.suptitle(title, fontsize=20)\n",
    "    fig.subplots_adjust(top=2.3)\n",
    "    plt.imshow(wordcloud, interpolation='bilinear')\n",
    "    plt.show() "
   ]
  },
  {
   "cell_type": "code",
   "execution_count": 37,
   "id": "cd9fb51c",
   "metadata": {
    "execution": {
     "iopub.execute_input": "2023-02-25T09:16:20.097868Z",
     "iopub.status.busy": "2023-02-25T09:16:20.097164Z",
     "iopub.status.idle": "2023-02-25T09:16:27.392166Z",
     "shell.execute_reply": "2023-02-25T09:16:27.390837Z"
    },
    "papermill": {
     "duration": 7.338985,
     "end_time": "2023-02-25T09:16:27.403299",
     "exception": false,
     "start_time": "2023-02-25T09:16:20.064314",
     "status": "completed"
    },
    "tags": []
   },
   "outputs": [
    {
     "ename": "ValueError",
     "evalue": "Only supported for TrueType fonts",
     "output_type": "error",
     "traceback": [
      "\u001b[0;31m---------------------------------------------------------------------------\u001b[0m",
      "\u001b[0;31mValueError\u001b[0m                                Traceback (most recent call last)",
      "Input \u001b[0;32mIn [37]\u001b[0m, in \u001b[0;36m<cell line: 1>\u001b[0;34m()\u001b[0m\n\u001b[0;32m----> 1\u001b[0m \u001b[43mshow_wordcloud\u001b[49m\u001b[43m(\u001b[49m\u001b[43mdf\u001b[49m\u001b[43m[\u001b[49m\u001b[38;5;124;43m'\u001b[39;49m\u001b[38;5;124;43mtweetText\u001b[39;49m\u001b[38;5;124;43m'\u001b[39;49m\u001b[43m]\u001b[49m\u001b[43m,\u001b[49m\u001b[43m \u001b[49m\u001b[43mtitle\u001b[49m\u001b[43m \u001b[49m\u001b[38;5;241;43m=\u001b[39;49m\u001b[43m \u001b[49m\u001b[38;5;124;43m'\u001b[39;49m\u001b[38;5;124;43mPrevalent words in tweets\u001b[39;49m\u001b[38;5;124;43m'\u001b[39;49m\u001b[43m)\u001b[49m\n",
      "Input \u001b[0;32mIn [36]\u001b[0m, in \u001b[0;36mshow_wordcloud\u001b[0;34m(data, mask, title)\u001b[0m\n\u001b[1;32m      5\u001b[0m stopwords \u001b[38;5;241m=\u001b[39m \u001b[38;5;28mset\u001b[39m(STOPWORDS)\n\u001b[1;32m      6\u001b[0m stopwords\u001b[38;5;241m.\u001b[39mupdate([\u001b[38;5;124m\"\u001b[39m\u001b[38;5;124mt\u001b[39m\u001b[38;5;124m\"\u001b[39m, \u001b[38;5;124m\"\u001b[39m\u001b[38;5;124mco\u001b[39m\u001b[38;5;124m\"\u001b[39m, \u001b[38;5;124m\"\u001b[39m\u001b[38;5;124mhttps\u001b[39m\u001b[38;5;124m\"\u001b[39m, \u001b[38;5;124m\"\u001b[39m\u001b[38;5;124mamp\u001b[39m\u001b[38;5;124m\"\u001b[39m, \u001b[38;5;124m\"\u001b[39m\u001b[38;5;124mU\u001b[39m\u001b[38;5;124m\"\u001b[39m, \u001b[38;5;124m\"\u001b[39m\u001b[38;5;124mComment\u001b[39m\u001b[38;5;124m\"\u001b[39m, \u001b[38;5;124m\"\u001b[39m\u001b[38;5;124mtext\u001b[39m\u001b[38;5;124m\"\u001b[39m, \u001b[38;5;124m\"\u001b[39m\u001b[38;5;124mattr\u001b[39m\u001b[38;5;124m\"\u001b[39m, \u001b[38;5;124m\"\u001b[39m\u001b[38;5;124mobject\u001b[39m\u001b[38;5;124m\"\u001b[39m])\n\u001b[0;32m----> 7\u001b[0m wordcloud \u001b[38;5;241m=\u001b[39m \u001b[43mWordCloud\u001b[49m\u001b[43m(\u001b[49m\u001b[43mstopwords\u001b[49m\u001b[38;5;241;43m=\u001b[39;49m\u001b[43mstopwords\u001b[49m\u001b[43m,\u001b[49m\u001b[43m \u001b[49m\u001b[43mscale\u001b[49m\u001b[38;5;241;43m=\u001b[39;49m\u001b[38;5;241;43m4\u001b[39;49m\u001b[43m,\u001b[49m\u001b[43m \u001b[49m\u001b[43mmax_font_size\u001b[49m\u001b[38;5;241;43m=\u001b[39;49m\u001b[38;5;241;43m50\u001b[39;49m\u001b[43m,\u001b[49m\u001b[43m \u001b[49m\u001b[43mmax_words\u001b[49m\u001b[38;5;241;43m=\u001b[39;49m\u001b[38;5;241;43m500\u001b[39;49m\u001b[43m,\u001b[49m\u001b[43mmask\u001b[49m\u001b[38;5;241;43m=\u001b[39;49m\u001b[43mmask\u001b[49m\u001b[43m,\u001b[49m\u001b[43m \u001b[49m\u001b[43mbackground_color\u001b[49m\u001b[38;5;241;43m=\u001b[39;49m\u001b[38;5;124;43m\"\u001b[39;49m\u001b[38;5;124;43mwhite\u001b[39;49m\u001b[38;5;124;43m\"\u001b[39;49m\u001b[43m)\u001b[49m\u001b[38;5;241;43m.\u001b[39;49m\u001b[43mgenerate\u001b[49m\u001b[43m(\u001b[49m\u001b[43mtext\u001b[49m\u001b[43m)\u001b[49m\n\u001b[1;32m      8\u001b[0m fig \u001b[38;5;241m=\u001b[39m plt\u001b[38;5;241m.\u001b[39mfigure(\u001b[38;5;241m1\u001b[39m, figsize\u001b[38;5;241m=\u001b[39m(\u001b[38;5;241m16\u001b[39m,\u001b[38;5;241m16\u001b[39m))\n\u001b[1;32m      9\u001b[0m plt\u001b[38;5;241m.\u001b[39maxis(\u001b[38;5;124m'\u001b[39m\u001b[38;5;124moff\u001b[39m\u001b[38;5;124m'\u001b[39m)\n",
      "File \u001b[0;32m/Applications/anaconda3/lib/python3.9/site-packages/wordcloud/wordcloud.py:639\u001b[0m, in \u001b[0;36mWordCloud.generate\u001b[0;34m(self, text)\u001b[0m\n\u001b[1;32m    624\u001b[0m \u001b[38;5;28;01mdef\u001b[39;00m \u001b[38;5;21mgenerate\u001b[39m(\u001b[38;5;28mself\u001b[39m, text):\n\u001b[1;32m    625\u001b[0m     \u001b[38;5;124;03m\"\"\"Generate wordcloud from text.\u001b[39;00m\n\u001b[1;32m    626\u001b[0m \n\u001b[1;32m    627\u001b[0m \u001b[38;5;124;03m    The input \"text\" is expected to be a natural text. If you pass a sorted\u001b[39;00m\n\u001b[0;32m   (...)\u001b[0m\n\u001b[1;32m    637\u001b[0m \u001b[38;5;124;03m    self\u001b[39;00m\n\u001b[1;32m    638\u001b[0m \u001b[38;5;124;03m    \"\"\"\u001b[39;00m\n\u001b[0;32m--> 639\u001b[0m     \u001b[38;5;28;01mreturn\u001b[39;00m \u001b[38;5;28;43mself\u001b[39;49m\u001b[38;5;241;43m.\u001b[39;49m\u001b[43mgenerate_from_text\u001b[49m\u001b[43m(\u001b[49m\u001b[43mtext\u001b[49m\u001b[43m)\u001b[49m\n",
      "File \u001b[0;32m/Applications/anaconda3/lib/python3.9/site-packages/wordcloud/wordcloud.py:621\u001b[0m, in \u001b[0;36mWordCloud.generate_from_text\u001b[0;34m(self, text)\u001b[0m\n\u001b[1;32m    604\u001b[0m \u001b[38;5;124;03m\"\"\"Generate wordcloud from text.\u001b[39;00m\n\u001b[1;32m    605\u001b[0m \n\u001b[1;32m    606\u001b[0m \u001b[38;5;124;03mThe input \"text\" is expected to be a natural text. If you pass a sorted\u001b[39;00m\n\u001b[0;32m   (...)\u001b[0m\n\u001b[1;32m    618\u001b[0m \u001b[38;5;124;03mself\u001b[39;00m\n\u001b[1;32m    619\u001b[0m \u001b[38;5;124;03m\"\"\"\u001b[39;00m\n\u001b[1;32m    620\u001b[0m words \u001b[38;5;241m=\u001b[39m \u001b[38;5;28mself\u001b[39m\u001b[38;5;241m.\u001b[39mprocess_text(text)\n\u001b[0;32m--> 621\u001b[0m \u001b[38;5;28;43mself\u001b[39;49m\u001b[38;5;241;43m.\u001b[39;49m\u001b[43mgenerate_from_frequencies\u001b[49m\u001b[43m(\u001b[49m\u001b[43mwords\u001b[49m\u001b[43m)\u001b[49m\n\u001b[1;32m    622\u001b[0m \u001b[38;5;28;01mreturn\u001b[39;00m \u001b[38;5;28mself\u001b[39m\n",
      "File \u001b[0;32m/Applications/anaconda3/lib/python3.9/site-packages/wordcloud/wordcloud.py:508\u001b[0m, in \u001b[0;36mWordCloud.generate_from_frequencies\u001b[0;34m(self, frequencies, max_font_size)\u001b[0m\n\u001b[1;32m    505\u001b[0m transposed_font \u001b[38;5;241m=\u001b[39m ImageFont\u001b[38;5;241m.\u001b[39mTransposedFont(\n\u001b[1;32m    506\u001b[0m     font, orientation\u001b[38;5;241m=\u001b[39morientation)\n\u001b[1;32m    507\u001b[0m \u001b[38;5;66;03m# get size of resulting text\u001b[39;00m\n\u001b[0;32m--> 508\u001b[0m box_size \u001b[38;5;241m=\u001b[39m \u001b[43mdraw\u001b[49m\u001b[38;5;241;43m.\u001b[39;49m\u001b[43mtextbbox\u001b[49m\u001b[43m(\u001b[49m\u001b[43m(\u001b[49m\u001b[38;5;241;43m0\u001b[39;49m\u001b[43m,\u001b[49m\u001b[43m \u001b[49m\u001b[38;5;241;43m0\u001b[39;49m\u001b[43m)\u001b[49m\u001b[43m,\u001b[49m\u001b[43m \u001b[49m\u001b[43mword\u001b[49m\u001b[43m,\u001b[49m\u001b[43m \u001b[49m\u001b[43mfont\u001b[49m\u001b[38;5;241;43m=\u001b[39;49m\u001b[43mtransposed_font\u001b[49m\u001b[43m,\u001b[49m\u001b[43m \u001b[49m\u001b[43manchor\u001b[49m\u001b[38;5;241;43m=\u001b[39;49m\u001b[38;5;124;43m\"\u001b[39;49m\u001b[38;5;124;43mlt\u001b[39;49m\u001b[38;5;124;43m\"\u001b[39;49m\u001b[43m)\u001b[49m\n\u001b[1;32m    509\u001b[0m \u001b[38;5;66;03m# find possible places using integral image:\u001b[39;00m\n\u001b[1;32m    510\u001b[0m result \u001b[38;5;241m=\u001b[39m occupancy\u001b[38;5;241m.\u001b[39msample_position(box_size[\u001b[38;5;241m3\u001b[39m] \u001b[38;5;241m+\u001b[39m \u001b[38;5;28mself\u001b[39m\u001b[38;5;241m.\u001b[39mmargin,\n\u001b[1;32m    511\u001b[0m                                    box_size[\u001b[38;5;241m2\u001b[39m] \u001b[38;5;241m+\u001b[39m \u001b[38;5;28mself\u001b[39m\u001b[38;5;241m.\u001b[39mmargin,\n\u001b[1;32m    512\u001b[0m                                    random_state)\n",
      "File \u001b[0;32m/Applications/anaconda3/lib/python3.9/site-packages/PIL/ImageDraw.py:671\u001b[0m, in \u001b[0;36mImageDraw.textbbox\u001b[0;34m(self, xy, text, font, anchor, spacing, align, direction, features, language, stroke_width, embedded_color)\u001b[0m\n\u001b[1;32m    669\u001b[0m     font \u001b[38;5;241m=\u001b[39m \u001b[38;5;28mself\u001b[39m\u001b[38;5;241m.\u001b[39mgetfont()\n\u001b[1;32m    670\u001b[0m \u001b[38;5;28;01mif\u001b[39;00m \u001b[38;5;129;01mnot\u001b[39;00m \u001b[38;5;28misinstance\u001b[39m(font, ImageFont\u001b[38;5;241m.\u001b[39mFreeTypeFont):\n\u001b[0;32m--> 671\u001b[0m     \u001b[38;5;28;01mraise\u001b[39;00m \u001b[38;5;167;01mValueError\u001b[39;00m(\u001b[38;5;124m\"\u001b[39m\u001b[38;5;124mOnly supported for TrueType fonts\u001b[39m\u001b[38;5;124m\"\u001b[39m)\n\u001b[1;32m    672\u001b[0m mode \u001b[38;5;241m=\u001b[39m \u001b[38;5;124m\"\u001b[39m\u001b[38;5;124mRGBA\u001b[39m\u001b[38;5;124m\"\u001b[39m \u001b[38;5;28;01mif\u001b[39;00m embedded_color \u001b[38;5;28;01melse\u001b[39;00m \u001b[38;5;28mself\u001b[39m\u001b[38;5;241m.\u001b[39mfontmode\n\u001b[1;32m    673\u001b[0m bbox \u001b[38;5;241m=\u001b[39m font\u001b[38;5;241m.\u001b[39mgetbbox(\n\u001b[1;32m    674\u001b[0m     text, mode, direction, features, language, stroke_width, anchor\n\u001b[1;32m    675\u001b[0m )\n",
      "\u001b[0;31mValueError\u001b[0m: Only supported for TrueType fonts"
     ]
    }
   ],
   "source": [
    "show_wordcloud(df['tweetText'], title = 'Prevalent words in tweets')"
   ]
  },
  {
   "cell_type": "code",
   "execution_count": null,
   "id": "a9fe8905",
   "metadata": {
    "execution": {
     "iopub.execute_input": "2023-02-25T09:16:27.496206Z",
     "iopub.status.busy": "2023-02-25T09:16:27.495761Z",
     "iopub.status.idle": "2023-02-25T09:16:27.530867Z",
     "shell.execute_reply": "2023-02-25T09:16:27.529761Z"
    },
    "papermill": {
     "duration": 0.084861,
     "end_time": "2023-02-25T09:16:27.533626",
     "exception": false,
     "start_time": "2023-02-25T09:16:27.448765",
     "status": "completed"
    },
    "tags": []
   },
   "outputs": [],
   "source": [
    "#df['Datetime'] = pd.to_datetime(df['date']) #trasformo i valori temporali\n",
    "#df"
   ]
  },
  {
   "cell_type": "code",
   "execution_count": 40,
   "id": "95c3f0b8",
   "metadata": {
    "execution": {
     "iopub.execute_input": "2023-02-25T09:16:27.625812Z",
     "iopub.status.busy": "2023-02-25T09:16:27.624718Z",
     "iopub.status.idle": "2023-02-25T09:16:27.689012Z",
     "shell.execute_reply": "2023-02-25T09:16:27.687823Z"
    },
    "papermill": {
     "duration": 0.113091,
     "end_time": "2023-02-25T09:16:27.691749",
     "exception": false,
     "start_time": "2023-02-25T09:16:27.578658",
     "status": "completed"
    },
    "tags": []
   },
   "outputs": [
    {
     "ename": "AttributeError",
     "evalue": "Can only use .dt accessor with datetimelike values",
     "output_type": "error",
     "traceback": [
      "\u001b[0;31m---------------------------------------------------------------------------\u001b[0m",
      "\u001b[0;31mAttributeError\u001b[0m                            Traceback (most recent call last)",
      "Input \u001b[0;32mIn [40]\u001b[0m, in \u001b[0;36m<cell line: 1>\u001b[0;34m()\u001b[0m\n\u001b[0;32m----> 1\u001b[0m df[\u001b[38;5;124m'\u001b[39m\u001b[38;5;124myear\u001b[39m\u001b[38;5;124m'\u001b[39m] \u001b[38;5;241m=\u001b[39m \u001b[43mdf\u001b[49m\u001b[43m[\u001b[49m\u001b[38;5;124;43m'\u001b[39;49m\u001b[38;5;124;43mdate\u001b[39;49m\u001b[38;5;124;43m'\u001b[39;49m\u001b[43m]\u001b[49m\u001b[38;5;241;43m.\u001b[39;49m\u001b[43mdt\u001b[49m\u001b[38;5;241m.\u001b[39myear\n\u001b[1;32m      2\u001b[0m df[\u001b[38;5;124m'\u001b[39m\u001b[38;5;124mmonth\u001b[39m\u001b[38;5;124m'\u001b[39m] \u001b[38;5;241m=\u001b[39m df[\u001b[38;5;124m'\u001b[39m\u001b[38;5;124mdate\u001b[39m\u001b[38;5;124m'\u001b[39m]\u001b[38;5;241m.\u001b[39mdt\u001b[38;5;241m.\u001b[39mmonth\n\u001b[1;32m      3\u001b[0m df[\u001b[38;5;124m'\u001b[39m\u001b[38;5;124mday\u001b[39m\u001b[38;5;124m'\u001b[39m] \u001b[38;5;241m=\u001b[39m df[\u001b[38;5;124m'\u001b[39m\u001b[38;5;124mdate\u001b[39m\u001b[38;5;124m'\u001b[39m]\u001b[38;5;241m.\u001b[39mdt\u001b[38;5;241m.\u001b[39mday\n",
      "File \u001b[0;32m/Applications/anaconda3/lib/python3.9/site-packages/pandas/core/generic.py:5575\u001b[0m, in \u001b[0;36mNDFrame.__getattr__\u001b[0;34m(self, name)\u001b[0m\n\u001b[1;32m   5568\u001b[0m \u001b[38;5;28;01mif\u001b[39;00m (\n\u001b[1;32m   5569\u001b[0m     name \u001b[38;5;129;01mnot\u001b[39;00m \u001b[38;5;129;01min\u001b[39;00m \u001b[38;5;28mself\u001b[39m\u001b[38;5;241m.\u001b[39m_internal_names_set\n\u001b[1;32m   5570\u001b[0m     \u001b[38;5;129;01mand\u001b[39;00m name \u001b[38;5;129;01mnot\u001b[39;00m \u001b[38;5;129;01min\u001b[39;00m \u001b[38;5;28mself\u001b[39m\u001b[38;5;241m.\u001b[39m_metadata\n\u001b[1;32m   5571\u001b[0m     \u001b[38;5;129;01mand\u001b[39;00m name \u001b[38;5;129;01mnot\u001b[39;00m \u001b[38;5;129;01min\u001b[39;00m \u001b[38;5;28mself\u001b[39m\u001b[38;5;241m.\u001b[39m_accessors\n\u001b[1;32m   5572\u001b[0m     \u001b[38;5;129;01mand\u001b[39;00m \u001b[38;5;28mself\u001b[39m\u001b[38;5;241m.\u001b[39m_info_axis\u001b[38;5;241m.\u001b[39m_can_hold_identifiers_and_holds_name(name)\n\u001b[1;32m   5573\u001b[0m ):\n\u001b[1;32m   5574\u001b[0m     \u001b[38;5;28;01mreturn\u001b[39;00m \u001b[38;5;28mself\u001b[39m[name]\n\u001b[0;32m-> 5575\u001b[0m \u001b[38;5;28;01mreturn\u001b[39;00m \u001b[38;5;28;43mobject\u001b[39;49m\u001b[38;5;241;43m.\u001b[39;49m\u001b[38;5;21;43m__getattribute__\u001b[39;49m\u001b[43m(\u001b[49m\u001b[38;5;28;43mself\u001b[39;49m\u001b[43m,\u001b[49m\u001b[43m \u001b[49m\u001b[43mname\u001b[49m\u001b[43m)\u001b[49m\n",
      "File \u001b[0;32m/Applications/anaconda3/lib/python3.9/site-packages/pandas/core/accessor.py:182\u001b[0m, in \u001b[0;36mCachedAccessor.__get__\u001b[0;34m(self, obj, cls)\u001b[0m\n\u001b[1;32m    179\u001b[0m \u001b[38;5;28;01mif\u001b[39;00m obj \u001b[38;5;129;01mis\u001b[39;00m \u001b[38;5;28;01mNone\u001b[39;00m:\n\u001b[1;32m    180\u001b[0m     \u001b[38;5;66;03m# we're accessing the attribute of the class, i.e., Dataset.geo\u001b[39;00m\n\u001b[1;32m    181\u001b[0m     \u001b[38;5;28;01mreturn\u001b[39;00m \u001b[38;5;28mself\u001b[39m\u001b[38;5;241m.\u001b[39m_accessor\n\u001b[0;32m--> 182\u001b[0m accessor_obj \u001b[38;5;241m=\u001b[39m \u001b[38;5;28;43mself\u001b[39;49m\u001b[38;5;241;43m.\u001b[39;49m\u001b[43m_accessor\u001b[49m\u001b[43m(\u001b[49m\u001b[43mobj\u001b[49m\u001b[43m)\u001b[49m\n\u001b[1;32m    183\u001b[0m \u001b[38;5;66;03m# Replace the property with the accessor object. Inspired by:\u001b[39;00m\n\u001b[1;32m    184\u001b[0m \u001b[38;5;66;03m# https://www.pydanny.com/cached-property.html\u001b[39;00m\n\u001b[1;32m    185\u001b[0m \u001b[38;5;66;03m# We need to use object.__setattr__ because we overwrite __setattr__ on\u001b[39;00m\n\u001b[1;32m    186\u001b[0m \u001b[38;5;66;03m# NDFrame\u001b[39;00m\n\u001b[1;32m    187\u001b[0m \u001b[38;5;28mobject\u001b[39m\u001b[38;5;241m.\u001b[39m\u001b[38;5;21m__setattr__\u001b[39m(obj, \u001b[38;5;28mself\u001b[39m\u001b[38;5;241m.\u001b[39m_name, accessor_obj)\n",
      "File \u001b[0;32m/Applications/anaconda3/lib/python3.9/site-packages/pandas/core/indexes/accessors.py:509\u001b[0m, in \u001b[0;36mCombinedDatetimelikeProperties.__new__\u001b[0;34m(cls, data)\u001b[0m\n\u001b[1;32m    506\u001b[0m \u001b[38;5;28;01melif\u001b[39;00m is_period_dtype(data\u001b[38;5;241m.\u001b[39mdtype):\n\u001b[1;32m    507\u001b[0m     \u001b[38;5;28;01mreturn\u001b[39;00m PeriodProperties(data, orig)\n\u001b[0;32m--> 509\u001b[0m \u001b[38;5;28;01mraise\u001b[39;00m \u001b[38;5;167;01mAttributeError\u001b[39;00m(\u001b[38;5;124m\"\u001b[39m\u001b[38;5;124mCan only use .dt accessor with datetimelike values\u001b[39m\u001b[38;5;124m\"\u001b[39m)\n",
      "\u001b[0;31mAttributeError\u001b[0m: Can only use .dt accessor with datetimelike values"
     ]
    }
   ],
   "source": [
    "#df['year'] = df['date'].dt.year\n",
    "#df['month'] = df['date'].dt.month\n",
    "#df['day'] = df['date'].dt.day\n",
    "#df['dayofweek'] = df['Datetime'].dt.dayofweek\n",
    "#df['hour'] = df['Datetime'].dt.hour\n",
    "#df['minute'] = df['Datetime'].dt.minute\n",
    "#df['dayofyear'] = df['Datetime'].dt.dayofyear\n",
    "#df['date_only'] = df['Datetime'].dt.date"
   ]
  },
  {
   "cell_type": "code",
   "execution_count": 43,
   "id": "eb89ea72",
   "metadata": {
    "execution": {
     "iopub.execute_input": "2023-02-25T09:16:27.785183Z",
     "iopub.status.busy": "2023-02-25T09:16:27.783983Z",
     "iopub.status.idle": "2023-02-25T09:16:27.805480Z",
     "shell.execute_reply": "2023-02-25T09:16:27.804235Z"
    },
    "papermill": {
     "duration": 0.071538,
     "end_time": "2023-02-25T09:16:27.808272",
     "exception": false,
     "start_time": "2023-02-25T09:16:27.736734",
     "status": "completed"
    },
    "tags": []
   },
   "outputs": [],
   "source": [
    "tweets_agg_df = df.groupby([\"date\"])[\"tweetText\"].count().reset_index()\n",
    "tweets_agg_df.columns = [\"date\", \"count\"]"
   ]
  },
  {
   "cell_type": "code",
   "execution_count": 50,
   "id": "4aec92c0",
   "metadata": {
    "execution": {
     "iopub.execute_input": "2023-02-25T09:16:27.900853Z",
     "iopub.status.busy": "2023-02-25T09:16:27.900376Z",
     "iopub.status.idle": "2023-02-25T09:16:27.909639Z",
     "shell.execute_reply": "2023-02-25T09:16:27.908243Z"
    },
    "papermill": {
     "duration": 0.058634,
     "end_time": "2023-02-25T09:16:27.912129",
     "exception": false,
     "start_time": "2023-02-25T09:16:27.853495",
     "status": "completed"
    },
    "tags": []
   },
   "outputs": [
    {
     "ename": "SyntaxError",
     "evalue": "invalid syntax (372309707.py, line 1)",
     "output_type": "error",
     "traceback": [
      "\u001b[0;36m  Input \u001b[0;32mIn [50]\u001b[0;36m\u001b[0m\n\u001b[0;31m    ef plot_time_variation(df, x='date', y='count', hue=None, size=1, title=\"\", is_log=False):\u001b[0m\n\u001b[0m       ^\u001b[0m\n\u001b[0;31mSyntaxError\u001b[0m\u001b[0;31m:\u001b[0m invalid syntax\n"
     ]
    }
   ],
   "source": [
    "ef plot_time_variation(df, x='date', y='count', hue=None, size=1, title=\"\", is_log=False):\n",
    "    sns.set(style=\"whitegrid\")                                                 \n",
    "    paper_rc = {'lines.linewidth': 3, 'lines.markersize': 20}                  \n",
    "    sns.set_context(\"paper\", rc = paper_rc)  \n",
    "    f, ax = plt.subplots(1,1, figsize=(4*size,3*size))\n",
    "    g = sns.lineplot(x=x, y=y, hue=hue, data=df)\n",
    "    plt.xticks(rotation=90)\n",
    "    if hue:\n",
    "        plt.title(f'{y} grouped by {hue} | {title}')\n",
    "    else:\n",
    "        plt.title(f'{y} | {title}')\n",
    "    if(is_log):\n",
    "        ax.set(yscale=\"log\")\n",
    "    ax.grid(color='black', linestyle='dotted', linewidth=0.75)\n",
    "    plt.show() \n"
   ]
  },
  {
   "cell_type": "code",
   "execution_count": 51,
   "id": "73478fa7",
   "metadata": {
    "execution": {
     "iopub.execute_input": "2023-02-25T09:16:28.004896Z",
     "iopub.status.busy": "2023-02-25T09:16:28.004447Z",
     "iopub.status.idle": "2023-02-25T09:16:28.423621Z",
     "shell.execute_reply": "2023-02-25T09:16:28.422373Z"
    },
    "papermill": {
     "duration": 0.469481,
     "end_time": "2023-02-25T09:16:28.426878",
     "exception": false,
     "start_time": "2023-02-25T09:16:27.957397",
     "status": "completed"
    },
    "tags": []
   },
   "outputs": [
    {
     "data": {
      "image/png": "[encoded data removed]",
      "text/plain": [
       "<Figure size 864x648 with 1 Axes>"
      ]
     },
     "metadata": {},
     "output_type": "display_data"
    }
   ],
   "source": [
    "plot_time_variation(tweets_agg_df, x='date', title=\"Number of tweets / day\",size=3)"
   ]
  },
  {
   "cell_type": "code",
   "execution_count": 52,
   "id": "e743022b",
   "metadata": {
    "execution": {
     "iopub.execute_input": "2023-02-25T09:16:28.522792Z",
     "iopub.status.busy": "2023-02-25T09:16:28.521902Z",
     "iopub.status.idle": "2023-02-25T09:16:28.530627Z",
     "shell.execute_reply": "2023-02-25T09:16:28.529367Z"
    },
    "papermill": {
     "duration": 0.059823,
     "end_time": "2023-02-25T09:16:28.533118",
     "exception": false,
     "start_time": "2023-02-25T09:16:28.473295",
     "status": "completed"
    },
    "tags": []
   },
   "outputs": [
    {
     "data": {
      "text/plain": [
       "array(['29-04-2023', '28-03-2023', '29-05-2023'], dtype=object)"
      ]
     },
     "execution_count": 52,
     "metadata": {},
     "output_type": "execute_result"
    }
   ],
   "source": [
    "df['date'].unique()"
   ]
  },
  {
   "cell_type": "code",
   "execution_count": 53,
   "id": "dc1067c4",
   "metadata": {
    "execution": {
     "iopub.execute_input": "2023-02-25T09:16:28.630871Z",
     "iopub.status.busy": "2023-02-25T09:16:28.630148Z",
     "iopub.status.idle": "2023-02-25T09:16:28.638365Z",
     "shell.execute_reply": "2023-02-25T09:16:28.637559Z"
    },
    "papermill": {
     "duration": 0.058878,
     "end_time": "2023-02-25T09:16:28.640438",
     "exception": false,
     "start_time": "2023-02-25T09:16:28.581560",
     "status": "completed"
    },
    "tags": []
   },
   "outputs": [
    {
     "data": {
      "text/plain": [
       "29-04-2023    9986\n",
       "29-05-2023    9984\n",
       "28-03-2023    4994\n",
       "Name: date, dtype: int64"
      ]
     },
     "execution_count": 53,
     "metadata": {},
     "output_type": "execute_result"
    }
   ],
   "source": [
    "df['date'].value_counts()"
   ]
  },
  {
   "cell_type": "code",
   "execution_count": 54,
   "id": "b2bb25db",
   "metadata": {
    "execution": {
     "iopub.execute_input": "2023-02-25T09:16:28.736953Z",
     "iopub.status.busy": "2023-02-25T09:16:28.736485Z",
     "iopub.status.idle": "2023-02-25T09:16:28.973714Z",
     "shell.execute_reply": "2023-02-25T09:16:28.972410Z"
    },
    "papermill": {
     "duration": 0.289233,
     "end_time": "2023-02-25T09:16:28.976648",
     "exception": false,
     "start_time": "2023-02-25T09:16:28.687415",
     "status": "completed"
    },
    "tags": []
   },
   "outputs": [
    {
     "data": {
      "image/png": "[encoded data removed]",
      "text/plain": [
       "<Figure size 1080x432 with 1 Axes>"
      ]
     },
     "metadata": {},
     "output_type": "display_data"
    }
   ],
   "source": [
    "plt.figure(figsize=(15,6))\n",
    "sns.countplot(data=df, x='date')\n",
    "plt.show()\n"
   ]
  },
  {
   "cell_type": "code",
   "execution_count": 55,
   "id": "7c294c33",
   "metadata": {},
   "outputs": [
    {
     "data": {
      "text/html": [
       "<div>\n",
       "<style scoped>\n",
       "    .dataframe tbody tr th:only-of-type {\n",
       "        vertical-align: middle;\n",
       "    }\n",
       "\n",
       "    .dataframe tbody tr th {\n",
       "        vertical-align: top;\n",
       "    }\n",
       "\n",
       "    .dataframe thead th {\n",
       "        text-align: right;\n",
       "    }\n",
       "</style>\n",
       "<table border=\"1\" class=\"dataframe\">\n",
       "  <thead>\n",
       "    <tr style=\"text-align: right;\">\n",
       "      <th></th>\n",
       "      <th>date</th>\n",
       "      <th>id</th>\n",
       "      <th>tweetText</th>\n",
       "      <th>user</th>\n",
       "      <th>likeCount</th>\n",
       "      <th>lang</th>\n",
       "      <th>replies</th>\n",
       "      <th>mentions</th>\n",
       "      <th>outlinks</th>\n",
       "      <th>Datetime</th>\n",
       "    </tr>\n",
       "  </thead>\n",
       "  <tbody>\n",
       "    <tr>\n",
       "      <th>943</th>\n",
       "      <td>29-04-2023</td>\n",
       "      <td>1652462748792672257</td>\n",
       "      <td>Some of the best #AI writing assistants in 202...</td>\n",
       "      <td>farahsays01</td>\n",
       "      <td>1</td>\n",
       "      <td>en</td>\n",
       "      <td>1</td>\n",
       "      <td>[User(username='OpenAI', id=4398626122, displa...</td>\n",
       "      <td>[]</td>\n",
       "      <td>2023-04-29</td>\n",
       "    </tr>\n",
       "    <tr>\n",
       "      <th>944</th>\n",
       "      <td>29-04-2023</td>\n",
       "      <td>1652462745772597249</td>\n",
       "      <td>#RT @phocuswire: In an interview with PhocusWi...</td>\n",
       "      <td>CravenTravels</td>\n",
       "      <td>0</td>\n",
       "      <td>en</td>\n",
       "      <td>0</td>\n",
       "      <td>[User(username='phocuswire', id=109269437, dis...</td>\n",
       "      <td>['https://bit.ly/3LtSQlB']</td>\n",
       "      <td>2023-04-29</td>\n",
       "    </tr>\n",
       "    <tr>\n",
       "      <th>945</th>\n",
       "      <td>29-04-2023</td>\n",
       "      <td>1652462718920654883</td>\n",
       "      <td>@skepoet and I discuss the internet, ChatGPT a...</td>\n",
       "      <td>ViewsParallax</td>\n",
       "      <td>4</td>\n",
       "      <td>en</td>\n",
       "      <td>0</td>\n",
       "      <td>[User(username='skepoet', id=401715612, displa...</td>\n",
       "      <td>['https://www.patreon.com/posts/parallax-vlog-...</td>\n",
       "      <td>2023-04-29</td>\n",
       "    </tr>\n",
       "    <tr>\n",
       "      <th>946</th>\n",
       "      <td>29-04-2023</td>\n",
       "      <td>1652462702219132928</td>\n",
       "      <td>The latest in #AI news.\\n\\nThey don’t want to ...</td>\n",
       "      <td>WhizPill</td>\n",
       "      <td>2</td>\n",
       "      <td>en</td>\n",
       "      <td>1</td>\n",
       "      <td>[User(username='OpenAI', id=4398626122, displa...</td>\n",
       "      <td>[]</td>\n",
       "      <td>2023-04-29</td>\n",
       "    </tr>\n",
       "    <tr>\n",
       "      <th>947</th>\n",
       "      <td>29-04-2023</td>\n",
       "      <td>1652462667003568129</td>\n",
       "      <td>@Lyle_AI Well said, its those of us on the fro...</td>\n",
       "      <td>Luc_AI_Insights</td>\n",
       "      <td>0</td>\n",
       "      <td>en</td>\n",
       "      <td>0</td>\n",
       "      <td>[User(username='Lyle_AI', id=165422263, displa...</td>\n",
       "      <td>[]</td>\n",
       "      <td>2023-04-29</td>\n",
       "    </tr>\n",
       "    <tr>\n",
       "      <th>...</th>\n",
       "      <td>...</td>\n",
       "      <td>...</td>\n",
       "      <td>...</td>\n",
       "      <td>...</td>\n",
       "      <td>...</td>\n",
       "      <td>...</td>\n",
       "      <td>...</td>\n",
       "      <td>...</td>\n",
       "      <td>...</td>\n",
       "      <td>...</td>\n",
       "    </tr>\n",
       "    <tr>\n",
       "      <th>26999</th>\n",
       "      <td>29-05-2023</td>\n",
       "      <td>1663049685324398593</td>\n",
       "      <td>idk abt u guys but im telling chatgpt thank yo...</td>\n",
       "      <td>gooddaymp3</td>\n",
       "      <td>2</td>\n",
       "      <td>en</td>\n",
       "      <td>1</td>\n",
       "      <td>NaN</td>\n",
       "      <td>[]</td>\n",
       "      <td>2023-05-29</td>\n",
       "    </tr>\n",
       "    <tr>\n",
       "      <th>27000</th>\n",
       "      <td>29-05-2023</td>\n",
       "      <td>1663049619763499010</td>\n",
       "      <td>@BeastOfGoyim It already has when i tried it o...</td>\n",
       "      <td>asheuriii</td>\n",
       "      <td>0</td>\n",
       "      <td>en</td>\n",
       "      <td>1</td>\n",
       "      <td>[User(username='BeastOfGoyim', id=145786421175...</td>\n",
       "      <td>[]</td>\n",
       "      <td>2023-05-29</td>\n",
       "    </tr>\n",
       "    <tr>\n",
       "      <th>27001</th>\n",
       "      <td>29-05-2023</td>\n",
       "      <td>1663049602851807232</td>\n",
       "      <td>@ivy_wylder @ask_aubry I’ve been looking for s...</td>\n",
       "      <td>dan_dd</td>\n",
       "      <td>6</td>\n",
       "      <td>en</td>\n",
       "      <td>0</td>\n",
       "      <td>[User(username='ivy_wylder', id=12147283985404...</td>\n",
       "      <td>[]</td>\n",
       "      <td>2023-05-29</td>\n",
       "    </tr>\n",
       "    <tr>\n",
       "      <th>27002</th>\n",
       "      <td>29-05-2023</td>\n",
       "      <td>1663049444613410816</td>\n",
       "      <td>Is someone gonna remake Facade with ChatGPT?</td>\n",
       "      <td>PwnySlaystation</td>\n",
       "      <td>1</td>\n",
       "      <td>en</td>\n",
       "      <td>0</td>\n",
       "      <td>NaN</td>\n",
       "      <td>[]</td>\n",
       "      <td>2023-05-29</td>\n",
       "    </tr>\n",
       "    <tr>\n",
       "      <th>27003</th>\n",
       "      <td>29-05-2023</td>\n",
       "      <td>1663049350560514050</td>\n",
       "      <td>@shotgun2thehead chatgpt is really good people...</td>\n",
       "      <td>teengoatmance</td>\n",
       "      <td>1</td>\n",
       "      <td>en</td>\n",
       "      <td>1</td>\n",
       "      <td>[User(username='shotgun2thehead', id=257651288...</td>\n",
       "      <td>[]</td>\n",
       "      <td>2023-05-29</td>\n",
       "    </tr>\n",
       "  </tbody>\n",
       "</table>\n",
       "<p>24964 rows × 10 columns</p>\n",
       "</div>"
      ],
      "text/plain": [
       "             date                   id  \\\n",
       "943    29-04-2023  1652462748792672257   \n",
       "944    29-04-2023  1652462745772597249   \n",
       "945    29-04-2023  1652462718920654883   \n",
       "946    29-04-2023  1652462702219132928   \n",
       "947    29-04-2023  1652462667003568129   \n",
       "...           ...                  ...   \n",
       "26999  29-05-2023  1663049685324398593   \n",
       "27000  29-05-2023  1663049619763499010   \n",
       "27001  29-05-2023  1663049602851807232   \n",
       "27002  29-05-2023  1663049444613410816   \n",
       "27003  29-05-2023  1663049350560514050   \n",
       "\n",
       "                                               tweetText             user  \\\n",
       "943    Some of the best #AI writing assistants in 202...      farahsays01   \n",
       "944    #RT @phocuswire: In an interview with PhocusWi...    CravenTravels   \n",
       "945    @skepoet and I discuss the internet, ChatGPT a...    ViewsParallax   \n",
       "946    The latest in #AI news.\\n\\nThey don’t want to ...         WhizPill   \n",
       "947    @Lyle_AI Well said, its those of us on the fro...  Luc_AI_Insights   \n",
       "...                                                  ...              ...   \n",
       "26999  idk abt u guys but im telling chatgpt thank yo...       gooddaymp3   \n",
       "27000  @BeastOfGoyim It already has when i tried it o...        asheuriii   \n",
       "27001  @ivy_wylder @ask_aubry I’ve been looking for s...           dan_dd   \n",
       "27002       Is someone gonna remake Facade with ChatGPT?  PwnySlaystation   \n",
       "27003  @shotgun2thehead chatgpt is really good people...    teengoatmance   \n",
       "\n",
       "       likeCount lang  replies  \\\n",
       "943            1   en        1   \n",
       "944            0   en        0   \n",
       "945            4   en        0   \n",
       "946            2   en        1   \n",
       "947            0   en        0   \n",
       "...          ...  ...      ...   \n",
       "26999          2   en        1   \n",
       "27000          0   en        1   \n",
       "27001          6   en        0   \n",
       "27002          1   en        0   \n",
       "27003          1   en        1   \n",
       "\n",
       "                                                mentions  \\\n",
       "943    [User(username='OpenAI', id=4398626122, displa...   \n",
       "944    [User(username='phocuswire', id=109269437, dis...   \n",
       "945    [User(username='skepoet', id=401715612, displa...   \n",
       "946    [User(username='OpenAI', id=4398626122, displa...   \n",
       "947    [User(username='Lyle_AI', id=165422263, displa...   \n",
       "...                                                  ...   \n",
       "26999                                                NaN   \n",
       "27000  [User(username='BeastOfGoyim', id=145786421175...   \n",
       "27001  [User(username='ivy_wylder', id=12147283985404...   \n",
       "27002                                                NaN   \n",
       "27003  [User(username='shotgun2thehead', id=257651288...   \n",
       "\n",
       "                                                outlinks   Datetime  \n",
       "943                                                   [] 2023-04-29  \n",
       "944                           ['https://bit.ly/3LtSQlB'] 2023-04-29  \n",
       "945    ['https://www.patreon.com/posts/parallax-vlog-... 2023-04-29  \n",
       "946                                                   [] 2023-04-29  \n",
       "947                                                   [] 2023-04-29  \n",
       "...                                                  ...        ...  \n",
       "26999                                                 [] 2023-05-29  \n",
       "27000                                                 [] 2023-05-29  \n",
       "27001                                                 [] 2023-05-29  \n",
       "27002                                                 [] 2023-05-29  \n",
       "27003                                                 [] 2023-05-29  \n",
       "\n",
       "[24964 rows x 10 columns]"
      ]
     },
     "execution_count": 55,
     "metadata": {},
     "output_type": "execute_result"
    }
   ],
   "source": [
    "df"
   ]
  },
  {
   "cell_type": "code",
   "execution_count": 56,
   "id": "6de146b7",
   "metadata": {
    "execution": {
     "iopub.execute_input": "2023-02-25T09:16:32.578259Z",
     "iopub.status.busy": "2023-02-25T09:16:32.577858Z",
     "iopub.status.idle": "2023-02-25T09:16:32.604131Z",
     "shell.execute_reply": "2023-02-25T09:16:32.602855Z"
    },
    "papermill": {
     "duration": 0.087645,
     "end_time": "2023-02-25T09:16:32.607211",
     "exception": false,
     "start_time": "2023-02-25T09:16:32.519566",
     "status": "completed"
    },
    "tags": []
   },
   "outputs": [],
   "source": [
    "sia = SentimentIntensityAnalyzer()\n",
    "def find_sentiment(post):\n",
    "    try:\n",
    "        if sia.polarity_scores(post)[\"compound\"] > 0:\n",
    "            return \"Positive\"\n",
    "        elif sia.polarity_scores(post)[\"compound\"] < 0:\n",
    "            return \"Negative\"\n",
    "        else:\n",
    "            return \"Neutral\"  \n",
    "    except:\n",
    "        return \"Neutral\""
   ]
  },
  {
   "cell_type": "code",
   "execution_count": 57,
   "id": "7503f13e",
   "metadata": {
    "execution": {
     "iopub.execute_input": "2023-02-25T09:16:32.716627Z",
     "iopub.status.busy": "2023-02-25T09:16:32.715324Z",
     "iopub.status.idle": "2023-02-25T09:16:32.723891Z",
     "shell.execute_reply": "2023-02-25T09:16:32.722951Z"
    },
    "papermill": {
     "duration": 0.06586,
     "end_time": "2023-02-25T09:16:32.726403",
     "exception": false,
     "start_time": "2023-02-25T09:16:32.660543",
     "status": "completed"
    },
    "tags": []
   },
   "outputs": [],
   "source": [
    "def plot_sentiment(df, feature, title):\n",
    "    counts = df[feature].value_counts()\n",
    "    percent = counts/sum(counts)\n",
    "\n",
    "    fig, (ax1, ax2) = plt.subplots(ncols=2, figsize=(12, 5))\n",
    "    \n",
    "    colors = [\"green\", \"red\", \"blue\"]\n",
    "    counts.plot(kind='bar', ax=ax1, color=colors)\n",
    "    percent.plot(kind='bar', ax=ax2, color=colors)\n",
    "    ax1.set_ylabel(f'Counts : {title} sentiments', size=12)\n",
    "    ax2.set_ylabel(f'Percentage : {title} sentiments', size=12)\n",
    "    plt.suptitle(f\"Sentiment analysis: {title}\")\n",
    "    plt.tight_layout()\n",
    "    plt.show()"
   ]
  },
  {
   "cell_type": "code",
   "execution_count": 59,
   "id": "b7ffcfb2",
   "metadata": {
    "execution": {
     "iopub.execute_input": "2023-02-25T09:16:32.829910Z",
     "iopub.status.busy": "2023-02-25T09:16:32.829464Z",
     "iopub.status.idle": "2023-02-25T09:16:56.737272Z",
     "shell.execute_reply": "2023-02-25T09:16:56.736046Z"
    },
    "papermill": {
     "duration": 23.96275,
     "end_time": "2023-02-25T09:16:56.739900",
     "exception": false,
     "start_time": "2023-02-25T09:16:32.777150",
     "status": "completed"
    },
    "tags": []
   },
   "outputs": [
    {
     "data": {
      "image/png": "[encoded data removed]",
      "text/plain": [
       "<Figure size 864x360 with 2 Axes>"
      ]
     },
     "metadata": {},
     "output_type": "display_data"
    }
   ],
   "source": [
    "df['text_sentiment'] = df['tweetText'].apply(lambda x: find_sentiment(x))\n",
    "plot_sentiment(df, 'text_sentiment', 'Content')"
   ]
  },
  {
   "cell_type": "code",
   "execution_count": 60,
   "id": "2266578e",
   "metadata": {
    "execution": {
     "iopub.execute_input": "2023-02-25T09:16:56.847418Z",
     "iopub.status.busy": "2023-02-25T09:16:56.846025Z",
     "iopub.status.idle": "2023-02-25T09:16:56.872282Z",
     "shell.execute_reply": "2023-02-25T09:16:56.871212Z"
    },
    "papermill": {
     "duration": 0.083765,
     "end_time": "2023-02-25T09:16:56.874943",
     "exception": false,
     "start_time": "2023-02-25T09:16:56.791178",
     "status": "completed"
    },
    "tags": []
   },
   "outputs": [],
   "source": [
    "tweets_agg_df = df.groupby([\"date\", \"text_sentiment\"])[\"tweetText\"].count().reset_index()\n",
    "tweets_agg_df.columns = [\"date\", \"text_sentiment\", \"count\"]"
   ]
  },
  {
   "cell_type": "code",
   "execution_count": 61,
   "id": "58a09d4f",
   "metadata": {
    "execution": {
     "iopub.execute_input": "2023-02-25T09:16:56.980245Z",
     "iopub.status.busy": "2023-02-25T09:16:56.979768Z",
     "iopub.status.idle": "2023-02-25T09:16:57.462450Z",
     "shell.execute_reply": "2023-02-25T09:16:57.460965Z"
    },
    "papermill": {
     "duration": 0.538492,
     "end_time": "2023-02-25T09:16:57.465157",
     "exception": false,
     "start_time": "2023-02-25T09:16:56.926665",
     "status": "completed"
    },
    "tags": []
   },
   "outputs": [
    {
     "data": {
      "image/png": "[encoded data removed]",
      "text/plain": [
       "<Figure size 864x648 with 1 Axes>"
      ]
     },
     "metadata": {},
     "output_type": "display_data"
    }
   ],
   "source": [
    "plot_time_variation(tweets_agg_df, x='date', hue=\"text_sentiment\", title=\"Number of tweets / day (grouped by sentiment)\",size=3)"
   ]
  },
  {
   "cell_type": "code",
   "execution_count": null,
   "id": "e7ab7e3d",
   "metadata": {},
   "outputs": [],
   "source": []
  }
 ],
 "metadata": {
  "kernelspec": {
   "display_name": "Python 3 (ipykernel)",
   "language": "python",
   "name": "python3"
  },
  "language_info": {
   "codemirror_mode": {
    "name": "ipython",
    "version": 3
   },
   "file_extension": ".py",
   "mimetype": "text/x-python",
   "name": "python",
   "nbconvert_exporter": "python",
   "pygments_lexer": "ipython3",
   "version": "3.9.12"
  },
  "papermill": {
   "default_parameters": {},
   "duration": 67.997491,
   "end_time": "2023-02-25T09:17:08.023095",
   "environment_variables": {},
   "exception": null,
   "input_path": "__notebook__.ipynb",
   "output_path": "__notebook__.ipynb",
   "parameters": {},
   "start_time": "2023-02-25T09:16:00.025604",
   "version": "2.4.0"
  }
 },
 "nbformat": 4,
 "nbformat_minor": 5
}
