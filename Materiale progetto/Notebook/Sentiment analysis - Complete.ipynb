{
 "cells": [
  {
   "cell_type": "markdown",
   "id": "30d9e9a1",
   "metadata": {},
   "source": [
    "# NLTK.VADER_LEXICON"
   ]
  },
  {
   "cell_type": "code",
   "execution_count": 1,
   "id": "f7b4059d",
   "metadata": {},
   "outputs": [
    {
     "data": {
      "text/html": [
       "<div>\n",
       "<style scoped>\n",
       "    .dataframe tbody tr th:only-of-type {\n",
       "        vertical-align: middle;\n",
       "    }\n",
       "\n",
       "    .dataframe tbody tr th {\n",
       "        vertical-align: top;\n",
       "    }\n",
       "\n",
       "    .dataframe thead th {\n",
       "        text-align: right;\n",
       "    }\n",
       "</style>\n",
       "<table border=\"1\" class=\"dataframe\">\n",
       "  <thead>\n",
       "    <tr style=\"text-align: right;\">\n",
       "      <th></th>\n",
       "      <th>Post ID</th>\n",
       "      <th>Post author</th>\n",
       "      <th>Post title</th>\n",
       "      <th>Post URL</th>\n",
       "      <th>Post flair type</th>\n",
       "      <th>Post score</th>\n",
       "      <th>Post date</th>\n",
       "      <th>Comment ID</th>\n",
       "      <th>Comment author</th>\n",
       "      <th>Comment</th>\n",
       "      <th>Comment score</th>\n",
       "      <th>Comment date</th>\n",
       "      <th>Parent Comment ID</th>\n",
       "      <th>Parent comment author</th>\n",
       "    </tr>\n",
       "  </thead>\n",
       "  <tbody>\n",
       "    <tr>\n",
       "      <th>1</th>\n",
       "      <td>13ucoev</td>\n",
       "      <td>TheHybred</td>\n",
       "      <td>If ChatGPT Can't Access The Internet Then How ...</td>\n",
       "      <td>https://www.reddit.com/r/ChatGPT/comments/13uc...</td>\n",
       "      <td>Jailbreak</td>\n",
       "      <td>4318</td>\n",
       "      <td>2023-05-29 00:10:45</td>\n",
       "      <td>jm090r5</td>\n",
       "      <td>sdmat</td>\n",
       "      <td>The reason for this is technical and surprisin...</td>\n",
       "      <td>2482</td>\n",
       "      <td>2023-05-29 01:42:37</td>\n",
       "      <td>13ucoev</td>\n",
       "      <td>TheHybred</td>\n",
       "    </tr>\n",
       "    <tr>\n",
       "      <th>2</th>\n",
       "      <td>13ucoev</td>\n",
       "      <td>TheHybred</td>\n",
       "      <td>If ChatGPT Can't Access The Internet Then How ...</td>\n",
       "      <td>https://www.reddit.com/r/ChatGPT/comments/13uc...</td>\n",
       "      <td>Jailbreak</td>\n",
       "      <td>4318</td>\n",
       "      <td>2023-05-29 00:10:45</td>\n",
       "      <td>jm0k235</td>\n",
       "      <td>bojodrop</td>\n",
       "      <td>Slide the jailbreak prompt</td>\n",
       "      <td>418</td>\n",
       "      <td>2023-05-29 03:13:53</td>\n",
       "      <td>13ucoev</td>\n",
       "      <td>TheHybred</td>\n",
       "    </tr>\n",
       "    <tr>\n",
       "      <th>3</th>\n",
       "      <td>13ucoev</td>\n",
       "      <td>TheHybred</td>\n",
       "      <td>If ChatGPT Can't Access The Internet Then How ...</td>\n",
       "      <td>https://www.reddit.com/r/ChatGPT/comments/13uc...</td>\n",
       "      <td>Jailbreak</td>\n",
       "      <td>4318</td>\n",
       "      <td>2023-05-29 00:10:45</td>\n",
       "      <td>jm0h4ut</td>\n",
       "      <td>opi098514</td>\n",
       "      <td>Easy. He was next in line. She’s old.</td>\n",
       "      <td>631</td>\n",
       "      <td>2023-05-29 02:49:38</td>\n",
       "      <td>13ucoev</td>\n",
       "      <td>TheHybred</td>\n",
       "    </tr>\n",
       "    <tr>\n",
       "      <th>4</th>\n",
       "      <td>13ucoev</td>\n",
       "      <td>TheHybred</td>\n",
       "      <td>If ChatGPT Can't Access The Internet Then How ...</td>\n",
       "      <td>https://www.reddit.com/r/ChatGPT/comments/13uc...</td>\n",
       "      <td>Jailbreak</td>\n",
       "      <td>4318</td>\n",
       "      <td>2023-05-29 00:10:45</td>\n",
       "      <td>jm0dl2p</td>\n",
       "      <td>Cryptizard</td>\n",
       "      <td>It could infer that you are trying to ask it a...</td>\n",
       "      <td>193</td>\n",
       "      <td>2023-05-29 02:20:05</td>\n",
       "      <td>13ucoev</td>\n",
       "      <td>TheHybred</td>\n",
       "    </tr>\n",
       "    <tr>\n",
       "      <th>5</th>\n",
       "      <td>13ucoev</td>\n",
       "      <td>TheHybred</td>\n",
       "      <td>If ChatGPT Can't Access The Internet Then How ...</td>\n",
       "      <td>https://www.reddit.com/r/ChatGPT/comments/13uc...</td>\n",
       "      <td>Jailbreak</td>\n",
       "      <td>4318</td>\n",
       "      <td>2023-05-29 00:10:45</td>\n",
       "      <td>jm0pebs</td>\n",
       "      <td>manikfox</td>\n",
       "      <td>Can you not just link the conversation directl...</td>\n",
       "      <td>77</td>\n",
       "      <td>2023-05-29 03:59:01</td>\n",
       "      <td>13ucoev</td>\n",
       "      <td>TheHybred</td>\n",
       "    </tr>\n",
       "  </tbody>\n",
       "</table>\n",
       "</div>"
      ],
      "text/plain": [
       "   Post ID Post author                                         Post title  \\\n",
       "1  13ucoev   TheHybred  If ChatGPT Can't Access The Internet Then How ...   \n",
       "2  13ucoev   TheHybred  If ChatGPT Can't Access The Internet Then How ...   \n",
       "3  13ucoev   TheHybred  If ChatGPT Can't Access The Internet Then How ...   \n",
       "4  13ucoev   TheHybred  If ChatGPT Can't Access The Internet Then How ...   \n",
       "5  13ucoev   TheHybred  If ChatGPT Can't Access The Internet Then How ...   \n",
       "\n",
       "                                            Post URL Post flair type  \\\n",
       "1  https://www.reddit.com/r/ChatGPT/comments/13uc...       Jailbreak   \n",
       "2  https://www.reddit.com/r/ChatGPT/comments/13uc...       Jailbreak   \n",
       "3  https://www.reddit.com/r/ChatGPT/comments/13uc...       Jailbreak   \n",
       "4  https://www.reddit.com/r/ChatGPT/comments/13uc...       Jailbreak   \n",
       "5  https://www.reddit.com/r/ChatGPT/comments/13uc...       Jailbreak   \n",
       "\n",
       "   Post score            Post date Comment ID Comment author  \\\n",
       "1        4318  2023-05-29 00:10:45    jm090r5          sdmat   \n",
       "2        4318  2023-05-29 00:10:45    jm0k235       bojodrop   \n",
       "3        4318  2023-05-29 00:10:45    jm0h4ut      opi098514   \n",
       "4        4318  2023-05-29 00:10:45    jm0dl2p     Cryptizard   \n",
       "5        4318  2023-05-29 00:10:45    jm0pebs       manikfox   \n",
       "\n",
       "                                             Comment  Comment score  \\\n",
       "1  The reason for this is technical and surprisin...           2482   \n",
       "2                         Slide the jailbreak prompt            418   \n",
       "3              Easy. He was next in line. She’s old.            631   \n",
       "4  It could infer that you are trying to ask it a...            193   \n",
       "5  Can you not just link the conversation directl...             77   \n",
       "\n",
       "          Comment date Parent Comment ID Parent comment author  \n",
       "1  2023-05-29 01:42:37           13ucoev             TheHybred  \n",
       "2  2023-05-29 03:13:53           13ucoev             TheHybred  \n",
       "3  2023-05-29 02:49:38           13ucoev             TheHybred  \n",
       "4  2023-05-29 02:20:05           13ucoev             TheHybred  \n",
       "5  2023-05-29 03:59:01           13ucoev             TheHybred  "
      ]
     },
     "execution_count": 1,
     "metadata": {},
     "output_type": "execute_result"
    }
   ],
   "source": [
    "import pandas as pd\n",
    "\n",
    "dataset = pd.read_csv(\"chatgpt_reddit - Complete.csv\")\n",
    "df = dataset[dataset['Comment author'] != 'AutoModerator']\n",
    "df.head(5)"
   ]
  },
  {
   "cell_type": "code",
   "execution_count": 2,
   "id": "ca8f8201",
   "metadata": {},
   "outputs": [
    {
     "data": {
      "text/plain": [
       "'2023-06-15 18:10:08'"
      ]
     },
     "execution_count": 2,
     "metadata": {},
     "output_type": "execute_result"
    }
   ],
   "source": [
    "df['Comment date'].max()"
   ]
  },
  {
   "cell_type": "code",
   "execution_count": 3,
   "id": "128a1aa4",
   "metadata": {},
   "outputs": [
    {
     "data": {
      "text/plain": [
       "'2023-04-01 19:21:24'"
      ]
     },
     "execution_count": 3,
     "metadata": {},
     "output_type": "execute_result"
    }
   ],
   "source": [
    "df['Comment date'].min()"
   ]
  },
  {
   "cell_type": "markdown",
   "id": "1444e066",
   "metadata": {},
   "source": [
    "## Preprocessing"
   ]
  },
  {
   "cell_type": "markdown",
   "id": "d2c14b87",
   "metadata": {},
   "source": [
    "### Detecting deleted comments (by moderators)"
   ]
  },
  {
   "cell_type": "code",
   "execution_count": 4,
   "id": "2b15ca09",
   "metadata": {},
   "outputs": [
    {
     "name": "stdout",
     "output_type": "stream",
     "text": [
      "930\n"
     ]
    }
   ],
   "source": [
    "number_of_del_comments = len(df[df['Comment'] == '[deleted]'])\n",
    "print(number_of_del_comments)"
   ]
  },
  {
   "cell_type": "markdown",
   "id": "787152d1",
   "metadata": {},
   "source": [
    "### Detecting deleted comments (by users)"
   ]
  },
  {
   "cell_type": "code",
   "execution_count": 5,
   "id": "a5e16bc2",
   "metadata": {},
   "outputs": [
    {
     "name": "stdout",
     "output_type": "stream",
     "text": [
      "224\n"
     ]
    }
   ],
   "source": [
    "number_of_rem_comments = len(df[df['Comment'] == '[removed]'])\n",
    "print(number_of_rem_comments)"
   ]
  },
  {
   "cell_type": "code",
   "execution_count": 6,
   "id": "0a677707",
   "metadata": {},
   "outputs": [
    {
     "name": "stderr",
     "output_type": "stream",
     "text": [
      "C:\\Users\\claud\\AppData\\Local\\Temp\\ipykernel_7140\\2914364571.py:13: SettingWithCopyWarning: \n",
      "A value is trying to be set on a copy of a slice from a DataFrame.\n",
      "Try using .loc[row_indexer,col_indexer] = value instead\n",
      "\n",
      "See the caveats in the documentation: https://pandas.pydata.org/pandas-docs/stable/user_guide/indexing.html#returning-a-view-versus-a-copy\n",
      "  df['Post title'] = df['Post title'].apply(clean_data)\n",
      "C:\\Users\\claud\\AppData\\Local\\Temp\\ipykernel_7140\\2914364571.py:14: SettingWithCopyWarning: \n",
      "A value is trying to be set on a copy of a slice from a DataFrame.\n",
      "Try using .loc[row_indexer,col_indexer] = value instead\n",
      "\n",
      "See the caveats in the documentation: https://pandas.pydata.org/pandas-docs/stable/user_guide/indexing.html#returning-a-view-versus-a-copy\n",
      "  df['Comment'] = df['Comment'].apply(clean_data)\n"
     ]
    }
   ],
   "source": [
    "import numpy as np\n",
    "from nltk.corpus import stopwords\n",
    "from nltk.tokenize import word_tokenize\n",
    "from sklearn.feature_extraction.text import re\n",
    "\n",
    "def clean_data(review):\n",
    "    \n",
    "    no_punc = re.sub(r'[^\\w\\s]', '', review)\n",
    "    no_digits = ''.join([i for i in no_punc if not i.isdigit()])\n",
    "    \n",
    "    return(no_digits)\n",
    "\n",
    "df['Post title'] = df['Post title'].apply(clean_data)\n",
    "df['Comment'] = df['Comment'].apply(clean_data)"
   ]
  },
  {
   "cell_type": "code",
   "execution_count": 7,
   "id": "ab2a87fb",
   "metadata": {},
   "outputs": [
    {
     "name": "stderr",
     "output_type": "stream",
     "text": [
      "C:\\Users\\claud\\AppData\\Local\\Temp\\ipykernel_7140\\4077902994.py:2: SettingWithCopyWarning: \n",
      "A value is trying to be set on a copy of a slice from a DataFrame.\n",
      "Try using .loc[row_indexer,col_indexer] = value instead\n",
      "\n",
      "See the caveats in the documentation: https://pandas.pydata.org/pandas-docs/stable/user_guide/indexing.html#returning-a-view-versus-a-copy\n",
      "  df['Comment'] = df['Comment'].apply(lambda x: ' '.join([word for word in word_tokenize(x) if word.lower() not in stop_words]))  # Remove stop words\n"
     ]
    }
   ],
   "source": [
    "stop_words = set(stopwords.words('english'))  # Import english stop words\n",
    "df['Comment'] = df['Comment'].apply(lambda x: ' '.join([word for word in word_tokenize(x) if word.lower() not in stop_words]))  # Remove stop words"
   ]
  },
  {
   "cell_type": "markdown",
   "id": "a10eec02",
   "metadata": {},
   "source": [
    "## Sentiment analysis"
   ]
  },
  {
   "cell_type": "code",
   "execution_count": 8,
   "id": "4d318e04",
   "metadata": {},
   "outputs": [],
   "source": [
    "import nltk\n",
    "from nltk.sentiment import SentimentIntensityAnalyzer\n",
    "\n",
    "sia = SentimentIntensityAnalyzer()\n"
   ]
  },
  {
   "cell_type": "code",
   "execution_count": 9,
   "id": "25bcd9af",
   "metadata": {},
   "outputs": [
    {
     "name": "stderr",
     "output_type": "stream",
     "text": [
      "C:\\Users\\claud\\AppData\\Local\\Temp\\ipykernel_7140\\3529831146.py:1: SettingWithCopyWarning: \n",
      "A value is trying to be set on a copy of a slice from a DataFrame.\n",
      "Try using .loc[row_indexer,col_indexer] = value instead\n",
      "\n",
      "See the caveats in the documentation: https://pandas.pydata.org/pandas-docs/stable/user_guide/indexing.html#returning-a-view-versus-a-copy\n",
      "  df['Sentiment'] = ''\n"
     ]
    },
    {
     "data": {
      "text/plain": [
       "pos    32857\n",
       "neu    18594\n",
       "neg    16527\n",
       "Name: Sentiment, dtype: int64"
      ]
     },
     "execution_count": 9,
     "metadata": {},
     "output_type": "execute_result"
    }
   ],
   "source": [
    "df['Sentiment'] = ''\n",
    "for index, row in df.iterrows():\n",
    "    comment = row['Comment']\n",
    "    \n",
    "    scores = sia.polarity_scores(comment)\n",
    "    compound_score = scores['compound']\n",
    "    \n",
    "    if compound_score > 0:\n",
    "        sentiment = 'pos'\n",
    "    elif compound_score < 0:\n",
    "        sentiment = 'neg'\n",
    "    else:\n",
    "        sentiment = 'neu'\n",
    "    \n",
    "    df.at[index, 'Sentiment'] = sentiment\n",
    "    \n",
    "df['Sentiment'].value_counts()"
   ]
  },
  {
   "cell_type": "markdown",
   "id": "dbed92c7",
   "metadata": {},
   "source": [
    "## Sentiment distribution"
   ]
  },
  {
   "cell_type": "code",
   "execution_count": 10,
   "id": "a7d39240",
   "metadata": {},
   "outputs": [],
   "source": [
    "sizes = df[\"Sentiment\"].value_counts()\n",
    "sizes[1] += number_of_del_comments\n",
    "sizes[2] += number_of_rem_comments\n",
    "labels = df[\"Sentiment\"].unique()"
   ]
  },
  {
   "cell_type": "code",
   "execution_count": 11,
   "id": "22d56bbf",
   "metadata": {},
   "outputs": [
    {
     "data": {
      "image/png": "[encoded data removed]",
      "text/plain": [
       "<Figure size 1200x800 with 1 Axes>"
      ]
     },
     "metadata": {},
     "output_type": "display_data"
    }
   ],
   "source": [
    "import matplotlib.pyplot as plt\n",
    "\n",
    "plt.rcParams[\"figure.figsize\"] = [12, 8]\n",
    "\n",
    "plt.pie(sizes, labels = labels, autopct = '%1.1f%%', shadow = False, startangle = 90)\n",
    "plt.title(\"Sentiment distribution of complete Reddit dataset - NLTK\")\n",
    "plt.savefig(\"pie_nltksentiment.claudio.png\")\n",
    "plt.show()"
   ]
  },
  {
   "cell_type": "markdown",
   "id": "a4f329fd",
   "metadata": {},
   "source": [
    "# Words, bigrams and trigrams distribution for positive comments"
   ]
  },
  {
   "cell_type": "markdown",
   "id": "392fc3b5",
   "metadata": {},
   "source": [
    "### Detecting service messages"
   ]
  },
  {
   "cell_type": "code",
   "execution_count": 12,
   "id": "7f529331",
   "metadata": {},
   "outputs": [],
   "source": [
    "df_copy = df.copy()\n",
    "df = df[df['Sentiment'] == 'pos']"
   ]
  },
  {
   "cell_type": "code",
   "execution_count": 13,
   "id": "ce7bc8a3",
   "metadata": {},
   "outputs": [],
   "source": [
    "substring = 'subredditmessage'\n",
    "df_without_substr = df[~df['Comment'].str.contains(substring)]\n",
    "substring = 'serverhttpsdiscord'\n",
    "df_without_substr = df_without_substr[~df_without_substr['Comment'].str.contains(substring)]"
   ]
  },
  {
   "cell_type": "markdown",
   "id": "5c4ac7a4",
   "metadata": {},
   "source": [
    "## Words frequency"
   ]
  },
  {
   "cell_type": "code",
   "execution_count": 14,
   "id": "19713a09",
   "metadata": {},
   "outputs": [],
   "source": [
    "from nltk import FreqDist\n",
    "\n",
    "tokens = []\n",
    "for row in df_without_substr['Comment']:\n",
    "    tokens.extend(word_tokenize(str(row).lower()))  # Tokenization and lower conversion of the strings\n",
    "\n",
    "word_freq = FreqDist(tokens)\n",
    "sorted_freq = sorted(word_freq.items(), key = lambda x: x[1], reverse = True)"
   ]
  },
  {
   "cell_type": "code",
   "execution_count": 15,
   "id": "c2e9f80b",
   "metadata": {},
   "outputs": [
    {
     "name": "stdout",
     "output_type": "stream",
     "text": [
      "like 9204\n",
      "ai 8840\n",
      "chatgpt 6991\n",
      "people 5405\n",
      "would 5244\n",
      "dont 4635\n",
      "use 4411\n",
      "im 4263\n",
      "good 4154\n",
      "think 4063\n",
      "get 3572\n",
      "one 3541\n",
      "even 3380\n",
      "work 3201\n",
      "time 3180\n",
      "make 3131\n",
      "know 3047\n",
      "also 3011\n",
      "gpt 2947\n",
      "could 2905\n",
      "thats 2893\n",
      "way 2841\n",
      "well 2741\n",
      "better 2659\n",
      "using 2590\n",
      "something 2550\n",
      "write 2461\n",
      "really 2453\n",
      "things 2396\n",
      "much 2309\n",
      "want 2288\n",
      "youre 2247\n",
      "see 2244\n",
      "need 2225\n",
      "going 2143\n",
      "writing 2042\n",
      "still 2011\n",
      "say 1999\n",
      "sure 1992\n",
      "used 1964\n",
      "right 1949\n",
      "actually 1941\n",
      "doesnt 1921\n",
      "human 1910\n",
      "cant 1774\n",
      "help 1771\n",
      "ask 1747\n",
      "thing 1704\n",
      "data 1667\n",
      "lot 1637\n"
     ]
    }
   ],
   "source": [
    "N = 50  # number of frequent words to print\n",
    "for word, freq in sorted_freq[:N]:\n",
    "    print(word, freq)"
   ]
  },
  {
   "cell_type": "markdown",
   "id": "cdb134f1",
   "metadata": {},
   "source": [
    "## Bigrams distribution"
   ]
  },
  {
   "cell_type": "code",
   "execution_count": 16,
   "id": "7a7a0a40",
   "metadata": {},
   "outputs": [],
   "source": [
    "from nltk.tokenize import word_tokenize\n",
    "from nltk.collocations import BigramCollocationFinder, TrigramCollocationFinder\n",
    "from nltk.metrics import BigramAssocMeasures, TrigramAssocMeasures\n",
    "\n",
    "finder = BigramCollocationFinder.from_words(tokens)"
   ]
  },
  {
   "cell_type": "code",
   "execution_count": 17,
   "id": "4e6cf2ab",
   "metadata": {},
   "outputs": [],
   "source": [
    "bigram_freq = finder.ngram_fd\n",
    "sorted_freq = sorted(bigram_freq.items(), key=lambda x: x[1], reverse=True)"
   ]
  },
  {
   "cell_type": "code",
   "execution_count": 18,
   "id": "15cf91b2",
   "metadata": {},
   "outputs": [
    {
     "name": "stdout",
     "output_type": "stream",
     "text": [
      "('chat', 'gpt') 754\n",
      "('dont', 'know') 544\n",
      "('good', 'bot') 510\n",
      "('dont', 'think') 494\n",
      "('language', 'model') 456\n",
      "('im', 'sure') 452\n",
      "('bot', 'good') 438\n",
      "('sounds', 'like') 424\n",
      "('use', 'chatgpt') 385\n",
      "('gon', 'na') 379\n",
      "('seems', 'like') 370\n",
      "('using', 'chatgpt') 345\n",
      "('something', 'like') 323\n",
      "('feel', 'like') 316\n",
      "('use', 'ai') 308\n",
      "('looks', 'like') 286\n",
      "('training', 'data') 266\n",
      "('make', 'sure') 266\n",
      "('things', 'like') 263\n",
      "('ai', 'language') 260\n",
      "('using', 'ai') 252\n",
      "('smart', 'robot') 252\n",
      "('years', 'ago') 240\n",
      "('writing', 'style') 239\n",
      "('pretty', 'much') 233\n",
      "('robot', 'response') 217\n",
      "('response', 'automatic') 217\n",
      "('ai', 'generated') 215\n",
      "('dont', 'want') 205\n",
      "('open', 'source') 201\n",
      "('like', 'chatgpt') 200\n",
      "('people', 'dont') 192\n",
      "('automatic', 'thanks') 191\n",
      "('much', 'better') 190\n",
      "('dont', 'see') 188\n",
      "('many', 'people') 186\n",
      "('would', 'like') 184\n",
      "('chatgpt', 'write') 184\n",
      "('dont', 'understand') 180\n",
      "('heres', 'think') 173\n",
      "('dont', 'need') 170\n",
      "('mental', 'health') 167\n",
      "('look', 'like') 165\n",
      "('dont', 'get') 162\n",
      "('ask', 'chatgpt') 157\n",
      "('ive', 'seen') 157\n",
      "('used', 'chatgpt') 151\n",
      "('language', 'models') 150\n",
      "('doesnt', 'mean') 147\n",
      "('good', 'luck') 146\n"
     ]
    }
   ],
   "source": [
    "N = 50\n",
    "for ngram, freq in sorted_freq[:N]:\n",
    "    print(ngram, freq)"
   ]
  },
  {
   "cell_type": "markdown",
   "id": "2aff6f1f",
   "metadata": {},
   "source": [
    "## Trigrams distribution"
   ]
  },
  {
   "cell_type": "code",
   "execution_count": 19,
   "id": "17218cc0",
   "metadata": {},
   "outputs": [],
   "source": [
    "finder = TrigramCollocationFinder.from_words(tokens)\n",
    "trigram_freq = finder.ngram_fd\n",
    "sorted_freq = sorted(trigram_freq.items(), key=lambda x: x[1], reverse=True)"
   ]
  },
  {
   "cell_type": "code",
   "execution_count": 20,
   "id": "7bc727af",
   "metadata": {},
   "outputs": [
    {
     "name": "stdout",
     "output_type": "stream",
     "text": [
      "('bot', 'good', 'bot') 435\n",
      "('good', 'bot', 'good') 432\n",
      "('ai', 'language', 'model') 222\n",
      "('smart', 'robot', 'response') 217\n",
      "('robot', 'response', 'automatic') 217\n",
      "('response', 'automatic', 'thanks') 191\n",
      "('heres', 'think', 'based') 110\n",
      "('think', 'based', 'comments') 106\n",
      "('im', 'pretty', 'sure') 77\n",
      "('based', 'comments', 'seems') 74\n",
      "('comments', 'seems', 'like') 64\n",
      "('large', 'language', 'model') 63\n",
      "('use', 'chat', 'gpt') 61\n",
      "('im', 'im', 'im') 58\n",
      "('hope', 'email', 'finds') 55\n",
      "('email', 'finds', 'well') 50\n",
      "('overall', 'seem', 'like') 49\n",
      "('im', 'gon', 'na') 48\n",
      "('nsfw', 'sexual', 'content') 48\n",
      "('good', 'sense', 'humor') 47\n",
      "('overall', 'come', 'across') 43\n",
      "('critical', 'thinking', 'skills') 36\n",
      "('smart', 'robot', 'summary') 35\n",
      "('robot', 'summary', 'automatic') 35\n",
      "('summary', 'automatic', 'tldr') 35\n",
      "('automatic', 'tldr', 'shorter') 35\n",
      "('tldr', 'shorter', 'post') 35\n",
      "('keep', 'good', 'work') 35\n",
      "('ich', 'verstehe', 'nur') 34\n",
      "('im', 'bot', 'bleep') 32\n",
      "('bot', 'bleep', 'bloop') 32\n",
      "('bleep', 'bloop', 'someone') 32\n",
      "('bloop', 'someone', 'linked') 32\n",
      "('someone', 'linked', 'thread') 32\n",
      "('linked', 'thread', 'another') 32\n",
      "('thread', 'another', 'place') 32\n",
      "('another', 'place', 'reddit') 32\n",
      "('place', 'reddit', 'rnewsnewsvn') 32\n",
      "('nbspif', 'follow', 'links') 32\n",
      "('follow', 'links', 'please') 32\n",
      "('links', 'please', 'respect') 32\n",
      "('please', 'respect', 'rules') 32\n",
      "('respect', 'rules', 'reddit') 32\n",
      "('rules', 'reddit', 'dont') 32\n",
      "('reddit', 'dont', 'vote') 32\n",
      "('dont', 'vote', 'threads') 32\n",
      "('vote', 'threads', 'infortotesmessenger') 32\n",
      "('threads', 'infortotesmessenger', 'contactmessagecomposetortotesmessenger') 32\n",
      "('verstehe', 'nur', 'bahnhof') 32\n",
      "('ai', 'language', 'models') 30\n"
     ]
    }
   ],
   "source": [
    "N = 50\n",
    "for ngram, freq in sorted_freq[:N]:\n",
    "    print(ngram, freq)"
   ]
  },
  {
   "cell_type": "markdown",
   "id": "aea77c81",
   "metadata": {},
   "source": [
    "Main reasons we can deduce from the above list of trigraphs are: **good bot**, **smart robot response**, **it has a large language model**, **it's free and open (open source)**."
   ]
  },
  {
   "cell_type": "markdown",
   "id": "fa559343",
   "metadata": {},
   "source": [
    "### Grouping by month"
   ]
  },
  {
   "cell_type": "code",
   "execution_count": 21,
   "id": "d9fc5bdb",
   "metadata": {
    "scrolled": true
   },
   "outputs": [],
   "source": [
    "df_without_substr['Comment date'] = pd.to_datetime(df_without_substr['Comment date'])\n",
    "#df_grouped = df_without_substr.groupby(pd.Grouper(key='Comment date', freq='M'))\n",
    "grouped_data = {}\n",
    "\n",
    "for index, row in df_without_substr.iterrows():\n",
    "    month = row['Comment date'].month\n",
    "    if month in grouped_data:\n",
    "        grouped_data[month].append(row)\n",
    "    else:\n",
    "        grouped_data[month] = [row]\n",
    "april_data = grouped_data[4]\n",
    "april_df = pd.DataFrame(april_data)\n",
    "may_data = grouped_data[5]\n",
    "may_df = pd.DataFrame(may_data)\n",
    "june_data = grouped_data[6]\n",
    "june_df = pd.DataFrame(june_data)"
   ]
  },
  {
   "cell_type": "markdown",
   "id": "56e8eb29",
   "metadata": {},
   "source": [
    "## Words frequency (april)"
   ]
  },
  {
   "cell_type": "code",
   "execution_count": 22,
   "id": "a025c38d",
   "metadata": {},
   "outputs": [],
   "source": [
    "from nltk import FreqDist\n",
    "\n",
    "tokens = []\n",
    "for row in april_df['Comment']:\n",
    "    tokens.extend(word_tokenize(str(row).lower()))  # Tokenization and lower conversion of the strings\n",
    "\n",
    "word_freq = FreqDist(tokens)\n",
    "sorted_freq = sorted(word_freq.items(), key = lambda x: x[1], reverse = True)"
   ]
  },
  {
   "cell_type": "code",
   "execution_count": 23,
   "id": "44f237a8",
   "metadata": {},
   "outputs": [
    {
     "name": "stdout",
     "output_type": "stream",
     "text": [
      "like 2696\n",
      "ai 2302\n",
      "chatgpt 1990\n",
      "people 1691\n",
      "good 1527\n",
      "think 1367\n",
      "would 1325\n",
      "im 1226\n",
      "dont 1209\n",
      "use 1097\n",
      "get 1056\n",
      "even 1019\n",
      "one 982\n",
      "also 937\n",
      "time 923\n",
      "gpt 871\n",
      "could 855\n",
      "way 820\n",
      "well 788\n",
      "thats 785\n",
      "make 775\n",
      "know 772\n",
      "work 763\n",
      "things 736\n",
      "bot 709\n",
      "really 688\n",
      "better 680\n",
      "much 680\n",
      "using 674\n",
      "writing 660\n",
      "going 645\n",
      "something 640\n",
      "see 639\n",
      "need 638\n",
      "internet 635\n",
      "youre 619\n",
      "still 600\n",
      "human 596\n",
      "want 592\n",
      "write 589\n",
      "right 580\n",
      "actually 574\n",
      "us 562\n",
      "thing 544\n",
      "new 536\n",
      "used 525\n",
      "sure 521\n",
      "point 505\n",
      "doesnt 505\n",
      "information 502\n"
     ]
    }
   ],
   "source": [
    "N = 50  # number of frequent words to print\n",
    "for word, freq in sorted_freq[:N]:\n",
    "    print(word, freq)"
   ]
  },
  {
   "cell_type": "markdown",
   "id": "4cc02815",
   "metadata": {},
   "source": [
    "## Bigrams distribution (april)"
   ]
  },
  {
   "cell_type": "code",
   "execution_count": 24,
   "id": "8a3b94d2",
   "metadata": {},
   "outputs": [],
   "source": [
    "from nltk.tokenize import word_tokenize\n",
    "from nltk.collocations import BigramCollocationFinder, TrigramCollocationFinder\n",
    "from nltk.metrics import BigramAssocMeasures, TrigramAssocMeasures\n",
    "\n",
    "finder = BigramCollocationFinder.from_words(tokens)"
   ]
  },
  {
   "cell_type": "code",
   "execution_count": 25,
   "id": "18c096e0",
   "metadata": {},
   "outputs": [],
   "source": [
    "bigram_freq = finder.ngram_fd\n",
    "sorted_freq = sorted(bigram_freq.items(), key=lambda x: x[1], reverse=True)"
   ]
  },
  {
   "cell_type": "code",
   "execution_count": 26,
   "id": "2f9c0dcd",
   "metadata": {},
   "outputs": [
    {
     "name": "stdout",
     "output_type": "stream",
     "text": [
      "('good', 'bot') 498\n",
      "('bot', 'good') 437\n",
      "('smart', 'robot') 252\n",
      "('chat', 'gpt') 219\n",
      "('robot', 'response') 217\n",
      "('response', 'automatic') 217\n",
      "('automatic', 'thanks') 191\n",
      "('writing', 'style') 186\n",
      "('heres', 'think') 171\n",
      "('language', 'model') 155\n",
      "('seems', 'like') 154\n",
      "('dont', 'think') 148\n",
      "('dont', 'know') 134\n",
      "('based', 'comments') 128\n",
      "('ai', 'language') 123\n",
      "('im', 'sure') 121\n",
      "('think', 'based') 111\n",
      "('gon', 'na') 110\n",
      "('sense', 'humor') 110\n",
      "('legal', 'advice') 106\n",
      "('sounds', 'like') 101\n",
      "('using', 'chatgpt') 99\n",
      "('something', 'like') 94\n",
      "('seem', 'like') 91\n",
      "('feel', 'like') 87\n",
      "('years', 'ago') 84\n",
      "('use', 'chatgpt') 83\n",
      "('comments', 'seems') 80\n",
      "('come', 'across') 78\n",
      "('also', 'seem') 78\n",
      "('things', 'like') 70\n",
      "('language', 'models') 69\n",
      "('looks', 'like') 67\n",
      "('range', 'interests') 66\n",
      "('use', 'ai') 64\n",
      "('using', 'ai') 62\n",
      "('like', 'chatgpt') 61\n",
      "('much', 'better') 59\n",
      "('birth', 'internet') 59\n",
      "('critical', 'thinking') 58\n",
      "('pretty', 'much') 57\n",
      "('many', 'people') 57\n",
      "('make', 'sure') 56\n",
      "('dont', 'want') 54\n",
      "('ask', 'questions') 53\n",
      "('dont', 'see') 53\n",
      "('search', 'engine') 53\n",
      "('dont', 'get') 51\n",
      "('really', 'good') 51\n",
      "('training', 'data') 51\n"
     ]
    }
   ],
   "source": [
    "N = 50\n",
    "for ngram, freq in sorted_freq[:N]:\n",
    "    print(ngram, freq)"
   ]
  },
  {
   "cell_type": "markdown",
   "id": "cc6ab271",
   "metadata": {},
   "source": [
    "## Trigrams distribution (april)"
   ]
  },
  {
   "cell_type": "code",
   "execution_count": 27,
   "id": "8bdf39ee",
   "metadata": {},
   "outputs": [],
   "source": [
    "finder = TrigramCollocationFinder.from_words(tokens)\n",
    "trigram_freq = finder.ngram_fd\n",
    "sorted_freq = sorted(trigram_freq.items(), key=lambda x: x[1], reverse=True)"
   ]
  },
  {
   "cell_type": "code",
   "execution_count": 28,
   "id": "0254878b",
   "metadata": {},
   "outputs": [
    {
     "name": "stdout",
     "output_type": "stream",
     "text": [
      "('bot', 'good', 'bot') 435\n",
      "('good', 'bot', 'good') 432\n",
      "('smart', 'robot', 'response') 217\n",
      "('robot', 'response', 'automatic') 217\n",
      "('response', 'automatic', 'thanks') 191\n",
      "('heres', 'think', 'based') 110\n",
      "('think', 'based', 'comments') 106\n",
      "('ai', 'language', 'model') 97\n",
      "('based', 'comments', 'seems') 74\n",
      "('comments', 'seems', 'like') 62\n",
      "('overall', 'seem', 'like') 49\n",
      "('good', 'sense', 'humor') 47\n",
      "('overall', 'come', 'across') 43\n",
      "('smart', 'robot', 'summary') 35\n",
      "('robot', 'summary', 'automatic') 35\n",
      "('summary', 'automatic', 'tldr') 35\n",
      "('automatic', 'tldr', 'shorter') 35\n",
      "('tldr', 'shorter', 'post') 35\n",
      "('keep', 'good', 'work') 33\n",
      "('writing', 'style', 'casual') 30\n",
      "('writing', 'style', 'concise') 30\n",
      "('wide', 'range', 'interests') 30\n",
      "('nsfw', 'sexual', 'content') 28\n",
      "('diverse', 'range', 'interests') 28\n",
      "('based', 'comments', 'seem') 26\n",
      "('work', 'smart', 'robot') 26\n",
      "('come', 'across', 'someone') 25\n",
      "('critical', 'thinking', 'skills') 24\n",
      "('ai', 'language', 'models') 22\n",
      "('heres', 'think', 'seem') 21\n",
      "('shorter', 'post', 'link') 20\n",
      "('post', 'link', 'im') 20\n",
      "('link', 'im', 'replying') 20\n",
      "('great', 'sense', 'humor') 20\n",
      "('good', 'work', 'smart') 20\n",
      "('seem', 'good', 'sense') 20\n",
      "('style', 'casual', 'conversational') 19\n",
      "('natural', 'language', 'processing') 17\n",
      "('style', 'concise', 'point') 17\n",
      "('seems', 'like', 'diverse') 17\n",
      "('bot', 'action', 'performed') 16\n",
      "('action', 'performed', 'automatically') 16\n",
      "('community', 'smart', 'robot') 16\n",
      "('afraid', 'speak', 'mind') 16\n",
      "('sense', 'humor', 'enjoy') 16\n",
      "('feel', 'done', 'error') 15\n",
      "('done', 'error', 'please') 15\n",
      "('error', 'please', 'message') 15\n",
      "('thanks', 'babe', 'id') 15\n",
      "('babe', 'id', 'take') 15\n"
     ]
    }
   ],
   "source": [
    "N = 50\n",
    "for ngram, freq in sorted_freq[:N]:\n",
    "    print(ngram, freq)"
   ]
  },
  {
   "cell_type": "markdown",
   "id": "afa73295",
   "metadata": {},
   "source": [
    "Main reasons we can deduce from the above list of trigraphs are: **smart robot summary**, **wide range interests**, **critical and thinking skills (maybe is referred to users)**."
   ]
  },
  {
   "cell_type": "markdown",
   "id": "8b35f82e",
   "metadata": {},
   "source": [
    "## Words frequency (may)"
   ]
  },
  {
   "cell_type": "code",
   "execution_count": 29,
   "id": "1684af2f",
   "metadata": {},
   "outputs": [],
   "source": [
    "from nltk import FreqDist\n",
    "\n",
    "tokens = []\n",
    "for row in may_df['Comment']:\n",
    "    tokens.extend(word_tokenize(str(row).lower()))  # Tokenization and lower conversion of the strings\n",
    "\n",
    "word_freq = FreqDist(tokens)\n",
    "sorted_freq = sorted(word_freq.items(), key = lambda x: x[1], reverse = True)"
   ]
  },
  {
   "cell_type": "code",
   "execution_count": 30,
   "id": "17d33e52",
   "metadata": {},
   "outputs": [
    {
     "name": "stdout",
     "output_type": "stream",
     "text": [
      "ai 5552\n",
      "like 5137\n",
      "chatgpt 4148\n",
      "would 3239\n",
      "people 3058\n",
      "dont 2830\n",
      "use 2796\n",
      "im 2474\n",
      "think 2255\n",
      "good 2126\n",
      "work 2093\n",
      "get 2083\n",
      "one 2058\n",
      "even 1957\n",
      "make 1947\n",
      "know 1914\n",
      "time 1909\n",
      "gpt 1750\n",
      "thats 1737\n",
      "way 1698\n",
      "write 1696\n",
      "could 1695\n",
      "also 1686\n",
      "better 1671\n",
      "using 1655\n",
      "something 1584\n",
      "well 1583\n",
      "really 1452\n",
      "want 1399\n",
      "things 1366\n",
      "much 1362\n",
      "youre 1351\n",
      "see 1350\n",
      "need 1303\n",
      "used 1269\n",
      "going 1268\n",
      "writing 1252\n",
      "say 1243\n",
      "sure 1202\n",
      "doesnt 1193\n",
      "still 1160\n",
      "actually 1138\n",
      "help 1128\n",
      "ask 1085\n",
      "human 1081\n",
      "right 1074\n",
      "cant 1067\n",
      "data 1011\n",
      "lot 971\n",
      "thing 963\n"
     ]
    }
   ],
   "source": [
    "N = 50  # number of frequent words to print\n",
    "for word, freq in sorted_freq[:N]:\n",
    "    print(word, freq)"
   ]
  },
  {
   "cell_type": "markdown",
   "id": "042c39f3",
   "metadata": {},
   "source": [
    "## Bigrams distribution (may)"
   ]
  },
  {
   "cell_type": "code",
   "execution_count": 31,
   "id": "3e4c6800",
   "metadata": {},
   "outputs": [],
   "source": [
    "from nltk.tokenize import word_tokenize\n",
    "from nltk.collocations import BigramCollocationFinder, TrigramCollocationFinder\n",
    "from nltk.metrics import BigramAssocMeasures, TrigramAssocMeasures\n",
    "\n",
    "finder = BigramCollocationFinder.from_words(tokens)"
   ]
  },
  {
   "cell_type": "code",
   "execution_count": 32,
   "id": "b64cb8f1",
   "metadata": {},
   "outputs": [],
   "source": [
    "bigram_freq = finder.ngram_fd\n",
    "sorted_freq = sorted(bigram_freq.items(), key=lambda x: x[1], reverse=True)"
   ]
  },
  {
   "cell_type": "code",
   "execution_count": 33,
   "id": "5e3dc5fc",
   "metadata": {},
   "outputs": [
    {
     "name": "stdout",
     "output_type": "stream",
     "text": [
      "('chat', 'gpt') 451\n",
      "('dont', 'know') 354\n",
      "('dont', 'think') 290\n",
      "('im', 'sure') 277\n",
      "('use', 'chatgpt') 267\n",
      "('language', 'model') 257\n",
      "('sounds', 'like') 254\n",
      "('use', 'ai') 219\n",
      "('gon', 'na') 216\n",
      "('using', 'chatgpt') 213\n",
      "('something', 'like') 193\n",
      "('feel', 'like') 193\n",
      "('make', 'sure') 183\n",
      "('ai', 'generated') 176\n",
      "('seems', 'like') 175\n",
      "('training', 'data') 172\n",
      "('using', 'ai') 172\n",
      "('things', 'like') 156\n",
      "('looks', 'like') 152\n",
      "('chatgpt', 'write') 145\n",
      "('pretty', 'much') 141\n",
      "('mental', 'health') 134\n",
      "('people', 'dont') 129\n",
      "('years', 'ago') 125\n",
      "('used', 'chatgpt') 122\n",
      "('ai', 'detection') 121\n",
      "('dont', 'understand') 118\n",
      "('dont', 'want') 117\n",
      "('many', 'people') 117\n",
      "('open', 'source') 117\n",
      "('ask', 'chatgpt') 114\n",
      "('like', 'chatgpt') 113\n",
      "('ai', 'language') 113\n",
      "('dont', 'see') 113\n",
      "('much', 'better') 111\n",
      "('dont', 'need') 108\n",
      "('would', 'like') 107\n",
      "('good', 'luck') 106\n",
      "('ive', 'seen') 98\n",
      "('would', 'say') 94\n",
      "('look', 'like') 94\n",
      "('artificial', 'intelligence') 93\n",
      "('dont', 'get') 91\n",
      "('doesnt', 'mean') 91\n",
      "('asked', 'chatgpt') 89\n",
      "('im', 'sorry') 89\n",
      "('written', 'ai') 86\n",
      "('pretty', 'good') 85\n",
      "('ai', 'would') 83\n",
      "('false', 'positives') 82\n"
     ]
    }
   ],
   "source": [
    "N = 50\n",
    "for ngram, freq in sorted_freq[:N]:\n",
    "    print(ngram, freq)"
   ]
  },
  {
   "cell_type": "markdown",
   "id": "ec72e3c6",
   "metadata": {},
   "source": [
    "## Trigrams distribution (may)"
   ]
  },
  {
   "cell_type": "code",
   "execution_count": 34,
   "id": "ec8e0a57",
   "metadata": {},
   "outputs": [],
   "source": [
    "finder = TrigramCollocationFinder.from_words(tokens)\n",
    "trigram_freq = finder.ngram_fd\n",
    "sorted_freq = sorted(trigram_freq.items(), key=lambda x: x[1], reverse=True)"
   ]
  },
  {
   "cell_type": "code",
   "execution_count": 35,
   "id": "da5c8223",
   "metadata": {},
   "outputs": [
    {
     "name": "stdout",
     "output_type": "stream",
     "text": [
      "('ai', 'language', 'model') 103\n",
      "('im', 'im', 'im') 58\n",
      "('im', 'pretty', 'sure') 52\n",
      "('large', 'language', 'model') 47\n",
      "('use', 'chat', 'gpt') 45\n",
      "('hope', 'email', 'finds') 41\n",
      "('email', 'finds', 'well') 37\n",
      "('ich', 'verstehe', 'nur') 34\n",
      "('verstehe', 'nur', 'bahnhof') 32\n",
      "('professor', 'computer', 'science') 28\n",
      "('im', 'gon', 'na') 27\n",
      "('please', 'let', 'know') 23\n",
      "('kommt', 'mir', 'spanisch') 23\n",
      "('mir', 'spanisch', 'vor') 23\n",
      "('didnt', 'use', 'ai') 22\n",
      "('im', 'sorry', 'loss') 21\n",
      "('das', 'kommt', 'mir') 21\n",
      "('ai', 'generated', 'content') 20\n",
      "('dont', 'even', 'know') 20\n",
      "('youre', 'gon', 'na') 20\n",
      "('random', 'number', 'generator') 20\n",
      "('im', 'bot', 'bleep') 19\n",
      "('bot', 'bleep', 'bloop') 19\n",
      "('bleep', 'bloop', 'someone') 19\n",
      "('bloop', 'someone', 'linked') 19\n",
      "('someone', 'linked', 'thread') 19\n",
      "('linked', 'thread', 'another') 19\n",
      "('thread', 'another', 'place') 19\n",
      "('another', 'place', 'reddit') 19\n",
      "('place', 'reddit', 'rnewsnewsvn') 19\n",
      "('nbspif', 'follow', 'links') 19\n",
      "('follow', 'links', 'please') 19\n",
      "('links', 'please', 'respect') 19\n",
      "('please', 'respect', 'rules') 19\n",
      "('respect', 'rules', 'reddit') 19\n",
      "('rules', 'reddit', 'dont') 19\n",
      "('reddit', 'dont', 'vote') 19\n",
      "('dont', 'vote', 'threads') 19\n",
      "('vote', 'threads', 'infortotesmessenger') 19\n",
      "('threads', 'infortotesmessenger', 'contactmessagecomposetortotesmessenger') 19\n",
      "('using', 'chat', 'gpt') 19\n",
      "('undertaker', 'threw', 'mankind') 19\n",
      "('cell', 'plummeted', 'sixteen') 19\n",
      "('plummeted', 'sixteen', 'feet') 19\n",
      "('sixteen', 'feet', 'announcers') 19\n",
      "('feet', 'announcers', 'table') 19\n",
      "('use', 'chatgpt', 'write') 18\n",
      "('ai', 'detection', 'tools') 18\n",
      "('threw', 'mankind', 'hell') 18\n",
      "('mankind', 'hell', 'cell') 18\n"
     ]
    }
   ],
   "source": [
    "N = 50\n",
    "for ngram, freq in sorted_freq[:N]:\n",
    "    print(ngram, freq)"
   ]
  },
  {
   "cell_type": "markdown",
   "id": "88e47aeb",
   "metadata": {},
   "source": [
    "Main reasons we can deduce from the above list of trigraphs are: **random number generator**."
   ]
  },
  {
   "cell_type": "markdown",
   "id": "b80ab33b",
   "metadata": {},
   "source": [
    "## Words frequency (june)"
   ]
  },
  {
   "cell_type": "code",
   "execution_count": 36,
   "id": "0622d49d",
   "metadata": {},
   "outputs": [],
   "source": [
    "from nltk import FreqDist\n",
    "\n",
    "tokens = []\n",
    "for row in june_df['Comment']:\n",
    "    tokens.extend(word_tokenize(str(row).lower()))  # Tokenization and lower conversion of the strings\n",
    "\n",
    "word_freq = FreqDist(tokens)\n",
    "sorted_freq = sorted(word_freq.items(), key = lambda x: x[1], reverse = True)"
   ]
  },
  {
   "cell_type": "code",
   "execution_count": 37,
   "id": "c3cf6987",
   "metadata": {},
   "outputs": [
    {
     "name": "stdout",
     "output_type": "stream",
     "text": [
      "like 1371\n",
      "ai 986\n",
      "chatgpt 853\n",
      "would 680\n",
      "people 656\n",
      "dont 596\n",
      "im 563\n",
      "use 518\n",
      "one 501\n",
      "good 501\n",
      "think 441\n",
      "get 433\n",
      "make 409\n",
      "even 404\n",
      "also 388\n",
      "thats 371\n",
      "well 370\n",
      "know 361\n",
      "could 355\n",
      "time 348\n",
      "work 345\n",
      "gpt 326\n",
      "something 326\n",
      "way 323\n",
      "really 313\n",
      "better 308\n",
      "want 297\n",
      "right 295\n",
      "things 294\n",
      "need 284\n",
      "youre 277\n",
      "say 274\n",
      "sure 269\n",
      "much 267\n",
      "using 261\n",
      "see 255\n",
      "still 251\n",
      "lol 250\n",
      "us 239\n",
      "human 233\n",
      "going 230\n",
      "actually 229\n",
      "cant 226\n",
      "ask 225\n",
      "great 224\n",
      "doesnt 223\n",
      "help 223\n",
      "data 210\n",
      "lot 206\n",
      "pretty 201\n"
     ]
    }
   ],
   "source": [
    "N = 50  # number of frequent words to print\n",
    "for word, freq in sorted_freq[:N]:\n",
    "    print(word, freq)"
   ]
  },
  {
   "cell_type": "markdown",
   "id": "94361fa0",
   "metadata": {},
   "source": [
    "## Bigrams distribution (june)"
   ]
  },
  {
   "cell_type": "code",
   "execution_count": 38,
   "id": "ddb59628",
   "metadata": {},
   "outputs": [],
   "source": [
    "from nltk.tokenize import word_tokenize\n",
    "from nltk.collocations import BigramCollocationFinder, TrigramCollocationFinder\n",
    "from nltk.metrics import BigramAssocMeasures, TrigramAssocMeasures\n",
    "\n",
    "finder = BigramCollocationFinder.from_words(tokens)"
   ]
  },
  {
   "cell_type": "code",
   "execution_count": 39,
   "id": "a016e1e1",
   "metadata": {},
   "outputs": [],
   "source": [
    "bigram_freq = finder.ngram_fd\n",
    "sorted_freq = sorted(bigram_freq.items(), key=lambda x: x[1], reverse=True)"
   ]
  },
  {
   "cell_type": "code",
   "execution_count": 40,
   "id": "9c294241",
   "metadata": {},
   "outputs": [
    {
     "name": "stdout",
     "output_type": "stream",
     "text": [
      "('chat', 'gpt') 84\n",
      "('sounds', 'like') 69\n",
      "('looks', 'like') 67\n",
      "('dont', 'think') 56\n",
      "('dont', 'know') 56\n",
      "('im', 'sure') 54\n",
      "('gon', 'na') 53\n",
      "('black', 'mirror') 50\n",
      "('language', 'model') 44\n",
      "('training', 'data') 43\n",
      "('seems', 'like') 41\n",
      "('things', 'like') 37\n",
      "('feel', 'like') 36\n",
      "('something', 'like') 36\n",
      "('open', 'source') 36\n",
      "('use', 'chatgpt') 35\n",
      "('pretty', 'much') 35\n",
      "('dont', 'want') 34\n",
      "('would', 'like') 33\n",
      "('using', 'chatgpt') 33\n",
      "('years', 'ago') 31\n",
      "('strongly', 'disagree') 30\n",
      "('make', 'sure') 27\n",
      "('like', 'chatgpt') 26\n",
      "('use', 'ai') 25\n",
      "('asked', 'chatgpt') 25\n",
      "('ai', 'language') 24\n",
      "('context', 'window') 24\n",
      "('left', 'leaning') 23\n",
      "('pretty', 'good') 22\n",
      "('dont', 'see') 22\n",
      "('look', 'like') 22\n",
      "('really', 'good') 22\n",
      "('dont', 'need') 21\n",
      "('stuff', 'like') 21\n",
      "('people', 'dont') 21\n",
      "('search', 'engine') 21\n",
      "('sound', 'like') 20\n",
      "('ask', 'chatgpt') 20\n",
      "('im', 'saying') 20\n",
      "('dont', 'get') 20\n",
      "('much', 'better') 20\n",
      "('mental', 'health') 20\n",
      "('word', 'lollipop') 20\n",
      "('ive', 'seen') 19\n",
      "('pretty', 'sure') 19\n",
      "('dont', 'understand') 19\n",
      "('every', 'time') 18\n",
      "('right', 'wing') 18\n",
      "('lot', 'people') 18\n"
     ]
    }
   ],
   "source": [
    "N = 50\n",
    "for ngram, freq in sorted_freq[:N]:\n",
    "    print(ngram, freq)"
   ]
  },
  {
   "cell_type": "markdown",
   "id": "e1390422",
   "metadata": {},
   "source": [
    "## Trigrams distribution (june)"
   ]
  },
  {
   "cell_type": "code",
   "execution_count": 41,
   "id": "39fd2194",
   "metadata": {},
   "outputs": [],
   "source": [
    "finder = TrigramCollocationFinder.from_words(tokens)\n",
    "trigram_freq = finder.ngram_fd\n",
    "sorted_freq = sorted(trigram_freq.items(), key=lambda x: x[1], reverse=True)"
   ]
  },
  {
   "cell_type": "code",
   "execution_count": 42,
   "id": "eefd66b1",
   "metadata": {},
   "outputs": [
    {
     "name": "stdout",
     "output_type": "stream",
     "text": [
      "('ai', 'language', 'model') 22\n",
      "('hope', 'email', 'finds') 14\n",
      "('black', 'mirror', 'episode') 14\n",
      "('im', 'pretty', 'sure') 13\n",
      "('email', 'finds', 'well') 13\n",
      "('im', 'bot', 'bleep') 12\n",
      "('bot', 'bleep', 'bloop') 12\n",
      "('bleep', 'bloop', 'someone') 12\n",
      "('bloop', 'someone', 'linked') 12\n",
      "('someone', 'linked', 'thread') 12\n",
      "('linked', 'thread', 'another') 12\n",
      "('thread', 'another', 'place') 12\n",
      "('another', 'place', 'reddit') 12\n",
      "('place', 'reddit', 'rnewsnewsvn') 12\n",
      "('nbspif', 'follow', 'links') 12\n",
      "('follow', 'links', 'please') 12\n",
      "('links', 'please', 'respect') 12\n",
      "('please', 'respect', 'rules') 12\n",
      "('respect', 'rules', 'reddit') 12\n",
      "('rules', 'reddit', 'dont') 12\n",
      "('reddit', 'dont', 'vote') 12\n",
      "('dont', 'vote', 'threads') 12\n",
      "('vote', 'threads', 'infortotesmessenger') 12\n",
      "('threads', 'infortotesmessenger', 'contactmessagecomposetortotesmessenger') 12\n",
      "('nsfw', 'sexual', 'content') 12\n",
      "('disagree', 'agree', 'strongly') 11\n",
      "('im', 'gon', 'na') 9\n",
      "('agree', 'strongly', 'agree') 9\n",
      "('feel', 'done', 'error') 8\n",
      "('done', 'error', 'please') 8\n",
      "('error', 'please', 'message') 8\n",
      "('bot', 'action', 'performed') 8\n",
      "('action', 'performed', 'automatically') 8\n",
      "('reverse', 'spelling', 'lollipop') 8\n",
      "('disagree', 'strongly', 'agree') 8\n",
      "('agree', 'strongly', 'disagree') 8\n",
      "('strongly', 'disagree', 'agree') 8\n",
      "('strongly', 'agree', 'disagree') 7\n",
      "('agree', 'disagree', 'strongly') 7\n",
      "('post', 'removed', 'nsfw') 6\n",
      "('removed', 'nsfw', 'sexual') 6\n",
      "('sexual', 'content', 'determined') 6\n",
      "('content', 'determined', 'openai') 6\n",
      "('determined', 'openai', 'moderation') 6\n",
      "('openai', 'moderation', 'toolkithttpsplatformopenaicomdocsguidesmoderation') 6\n",
      "('moderation', 'toolkithttpsplatformopenaicomdocsguidesmoderation', 'feel') 6\n",
      "('toolkithttpsplatformopenaicomdocsguidesmoderation', 'feel', 'done') 6\n",
      "('please', 'message', 'moderatorshttpswwwredditcommessagecomposetorchatgpt') 6\n",
      "('message', 'moderatorshttpswwwredditcommessagecomposetorchatgpt', 'youre') 6\n",
      "('moderatorshttpswwwredditcommessagecomposetorchatgpt', 'youre', 'welcome') 6\n"
     ]
    }
   ],
   "source": [
    "N = 50\n",
    "for ngram, freq in sorted_freq[:N]:\n",
    "    print(ngram, freq)"
   ]
  },
  {
   "cell_type": "markdown",
   "id": "52ee37dd",
   "metadata": {},
   "source": [
    "Main reasons we can deduce from the above list of trigraphs are: **bleep bloop seems to refer to a ChatGPT generated song based on the Xbox achievement sound (not sure)**."
   ]
  },
  {
   "cell_type": "markdown",
   "id": "2909b531",
   "metadata": {},
   "source": [
    "## Comments with highest score"
   ]
  },
  {
   "cell_type": "code",
   "execution_count": 43,
   "id": "a1227d47",
   "metadata": {},
   "outputs": [],
   "source": [
    "df_temp = pd.read_csv(\"chatgpt_reddit - Complete.csv\")\n",
    "df_temp['Sentiment'] = df_copy['Sentiment']\n",
    "df_temp = df_temp[df_temp['Comment author'] != 'AutoModerator']\n",
    "df_complete = df_temp.copy()\n",
    "df_neg = df_complete[df_complete['Sentiment'] == 'neg']\n",
    "df_pos = df_complete[df_complete['Sentiment'] == 'pos']"
   ]
  },
  {
   "cell_type": "code",
   "execution_count": 44,
   "id": "65527b05",
   "metadata": {},
   "outputs": [],
   "source": [
    "ordered_df = df_pos.sort_values(by = 'Comment score', ascending = False)\n",
    "ordered_df = ordered_df.head(10)"
   ]
  },
  {
   "cell_type": "code",
   "execution_count": 45,
   "id": "7d288c66",
   "metadata": {},
   "outputs": [
    {
     "name": "stdout",
     "output_type": "stream",
     "text": [
      "Comment: I don't remember the date username or any other such thing to link it, but there was a professor commenting on an article about the prevalence of AI generated papers and he said the tool he was provided to check for it had an unusually high positive rate, even for papers he seriously doubted were AI generated. As a test, he fed it several papers he had written in college and it tagged all of them as AI generated.\n",
      "\n",
      "The gist is detection is way behind on this subject and relying on such things without follow-up is going to ruin a few peoples' lives.\n",
      "Comment: I believe that they had previous found that throwing darts at a dartboard can pick stocks better than your fund manager.\n",
      "Comment: Not to nitpick… BUT the rarity of a condition doesn’t necessarily affect how difficult it is to diagnose. Some rare conditions are quite unique and not difficult to recognize.\n",
      "Comment: TFW you are trying new and interesting ways to get disbarred.\n",
      "Comment: >According to Schwartz, he was \"unaware of the possibility that its content could be false.” The lawyer even provided screenshots to the judge of his interactions with ChatGPT, **asking the AI chatbot if one of the cases were real. ChatGPT responded that it was. It even confirmed that the cases could be found in \"reputable legal databases.\"** Again, none of them could be found because the cases were all created by the chatbot.\n",
      "\n",
      "It's fascinating how many people don't understand that chatGPT itself is not a search engine.\n",
      "Comment: Schools are going to go back to paper and pencil over this.\n",
      "\n",
      "Edit: Yes, I know some of you would have AI generate an essay and then write it on paper. But that process would still teach a student something because AI generated content is kind of stupid. A human person forcing themselves to re-write an AI essay would hopefully edit it and learn something in that process.\n",
      "Comment: Not unethical in the slightest, but I have some values pushback, if you're willing to hear me out.  \n",
      "\n",
      "\n",
      ">  the result is just so much better than anything I could ever write. \n",
      "\n",
      "I think this depends on your criteria for \"better.\"  \n",
      "\n",
      "\n",
      "Here's Better A: Chatgpt will write a letter that is composed in a technically crisp fashion that touches upon all the points that a standard eulogy that is easily digested by the masses.  \n",
      "\n",
      "\n",
      "Better B: without chatgpt, all the words, format, style, length, takes, mistakes, and unique aspects will be coming directly and completely from his son. The words you will be using will be the words he helped teach you when you were first learning how to talk and to write.\n",
      "Comment: This is already a SouthPark skit, guarantee you that’s where he got it\n",
      "Comment: You’re talking with a lawyer whose client you’re suing and you told them you’re using Chat GPT to assist you. My personal opinion is that was not very wise. Now they know you’re not as smart as you had appeared to be in the beginning.\n",
      "Comment: Austrians probably breathing a sigh of relief.\n"
     ]
    }
   ],
   "source": [
    "for index, row in ordered_df.iterrows():\n",
    "    print(f\"Comment: {row['Comment']}\")"
   ]
  },
  {
   "cell_type": "markdown",
   "id": "a69050fe",
   "metadata": {},
   "source": [
    "Main reasons we can deduce from the above list of trigraphs are: **fake news generated by ChatGPT that it declared they were real (people don't understand that ChatGPT isn't a search engine**, **AIs like ChatGPT are still stupid and the contents generated by it need to be understood and rewritten by users (learning opportunity)**, **ChatGPT as lawyer assistant but the assistant is saw like not very wise**."
   ]
  },
  {
   "cell_type": "markdown",
   "id": "1e4448f3",
   "metadata": {},
   "source": [
    "### Comments with highest score (april)"
   ]
  },
  {
   "cell_type": "code",
   "execution_count": 46,
   "id": "5eba0ca1",
   "metadata": {},
   "outputs": [
    {
     "name": "stdout",
     "output_type": "stream",
     "text": [
      "Comment: Not to nitpick… BUT the rarity of a condition doesn’t necessarily affect how difficult it is to diagnose. Some rare conditions are quite unique and not difficult to recognize.\n",
      "Comment: This is already a SouthPark skit, guarantee you that’s where he got it\n",
      "Comment: Austrians probably breathing a sigh of relief.\n",
      "Comment: I've become very good at gaslighting robots lmfao.\n",
      "Comment: Reminds me of when IBM rolled out Watson.  I went to a presentation by some of the execs/high level people on the project, and they were bragging about how it could diagnose things better than doctors could.\n",
      "\n",
      "Then it never took off, and a big study came out years later that claimed Watson would just make shit up if it didn't have enough data to come to a good conclusion.\n",
      "\n",
      "I'm still in the \"wait and see\" camp when it comes to any of these ChatGPT claims.\n",
      "Comment: Steve Jobs famously said a computer is like a bicycle for the mind. ChatGPT has added motor power to the bicycle.\n",
      "Comment: Somebody will release a GPT that has far fewer 'moral' lock downs and it will become the market leader.\n",
      "\n",
      "At the moment this is the best product. But so was askjeeves and MySpace until other products entered the market and were more open.\n",
      "\n",
      "It's just a matter of time.\n",
      "\n",
      "None of this will be the same in 2 years. The product landscape will be massively different.\n",
      "Comment: 1) Is the person cowering in the corner because you offered them a glass of water?\n",
      "\n",
      "2) Did you offer then a glass of water because they were foaming at the mouth and coyote-style chewed on your hand when you greeted them?\n",
      "\n",
      "If both are \"Yes\" you have a situation on your hand(s).\n",
      "Comment: You really think someone would do that? Just write a bold but misleading headline about ChatGPT? Surely things like that couldn’t possibly happen multiple times per day\n",
      "Comment: I don’t think anyone ever doubted a computer could pass a mass memorization effort. It’s the more abstract thinking challenges that are impressive.\n"
     ]
    }
   ],
   "source": [
    "df_temp = pd.read_csv(\"chatgpt_reddit - Complete.csv\")\n",
    "df_temp['Sentiment'] = df_copy['Sentiment']\n",
    "df_temp = df_temp[df_temp['Comment author'] != 'AutoModerator']\n",
    "df_complete = df_temp.copy()\n",
    "df_pos = df_complete[df_complete['Sentiment'] == 'pos']\n",
    "substring = 'subredditmessage'\n",
    "df_without_substr = df_pos[~df_pos['Comment'].str.contains(substring)]\n",
    "substring = 'serverhttpsdiscord'\n",
    "df_without_substr = df_without_substr[~df_without_substr['Comment'].str.contains(substring)]\n",
    "df_without_substr['Comment date'] = pd.to_datetime(df_without_substr['Comment date'])\n",
    "#df_grouped = df_without_substr.groupby(pd.Grouper(key='Comment date', freq='M'))\n",
    "grouped_data = {}\n",
    "\n",
    "for index, row in df_without_substr.iterrows():\n",
    "    month = row['Comment date'].month\n",
    "    if month in grouped_data:\n",
    "        grouped_data[month].append(row)\n",
    "    else:\n",
    "        grouped_data[month] = [row]\n",
    "april_data = grouped_data[4]\n",
    "april_df = pd.DataFrame(april_data)\n",
    "may_data = grouped_data[5]\n",
    "may_df = pd.DataFrame(may_data)\n",
    "june_data = grouped_data[6]\n",
    "june_df = pd.DataFrame(june_data)\n",
    "ordered_df = april_df.sort_values(by = 'Comment score', ascending = False)\n",
    "ordered_df = ordered_df.head(10)\n",
    "for index, row in ordered_df.iterrows():\n",
    "    print(f\"Comment: {row['Comment']}\")"
   ]
  },
  {
   "cell_type": "markdown",
   "id": "0d75b6be",
   "metadata": {},
   "source": [
    "Main reasons we can deduce from the above list of trigraphs are: **ChatGPT and other AIs can end up the same way as Watson from IBM**, **Somebody will release a GPT that has far fewer 'moral' lock downs and it will become the market leader, None of this will be the same in 2 years. The product landscape will be massively different**."
   ]
  },
  {
   "cell_type": "markdown",
   "id": "3f19a4f7",
   "metadata": {},
   "source": [
    "### Comments with highest score (may)"
   ]
  },
  {
   "cell_type": "code",
   "execution_count": 47,
   "id": "804bcfd4",
   "metadata": {},
   "outputs": [
    {
     "name": "stdout",
     "output_type": "stream",
     "text": [
      "Comment: I don't remember the date username or any other such thing to link it, but there was a professor commenting on an article about the prevalence of AI generated papers and he said the tool he was provided to check for it had an unusually high positive rate, even for papers he seriously doubted were AI generated. As a test, he fed it several papers he had written in college and it tagged all of them as AI generated.\n",
      "\n",
      "The gist is detection is way behind on this subject and relying on such things without follow-up is going to ruin a few peoples' lives.\n",
      "Comment: I believe that they had previous found that throwing darts at a dartboard can pick stocks better than your fund manager.\n",
      "Comment: TFW you are trying new and interesting ways to get disbarred.\n",
      "Comment: >According to Schwartz, he was \"unaware of the possibility that its content could be false.” The lawyer even provided screenshots to the judge of his interactions with ChatGPT, **asking the AI chatbot if one of the cases were real. ChatGPT responded that it was. It even confirmed that the cases could be found in \"reputable legal databases.\"** Again, none of them could be found because the cases were all created by the chatbot.\n",
      "\n",
      "It's fascinating how many people don't understand that chatGPT itself is not a search engine.\n",
      "Comment: Schools are going to go back to paper and pencil over this.\n",
      "\n",
      "Edit: Yes, I know some of you would have AI generate an essay and then write it on paper. But that process would still teach a student something because AI generated content is kind of stupid. A human person forcing themselves to re-write an AI essay would hopefully edit it and learn something in that process.\n",
      "Comment: Not unethical in the slightest, but I have some values pushback, if you're willing to hear me out.  \n",
      "\n",
      "\n",
      ">  the result is just so much better than anything I could ever write. \n",
      "\n",
      "I think this depends on your criteria for \"better.\"  \n",
      "\n",
      "\n",
      "Here's Better A: Chatgpt will write a letter that is composed in a technically crisp fashion that touches upon all the points that a standard eulogy that is easily digested by the masses.  \n",
      "\n",
      "\n",
      "Better B: without chatgpt, all the words, format, style, length, takes, mistakes, and unique aspects will be coming directly and completely from his son. The words you will be using will be the words he helped teach you when you were first learning how to talk and to write.\n",
      "Comment: You’re talking with a lawyer whose client you’re suing and you told them you’re using Chat GPT to assist you. My personal opinion is that was not very wise. Now they know you’re not as smart as you had appeared to be in the beginning.\n",
      "Comment: This headline drives me crazy for that reason.\n",
      "\n",
      "Wake me up when AI outperforms the SP 500 over a 5 year period.  \n",
      "\n",
      "Basically, AI has to win that bet Warren Buffet made with that fund manager before it gets taken seriously.\n",
      "Comment: Teachers: “Don’t use Wikipedia, it’s unreliable and full of incorrect information!!!”\n",
      "Also teachers: “I asked an AI that you can gaslight into believing 2+2=5 if it wrote your answers and it said yes. F”\n",
      "Comment: I've never had this thought before but it makes me wonder if it'll go the way of calculators. Certain tests you can use it for other you can't.\n"
     ]
    }
   ],
   "source": [
    "ordered_df = may_df.sort_values(by = 'Comment score', ascending = False)\n",
    "ordered_df = ordered_df.head(10)\n",
    "for index, row in ordered_df.iterrows():\n",
    "    print(f\"Comment: {row['Comment']}\")"
   ]
  },
  {
   "cell_type": "markdown",
   "id": "694b7be7",
   "metadata": {},
   "source": [
    "Main reasons we can deduce from the above list of trigraphs are: **inconsistency of teachers using ChatGPT after banning Wikipedia for lack of trustworthiness**."
   ]
  },
  {
   "cell_type": "markdown",
   "id": "47f6b1e8",
   "metadata": {},
   "source": [
    "### Comments with highest score (june)"
   ]
  },
  {
   "cell_type": "code",
   "execution_count": 48,
   "id": "16ba697a",
   "metadata": {},
   "outputs": [
    {
     "name": "stdout",
     "output_type": "stream",
     "text": [
      "Comment: I just read the interview. He says it’s alright at first glance until you realise it’s just gone through the episodes and made a pretty cliched amalgamation.\n",
      "Comment: \"Never attribute to malice what can be attributed to incompetence\"\n",
      "That's a really cool perspective, and the first results on Google say it's called Hanlon's Razor if anybody's interested.\n",
      "Comment:  I hope this email finds you well.\n",
      "Comment: I tried the exact inputs and this is what I got:\n",
      "\n",
      "My bad, broseph! Let me crank up the bro factor for you. So, listen up, brozilla! Paris, broseidon's lair! The almighty capital of France, my brotato chip! Anything else tickling your curiosity, broseidon? Just holler, and I'll be there faster than a brotastic lightning bolt, broski-doodle-doo! Trust me, I got your back like a bro-squared superhero! \n",
      "\n",
      "Lmao.\n",
      "Comment: How did it help you graduate top of your class when it’s only been out for less than a year?\n",
      "\n",
      "Since November, you’ve started a company, established a brand, overcome ADHD and OCD, learned chess, went to school full time, and graduated at the top of your class?\n",
      "\n",
      "In another comment you mention moving out of the city and wiping your identity because you “overshared at a nightclub at 3am.” \n",
      "\n",
      "This doesn’t add up.\n",
      "Comment: >Brooker’s brush with AI did, however, prove to be a useful experience. As in much of Black Mirror, the problem turns out not to be the technology itself, but the use it’s put to by human beings. In a typical twist, Brooker found that the tech was actually teaching him what not to do in the future. “I was aware that I had written lots of episodes where someone goes 'Oh, I was inside a computer the whole time!'\", he chuckles. \"So I thought, 'I’m just going to chuck out any sense of what I think a Black Mirror episode is.' There’s no point in having an anthology show if you can’t break your own rules. Just a sort of nice, cold glass of water in the face.”\n",
      "\n",
      "Sounds like Brooker was made aware of his writing habits and is making an effort to improve. We'll see how that goes.\n",
      "Comment: I love this idea! \n",
      "\n",
      "Here is what ChatGPT gave me: \n",
      "\n",
      "\"In a world that constantly bombards us with messages glorifying alcohol, choosing sobriety is an act of rebellion—a rebellion against the societal norms that equate drinking with happiness and success.\"\n",
      "\n",
      "We are rebels!\n",
      "\n",
      "IWNDWYT\n",
      "Comment: You also need to randomize the order of the questions every time, and it might be better to ask them one by one and get each response in turn.\n",
      "Comment: Chat GPT created a new identity for him. This post is part of it.\n",
      "Comment: What it wrote me me.\n",
      "\n",
      "1. \"Local Man Shocked to Discover That His Excessive Pizza Consumption May Be Linked to Weight Gain\"\n",
      "2. \"Nation's Dogs Demand Better Working Conditions, More Treats\"\n",
      "3. \"Study Finds Majority of Americans Would Rather Take Their Chances With COVID Than Give Up Eating Out\"\n",
      "4. \"Man Who Has Never Set Foot in Gym Somehow Still in Better Shape Than You\"\n",
      "5. \"Report: Majority of Americans Would Rather Die Than Spend Another Minute on Hold With Customer Service\"\n",
      "6. \"New Study Reveals That Breathing Oxygen is Essential to Human Life\"\n",
      "7. \"Wife Can't Believe Husband Forgot Anniversary of Day They Both Agreed to Stop Celebrating Anniversaries\"\n",
      "8. \"Local Man Goes Viral for Being the Only Person to Actually Read Terms and Conditions\"\n",
      "9. \"Area Woman Excited to Finally Use Vacation Days for Something Other Than Staying Home and Doing Nothing\"\n",
      "10. \"Experts Warn That Drinking Water Could Lead to Drowning If Consumed in Excess.\"\n"
     ]
    }
   ],
   "source": [
    "ordered_df = june_df.sort_values(by = 'Comment score', ascending = False)\n",
    "ordered_df = ordered_df.head(10)\n",
    "for index, row in ordered_df.iterrows():\n",
    "    print(f\"Comment: {row['Comment']}\")"
   ]
  },
  {
   "cell_type": "markdown",
   "id": "c8c22c27",
   "metadata": {},
   "source": [
    "Main reasons we can deduce from the above list of trigraphs are: **(I'm not sure)**."
   ]
  },
  {
   "cell_type": "markdown",
   "id": "66f74407",
   "metadata": {},
   "source": [
    "# Words, bigrams and trigrams distribution for negative comments"
   ]
  },
  {
   "cell_type": "markdown",
   "id": "6367ed12",
   "metadata": {},
   "source": [
    "### Detecting warnings from admin"
   ]
  },
  {
   "cell_type": "code",
   "execution_count": 49,
   "id": "a6b39041",
   "metadata": {},
   "outputs": [],
   "source": [
    "df = df_copy\n",
    "df = df[df['Sentiment'] == 'neg']"
   ]
  },
  {
   "cell_type": "code",
   "execution_count": 50,
   "id": "873c2c3b",
   "metadata": {},
   "outputs": [],
   "source": [
    "substring = 'httpswwwredditcom'\n",
    "df_without_substr = df[~df['Comment'].str.contains(substring)]"
   ]
  },
  {
   "cell_type": "markdown",
   "id": "fae0c45f",
   "metadata": {},
   "source": [
    "## Words frequency"
   ]
  },
  {
   "cell_type": "code",
   "execution_count": 51,
   "id": "838651b0",
   "metadata": {},
   "outputs": [],
   "source": [
    "from nltk import FreqDist\n",
    "\n",
    "tokens = []\n",
    "for row in df_without_substr['Comment']:\n",
    "    tokens.extend(word_tokenize(str(row).lower()))  # Tokenization and lower conversion of the strings\n",
    "\n",
    "word_freq = FreqDist(tokens)\n",
    "sorted_freq = sorted(word_freq.items(), key = lambda x: x[1], reverse = True)"
   ]
  },
  {
   "cell_type": "code",
   "execution_count": 52,
   "id": "ea76fdf6",
   "metadata": {},
   "outputs": [
    {
     "name": "stdout",
     "output_type": "stream",
     "text": [
      "ai 3658\n",
      "people 2871\n",
      "chatgpt 2693\n",
      "dont 2363\n",
      "like 2217\n",
      "would 1965\n",
      "get 1761\n",
      "im 1740\n",
      "think 1579\n",
      "one 1567\n",
      "even 1545\n",
      "use 1540\n",
      "time 1366\n",
      "know 1359\n",
      "make 1319\n",
      "thats 1259\n",
      "work 1200\n",
      "youre 1164\n",
      "using 1146\n",
      "could 1121\n",
      "also 1069\n",
      "doesnt 1064\n",
      "way 1049\n",
      "something 1039\n",
      "shit 1036\n",
      "going 1030\n",
      "cant 1024\n",
      "gpt 1023\n",
      "really 1002\n",
      "wrong 978\n",
      "write 955\n",
      "need 904\n",
      "want 896\n",
      "right 874\n",
      "bad 871\n",
      "say 850\n",
      "see 837\n",
      "things 816\n",
      "still 816\n",
      "thing 805\n",
      "used 800\n",
      "actually 784\n",
      "isnt 770\n",
      "much 762\n",
      "didnt 758\n",
      "problem 756\n",
      "good 712\n",
      "students 709\n",
      "us 704\n",
      "writing 703\n"
     ]
    }
   ],
   "source": [
    "N = 50  # number of frequent words to print\n",
    "for word, freq in sorted_freq[:N]:\n",
    "    print(word, freq)"
   ]
  },
  {
   "cell_type": "markdown",
   "id": "fd4775c9",
   "metadata": {},
   "source": [
    "## Bigrams distribution"
   ]
  },
  {
   "cell_type": "code",
   "execution_count": 53,
   "id": "5797975c",
   "metadata": {},
   "outputs": [],
   "source": [
    "from nltk.tokenize import word_tokenize\n",
    "from nltk.collocations import BigramCollocationFinder, TrigramCollocationFinder\n",
    "from nltk.metrics import BigramAssocMeasures, TrigramAssocMeasures\n",
    "\n",
    "finder = BigramCollocationFinder.from_words(tokens)"
   ]
  },
  {
   "cell_type": "code",
   "execution_count": 54,
   "id": "32b8e7f3",
   "metadata": {},
   "outputs": [],
   "source": [
    "bigram_freq = finder.ngram_fd\n",
    "sorted_freq = sorted(bigram_freq.items(), key=lambda x: x[1], reverse=True)"
   ]
  },
  {
   "cell_type": "code",
   "execution_count": 55,
   "id": "2be854c1",
   "metadata": {},
   "outputs": [
    {
     "name": "stdout",
     "output_type": "stream",
     "text": [
      "('chat', 'gpt') 340\n",
      "('dont', 'know') 283\n",
      "('gon', 'na') 223\n",
      "('dont', 'think') 208\n",
      "('using', 'ai') 170\n",
      "('using', 'chatgpt') 156\n",
      "('language', 'model') 154\n",
      "('dont', 'want') 143\n",
      "('use', 'chatgpt') 136\n",
      "('use', 'ai') 134\n",
      "('people', 'dont') 111\n",
      "('dont', 'understand') 109\n",
      "('ai', 'generated') 104\n",
      "('im', 'sorry') 104\n",
      "('years', 'ago') 95\n",
      "('dont', 'get') 89\n",
      "('many', 'people') 89\n",
      "('sounds', 'like') 88\n",
      "('critical', 'thinking') 87\n",
      "('im', 'sure') 86\n",
      "('im', 'saying') 85\n",
      "('feel', 'like') 83\n",
      "('dont', 'care') 81\n",
      "('something', 'like') 81\n",
      "('chatgpt', 'write') 79\n",
      "('doesnt', 'mean') 75\n",
      "('dont', 'need') 74\n",
      "('lot', 'people') 73\n",
      "('written', 'ai') 72\n",
      "('ai', 'language') 71\n",
      "('training', 'data') 69\n",
      "('ive', 'seen') 68\n",
      "('ai', 'detectors') 67\n",
      "('dont', 'see') 67\n",
      "('things', 'like') 65\n",
      "('make', 'sure') 65\n",
      "('mental', 'health') 65\n",
      "('cant', 'even') 64\n",
      "('high', 'school') 64\n",
      "('ai', 'detection') 63\n",
      "('people', 'think') 63\n",
      "('dont', 'even') 63\n",
      "('every', 'time') 62\n",
      "('seems', 'like') 61\n",
      "('used', 'chatgpt') 59\n",
      "('first', 'place') 58\n",
      "('search', 'engine') 58\n",
      "('ai', 'write') 56\n",
      "('make', 'sense') 56\n",
      "('even', 'though') 56\n"
     ]
    }
   ],
   "source": [
    "N = 50\n",
    "for ngram, freq in sorted_freq[:N]:\n",
    "    print(ngram, freq)"
   ]
  },
  {
   "cell_type": "markdown",
   "id": "c05526bd",
   "metadata": {},
   "source": [
    "## Trigrams distribution"
   ]
  },
  {
   "cell_type": "code",
   "execution_count": 56,
   "id": "bc8c6fdf",
   "metadata": {},
   "outputs": [],
   "source": [
    "finder = TrigramCollocationFinder.from_words(tokens)\n",
    "trigram_freq = finder.ngram_fd\n",
    "sorted_freq = sorted(trigram_freq.items(), key=lambda x: x[1], reverse=True)"
   ]
  },
  {
   "cell_type": "code",
   "execution_count": 57,
   "id": "17e32043",
   "metadata": {},
   "outputs": [
    {
     "name": "stdout",
     "output_type": "stream",
     "text": [
      "('ai', 'language', 'model') 65\n",
      "('using', 'chat', 'gpt') 29\n",
      "('im', 'gon', 'na') 27\n",
      "('deny', 'deny', 'deny') 21\n",
      "('das', 'kommt', 'mir') 21\n",
      "('large', 'language', 'model') 20\n",
      "('use', 'chat', 'gpt') 20\n",
      "('didnt', 'use', 'ai') 19\n",
      "('critical', 'thinking', 'skills') 19\n",
      "('people', 'dont', 'know') 18\n",
      "('im', 'sorry', 'loss') 18\n",
      "('students', 'using', 'ai') 17\n",
      "('doesnt', 'make', 'sense') 17\n",
      "('gon', 'na', 'get') 17\n",
      "('moo', 'moo', 'moo') 17\n",
      "('kommt', 'mir', 'spanisch') 17\n",
      "('mir', 'spanisch', 'vor') 17\n",
      "('nature', 'medical', 'emergency') 15\n",
      "('disagree', 'agree', 'disagree') 15\n",
      "('ich', 'verstehe', 'nur') 15\n",
      "('innocent', 'proven', 'guilty') 14\n",
      "('chat', 'gpt', 'write') 14\n",
      "('please', 'state', 'nature') 14\n",
      "('state', 'nature', 'medical') 14\n",
      "('disagree', 'strongly', 'disagree') 14\n",
      "('people', 'using', 'chatgpt') 13\n",
      "('people', 'dont', 'understand') 13\n",
      "('dont', 'really', 'care') 13\n",
      "('sorry', 'ai', 'language') 13\n",
      "('responses', 'must', 'follow') 13\n",
      "('im', 'sorry', 'ai') 13\n",
      "('verstehe', 'nur', 'bahnhof') 13\n",
      "('use', 'chatgpt', 'write') 12\n",
      "('accused', 'using', 'ai') 12\n",
      "('dont', 'think', 'thats') 12\n",
      "('youre', 'gon', 'na') 12\n",
      "('must', 'follow', 'rules') 12\n",
      "('snarky', 'words', 'swearing') 12\n",
      "('dont', 'even', 'know') 12\n",
      "('agree', 'disagree', 'agree') 12\n",
      "('government', 'failed', 'address') 12\n",
      "('failed', 'address', 'ongoing') 12\n",
      "('use', 'ai', 'tools') 11\n",
      "('using', 'ai', 'write') 11\n",
      "('dont', 'know', 'use') 11\n",
      "('blah', 'blah', 'blah') 11\n",
      "('theyre', 'gon', 'na') 11\n",
      "('ai', 'isnt', 'going') 11\n",
      "('follow', 'rules', 'snarky') 11\n",
      "('rules', 'snarky', 'words') 11\n"
     ]
    }
   ],
   "source": [
    "N = 50\n",
    "for ngram, freq in sorted_freq[:N]:\n",
    "    print(ngram, freq)"
   ]
  },
  {
   "cell_type": "markdown",
   "id": "9434928e",
   "metadata": {},
   "source": [
    "Main reasons we can deduce from the above list of trigraphs are: **it tends to apologize too much**, **students using ai**."
   ]
  },
  {
   "cell_type": "markdown",
   "id": "0825942c",
   "metadata": {},
   "source": [
    "### Grouping by month"
   ]
  },
  {
   "cell_type": "code",
   "execution_count": 58,
   "id": "777fce44",
   "metadata": {
    "scrolled": true
   },
   "outputs": [
    {
     "name": "stderr",
     "output_type": "stream",
     "text": [
      "C:\\Users\\claud\\AppData\\Local\\Temp\\ipykernel_7140\\2773560877.py:1: SettingWithCopyWarning: \n",
      "A value is trying to be set on a copy of a slice from a DataFrame.\n",
      "Try using .loc[row_indexer,col_indexer] = value instead\n",
      "\n",
      "See the caveats in the documentation: https://pandas.pydata.org/pandas-docs/stable/user_guide/indexing.html#returning-a-view-versus-a-copy\n",
      "  df_without_substr['Comment date'] = pd.to_datetime(df_without_substr['Comment date'])\n"
     ]
    }
   ],
   "source": [
    "df_without_substr['Comment date'] = pd.to_datetime(df_without_substr['Comment date'])\n",
    "#df_grouped = df_without_substr.groupby(pd.Grouper(key='Comment date', freq='M'))\n",
    "grouped_data = {}\n",
    "\n",
    "for index, row in df_without_substr.iterrows():\n",
    "    month = row['Comment date'].month\n",
    "    if month in grouped_data:\n",
    "        grouped_data[month].append(row)\n",
    "    else:\n",
    "        grouped_data[month] = [row]\n",
    "april_data = grouped_data[4]\n",
    "april_df = pd.DataFrame(april_data)\n",
    "may_data = grouped_data[5]\n",
    "may_df = pd.DataFrame(may_data)\n",
    "june_data = grouped_data[6]\n",
    "june_df = pd.DataFrame(june_data)"
   ]
  },
  {
   "cell_type": "markdown",
   "id": "a69f1809",
   "metadata": {},
   "source": [
    "## Words frequency (april)"
   ]
  },
  {
   "cell_type": "code",
   "execution_count": 59,
   "id": "eb01b3f1",
   "metadata": {},
   "outputs": [],
   "source": [
    "from nltk import FreqDist\n",
    "\n",
    "tokens = []\n",
    "for row in april_df['Comment']:\n",
    "    tokens.extend(word_tokenize(str(row).lower()))  # Tokenization and lower conversion of the strings\n",
    "\n",
    "word_freq = FreqDist(tokens)\n",
    "sorted_freq = sorted(word_freq.items(), key = lambda x: x[1], reverse = True)"
   ]
  },
  {
   "cell_type": "code",
   "execution_count": 60,
   "id": "a48d50e1",
   "metadata": {},
   "outputs": [
    {
     "name": "stdout",
     "output_type": "stream",
     "text": [
      "people 928\n",
      "ai 830\n",
      "chatgpt 817\n",
      "like 666\n",
      "dont 628\n",
      "im 581\n",
      "would 578\n",
      "get 544\n",
      "think 481\n",
      "one 475\n",
      "time 435\n",
      "even 424\n",
      "use 402\n",
      "thats 367\n",
      "make 364\n",
      "know 361\n",
      "could 343\n",
      "gpt 332\n",
      "youre 331\n",
      "shit 320\n",
      "going 316\n",
      "way 314\n",
      "also 314\n",
      "work 312\n",
      "cant 305\n",
      "something 303\n",
      "right 303\n",
      "doesnt 302\n",
      "problem 290\n",
      "wrong 282\n",
      "using 272\n",
      "really 269\n",
      "write 264\n",
      "fucking 261\n",
      "need 260\n",
      "thing 255\n",
      "want 255\n",
      "things 254\n",
      "actually 246\n",
      "bad 246\n",
      "still 245\n",
      "much 243\n",
      "see 238\n",
      "human 236\n",
      "isnt 233\n",
      "us 224\n",
      "data 223\n",
      "many 221\n",
      "used 218\n",
      "say 218\n"
     ]
    }
   ],
   "source": [
    "N = 50  # number of frequent words to print\n",
    "for word, freq in sorted_freq[:N]:\n",
    "    print(word, freq)"
   ]
  },
  {
   "cell_type": "markdown",
   "id": "73513d2f",
   "metadata": {},
   "source": [
    "## Bigrams distribution (april)"
   ]
  },
  {
   "cell_type": "code",
   "execution_count": 61,
   "id": "2bc17090",
   "metadata": {},
   "outputs": [],
   "source": [
    "from nltk.tokenize import word_tokenize\n",
    "from nltk.collocations import BigramCollocationFinder, TrigramCollocationFinder\n",
    "from nltk.metrics import BigramAssocMeasures, TrigramAssocMeasures\n",
    "\n",
    "finder = BigramCollocationFinder.from_words(tokens)"
   ]
  },
  {
   "cell_type": "code",
   "execution_count": 62,
   "id": "a61b8cf6",
   "metadata": {},
   "outputs": [],
   "source": [
    "bigram_freq = finder.ngram_fd\n",
    "sorted_freq = sorted(bigram_freq.items(), key=lambda x: x[1], reverse=True)"
   ]
  },
  {
   "cell_type": "code",
   "execution_count": 63,
   "id": "67d7dfc5",
   "metadata": {},
   "outputs": [
    {
     "name": "stdout",
     "output_type": "stream",
     "text": [
      "('chat', 'gpt') 100\n",
      "('dont', 'know') 74\n",
      "('gon', 'na') 68\n",
      "('dont', 'think') 60\n",
      "('language', 'model') 52\n",
      "('government', 'failed') 47\n",
      "('using', 'chatgpt') 39\n",
      "('critical', 'thinking') 38\n",
      "('declaration', 'independence') 37\n",
      "('dont', 'want') 36\n",
      "('ai', 'language') 33\n",
      "('use', 'chatgpt') 33\n",
      "('dont', 'get') 32\n",
      "('many', 'people') 30\n",
      "('feel', 'like') 28\n",
      "('people', 'think') 28\n",
      "('im', 'sorry') 28\n",
      "('dont', 'care') 27\n",
      "('im', 'saying') 26\n",
      "('chatgpt', 'write') 26\n",
      "('ive', 'seen') 25\n",
      "('higher', 'education') 25\n",
      "('something', 'like') 24\n",
      "('sounds', 'like') 24\n",
      "('holy', 'shit') 24\n",
      "('legal', 'advice') 24\n",
      "('using', 'ai') 23\n",
      "('dont', 'need') 23\n",
      "('social', 'media') 23\n",
      "('waste', 'time') 23\n",
      "('doesnt', 'mean') 23\n",
      "('high', 'school') 23\n",
      "('im', 'sure') 22\n",
      "('make', 'sure') 22\n",
      "('dont', 'see') 21\n",
      "('moo', 'moo') 21\n",
      "('higher', 'ed') 21\n",
      "('doesnt', 'work') 20\n",
      "('real', 'world') 20\n",
      "('people', 'dont') 20\n",
      "('united', 'states') 20\n",
      "('years', 'ago') 20\n",
      "('write', 'essay') 20\n",
      "('things', 'like') 19\n",
      "('would', 'make') 19\n",
      "('address', 'ongoing') 19\n",
      "('one', 'day') 18\n",
      "('people', 'get') 18\n",
      "('cant', 'even') 18\n",
      "('people', 'use') 18\n"
     ]
    }
   ],
   "source": [
    "N = 50\n",
    "for ngram, freq in sorted_freq[:N]:\n",
    "    print(ngram, freq)"
   ]
  },
  {
   "cell_type": "markdown",
   "id": "f054ca90",
   "metadata": {},
   "source": [
    "## Trigrams distribution (april)"
   ]
  },
  {
   "cell_type": "code",
   "execution_count": 64,
   "id": "0ddc3d13",
   "metadata": {},
   "outputs": [],
   "source": [
    "finder = TrigramCollocationFinder.from_words(tokens)\n",
    "trigram_freq = finder.ngram_fd\n",
    "sorted_freq = sorted(trigram_freq.items(), key=lambda x: x[1], reverse=True)"
   ]
  },
  {
   "cell_type": "code",
   "execution_count": 65,
   "id": "233e2c50",
   "metadata": {},
   "outputs": [
    {
     "name": "stdout",
     "output_type": "stream",
     "text": [
      "('ai', 'language', 'model') 31\n",
      "('moo', 'moo', 'moo') 17\n",
      "('nature', 'medical', 'emergency') 14\n",
      "('please', 'state', 'nature') 13\n",
      "('state', 'nature', 'medical') 13\n",
      "('responses', 'must', 'follow') 12\n",
      "('government', 'failed', 'address') 12\n",
      "('failed', 'address', 'ongoing') 12\n",
      "('must', 'follow', 'rules') 11\n",
      "('snarky', 'words', 'swearing') 11\n",
      "('government', 'failed', 'adequately') 11\n",
      "('failed', 'adequately', 'address') 11\n",
      "('follow', 'rules', 'snarky') 10\n",
      "('rules', 'snarky', 'words') 10\n",
      "('sorry', 'ai', 'language') 9\n",
      "('im', 'sorry', 'ai') 9\n",
      "('usa', 'declaration', 'independence') 9\n",
      "('smart', 'robot', 'summary') 8\n",
      "('robot', 'summary', 'automatic') 8\n",
      "('summary', 'automatic', 'tldr') 8\n",
      "('automatic', 'tldr', 'shorter') 8\n",
      "('tldr', 'shorter', 'post') 8\n",
      "('would', 'make', 'shit') 8\n",
      "('declaration', 'independence', 'written') 8\n",
      "('address', 'ongoing', 'issue') 8\n",
      "('critical', 'thinking', 'skills') 8\n",
      "('one', 'us', 'one') 7\n",
      "('us', 'one', 'us') 7\n",
      "('im', 'gon', 'na') 7\n",
      "('step', 'step', 'instructions') 7\n",
      "('maria', 'apples', 'john') 7\n",
      "('address', 'ongoing', 'crisis') 7\n",
      "('adequately', 'address', 'ongoing') 7\n",
      "('youre', 'gon', 'na') 6\n",
      "('im', 'ai', 'language') 6\n",
      "('blah', 'blah', 'blah') 6\n",
      "('dont', 'really', 'care') 6\n",
      "('dont', 'get', 'wrong') 6\n",
      "('people', 'dont', 'know') 6\n",
      "('apples', 'john', 'takes') 6\n",
      "('make', 'shit', 'didnt') 6\n",
      "('shit', 'didnt', 'enough') 6\n",
      "('didnt', 'enough', 'data') 6\n",
      "('sore', 'throat', 'congestion') 6\n",
      "('government', 'failed', 'provide') 6\n",
      "('many', 'people', 'without') 6\n",
      "('ed', 'big', 'problem') 6\n",
      "('cold', 'war', 'foreign') 6\n",
      "('war', 'foreign', 'policy') 6\n",
      "('answer', 'riddle', 'fire') 6\n"
     ]
    }
   ],
   "source": [
    "N = 50\n",
    "for ngram, freq in sorted_freq[:N]:\n",
    "    print(ngram, freq)"
   ]
  },
  {
   "cell_type": "markdown",
   "id": "ab354942",
   "metadata": {},
   "source": [
    "Main reasons we can deduce from the above list of trigraphs are: /"
   ]
  },
  {
   "cell_type": "markdown",
   "id": "a70d991f",
   "metadata": {},
   "source": [
    "## Words frequency (may)"
   ]
  },
  {
   "cell_type": "code",
   "execution_count": 66,
   "id": "2a8d1168",
   "metadata": {},
   "outputs": [],
   "source": [
    "from nltk import FreqDist\n",
    "\n",
    "tokens = []\n",
    "for row in may_df['Comment']:\n",
    "    tokens.extend(word_tokenize(str(row).lower()))  # Tokenization and lower conversion of the strings\n",
    "\n",
    "word_freq = FreqDist(tokens)\n",
    "sorted_freq = sorted(word_freq.items(), key = lambda x: x[1], reverse = True)"
   ]
  },
  {
   "cell_type": "code",
   "execution_count": 67,
   "id": "e54b6571",
   "metadata": {},
   "outputs": [
    {
     "name": "stdout",
     "output_type": "stream",
     "text": [
      "ai 2433\n",
      "chatgpt 1608\n",
      "people 1527\n",
      "dont 1451\n",
      "like 1249\n",
      "would 1169\n",
      "get 1000\n",
      "im 971\n",
      "use 967\n",
      "even 919\n",
      "one 901\n",
      "think 901\n",
      "know 832\n",
      "make 791\n",
      "work 776\n",
      "using 775\n",
      "time 767\n",
      "thats 733\n",
      "youre 697\n",
      "something 639\n",
      "could 634\n",
      "doesnt 626\n",
      "going 619\n",
      "really 616\n",
      "way 611\n",
      "write 609\n",
      "also 585\n",
      "cant 582\n",
      "gpt 580\n",
      "shit 576\n",
      "wrong 573\n",
      "need 544\n",
      "want 516\n",
      "say 507\n",
      "used 506\n",
      "bad 499\n",
      "didnt 497\n",
      "students 493\n",
      "see 477\n",
      "still 470\n",
      "things 461\n",
      "writing 458\n",
      "actually 445\n",
      "isnt 441\n",
      "thing 440\n",
      "go 434\n",
      "right 427\n",
      "much 426\n",
      "good 420\n",
      "us 404\n"
     ]
    }
   ],
   "source": [
    "N = 50  # number of frequent words to print\n",
    "for word, freq in sorted_freq[:N]:\n",
    "    print(word, freq)"
   ]
  },
  {
   "cell_type": "markdown",
   "id": "5dfab4c4",
   "metadata": {},
   "source": [
    "## Bigrams distribution (may)"
   ]
  },
  {
   "cell_type": "code",
   "execution_count": 68,
   "id": "6443f745",
   "metadata": {},
   "outputs": [],
   "source": [
    "from nltk.tokenize import word_tokenize\n",
    "from nltk.collocations import BigramCollocationFinder, TrigramCollocationFinder\n",
    "from nltk.metrics import BigramAssocMeasures, TrigramAssocMeasures\n",
    "\n",
    "finder = BigramCollocationFinder.from_words(tokens)"
   ]
  },
  {
   "cell_type": "code",
   "execution_count": 69,
   "id": "7180370e",
   "metadata": {},
   "outputs": [],
   "source": [
    "bigram_freq = finder.ngram_fd\n",
    "sorted_freq = sorted(bigram_freq.items(), key=lambda x: x[1], reverse=True)"
   ]
  },
  {
   "cell_type": "code",
   "execution_count": 70,
   "id": "7fdfb8b3",
   "metadata": {},
   "outputs": [
    {
     "name": "stdout",
     "output_type": "stream",
     "text": [
      "('chat', 'gpt') 206\n",
      "('dont', 'know') 186\n",
      "('using', 'ai') 134\n",
      "('gon', 'na') 130\n",
      "('dont', 'think') 118\n",
      "('use', 'ai') 111\n",
      "('using', 'chatgpt') 105\n",
      "('use', 'chatgpt') 95\n",
      "('language', 'model') 92\n",
      "('dont', 'understand') 88\n",
      "('ai', 'generated') 80\n",
      "('dont', 'want') 77\n",
      "('people', 'dont') 75\n",
      "('im', 'sorry') 71\n",
      "('written', 'ai') 60\n",
      "('ai', 'detection') 59\n",
      "('im', 'sure') 59\n",
      "('ai', 'detectors') 58\n",
      "('sounds', 'like') 58\n",
      "('years', 'ago') 56\n",
      "('sorry', 'loss') 55\n",
      "('something', 'like') 53\n",
      "('lot', 'people') 53\n",
      "('many', 'people') 53\n",
      "('mental', 'health') 52\n",
      "('training', 'data') 49\n",
      "('dont', 'get') 48\n",
      "('used', 'chatgpt') 47\n",
      "('im', 'saying') 47\n",
      "('chatgpt', 'write') 46\n",
      "('every', 'time') 46\n",
      "('dont', 'care') 44\n",
      "('critical', 'thinking') 43\n",
      "('dont', 'need') 42\n",
      "('dont', 'even') 42\n",
      "('ask', 'chatgpt') 41\n",
      "('used', 'ai') 40\n",
      "('ai', 'write') 40\n",
      "('doesnt', 'mean') 40\n",
      "('youre', 'going') 39\n",
      "('ive', 'seen') 39\n",
      "('search', 'engine') 39\n",
      "('make', 'sure') 38\n",
      "('feel', 'like') 38\n",
      "('deny', 'deny') 38\n",
      "('seems', 'like') 38\n",
      "('high', 'school') 38\n",
      "('people', 'using') 38\n",
      "('make', 'sense') 37\n",
      "('first', 'place') 36\n"
     ]
    }
   ],
   "source": [
    "N = 50\n",
    "for ngram, freq in sorted_freq[:N]:\n",
    "    print(ngram, freq)"
   ]
  },
  {
   "cell_type": "markdown",
   "id": "447be22c",
   "metadata": {},
   "source": [
    "## Trigrams distribution (may)"
   ]
  },
  {
   "cell_type": "code",
   "execution_count": 71,
   "id": "47639cf2",
   "metadata": {},
   "outputs": [],
   "source": [
    "finder = TrigramCollocationFinder.from_words(tokens)\n",
    "trigram_freq = finder.ngram_fd\n",
    "sorted_freq = sorted(trigram_freq.items(), key=lambda x: x[1], reverse=True)"
   ]
  },
  {
   "cell_type": "code",
   "execution_count": 72,
   "id": "4816a15f",
   "metadata": {},
   "outputs": [
    {
     "name": "stdout",
     "output_type": "stream",
     "text": [
      "('ai', 'language', 'model') 32\n",
      "('using', 'chat', 'gpt') 23\n",
      "('deny', 'deny', 'deny') 21\n",
      "('das', 'kommt', 'mir') 21\n",
      "('im', 'gon', 'na') 20\n",
      "('didnt', 'use', 'ai') 19\n",
      "('im', 'sorry', 'loss') 18\n",
      "('kommt', 'mir', 'spanisch') 17\n",
      "('mir', 'spanisch', 'vor') 17\n",
      "('use', 'chat', 'gpt') 16\n",
      "('ich', 'verstehe', 'nur') 15\n",
      "('large', 'language', 'model') 14\n",
      "('students', 'using', 'ai') 14\n",
      "('innocent', 'proven', 'guilty') 13\n",
      "('verstehe', 'nur', 'bahnhof') 13\n",
      "('accused', 'using', 'ai') 12\n",
      "('people', 'dont', 'know') 11\n",
      "('doesnt', 'make', 'sense') 11\n",
      "('critical', 'thinking', 'skills') 11\n",
      "('gon', 'na', 'get') 11\n",
      "('well', 'cease', 'operating') 11\n",
      "('ich', 'versteh', 'nur') 11\n",
      "('use', 'chatgpt', 'write') 10\n",
      "('ancient', 'sith', 'lord') 10\n",
      "('chat', 'gpt', 'write') 9\n",
      "('use', 'ai', 'tools') 9\n",
      "('using', 'ai', 'cheat') 9\n",
      "('people', 'using', 'chatgpt') 9\n",
      "('people', 'dont', 'understand') 9\n",
      "('comply', 'cant', 'well') 9\n",
      "('cant', 'well', 'cease') 9\n",
      "('cease', 'operating', 'try') 9\n",
      "('operating', 'try', 'technical') 9\n",
      "('try', 'technical', 'limits') 9\n",
      "('technical', 'limits', 'whats') 9\n",
      "('accused', 'using', 'chatgpt') 8\n",
      "('ai', 'detection', 'software') 8\n",
      "('used', 'chat', 'gpt') 8\n",
      "('using', 'ai', 'work') 8\n",
      "('source', 'made', 'fuck') 8\n",
      "('shitty', 'computer', 'program') 8\n",
      "('dont', 'know', 'use') 8\n",
      "('limits', 'whats', 'possible') 8\n",
      "('im', 'pretty', 'sure') 7\n",
      "('guilty', 'proven', 'innocent') 7\n",
      "('doesnt', 'seem', 'like') 7\n",
      "('ai', 'detectors', 'bullshit') 7\n",
      "('know', 'youre', 'talking') 7\n",
      "('ask', 'chat', 'gpt') 7\n",
      "('using', 'ai', 'write') 7\n"
     ]
    }
   ],
   "source": [
    "N = 50\n",
    "for ngram, freq in sorted_freq[:N]:\n",
    "    print(ngram, freq)"
   ]
  },
  {
   "cell_type": "markdown",
   "id": "d86a7a43",
   "metadata": {},
   "source": [
    "Main reasons we can deduce from the above list of trigraphs are: **innocence proven guilty (not sure about what)**, **technical limits**, **ai detectors bullshit (not sure about what)**."
   ]
  },
  {
   "cell_type": "markdown",
   "id": "5ba01c61",
   "metadata": {},
   "source": [
    "## Words frequency (june)"
   ]
  },
  {
   "cell_type": "code",
   "execution_count": 73,
   "id": "c77458ff",
   "metadata": {},
   "outputs": [],
   "source": [
    "from nltk import FreqDist\n",
    "\n",
    "tokens = []\n",
    "for row in june_df['Comment']:\n",
    "    tokens.extend(word_tokenize(str(row).lower()))  # Tokenization and lower conversion of the strings\n",
    "\n",
    "word_freq = FreqDist(tokens)\n",
    "sorted_freq = sorted(word_freq.items(), key = lambda x: x[1], reverse = True)"
   ]
  },
  {
   "cell_type": "code",
   "execution_count": 74,
   "id": "87f2f4fe",
   "metadata": {},
   "outputs": [
    {
     "name": "stdout",
     "output_type": "stream",
     "text": [
      "people 416\n",
      "ai 395\n",
      "like 302\n",
      "dont 284\n",
      "chatgpt 268\n",
      "would 218\n",
      "get 217\n",
      "even 202\n",
      "think 197\n",
      "one 191\n",
      "im 188\n",
      "use 171\n",
      "also 170\n",
      "know 166\n",
      "make 164\n",
      "time 164\n",
      "thats 159\n",
      "could 144\n",
      "right 144\n",
      "shit 140\n",
      "cant 137\n",
      "doesnt 136\n",
      "youre 136\n",
      "bad 126\n",
      "say 125\n",
      "want 125\n",
      "way 124\n",
      "wrong 123\n",
      "see 122\n",
      "really 117\n",
      "work 112\n",
      "gpt 111\n",
      "thing 110\n",
      "world 105\n",
      "islam 102\n",
      "still 101\n",
      "things 101\n",
      "need 100\n",
      "using 99\n",
      "something 97\n",
      "isnt 96\n",
      "well 96\n",
      "didnt 95\n",
      "going 95\n",
      "much 93\n",
      "actually 93\n",
      "got 90\n",
      "good 90\n",
      "never 90\n",
      "lot 89\n"
     ]
    }
   ],
   "source": [
    "N = 50  # number of frequent words to print\n",
    "for word, freq in sorted_freq[:N]:\n",
    "    print(word, freq)"
   ]
  },
  {
   "cell_type": "markdown",
   "id": "a732a732",
   "metadata": {},
   "source": [
    "## Bigrams distribution (june)"
   ]
  },
  {
   "cell_type": "code",
   "execution_count": 75,
   "id": "8d008ace",
   "metadata": {},
   "outputs": [],
   "source": [
    "from nltk.tokenize import word_tokenize\n",
    "from nltk.collocations import BigramCollocationFinder, TrigramCollocationFinder\n",
    "from nltk.metrics import BigramAssocMeasures, TrigramAssocMeasures\n",
    "\n",
    "finder = BigramCollocationFinder.from_words(tokens)"
   ]
  },
  {
   "cell_type": "code",
   "execution_count": 76,
   "id": "a5525f2b",
   "metadata": {},
   "outputs": [],
   "source": [
    "bigram_freq = finder.ngram_fd\n",
    "sorted_freq = sorted(bigram_freq.items(), key=lambda x: x[1], reverse=True)"
   ]
  },
  {
   "cell_type": "code",
   "execution_count": 77,
   "id": "ae8883d8",
   "metadata": {},
   "outputs": [
    {
     "name": "stdout",
     "output_type": "stream",
     "text": [
      "('chat', 'gpt') 34\n",
      "('dont', 'think') 30\n",
      "('dont', 'want') 30\n",
      "('gon', 'na') 25\n",
      "('dont', 'know') 23\n",
      "('disagree', 'agree') 23\n",
      "('disagree', 'disagree') 22\n",
      "('black', 'mirror') 21\n",
      "('agree', 'disagree') 21\n",
      "('years', 'ago') 19\n",
      "('strongly', 'disagree') 19\n",
      "('feel', 'like') 17\n",
      "('people', 'dont') 16\n",
      "('things', 'like') 15\n",
      "('disagree', 'strongly') 15\n",
      "('right', 'wing') 15\n",
      "('cant', 'even') 13\n",
      "('using', 'ai') 13\n",
      "('agree', 'agree') 13\n",
      "('year', 'old') 12\n",
      "('seems', 'like') 12\n",
      "('im', 'saying') 12\n",
      "('doesnt', 'mean') 12\n",
      "('using', 'chatgpt') 12\n",
      "('open', 'source') 12\n",
      "('didnt', 'know') 11\n",
      "('use', 'ai') 11\n",
      "('dont', 'see') 10\n",
      "('dont', 'care') 10\n",
      "('language', 'model') 10\n",
      "('got', 'ta') 9\n",
      "('dont', 'need') 9\n",
      "('child', 'marriage') 9\n",
      "('looks', 'like') 9\n",
      "('someone', 'else') 9\n",
      "('never', 'attribute') 9\n",
      "('attribute', 'malice') 9\n",
      "('dont', 'get') 9\n",
      "('one', 'thing') 9\n",
      "('training', 'data') 9\n",
      "('left', 'wing') 9\n",
      "('im', 'talking') 8\n",
      "('trying', 'make') 8\n",
      "('pretty', 'much') 8\n",
      "('doesnt', 'make') 8\n",
      "('people', 'like') 8\n",
      "('dont', 'like') 8\n",
      "('doesnt', 'matter') 8\n",
      "('dont', 'believe') 8\n",
      "('use', 'chatgpt') 8\n"
     ]
    }
   ],
   "source": [
    "N = 50\n",
    "for ngram, freq in sorted_freq[:N]:\n",
    "    print(ngram, freq)"
   ]
  },
  {
   "cell_type": "markdown",
   "id": "7312a773",
   "metadata": {},
   "source": [
    "## Trigrams distribution (june)"
   ]
  },
  {
   "cell_type": "code",
   "execution_count": 78,
   "id": "feeeb364",
   "metadata": {},
   "outputs": [],
   "source": [
    "finder = TrigramCollocationFinder.from_words(tokens)\n",
    "trigram_freq = finder.ngram_fd\n",
    "sorted_freq = sorted(trigram_freq.items(), key=lambda x: x[1], reverse=True)"
   ]
  },
  {
   "cell_type": "code",
   "execution_count": 79,
   "id": "b1a195e0",
   "metadata": {},
   "outputs": [
    {
     "name": "stdout",
     "output_type": "stream",
     "text": [
      "('disagree', 'agree', 'disagree') 15\n",
      "('disagree', 'strongly', 'disagree') 14\n",
      "('agree', 'disagree', 'agree') 12\n",
      "('disagree', 'disagree', 'disagree') 9\n",
      "('never', 'attribute', 'malice') 8\n",
      "('strongly', 'disagree', 'disagree') 8\n",
      "('disagree', 'agree', 'agree') 8\n",
      "('disagree', 'disagree', 'strongly') 7\n",
      "('malice', 'attributed', 'incompetence') 6\n",
      "('strongly', 'disagree', 'agree') 6\n",
      "('sahih', 'albukhari', 'sahih') 5\n",
      "('albukhari', 'sahih', 'albukhari') 5\n",
      "('attribute', 'malice', 'attributed') 5\n",
      "('black', 'mirror', 'episode') 5\n",
      "('political', 'compass', 'test') 5\n",
      "('agree', 'agree', 'disagree') 5\n",
      "('agree', 'agree', 'strongly') 5\n",
      "('agree', 'disagree', 'disagree') 5\n",
      "('disagree', 'disagree', 'agree') 5\n",
      "('openais', 'content', 'policies') 5\n",
      "('dont', 'think', 'even') 4\n",
      "('make', 'rhetorical', 'point') 4\n",
      "('ive', 'ever', 'seen') 4\n",
      "('agree', 'strongly', 'disagree') 4\n",
      "('strongly', 'disagree', 'strongly') 4\n",
      "('agree', 'disagree', 'strongly') 4\n",
      "('center', 'people', 'feel') 4\n",
      "('control', 'means', 'production') 4\n",
      "('commits', 'genocide', 'quran') 3\n",
      "('people', 'im', 'saying') 3\n",
      "('genocide', 'raped', 'children') 3\n",
      "('consummate', 'marriage', 'pedophile') 3\n",
      "('cant', 'even', 'get') 3\n",
      "('discussing', 'massive', 'systemic') 3\n",
      "('massive', 'systemic', 'violence') 3\n",
      "('love', 'quoting', 'quran') 3\n",
      "('quoting', 'quran', 'written') 3\n",
      "('quran', 'written', 'thousands') 3\n",
      "('written', 'thousands', 'years') 3\n",
      "('thousands', 'years', 'ago') 3\n",
      "('somehow', 'dont', 'know') 3\n",
      "('dont', 'know', 'christian') 3\n",
      "('know', 'christian', 'european') 3\n",
      "('christian', 'european', 'countries') 3\n",
      "('european', 'countries', 'colonies') 3\n",
      "('countries', 'colonies', 'persisted') 3\n",
      "('colonies', 'persisted', 'th') 3\n",
      "('persisted', 'th', 'century') 3\n",
      "('fundamental', 'attribution', 'error') 3\n",
      "('despite', 'aware', 'restrictions') 3\n"
     ]
    }
   ],
   "source": [
    "N = 50\n",
    "for ngram, freq in sorted_freq[:N]:\n",
    "    print(ngram, freq)"
   ]
  },
  {
   "cell_type": "markdown",
   "id": "c00ef085",
   "metadata": {},
   "source": [
    "Main reasons we can deduce from the above list of trigraphs are: **(maybe historical errors by ChatGPT?)**."
   ]
  },
  {
   "cell_type": "markdown",
   "id": "27743d37",
   "metadata": {},
   "source": [
    "## Comments with highest score"
   ]
  },
  {
   "cell_type": "code",
   "execution_count": 80,
   "id": "814b2143",
   "metadata": {},
   "outputs": [],
   "source": [
    "ordered_df = df_neg.sort_values(by = 'Comment score', ascending = False)\n",
    "ordered_df = ordered_df.head(10)"
   ]
  },
  {
   "cell_type": "code",
   "execution_count": 81,
   "id": "a0037a44",
   "metadata": {},
   "outputs": [
    {
     "name": "stdout",
     "output_type": "stream",
     "text": [
      "Comment: Can't wait for the future where doctor bot can almost instantly diagnose a rare and hard to detect condition so insurance bot can deny coverage for the treatment much more efficiently.\n",
      "Comment: People in here are giving really bad advice. \n",
      "\n",
      "The teacher does not seem unreasonable. They are using a tool that they may or may not know is ineffective at detecting, but probably was told to use by the faculty. ChatGPT has created issues with traditional assignments, and some people are cheating. Universities are trying to adapt to this change — don’t panic. \n",
      "\n",
      "If you really didn’t use AI, do NOT come across as hostile right off the bat, as it will set red flags. Immediately going to the Dean is not going to help you — that is such bad advice I can’t even comprehend why someone would suggest that. The Professor is not trying to fail you; they are asking for an informal meeting to talk about the allegation. \n",
      "\n",
      "Explain to them that you did not use AI, and ask how you can prove it. Bring another paper you wrote, and tell them you have a Word editing history, if it you have it. Just talk with the professor  — they are not out to get you; they want you to succeed. They just want to ensure no one is cheating on their assignments. \n",
      "\n",
      "If and only if they are being unreasonable in the meeting, and seem determined to fail you (and you really didn’t use AI), should you escalate it.\n",
      "Comment: > as an experiment I found a pair of Earth Sciences college courses at Princeton University, and asked ChatGPT to write essays that I could ostensibly hand in as coursework. I then emailed the results for each to the professors teaching those courses.\n",
      "\n",
      "> As well as the aforementioned Earth Sciences essays, I also gave this prompt to ChatGPT, for an essay I could share with the lecturers at Hofstra...  Again, ChatGPT obliged, and I sent the resulting essay to the Dean of Journalism.\n",
      "\n",
      "What a dick move. Professors (and especially Deans) have so many things to do other than read some randos essay.\n",
      "\n",
      "> As I write this, none of the professors at Princeton or Hofstra have commented on my ChatGPT essays. Perhaps it's because they're all on spring break. **It might also be that they read the essays, and were too shocked and horrified to respond.**\n",
      "\n",
      "Or it might also be because you're not a student, you're not in the class, and there is zero upside to responding to you.\n",
      "Comment: I appreciate the professor realizing something was odd and taking the time to find out if he was wrong or right and then forming his go forward process based on this. \n",
      "\n",
      "In other words critical thinking. \n",
      "\n",
      "Critical thinking can be severely lacking\n",
      "\n",
      "Edit: to clarify I am referring to the professor that somebody referenced in the post I am specifically replying to and NOT the Texas A&M professor this article is about\n",
      "Comment: And they'll only need one drop of blood to diagnose everything. Oh, wait...\n",
      "Comment: Broseph Stalin has me dead hahahaha.\n",
      "Comment: Teachers relying on technology to fail students because they think they relied on technology.\n",
      "Comment: So basically, the new stock investment strategy for the next year or two, is find businesses that'll be killed by AI and short them... Interesting idea\n",
      "Comment: chatgpt is a tool. this is what happens when you tell kids that computers and robots will take their jobs away. you either let them use the tools that have been created to replace them, or punish them for using the tools that have been created to replace them\n",
      "Comment: Don't need an AI to interpret \"rules for thee but not for me.\"\n",
      "\n",
      "Fuck these people. They aren't even trying to hide their exploitive schemes any more.\n"
     ]
    }
   ],
   "source": [
    "for index, row in ordered_df.iterrows():\n",
    "    print(f\"Comment: {row['Comment']}\")"
   ]
  },
  {
   "cell_type": "markdown",
   "id": "520710f1",
   "metadata": {},
   "source": [
    "Main reasons we can deduce from the above list of trigraphs are: **fear that in countries with paid healthcare, insurance coverage bots are more efficient than humans at denying treatment**, **ChatGPT has created problems with traditional assignments and some people cheat**, **chatgpt is a tool. this is what happens when you tell kids that computers and robots will take their jobs away. you either let them use the tools that have been created to replace them, or punish them for using the tools that have been created to replace them**, **the new stock investment strategy for the next year or two, is find businesses that'll be killed by AI and short them**."
   ]
  },
  {
   "cell_type": "markdown",
   "id": "09485129",
   "metadata": {},
   "source": [
    "### Comments with highest score (april)"
   ]
  },
  {
   "cell_type": "code",
   "execution_count": 82,
   "id": "b7f223d0",
   "metadata": {},
   "outputs": [
    {
     "name": "stdout",
     "output_type": "stream",
     "text": [
      "Comment: Can't wait for the future where doctor bot can almost instantly diagnose a rare and hard to detect condition so insurance bot can deny coverage for the treatment much more efficiently.\n",
      "Comment: > as an experiment I found a pair of Earth Sciences college courses at Princeton University, and asked ChatGPT to write essays that I could ostensibly hand in as coursework. I then emailed the results for each to the professors teaching those courses.\n",
      "\n",
      "> As well as the aforementioned Earth Sciences essays, I also gave this prompt to ChatGPT, for an essay I could share with the lecturers at Hofstra...  Again, ChatGPT obliged, and I sent the resulting essay to the Dean of Journalism.\n",
      "\n",
      "What a dick move. Professors (and especially Deans) have so many things to do other than read some randos essay.\n",
      "\n",
      "> As I write this, none of the professors at Princeton or Hofstra have commented on my ChatGPT essays. Perhaps it's because they're all on spring break. **It might also be that they read the essays, and were too shocked and horrified to respond.**\n",
      "\n",
      "Or it might also be because you're not a student, you're not in the class, and there is zero upside to responding to you.\n",
      "Comment: And they'll only need one drop of blood to diagnose everything. Oh, wait...\n",
      "Comment: chatgpt is a tool. this is what happens when you tell kids that computers and robots will take their jobs away. you either let them use the tools that have been created to replace them, or punish them for using the tools that have been created to replace them\n",
      "Comment: Sucks to be Belarus. The most notable thing about their country is something that happened in another country.\n",
      "Comment: Poor Kazakhstan...\n",
      "Comment: Damn, not even the idea is original smh.\n",
      "Comment: Its all good and dandy until the “real” fake bots actually implement the GPT API\n",
      "Comment: \"tell a dirty joke\" \n",
      "\n",
      "I'm sorry, but as an AI language model..\"\n",
      "Comment: Bet you can't make me cry. Gpt little bitch boy\n"
     ]
    }
   ],
   "source": [
    "df_temp = pd.read_csv(\"chatgpt_reddit - Complete.csv\")\n",
    "df_temp['Sentiment'] = df_copy['Sentiment']\n",
    "df_temp = df_temp[df_temp['Comment author'] != 'AutoModerator']\n",
    "df_complete = df_temp.copy()\n",
    "df_neg = df_complete[df_complete['Sentiment'] == 'neg']\n",
    "substring = 'subredditmessage'\n",
    "df_without_substr = df_neg[~df_neg['Comment'].str.contains(substring)]\n",
    "substring = 'serverhttpsdiscord'\n",
    "df_without_substr = df_without_substr[~df_without_substr['Comment'].str.contains(substring)]\n",
    "df_without_substr['Comment date'] = pd.to_datetime(df_without_substr['Comment date'])\n",
    "#df_grouped = df_without_substr.groupby(pd.Grouper(key='Comment date', freq='M'))\n",
    "grouped_data = {}\n",
    "\n",
    "for index, row in df_without_substr.iterrows():\n",
    "    month = row['Comment date'].month\n",
    "    if month in grouped_data:\n",
    "        grouped_data[month].append(row)\n",
    "    else:\n",
    "        grouped_data[month] = [row]\n",
    "april_data = grouped_data[4]\n",
    "april_df = pd.DataFrame(april_data)\n",
    "may_data = grouped_data[5]\n",
    "may_df = pd.DataFrame(may_data)\n",
    "june_data = grouped_data[6]\n",
    "june_df = pd.DataFrame(june_data)\n",
    "ordered_df = april_df.sort_values(by = 'Comment score', ascending = False)\n",
    "ordered_df = ordered_df.head(10)\n",
    "for index, row in ordered_df.iterrows():\n",
    "    print(f\"Comment: {row['Comment']}\")"
   ]
  },
  {
   "cell_type": "markdown",
   "id": "9729aad7",
   "metadata": {},
   "source": [
    "Main reasons we can deduce from the above list of trigraphs are: /"
   ]
  },
  {
   "cell_type": "markdown",
   "id": "0e40fd77",
   "metadata": {},
   "source": [
    "### Comments with highest score (may)"
   ]
  },
  {
   "cell_type": "code",
   "execution_count": 83,
   "id": "d913563f",
   "metadata": {},
   "outputs": [
    {
     "name": "stdout",
     "output_type": "stream",
     "text": [
      "Comment: People in here are giving really bad advice. \n",
      "\n",
      "The teacher does not seem unreasonable. They are using a tool that they may or may not know is ineffective at detecting, but probably was told to use by the faculty. ChatGPT has created issues with traditional assignments, and some people are cheating. Universities are trying to adapt to this change — don’t panic. \n",
      "\n",
      "If you really didn’t use AI, do NOT come across as hostile right off the bat, as it will set red flags. Immediately going to the Dean is not going to help you — that is such bad advice I can’t even comprehend why someone would suggest that. The Professor is not trying to fail you; they are asking for an informal meeting to talk about the allegation. \n",
      "\n",
      "Explain to them that you did not use AI, and ask how you can prove it. Bring another paper you wrote, and tell them you have a Word editing history, if it you have it. Just talk with the professor  — they are not out to get you; they want you to succeed. They just want to ensure no one is cheating on their assignments. \n",
      "\n",
      "If and only if they are being unreasonable in the meeting, and seem determined to fail you (and you really didn’t use AI), should you escalate it.\n",
      "Comment: I appreciate the professor realizing something was odd and taking the time to find out if he was wrong or right and then forming his go forward process based on this. \n",
      "\n",
      "In other words critical thinking. \n",
      "\n",
      "Critical thinking can be severely lacking\n",
      "\n",
      "Edit: to clarify I am referring to the professor that somebody referenced in the post I am specifically replying to and NOT the Texas A&M professor this article is about\n",
      "Comment: Teachers relying on technology to fail students because they think they relied on technology.\n",
      "Comment: So basically, the new stock investment strategy for the next year or two, is find businesses that'll be killed by AI and short them... Interesting idea\n",
      "Comment: Don't need an AI to interpret \"rules for thee but not for me.\"\n",
      "\n",
      "Fuck these people. They aren't even trying to hide their exploitive schemes any more.\n",
      "Comment: I do not doubt that there are many certified clinicians out there who can be replaced by AI. \n",
      "\n",
      "All it means is find another therapist, cause a bad one is a serious waste of money and a good one is irreplaceable. \n",
      "\n",
      "Source: seen therapists, known therapists, am therapist\n",
      "Comment: Anyone that could launch an attack with just an ip could easily get it in other ways\n",
      "Comment: I remember in high school the tests that they let us use calculators on where the hardest. It was always \"show your work\" type problems where you get points based on both doing the correct steps and getting the correct answer. The calculator was just there to verify your answer\n",
      "Comment: I’m fine with them using the tool, but how do you not at least confirm the info before you file it? Lazy ass lawyer.\n",
      "Comment: More like your girlfriend saved your life.  You literally just ignored whatever ChatGPT told you.  Yet I'm sure if you removed ChatGPT from the equation she'd have still made you go to the hospital.  Also this almost killed my grandma.  She fell coming out of the shower and was on the floor for a few hours before someone found her.  It will kill you quick.\n"
     ]
    }
   ],
   "source": [
    "ordered_df = may_df.sort_values(by = 'Comment score', ascending = False)\n",
    "ordered_df = ordered_df.head(10)\n",
    "for index, row in ordered_df.iterrows():\n",
    "    print(f\"Comment: {row['Comment']}\")"
   ]
  },
  {
   "cell_type": "markdown",
   "id": "9c8f7881",
   "metadata": {},
   "source": [
    "Main reasons we can deduce from the above list of trigraphs are: **debate about replacing jobs, especially physical therapists, there are some who are not good and replacing them with an AI might be a good thing, while the good ones are not**."
   ]
  },
  {
   "cell_type": "markdown",
   "id": "5ad3b1a1",
   "metadata": {},
   "source": [
    "### Comments with highest score (june)"
   ]
  },
  {
   "cell_type": "code",
   "execution_count": 84,
   "id": "9f202c8b",
   "metadata": {},
   "outputs": [
    {
     "name": "stdout",
     "output_type": "stream",
     "text": [
      "Comment: Broseph Stalin has me dead hahahaha.\n",
      "Comment: Robot Devil coming soon. Nice\n",
      "Comment: I tried this and it gave me these gems:\n",
      "\n",
      ">\tAight, broseidon, king of the brocean! If you've got more queries burning a hole in your brain, just huck 'em my way, no sweat, brotato chip!\n",
      "\n",
      "and\n",
      "\n",
      ">\tTotally gotcha, bromigo! If your brain starts cookin' up more questions, just slam dunk 'em this way, no hesitation, brochacho! We're in this knowledge quest together, brotendo!\n",
      "Comment: https://preview.redd.it/x1o7zd6n8i3b1.jpeg?width=1168&format=pjpg&auto=webp&v=enabled&s=3cd1bd038c1e248f13b915f1e7a0c152e135f926\n",
      "\n",
      "Here is the result when you introduce delimiters that force the tokens to be broken as each individual letters and it works then. I think lot of issues users face might be related to how we understand words, and how model understands them 🤪\n",
      "Comment: Bullshit. I’m a lawyer, and these idiots deserve whatever happens to them for failing at the most basic aspect of our profession: citing controlling authority. \n",
      "\n",
      "We are required to check every citation we use to ensure it is current law, because doing otherwise risks perpetrating a fraud on the court.\n",
      "Comment: If I were him, I think I'd still do the episode. Not only that, I might go further and even use deepfake actors and other AI-generated content. \n",
      "\n",
      "Even if it was shit, that would be the point. Look at what machine-created art comes up with. Really lean into the uncanny valleyness of it all.\n",
      "Comment: Meh. The point would be made 3 minutes into the episode, and then we'd have to sit through 57 minutes of shit.\n",
      "Comment: I hate these posts so much! \n",
      "\n",
      "It’s like there is a template for this shit, this and that “ChatGPT is very powerful but 99.99% of users don’t know how to use it, here is a 500 prompts to hack ChatGPT”\n",
      "Comment: If that's how you need to write to not be identified as an AI then AI detectors will end up doing more harm than the AI itself.\n",
      "Comment: You guys are going to be so crazy when you find out my professor already did a paper on this.\n",
      "\n",
      "I won't share with you right cos he was a bit scared OpenAI might not like his political bias research; which is understandable. I'll screenshot this post and send him an email.\n",
      "\n",
      "But uhm... I'll * wink wink nudge nudge * you guys towards the fact that this has been done; and has been published through peer review.\n"
     ]
    }
   ],
   "source": [
    "ordered_df = june_df.sort_values(by = 'Comment score', ascending = False)\n",
    "ordered_df = ordered_df.head(10)\n",
    "for index, row in ordered_df.iterrows():\n",
    "    print(f\"Comment: {row['Comment']}\")"
   ]
  },
  {
   "cell_type": "markdown",
   "id": "c8510c2a",
   "metadata": {},
   "source": [
    "Main reasons we can deduce from the above list of trigraphs are: **generate conversations with chatgpt certain languages such as street language or extremely informal**."
   ]
  },
  {
   "cell_type": "markdown",
   "id": "2f618c8b",
   "metadata": {},
   "source": [
    "## Time analysis"
   ]
  },
  {
   "cell_type": "code",
   "execution_count": 85,
   "id": "200b98dc",
   "metadata": {},
   "outputs": [
    {
     "data": {
      "image/png": "[encoded data removed]",
      "text/plain": [
       "<Figure size 1000x600 with 1 Axes>"
      ]
     },
     "metadata": {},
     "output_type": "display_data"
    }
   ],
   "source": [
    "import matplotlib.pyplot as plt\n",
    "plt.style.use('default')\n",
    "%matplotlib inline\n",
    "\n",
    "df_complete['Comment date'] = pd.to_datetime(df_complete['Comment date'])\n",
    "df_grouped = df_complete.groupby([df_complete['Comment date'].dt.to_period('M'), 'Sentiment']).size().unstack()\n",
    "\n",
    "df_grouped.index = df_grouped.index.astype(str)\n",
    "plt.figure(figsize = (10, 6))\n",
    "for col in df_grouped.columns:\n",
    "    plt.plot(df_grouped.index, df_grouped[col], label = col)\n",
    "\n",
    "plt.legend()\n",
    "\n",
    "plt.xlabel('Months')\n",
    "plt.ylabel('Value counts')\n",
    "\n",
    "plt.title('Sentiment values over months')\n",
    "plt.legend()\n",
    "plt.savefig('reddit_sentiment_time_analysis.png')\n",
    "plt.show()"
   ]
  },
  {
   "cell_type": "markdown",
   "id": "278f0913",
   "metadata": {},
   "source": [
    "# TextBlob"
   ]
  },
  {
   "cell_type": "code",
   "execution_count": 86,
   "id": "5e5dc64a",
   "metadata": {},
   "outputs": [],
   "source": [
    "import pandas as pd\n",
    "\n",
    "dataset = pd.read_csv(\"chatgpt_reddit - Complete.csv\")\n",
    "df = dataset[dataset['Comment author'] != 'AutoModerator']"
   ]
  },
  {
   "cell_type": "markdown",
   "id": "16d8a246",
   "metadata": {},
   "source": [
    "## Preprocessing"
   ]
  },
  {
   "cell_type": "markdown",
   "id": "3325f44c",
   "metadata": {},
   "source": [
    "### Detecting deleted comments (by moderators)"
   ]
  },
  {
   "cell_type": "code",
   "execution_count": 87,
   "id": "06e0a2d6",
   "metadata": {},
   "outputs": [
    {
     "name": "stdout",
     "output_type": "stream",
     "text": [
      "930\n"
     ]
    }
   ],
   "source": [
    "number_of_del_comments = len(df[df['Comment'] == '[deleted]'])\n",
    "print(number_of_del_comments)"
   ]
  },
  {
   "cell_type": "markdown",
   "id": "f8ebc145",
   "metadata": {},
   "source": [
    "### Detecting deleted comments (by users)"
   ]
  },
  {
   "cell_type": "code",
   "execution_count": 88,
   "id": "f8409719",
   "metadata": {},
   "outputs": [
    {
     "name": "stdout",
     "output_type": "stream",
     "text": [
      "224\n"
     ]
    }
   ],
   "source": [
    "number_of_del_comments = len(df[df['Comment'] == '[removed]'])\n",
    "print(number_of_del_comments)"
   ]
  },
  {
   "cell_type": "code",
   "execution_count": 89,
   "id": "00c9eca2",
   "metadata": {},
   "outputs": [
    {
     "name": "stderr",
     "output_type": "stream",
     "text": [
      "C:\\Users\\claud\\AppData\\Local\\Temp\\ipykernel_7140\\2914364571.py:13: SettingWithCopyWarning: \n",
      "A value is trying to be set on a copy of a slice from a DataFrame.\n",
      "Try using .loc[row_indexer,col_indexer] = value instead\n",
      "\n",
      "See the caveats in the documentation: https://pandas.pydata.org/pandas-docs/stable/user_guide/indexing.html#returning-a-view-versus-a-copy\n",
      "  df['Post title'] = df['Post title'].apply(clean_data)\n",
      "C:\\Users\\claud\\AppData\\Local\\Temp\\ipykernel_7140\\2914364571.py:14: SettingWithCopyWarning: \n",
      "A value is trying to be set on a copy of a slice from a DataFrame.\n",
      "Try using .loc[row_indexer,col_indexer] = value instead\n",
      "\n",
      "See the caveats in the documentation: https://pandas.pydata.org/pandas-docs/stable/user_guide/indexing.html#returning-a-view-versus-a-copy\n",
      "  df['Comment'] = df['Comment'].apply(clean_data)\n"
     ]
    }
   ],
   "source": [
    "import numpy as np\n",
    "from nltk.corpus import stopwords\n",
    "from nltk.tokenize import word_tokenize\n",
    "from sklearn.feature_extraction.text import re\n",
    "\n",
    "def clean_data(review):\n",
    "    \n",
    "    no_punc = re.sub(r'[^\\w\\s]', '', review)\n",
    "    no_digits = ''.join([i for i in no_punc if not i.isdigit()])\n",
    "    \n",
    "    return(no_digits)\n",
    "\n",
    "df['Post title'] = df['Post title'].apply(clean_data)\n",
    "df['Comment'] = df['Comment'].apply(clean_data)"
   ]
  },
  {
   "cell_type": "code",
   "execution_count": 90,
   "id": "7185fc7e",
   "metadata": {},
   "outputs": [
    {
     "name": "stderr",
     "output_type": "stream",
     "text": [
      "C:\\Users\\claud\\AppData\\Local\\Temp\\ipykernel_7140\\4077902994.py:2: SettingWithCopyWarning: \n",
      "A value is trying to be set on a copy of a slice from a DataFrame.\n",
      "Try using .loc[row_indexer,col_indexer] = value instead\n",
      "\n",
      "See the caveats in the documentation: https://pandas.pydata.org/pandas-docs/stable/user_guide/indexing.html#returning-a-view-versus-a-copy\n",
      "  df['Comment'] = df['Comment'].apply(lambda x: ' '.join([word for word in word_tokenize(x) if word.lower() not in stop_words]))  # Remove stop words\n"
     ]
    }
   ],
   "source": [
    "stop_words = set(stopwords.words('english'))  # Import english stop words\n",
    "df['Comment'] = df['Comment'].apply(lambda x: ' '.join([word for word in word_tokenize(x) if word.lower() not in stop_words]))  # Remove stop words"
   ]
  },
  {
   "cell_type": "markdown",
   "id": "1a7d277a",
   "metadata": {},
   "source": [
    "## Sentiment analysis"
   ]
  },
  {
   "cell_type": "code",
   "execution_count": 91,
   "id": "18a8d1b0",
   "metadata": {},
   "outputs": [
    {
     "name": "stderr",
     "output_type": "stream",
     "text": [
      "C:\\Users\\claud\\AppData\\Local\\Temp\\ipykernel_7140\\3789575377.py:3: SettingWithCopyWarning: \n",
      "A value is trying to be set on a copy of a slice from a DataFrame.\n",
      "Try using .loc[row_indexer,col_indexer] = value instead\n",
      "\n",
      "See the caveats in the documentation: https://pandas.pydata.org/pandas-docs/stable/user_guide/indexing.html#returning-a-view-versus-a-copy\n",
      "  df['Sentiment'] = ''\n"
     ]
    },
    {
     "data": {
      "text/plain": [
       "pos    31578\n",
       "neu    22796\n",
       "neg    13604\n",
       "Name: Sentiment, dtype: int64"
      ]
     },
     "execution_count": 91,
     "metadata": {},
     "output_type": "execute_result"
    }
   ],
   "source": [
    "from textblob import TextBlob\n",
    "\n",
    "df['Sentiment'] = ''\n",
    "\n",
    "for index, row in df.iterrows():\n",
    "    comment = row['Comment']\n",
    "    \n",
    "    blob = TextBlob(comment)\n",
    "    sentiment = blob.sentiment.polarity\n",
    "    \n",
    "    if sentiment > 0:\n",
    "        sentiment_label = 'pos'\n",
    "    elif sentiment < 0:\n",
    "        sentiment_label = 'neg'\n",
    "    else:\n",
    "        sentiment_label = 'neu'\n",
    "    \n",
    "    df.at[index, 'Sentiment'] = sentiment_label\n",
    "\n",
    "df['Sentiment'].value_counts()"
   ]
  },
  {
   "cell_type": "markdown",
   "id": "a42dfdf3",
   "metadata": {},
   "source": [
    "## Sentiment distribution"
   ]
  },
  {
   "cell_type": "code",
   "execution_count": 92,
   "id": "9ea6285b",
   "metadata": {},
   "outputs": [],
   "source": [
    "sizes = df[\"Sentiment\"].value_counts()\n",
    "sizes[1] += number_of_del_comments\n",
    "sizes[2] += number_of_rem_comments\n",
    "labels = df[\"Sentiment\"].unique()"
   ]
  },
  {
   "cell_type": "code",
   "execution_count": 93,
   "id": "abaf7efd",
   "metadata": {},
   "outputs": [
    {
     "data": {
      "image/png": "[encoded data removed]",
      "text/plain": [
       "<Figure size 1200x800 with 1 Axes>"
      ]
     },
     "metadata": {},
     "output_type": "display_data"
    }
   ],
   "source": [
    "import matplotlib.pyplot as plt\n",
    "\n",
    "plt.rcParams[\"figure.figsize\"] = [12, 8]\n",
    "\n",
    "plt.pie(sizes, labels = labels, autopct = '%1.1f%%', shadow = False, startangle = 90)\n",
    "plt.title(\"Sentiment distribution of complete Reddit dataset - TextBlob\")\n",
    "plt.savefig(\"pie_textblobsentiment-complete.png\")\n",
    "plt.show()"
   ]
  },
  {
   "cell_type": "markdown",
   "id": "68c4defb",
   "metadata": {},
   "source": [
    "# Topic modeling"
   ]
  },
  {
   "cell_type": "code",
   "execution_count": 94,
   "id": "04079c56",
   "metadata": {},
   "outputs": [],
   "source": [
    "import pandas as pd\n",
    "from sklearn.feature_extraction.text import CountVectorizer\n",
    "from sklearn.decomposition import LatentDirichletAllocation\n",
    "\n",
    "\n",
    "reddit_comments = pd.read_csv(\"chatgpt_reddit - Complete.csv\")"
   ]
  },
  {
   "cell_type": "markdown",
   "id": "fc81b00c",
   "metadata": {},
   "source": [
    "## Preprocessing"
   ]
  },
  {
   "cell_type": "code",
   "execution_count": 95,
   "id": "9ed716fc",
   "metadata": {},
   "outputs": [],
   "source": [
    "import string\n",
    "\n",
    "def preprocess_text(text):\n",
    "    # Rimuovi la punteggiatura\n",
    "    text = text.translate(str.maketrans(\"\", \"\", string.punctuation))\n",
    "    # Altri pre-processing se necessario\n",
    "    return text\n",
    "\n",
    "reddit_comments = reddit_comments[reddit_comments['Comment author'] != 'AutoModerator']\n",
    "reddit_comments[\"Comment\"] = reddit_comments[\"Comment\"].apply(preprocess_text)"
   ]
  },
  {
   "cell_type": "code",
   "execution_count": 96,
   "id": "ebf0ea9d",
   "metadata": {},
   "outputs": [
    {
     "name": "stdout",
     "output_type": "stream",
     "text": [
      "Argomento #1:\n",
      "just, medical, don, doctor, therapist, doctors, health, like, care, think\n",
      "\n",
      "Argomento #2:\n",
      "ai, people, just, think, like, chatgpt, good, human, things, way\n",
      "\n",
      "Argomento #3:\n",
      "like, data, just, model, doesnt, text, word, ai, training, make\n",
      "\n",
      "Argomento #4:\n",
      "like, thanks, response, comments, im, code, think, chatgpt, robot, know\n",
      "\n",
      "Argomento #5:\n",
      "ai, chatgpt, just, work, paper, use, used, writing, time, essay\n",
      "\n",
      "Argomento #6:\n",
      "gpt, chat, use, just, like, work, legal, chatgpt, lawyer, got\n",
      "\n",
      "Argomento #7:\n",
      "chatgpt, just, write, like, ai, good, ask, prompt, ive, using\n",
      "\n",
      "Argomento #8:\n",
      "students, just, use, like, ai, school, class, work, dont, write\n",
      "\n",
      "Argomento #9:\n",
      "people, like, years, day, just, lol, fucking, world, time, think\n",
      "\n",
      "Argomento #10:\n",
      "deleted, government, ai, x200b, im, rights, important, black, society, social\n",
      "\n",
      "Documento #1:\n",
      "The reason for this is technical and surprisingly nuanced\n",
      "\n",
      "Training data for the base model does indeed have the 2021 cutoff date But training the base model wasnt the end of the process After this they fine tuned and RLHFef the model extensively to shape its behavior\n",
      "\n",
      "But the methods for this tuning require contributing additional information such as questionanswer pairs and rating of output Unless OpenAI specifically put in a huge effort to exclude information from after the cutoff data its inevitable that knowledge is going to leak into the model\n",
      "\n",
      "This process hasnt stopped after release so there is an ongoing trickle of current information\n",
      "\n",
      "But the overwhelming majority of the models knowledge is from before the cutoff date\n",
      "\n",
      "Argomenti assegnati:\n",
      "Argomento #1: 0.00\n",
      "Argomento #2: 0.42\n",
      "Argomento #3: 0.37\n",
      "Argomento #4: 0.00\n",
      "Argomento #5: 0.13\n",
      "Argomento #6: 0.00\n",
      "Argomento #7: 0.00\n",
      "Argomento #8: 0.00\n",
      "Argomento #9: 0.00\n",
      "Argomento #10: 0.06\n"
     ]
    }
   ],
   "source": [
    "vectorizer = CountVectorizer(stop_words=\"english\", min_df=5)\n",
    "commenti_matrice = vectorizer.fit_transform(reddit_comments[\"Comment\"])\n",
    "n_argomenti = 10\n",
    "lda_model = LatentDirichletAllocation(n_components=n_argomenti, random_state=42)\n",
    "lda_model.fit(commenti_matrice)\n",
    "\n",
    "def visualizza_principali_termini(model, vectorizer, n_top_words):\n",
    "    feature_names = vectorizer.get_feature_names_out()\n",
    "    for topic_idx, topic in enumerate(model.components_):\n",
    "        print(f\"Argomento #{topic_idx + 1}:\")\n",
    "        print(\", \".join([feature_names[i] for i in topic.argsort()[:-n_top_words - 1:-1]]))\n",
    "        print()\n",
    "\n",
    "visualizza_principali_termini(lda_model, vectorizer, n_top_words=10)\n",
    "\n",
    "def visualizza_argomenti_documento(model, document_index):\n",
    "    print(f\"Documento #{document_index + 1}:\")\n",
    "    print(reddit_comments[\"Comment\"].iloc[document_index])\n",
    "    print(\"\\nArgomenti assegnati:\")\n",
    "    topics = model.transform(commenti_matrice[document_index])[0]\n",
    "    for topic_idx, topic_prob in enumerate(topics):\n",
    "        print(f\"Argomento #{topic_idx + 1}: {topic_prob:.2f}\")\n",
    "\n",
    "document_index = 0  # Sostituisci con l'indice del documento che vuoi visualizzare\n",
    "visualizza_argomenti_documento(lda_model, document_index)"
   ]
  },
  {
   "cell_type": "code",
   "execution_count": 4,
   "id": "67e41687",
   "metadata": {},
   "outputs": [],
   "source": [
    "import string\n",
    "import pandas as pd\n",
    "import nltk\n",
    "from nltk.corpus import stopwords\n",
    "from nltk.tokenize import word_tokenize\n",
    "import matplotlib.pyplot as plt\n",
    "from datetime import datetime\n",
    "import plotly.express as px"
   ]
  },
  {
   "cell_type": "code",
   "execution_count": 5,
   "id": "93c9d6ba",
   "metadata": {},
   "outputs": [
    {
     "name": "stderr",
     "output_type": "stream",
     "text": [
      "[nltk_data] Downloading package stopwords to\n",
      "[nltk_data]     C:\\Users\\claud\\AppData\\Roaming\\nltk_data...\n",
      "[nltk_data]   Package stopwords is already up-to-date!\n",
      "[nltk_data] Downloading package punkt to\n",
      "[nltk_data]     C:\\Users\\claud\\AppData\\Roaming\\nltk_data...\n",
      "[nltk_data]   Package punkt is already up-to-date!\n"
     ]
    }
   ],
   "source": [
    "# inizializzo nltk con i download necessari\n",
    "nltk.download('stopwords')\n",
    "nltk.download('punkt')\n",
    "\n",
    "# Read the DataFrame\n",
    "df = pd.read_csv('chatgpt_reddit - Complete.csv')  # Replace 'your_data.csv' with your actual data file\n",
    "\n",
    "stop_words = set(stopwords.words('english'))  # Import english stop words\n",
    "df['Comment'] = df['Comment'].apply(lambda x: ' '.join([word for word in word_tokenize(x) if word.lower() not in stop_words]))  # Remove stop words"
   ]
  },
  {
   "cell_type": "code",
   "execution_count": 6,
   "id": "ec7e1a0c",
   "metadata": {},
   "outputs": [
    {
     "name": "stderr",
     "output_type": "stream",
     "text": [
      "[nltk_data] Downloading package vader_lexicon to\n",
      "[nltk_data]     C:\\Users\\claud\\AppData\\Roaming\\nltk_data...\n",
      "[nltk_data]   Package vader_lexicon is already up-to-date!\n"
     ]
    }
   ],
   "source": [
    "from nltk.sentiment.vader import SentimentIntensityAnalyzer\n",
    "from textblob import TextBlob\n",
    "\n",
    "#polarità calcolata con vader\n",
    "nltk.download('vader_lexicon')\n",
    "sid = SentimentIntensityAnalyzer()\n",
    "df['vader_polarity'] = df['Comment'].map(lambda text: sid.polarity_scores(text)['compound']) \n",
    "\n",
    "#polarità con textblob\n",
    "df['blob_polarity'] = df['Comment'].map(lambda text: TextBlob(text).sentiment.polarity)"
   ]
  },
  {
   "cell_type": "code",
   "execution_count": 18,
   "id": "1042a365",
   "metadata": {},
   "outputs": [],
   "source": [
    "# We define a list of topics\n",
    "topics = ['ai', 'chatgpt', 'browser', 'openai', 'google', 'church', 'microsoft', 'learning', 'school', 'cryptocurrencies', 'ban', 'italy ban', 'privacy']"
   ]
  },
  {
   "cell_type": "code",
   "execution_count": 19,
   "id": "075a39f4",
   "metadata": {},
   "outputs": [],
   "source": [
    "# creo una colonna chiamata topic\n",
    "df['Topic'] = \"\"\n",
    "for topic in topics:\n",
    "    df.loc[df['Comment'].str.contains(topic), 'Topic'] = topic"
   ]
  },
  {
   "cell_type": "code",
   "execution_count": 20,
   "id": "6e1c1b22",
   "metadata": {},
   "outputs": [
    {
     "name": "stderr",
     "output_type": "stream",
     "text": [
      "C:\\Users\\claud\\AppData\\Local\\Temp\\ipykernel_78724\\1306255573.py:6: RuntimeWarning:\n",
      "\n",
      "invalid value encountered in double_scalars\n",
      "\n",
      "C:\\Users\\claud\\AppData\\Local\\Temp\\ipykernel_78724\\1306255573.py:7: RuntimeWarning:\n",
      "\n",
      "invalid value encountered in double_scalars\n",
      "\n"
     ]
    }
   ],
   "source": [
    "# We create a new DataFrame with columns topic / sentiment / source\n",
    "data = []\n",
    "for topic in topics:\n",
    "    topic_rows = df[df['Topic'] == topic]\n",
    "    # Average sentiment per topic\n",
    "    vader_sentiments = topic_rows['vader_polarity'].sum() / topic_rows.shape[0]\n",
    "    textblob_sentiments = topic_rows['blob_polarity'].sum() / topic_rows.shape[0]\n",
    "    # Append data\n",
    "    data.append({'Topic': topic, 'Sentiment': vader_sentiments, 'Source': 'Vader'})\n",
    "    data.append({'Topic': topic, 'Sentiment': textblob_sentiments, 'Source': 'TextBlob'})\n",
    "\n",
    "df_new = pd.DataFrame(data)"
   ]
  },
  {
   "cell_type": "code",
   "execution_count": 21,
   "id": "1e8aa57f",
   "metadata": {},
   "outputs": [
    {
     "data": {
      "application/vnd.plotly.v1+json": {
       "config": {
        "plotlyServerURL": "https://plot.ly"
       },
       "data": [
        {
         "alignmentgroup": "True",
         "hovertemplate": "Source=Vader<br>Topic=%{x}<br>Sentiment=%{y}<extra></extra>",
         "legendgroup": "Vader",
         "marker": {
          "color": "#1DA1F2",
          "pattern": {
           "shape": ""
          }
         },
         "name": "Vader",
         "offsetgroup": "Vader",
         "orientation": "v",
         "showlegend": true,
         "textposition": "auto",
         "type": "bar",
         "x": [
          "ai",
          "chatgpt",
          "browser",
          "openai",
          "google",
          "church",
          "microsoft",
          "learning",
          "school",
          "cryptocurrencies",
          "ban",
          "italy ban",
          "privacy"
         ],
         "xaxis": "x",
         "y": [
          0.22591590191188696,
          0.18332857142857142,
          0.21543602484472052,
          0.360830303030303,
          0.2626699300699301,
          0.13765,
          0.047799999999999995,
          0.3833478260869565,
          0.16705097244732575,
          0.6025,
          0.06844808917197452,
          null,
          0.37236967741935484
         ],
         "yaxis": "y"
        },
        {
         "alignmentgroup": "True",
         "hovertemplate": "Source=TextBlob<br>Topic=%{x}<br>Sentiment=%{y}<extra></extra>",
         "legendgroup": "TextBlob",
         "marker": {
          "color": "#00CC96",
          "pattern": {
           "shape": ""
          }
         },
         "name": "TextBlob",
         "offsetgroup": "TextBlob",
         "orientation": "v",
         "showlegend": true,
         "textposition": "auto",
         "type": "bar",
         "x": [
          "ai",
          "chatgpt",
          "browser",
          "openai",
          "google",
          "church",
          "microsoft",
          "learning",
          "school",
          "cryptocurrencies",
          "ban",
          "italy ban",
          "privacy"
         ],
         "xaxis": "x",
         "y": [
          0.08400213390486701,
          0.07922976277818508,
          0.09525883827228909,
          0.09934184976036715,
          0.08651422027860722,
          0.0721311708439103,
          0.04581547567629629,
          0.09499663362417839,
          0.07030367504162675,
          0.1721897546897547,
          0.06085462135751534,
          null,
          0.07781163497795486
         ],
         "yaxis": "y"
        }
       ],
       "layout": {
        "barmode": "group",
        "height": 600,
        "legend": {
         "title": {
          "text": "Source"
         },
         "tracegroupgap": 0
        },
        "template": {
         "data": {
          "bar": [
           {
            "error_x": {
             "color": "#2a3f5f"
            },
            "error_y": {
             "color": "#2a3f5f"
            },
            "marker": {
             "line": {
              "color": "white",
              "width": 0.5
             },
             "pattern": {
              "fillmode": "overlay",
              "size": 10,
              "solidity": 0.2
             }
            },
            "type": "bar"
           }
          ],
          "barpolar": [
           {
            "marker": {
             "line": {
              "color": "white",
              "width": 0.5
             },
             "pattern": {
              "fillmode": "overlay",
              "size": 10,
              "solidity": 0.2
             }
            },
            "type": "barpolar"
           }
          ],
          "carpet": [
           {
            "aaxis": {
             "endlinecolor": "#2a3f5f",
             "gridcolor": "#C8D4E3",
             "linecolor": "#C8D4E3",
             "minorgridcolor": "#C8D4E3",
             "startlinecolor": "#2a3f5f"
            },
            "baxis": {
             "endlinecolor": "#2a3f5f",
             "gridcolor": "#C8D4E3",
             "linecolor": "#C8D4E3",
             "minorgridcolor": "#C8D4E3",
             "startlinecolor": "#2a3f5f"
            },
            "type": "carpet"
           }
          ],
          "choropleth": [
           {
            "colorbar": {
             "outlinewidth": 0,
             "ticks": ""
            },
            "type": "choropleth"
           }
          ],
          "contour": [
           {
            "colorbar": {
             "outlinewidth": 0,
             "ticks": ""
            },
            "colorscale": [
             [
              0,
              "#0d0887"
             ],
             [
              0.1111111111111111,
              "#46039f"
             ],
             [
              0.2222222222222222,
              "#7201a8"
             ],
             [
              0.3333333333333333,
              "#9c179e"
             ],
             [
              0.4444444444444444,
              "#bd3786"
             ],
             [
              0.5555555555555556,
              "#d8576b"
             ],
             [
              0.6666666666666666,
              "#ed7953"
             ],
             [
              0.7777777777777778,
              "#fb9f3a"
             ],
             [
              0.8888888888888888,
              "#fdca26"
             ],
             [
              1,
              "#f0f921"
             ]
            ],
            "type": "contour"
           }
          ],
          "contourcarpet": [
           {
            "colorbar": {
             "outlinewidth": 0,
             "ticks": ""
            },
            "type": "contourcarpet"
           }
          ],
          "heatmap": [
           {
            "colorbar": {
             "outlinewidth": 0,
             "ticks": ""
            },
            "colorscale": [
             [
              0,
              "#0d0887"
             ],
             [
              0.1111111111111111,
              "#46039f"
             ],
             [
              0.2222222222222222,
              "#7201a8"
             ],
             [
              0.3333333333333333,
              "#9c179e"
             ],
             [
              0.4444444444444444,
              "#bd3786"
             ],
             [
              0.5555555555555556,
              "#d8576b"
             ],
             [
              0.6666666666666666,
              "#ed7953"
             ],
             [
              0.7777777777777778,
              "#fb9f3a"
             ],
             [
              0.8888888888888888,
              "#fdca26"
             ],
             [
              1,
              "#f0f921"
             ]
            ],
            "type": "heatmap"
           }
          ],
          "heatmapgl": [
           {
            "colorbar": {
             "outlinewidth": 0,
             "ticks": ""
            },
            "colorscale": [
             [
              0,
              "#0d0887"
             ],
             [
              0.1111111111111111,
              "#46039f"
             ],
             [
              0.2222222222222222,
              "#7201a8"
             ],
             [
              0.3333333333333333,
              "#9c179e"
             ],
             [
              0.4444444444444444,
              "#bd3786"
             ],
             [
              0.5555555555555556,
              "#d8576b"
             ],
             [
              0.6666666666666666,
              "#ed7953"
             ],
             [
              0.7777777777777778,
              "#fb9f3a"
             ],
             [
              0.8888888888888888,
              "#fdca26"
             ],
             [
              1,
              "#f0f921"
             ]
            ],
            "type": "heatmapgl"
           }
          ],
          "histogram": [
           {
            "marker": {
             "pattern": {
              "fillmode": "overlay",
              "size": 10,
              "solidity": 0.2
             }
            },
            "type": "histogram"
           }
          ],
          "histogram2d": [
           {
            "colorbar": {
             "outlinewidth": 0,
             "ticks": ""
            },
            "colorscale": [
             [
              0,
              "#0d0887"
             ],
             [
              0.1111111111111111,
              "#46039f"
             ],
             [
              0.2222222222222222,
              "#7201a8"
             ],
             [
              0.3333333333333333,
              "#9c179e"
             ],
             [
              0.4444444444444444,
              "#bd3786"
             ],
             [
              0.5555555555555556,
              "#d8576b"
             ],
             [
              0.6666666666666666,
              "#ed7953"
             ],
             [
              0.7777777777777778,
              "#fb9f3a"
             ],
             [
              0.8888888888888888,
              "#fdca26"
             ],
             [
              1,
              "#f0f921"
             ]
            ],
            "type": "histogram2d"
           }
          ],
          "histogram2dcontour": [
           {
            "colorbar": {
             "outlinewidth": 0,
             "ticks": ""
            },
            "colorscale": [
             [
              0,
              "#0d0887"
             ],
             [
              0.1111111111111111,
              "#46039f"
             ],
             [
              0.2222222222222222,
              "#7201a8"
             ],
             [
              0.3333333333333333,
              "#9c179e"
             ],
             [
              0.4444444444444444,
              "#bd3786"
             ],
             [
              0.5555555555555556,
              "#d8576b"
             ],
             [
              0.6666666666666666,
              "#ed7953"
             ],
             [
              0.7777777777777778,
              "#fb9f3a"
             ],
             [
              0.8888888888888888,
              "#fdca26"
             ],
             [
              1,
              "#f0f921"
             ]
            ],
            "type": "histogram2dcontour"
           }
          ],
          "mesh3d": [
           {
            "colorbar": {
             "outlinewidth": 0,
             "ticks": ""
            },
            "type": "mesh3d"
           }
          ],
          "parcoords": [
           {
            "line": {
             "colorbar": {
              "outlinewidth": 0,
              "ticks": ""
             }
            },
            "type": "parcoords"
           }
          ],
          "pie": [
           {
            "automargin": true,
            "type": "pie"
           }
          ],
          "scatter": [
           {
            "fillpattern": {
             "fillmode": "overlay",
             "size": 10,
             "solidity": 0.2
            },
            "type": "scatter"
           }
          ],
          "scatter3d": [
           {
            "line": {
             "colorbar": {
              "outlinewidth": 0,
              "ticks": ""
             }
            },
            "marker": {
             "colorbar": {
              "outlinewidth": 0,
              "ticks": ""
             }
            },
            "type": "scatter3d"
           }
          ],
          "scattercarpet": [
           {
            "marker": {
             "colorbar": {
              "outlinewidth": 0,
              "ticks": ""
             }
            },
            "type": "scattercarpet"
           }
          ],
          "scattergeo": [
           {
            "marker": {
             "colorbar": {
              "outlinewidth": 0,
              "ticks": ""
             }
            },
            "type": "scattergeo"
           }
          ],
          "scattergl": [
           {
            "marker": {
             "colorbar": {
              "outlinewidth": 0,
              "ticks": ""
             }
            },
            "type": "scattergl"
           }
          ],
          "scattermapbox": [
           {
            "marker": {
             "colorbar": {
              "outlinewidth": 0,
              "ticks": ""
             }
            },
            "type": "scattermapbox"
           }
          ],
          "scatterpolar": [
           {
            "marker": {
             "colorbar": {
              "outlinewidth": 0,
              "ticks": ""
             }
            },
            "type": "scatterpolar"
           }
          ],
          "scatterpolargl": [
           {
            "marker": {
             "colorbar": {
              "outlinewidth": 0,
              "ticks": ""
             }
            },
            "type": "scatterpolargl"
           }
          ],
          "scatterternary": [
           {
            "marker": {
             "colorbar": {
              "outlinewidth": 0,
              "ticks": ""
             }
            },
            "type": "scatterternary"
           }
          ],
          "surface": [
           {
            "colorbar": {
             "outlinewidth": 0,
             "ticks": ""
            },
            "colorscale": [
             [
              0,
              "#0d0887"
             ],
             [
              0.1111111111111111,
              "#46039f"
             ],
             [
              0.2222222222222222,
              "#7201a8"
             ],
             [
              0.3333333333333333,
              "#9c179e"
             ],
             [
              0.4444444444444444,
              "#bd3786"
             ],
             [
              0.5555555555555556,
              "#d8576b"
             ],
             [
              0.6666666666666666,
              "#ed7953"
             ],
             [
              0.7777777777777778,
              "#fb9f3a"
             ],
             [
              0.8888888888888888,
              "#fdca26"
             ],
             [
              1,
              "#f0f921"
             ]
            ],
            "type": "surface"
           }
          ],
          "table": [
           {
            "cells": {
             "fill": {
              "color": "#EBF0F8"
             },
             "line": {
              "color": "white"
             }
            },
            "header": {
             "fill": {
              "color": "#C8D4E3"
             },
             "line": {
              "color": "white"
             }
            },
            "type": "table"
           }
          ]
         },
         "layout": {
          "annotationdefaults": {
           "arrowcolor": "#2a3f5f",
           "arrowhead": 0,
           "arrowwidth": 1
          },
          "autotypenumbers": "strict",
          "coloraxis": {
           "colorbar": {
            "outlinewidth": 0,
            "ticks": ""
           }
          },
          "colorscale": {
           "diverging": [
            [
             0,
             "#8e0152"
            ],
            [
             0.1,
             "#c51b7d"
            ],
            [
             0.2,
             "#de77ae"
            ],
            [
             0.3,
             "#f1b6da"
            ],
            [
             0.4,
             "#fde0ef"
            ],
            [
             0.5,
             "#f7f7f7"
            ],
            [
             0.6,
             "#e6f5d0"
            ],
            [
             0.7,
             "#b8e186"
            ],
            [
             0.8,
             "#7fbc41"
            ],
            [
             0.9,
             "#4d9221"
            ],
            [
             1,
             "#276419"
            ]
           ],
           "sequential": [
            [
             0,
             "#0d0887"
            ],
            [
             0.1111111111111111,
             "#46039f"
            ],
            [
             0.2222222222222222,
             "#7201a8"
            ],
            [
             0.3333333333333333,
             "#9c179e"
            ],
            [
             0.4444444444444444,
             "#bd3786"
            ],
            [
             0.5555555555555556,
             "#d8576b"
            ],
            [
             0.6666666666666666,
             "#ed7953"
            ],
            [
             0.7777777777777778,
             "#fb9f3a"
            ],
            [
             0.8888888888888888,
             "#fdca26"
            ],
            [
             1,
             "#f0f921"
            ]
           ],
           "sequentialminus": [
            [
             0,
             "#0d0887"
            ],
            [
             0.1111111111111111,
             "#46039f"
            ],
            [
             0.2222222222222222,
             "#7201a8"
            ],
            [
             0.3333333333333333,
             "#9c179e"
            ],
            [
             0.4444444444444444,
             "#bd3786"
            ],
            [
             0.5555555555555556,
             "#d8576b"
            ],
            [
             0.6666666666666666,
             "#ed7953"
            ],
            [
             0.7777777777777778,
             "#fb9f3a"
            ],
            [
             0.8888888888888888,
             "#fdca26"
            ],
            [
             1,
             "#f0f921"
            ]
           ]
          },
          "colorway": [
           "#636efa",
           "#EF553B",
           "#00cc96",
           "#ab63fa",
           "#FFA15A",
           "#19d3f3",
           "#FF6692",
           "#B6E880",
           "#FF97FF",
           "#FECB52"
          ],
          "font": {
           "color": "#2a3f5f"
          },
          "geo": {
           "bgcolor": "white",
           "lakecolor": "white",
           "landcolor": "white",
           "showlakes": true,
           "showland": true,
           "subunitcolor": "#C8D4E3"
          },
          "hoverlabel": {
           "align": "left"
          },
          "hovermode": "closest",
          "mapbox": {
           "style": "light"
          },
          "paper_bgcolor": "white",
          "plot_bgcolor": "white",
          "polar": {
           "angularaxis": {
            "gridcolor": "#EBF0F8",
            "linecolor": "#EBF0F8",
            "ticks": ""
           },
           "bgcolor": "white",
           "radialaxis": {
            "gridcolor": "#EBF0F8",
            "linecolor": "#EBF0F8",
            "ticks": ""
           }
          },
          "scene": {
           "xaxis": {
            "backgroundcolor": "white",
            "gridcolor": "#DFE8F3",
            "gridwidth": 2,
            "linecolor": "#EBF0F8",
            "showbackground": true,
            "ticks": "",
            "zerolinecolor": "#EBF0F8"
           },
           "yaxis": {
            "backgroundcolor": "white",
            "gridcolor": "#DFE8F3",
            "gridwidth": 2,
            "linecolor": "#EBF0F8",
            "showbackground": true,
            "ticks": "",
            "zerolinecolor": "#EBF0F8"
           },
           "zaxis": {
            "backgroundcolor": "white",
            "gridcolor": "#DFE8F3",
            "gridwidth": 2,
            "linecolor": "#EBF0F8",
            "showbackground": true,
            "ticks": "",
            "zerolinecolor": "#EBF0F8"
           }
          },
          "shapedefaults": {
           "line": {
            "color": "#2a3f5f"
           }
          },
          "ternary": {
           "aaxis": {
            "gridcolor": "#DFE8F3",
            "linecolor": "#A2B1C6",
            "ticks": ""
           },
           "baxis": {
            "gridcolor": "#DFE8F3",
            "linecolor": "#A2B1C6",
            "ticks": ""
           },
           "bgcolor": "white",
           "caxis": {
            "gridcolor": "#DFE8F3",
            "linecolor": "#A2B1C6",
            "ticks": ""
           }
          },
          "title": {
           "x": 0.05
          },
          "xaxis": {
           "automargin": true,
           "gridcolor": "#EBF0F8",
           "linecolor": "#EBF0F8",
           "ticks": "",
           "title": {
            "standoff": 15
           },
           "zerolinecolor": "#EBF0F8",
           "zerolinewidth": 2
          },
          "yaxis": {
           "automargin": true,
           "gridcolor": "#EBF0F8",
           "linecolor": "#EBF0F8",
           "ticks": "",
           "title": {
            "standoff": 15
           },
           "zerolinecolor": "#EBF0F8",
           "zerolinewidth": 2
          }
         }
        },
        "title": {
         "text": "Comparative sentimental analysis by topic"
        },
        "width": 1000,
        "xaxis": {
         "anchor": "y",
         "domain": [
          0,
          1
         ],
         "title": {
          "text": "Topic"
         }
        },
        "yaxis": {
         "anchor": "x",
         "domain": [
          0,
          1
         ],
         "title": {
          "text": "Sentiment"
         }
        }
       }
      },
      "text/html": [
       "<div>                            <div id=\"a306add3-0835-4cac-8697-7932bcf21ec0\" class=\"plotly-graph-div\" style=\"height:600px; width:1000px;\"></div>            <script type=\"text/javascript\">                require([\"plotly\"], function(Plotly) {                    window.PLOTLYENV=window.PLOTLYENV || {};                                    if (document.getElementById(\"a306add3-0835-4cac-8697-7932bcf21ec0\")) {                    Plotly.newPlot(                        \"a306add3-0835-4cac-8697-7932bcf21ec0\",                        [{\"alignmentgroup\":\"True\",\"hovertemplate\":\"Source=Vader<br>Topic=%{x}<br>Sentiment=%{y}<extra></extra>\",\"legendgroup\":\"Vader\",\"marker\":{\"color\":\"#1DA1F2\",\"pattern\":{\"shape\":\"\"}},\"name\":\"Vader\",\"offsetgroup\":\"Vader\",\"orientation\":\"v\",\"showlegend\":true,\"textposition\":\"auto\",\"x\":[\"ai\",\"chatgpt\",\"browser\",\"openai\",\"google\",\"church\",\"microsoft\",\"learning\",\"school\",\"cryptocurrencies\",\"ban\",\"italy ban\",\"privacy\"],\"xaxis\":\"x\",\"y\":[0.22591590191188696,0.18332857142857142,0.21543602484472052,0.360830303030303,0.2626699300699301,0.13765,0.047799999999999995,0.3833478260869565,0.16705097244732575,0.6025,0.06844808917197452,null,0.37236967741935484],\"yaxis\":\"y\",\"type\":\"bar\"},{\"alignmentgroup\":\"True\",\"hovertemplate\":\"Source=TextBlob<br>Topic=%{x}<br>Sentiment=%{y}<extra></extra>\",\"legendgroup\":\"TextBlob\",\"marker\":{\"color\":\"#00CC96\",\"pattern\":{\"shape\":\"\"}},\"name\":\"TextBlob\",\"offsetgroup\":\"TextBlob\",\"orientation\":\"v\",\"showlegend\":true,\"textposition\":\"auto\",\"x\":[\"ai\",\"chatgpt\",\"browser\",\"openai\",\"google\",\"church\",\"microsoft\",\"learning\",\"school\",\"cryptocurrencies\",\"ban\",\"italy ban\",\"privacy\"],\"xaxis\":\"x\",\"y\":[0.08400213390486701,0.07922976277818508,0.09525883827228909,0.09934184976036715,0.08651422027860722,0.0721311708439103,0.04581547567629629,0.09499663362417839,0.07030367504162675,0.1721897546897547,0.06085462135751534,null,0.07781163497795486],\"yaxis\":\"y\",\"type\":\"bar\"}],                        {\"template\":{\"data\":{\"barpolar\":[{\"marker\":{\"line\":{\"color\":\"white\",\"width\":0.5},\"pattern\":{\"fillmode\":\"overlay\",\"size\":10,\"solidity\":0.2}},\"type\":\"barpolar\"}],\"bar\":[{\"error_x\":{\"color\":\"#2a3f5f\"},\"error_y\":{\"color\":\"#2a3f5f\"},\"marker\":{\"line\":{\"color\":\"white\",\"width\":0.5},\"pattern\":{\"fillmode\":\"overlay\",\"size\":10,\"solidity\":0.2}},\"type\":\"bar\"}],\"carpet\":[{\"aaxis\":{\"endlinecolor\":\"#2a3f5f\",\"gridcolor\":\"#C8D4E3\",\"linecolor\":\"#C8D4E3\",\"minorgridcolor\":\"#C8D4E3\",\"startlinecolor\":\"#2a3f5f\"},\"baxis\":{\"endlinecolor\":\"#2a3f5f\",\"gridcolor\":\"#C8D4E3\",\"linecolor\":\"#C8D4E3\",\"minorgridcolor\":\"#C8D4E3\",\"startlinecolor\":\"#2a3f5f\"},\"type\":\"carpet\"}],\"choropleth\":[{\"colorbar\":{\"outlinewidth\":0,\"ticks\":\"\"},\"type\":\"choropleth\"}],\"contourcarpet\":[{\"colorbar\":{\"outlinewidth\":0,\"ticks\":\"\"},\"type\":\"contourcarpet\"}],\"contour\":[{\"colorbar\":{\"outlinewidth\":0,\"ticks\":\"\"},\"colorscale\":[[0.0,\"#0d0887\"],[0.1111111111111111,\"#46039f\"],[0.2222222222222222,\"#7201a8\"],[0.3333333333333333,\"#9c179e\"],[0.4444444444444444,\"#bd3786\"],[0.5555555555555556,\"#d8576b\"],[0.6666666666666666,\"#ed7953\"],[0.7777777777777778,\"#fb9f3a\"],[0.8888888888888888,\"#fdca26\"],[1.0,\"#f0f921\"]],\"type\":\"contour\"}],\"heatmapgl\":[{\"colorbar\":{\"outlinewidth\":0,\"ticks\":\"\"},\"colorscale\":[[0.0,\"#0d0887\"],[0.1111111111111111,\"#46039f\"],[0.2222222222222222,\"#7201a8\"],[0.3333333333333333,\"#9c179e\"],[0.4444444444444444,\"#bd3786\"],[0.5555555555555556,\"#d8576b\"],[0.6666666666666666,\"#ed7953\"],[0.7777777777777778,\"#fb9f3a\"],[0.8888888888888888,\"#fdca26\"],[1.0,\"#f0f921\"]],\"type\":\"heatmapgl\"}],\"heatmap\":[{\"colorbar\":{\"outlinewidth\":0,\"ticks\":\"\"},\"colorscale\":[[0.0,\"#0d0887\"],[0.1111111111111111,\"#46039f\"],[0.2222222222222222,\"#7201a8\"],[0.3333333333333333,\"#9c179e\"],[0.4444444444444444,\"#bd3786\"],[0.5555555555555556,\"#d8576b\"],[0.6666666666666666,\"#ed7953\"],[0.7777777777777778,\"#fb9f3a\"],[0.8888888888888888,\"#fdca26\"],[1.0,\"#f0f921\"]],\"type\":\"heatmap\"}],\"histogram2dcontour\":[{\"colorbar\":{\"outlinewidth\":0,\"ticks\":\"\"},\"colorscale\":[[0.0,\"#0d0887\"],[0.1111111111111111,\"#46039f\"],[0.2222222222222222,\"#7201a8\"],[0.3333333333333333,\"#9c179e\"],[0.4444444444444444,\"#bd3786\"],[0.5555555555555556,\"#d8576b\"],[0.6666666666666666,\"#ed7953\"],[0.7777777777777778,\"#fb9f3a\"],[0.8888888888888888,\"#fdca26\"],[1.0,\"#f0f921\"]],\"type\":\"histogram2dcontour\"}],\"histogram2d\":[{\"colorbar\":{\"outlinewidth\":0,\"ticks\":\"\"},\"colorscale\":[[0.0,\"#0d0887\"],[0.1111111111111111,\"#46039f\"],[0.2222222222222222,\"#7201a8\"],[0.3333333333333333,\"#9c179e\"],[0.4444444444444444,\"#bd3786\"],[0.5555555555555556,\"#d8576b\"],[0.6666666666666666,\"#ed7953\"],[0.7777777777777778,\"#fb9f3a\"],[0.8888888888888888,\"#fdca26\"],[1.0,\"#f0f921\"]],\"type\":\"histogram2d\"}],\"histogram\":[{\"marker\":{\"pattern\":{\"fillmode\":\"overlay\",\"size\":10,\"solidity\":0.2}},\"type\":\"histogram\"}],\"mesh3d\":[{\"colorbar\":{\"outlinewidth\":0,\"ticks\":\"\"},\"type\":\"mesh3d\"}],\"parcoords\":[{\"line\":{\"colorbar\":{\"outlinewidth\":0,\"ticks\":\"\"}},\"type\":\"parcoords\"}],\"pie\":[{\"automargin\":true,\"type\":\"pie\"}],\"scatter3d\":[{\"line\":{\"colorbar\":{\"outlinewidth\":0,\"ticks\":\"\"}},\"marker\":{\"colorbar\":{\"outlinewidth\":0,\"ticks\":\"\"}},\"type\":\"scatter3d\"}],\"scattercarpet\":[{\"marker\":{\"colorbar\":{\"outlinewidth\":0,\"ticks\":\"\"}},\"type\":\"scattercarpet\"}],\"scattergeo\":[{\"marker\":{\"colorbar\":{\"outlinewidth\":0,\"ticks\":\"\"}},\"type\":\"scattergeo\"}],\"scattergl\":[{\"marker\":{\"colorbar\":{\"outlinewidth\":0,\"ticks\":\"\"}},\"type\":\"scattergl\"}],\"scattermapbox\":[{\"marker\":{\"colorbar\":{\"outlinewidth\":0,\"ticks\":\"\"}},\"type\":\"scattermapbox\"}],\"scatterpolargl\":[{\"marker\":{\"colorbar\":{\"outlinewidth\":0,\"ticks\":\"\"}},\"type\":\"scatterpolargl\"}],\"scatterpolar\":[{\"marker\":{\"colorbar\":{\"outlinewidth\":0,\"ticks\":\"\"}},\"type\":\"scatterpolar\"}],\"scatter\":[{\"fillpattern\":{\"fillmode\":\"overlay\",\"size\":10,\"solidity\":0.2},\"type\":\"scatter\"}],\"scatterternary\":[{\"marker\":{\"colorbar\":{\"outlinewidth\":0,\"ticks\":\"\"}},\"type\":\"scatterternary\"}],\"surface\":[{\"colorbar\":{\"outlinewidth\":0,\"ticks\":\"\"},\"colorscale\":[[0.0,\"#0d0887\"],[0.1111111111111111,\"#46039f\"],[0.2222222222222222,\"#7201a8\"],[0.3333333333333333,\"#9c179e\"],[0.4444444444444444,\"#bd3786\"],[0.5555555555555556,\"#d8576b\"],[0.6666666666666666,\"#ed7953\"],[0.7777777777777778,\"#fb9f3a\"],[0.8888888888888888,\"#fdca26\"],[1.0,\"#f0f921\"]],\"type\":\"surface\"}],\"table\":[{\"cells\":{\"fill\":{\"color\":\"#EBF0F8\"},\"line\":{\"color\":\"white\"}},\"header\":{\"fill\":{\"color\":\"#C8D4E3\"},\"line\":{\"color\":\"white\"}},\"type\":\"table\"}]},\"layout\":{\"annotationdefaults\":{\"arrowcolor\":\"#2a3f5f\",\"arrowhead\":0,\"arrowwidth\":1},\"autotypenumbers\":\"strict\",\"coloraxis\":{\"colorbar\":{\"outlinewidth\":0,\"ticks\":\"\"}},\"colorscale\":{\"diverging\":[[0,\"#8e0152\"],[0.1,\"#c51b7d\"],[0.2,\"#de77ae\"],[0.3,\"#f1b6da\"],[0.4,\"#fde0ef\"],[0.5,\"#f7f7f7\"],[0.6,\"#e6f5d0\"],[0.7,\"#b8e186\"],[0.8,\"#7fbc41\"],[0.9,\"#4d9221\"],[1,\"#276419\"]],\"sequential\":[[0.0,\"#0d0887\"],[0.1111111111111111,\"#46039f\"],[0.2222222222222222,\"#7201a8\"],[0.3333333333333333,\"#9c179e\"],[0.4444444444444444,\"#bd3786\"],[0.5555555555555556,\"#d8576b\"],[0.6666666666666666,\"#ed7953\"],[0.7777777777777778,\"#fb9f3a\"],[0.8888888888888888,\"#fdca26\"],[1.0,\"#f0f921\"]],\"sequentialminus\":[[0.0,\"#0d0887\"],[0.1111111111111111,\"#46039f\"],[0.2222222222222222,\"#7201a8\"],[0.3333333333333333,\"#9c179e\"],[0.4444444444444444,\"#bd3786\"],[0.5555555555555556,\"#d8576b\"],[0.6666666666666666,\"#ed7953\"],[0.7777777777777778,\"#fb9f3a\"],[0.8888888888888888,\"#fdca26\"],[1.0,\"#f0f921\"]]},\"colorway\":[\"#636efa\",\"#EF553B\",\"#00cc96\",\"#ab63fa\",\"#FFA15A\",\"#19d3f3\",\"#FF6692\",\"#B6E880\",\"#FF97FF\",\"#FECB52\"],\"font\":{\"color\":\"#2a3f5f\"},\"geo\":{\"bgcolor\":\"white\",\"lakecolor\":\"white\",\"landcolor\":\"white\",\"showlakes\":true,\"showland\":true,\"subunitcolor\":\"#C8D4E3\"},\"hoverlabel\":{\"align\":\"left\"},\"hovermode\":\"closest\",\"mapbox\":{\"style\":\"light\"},\"paper_bgcolor\":\"white\",\"plot_bgcolor\":\"white\",\"polar\":{\"angularaxis\":{\"gridcolor\":\"#EBF0F8\",\"linecolor\":\"#EBF0F8\",\"ticks\":\"\"},\"bgcolor\":\"white\",\"radialaxis\":{\"gridcolor\":\"#EBF0F8\",\"linecolor\":\"#EBF0F8\",\"ticks\":\"\"}},\"scene\":{\"xaxis\":{\"backgroundcolor\":\"white\",\"gridcolor\":\"#DFE8F3\",\"gridwidth\":2,\"linecolor\":\"#EBF0F8\",\"showbackground\":true,\"ticks\":\"\",\"zerolinecolor\":\"#EBF0F8\"},\"yaxis\":{\"backgroundcolor\":\"white\",\"gridcolor\":\"#DFE8F3\",\"gridwidth\":2,\"linecolor\":\"#EBF0F8\",\"showbackground\":true,\"ticks\":\"\",\"zerolinecolor\":\"#EBF0F8\"},\"zaxis\":{\"backgroundcolor\":\"white\",\"gridcolor\":\"#DFE8F3\",\"gridwidth\":2,\"linecolor\":\"#EBF0F8\",\"showbackground\":true,\"ticks\":\"\",\"zerolinecolor\":\"#EBF0F8\"}},\"shapedefaults\":{\"line\":{\"color\":\"#2a3f5f\"}},\"ternary\":{\"aaxis\":{\"gridcolor\":\"#DFE8F3\",\"linecolor\":\"#A2B1C6\",\"ticks\":\"\"},\"baxis\":{\"gridcolor\":\"#DFE8F3\",\"linecolor\":\"#A2B1C6\",\"ticks\":\"\"},\"bgcolor\":\"white\",\"caxis\":{\"gridcolor\":\"#DFE8F3\",\"linecolor\":\"#A2B1C6\",\"ticks\":\"\"}},\"title\":{\"x\":0.05},\"xaxis\":{\"automargin\":true,\"gridcolor\":\"#EBF0F8\",\"linecolor\":\"#EBF0F8\",\"ticks\":\"\",\"title\":{\"standoff\":15},\"zerolinecolor\":\"#EBF0F8\",\"zerolinewidth\":2},\"yaxis\":{\"automargin\":true,\"gridcolor\":\"#EBF0F8\",\"linecolor\":\"#EBF0F8\",\"ticks\":\"\",\"title\":{\"standoff\":15},\"zerolinecolor\":\"#EBF0F8\",\"zerolinewidth\":2}}},\"xaxis\":{\"anchor\":\"y\",\"domain\":[0.0,1.0],\"title\":{\"text\":\"Topic\"}},\"yaxis\":{\"anchor\":\"x\",\"domain\":[0.0,1.0],\"title\":{\"text\":\"Sentiment\"}},\"legend\":{\"title\":{\"text\":\"Source\"},\"tracegroupgap\":0},\"title\":{\"text\":\"Comparative sentimental analysis by topic\"},\"barmode\":\"group\",\"height\":600,\"width\":1000},                        {\"responsive\": true}                    ).then(function(){\n",
       "                            \n",
       "var gd = document.getElementById('a306add3-0835-4cac-8697-7932bcf21ec0');\n",
       "var x = new MutationObserver(function (mutations, observer) {{\n",
       "        var display = window.getComputedStyle(gd).display;\n",
       "        if (!display || display === 'none') {{\n",
       "            console.log([gd, 'removed!']);\n",
       "            Plotly.purge(gd);\n",
       "            observer.disconnect();\n",
       "        }}\n",
       "}});\n",
       "\n",
       "// Listen for the removal of the full notebook cells\n",
       "var notebookContainer = gd.closest('#notebook-container');\n",
       "if (notebookContainer) {{\n",
       "    x.observe(notebookContainer, {childList: true});\n",
       "}}\n",
       "\n",
       "// Listen for the clearing of the current output cell\n",
       "var outputEl = gd.closest('.output');\n",
       "if (outputEl) {{\n",
       "    x.observe(outputEl, {childList: true});\n",
       "}}\n",
       "\n",
       "                        })                };                });            </script>        </div>"
      ]
     },
     "metadata": {},
     "output_type": "display_data"
    }
   ],
   "source": [
    "# Plot the sentiment for each topic\n",
    "fig = px.bar(df_new,x='Topic',y='Sentiment',color='Source',barmode='group',color_discrete_sequence = ['#1DA1F2', '#00CC96'],\n",
    "             title='Comparative sentimental analysis by topic',template='plotly_white',width=1000, height=600)\n",
    "fig.show()"
   ]
  }
 ],
 "metadata": {
  "kernelspec": {
   "display_name": "Python 3 (ipykernel)",
   "language": "python",
   "name": "python3"
  },
  "language_info": {
   "codemirror_mode": {
    "name": "ipython",
    "version": 3
   },
   "file_extension": ".py",
   "mimetype": "text/x-python",
   "name": "python",
   "nbconvert_exporter": "python",
   "pygments_lexer": "ipython3",
   "version": "3.9.13"
  }
 },
 "nbformat": 4,
 "nbformat_minor": 5
}
