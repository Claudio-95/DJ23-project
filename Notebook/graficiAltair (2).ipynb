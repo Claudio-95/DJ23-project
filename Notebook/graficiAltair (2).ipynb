{
 "cells": [
  {
   "cell_type": "markdown",
   "id": "8eb47a3e",
   "metadata": {},
   "source": [
    "<h1>Notebook di prova per Altair</h1>"
   ]
  },
  {
   "cell_type": "markdown",
   "id": "3618dce9",
   "metadata": {},
   "source": [
    "<h2>Caricamento delle librerie e il dataset</h2>"
   ]
  },
  {
   "cell_type": "code",
   "execution_count": 1,
   "id": "9abb957a",
   "metadata": {},
   "outputs": [],
   "source": [
    "#!pip install vega"
   ]
  },
  {
   "cell_type": "markdown",
   "id": "0cb4aa8d",
   "metadata": {},
   "source": [
    "<p>Import delle librerie necessarie</p>"
   ]
  },
  {
   "cell_type": "code",
   "execution_count": 3,
   "id": "09cc4a0a",
   "metadata": {},
   "outputs": [],
   "source": [
    "import pandas as pd\n",
    "import altair as alt\n",
    "import altair_viewer as av\n",
    "from altair import datum\n",
    "import re\n",
    "import string\n",
    "from nltk.corpus import stopwords\n",
    "from nltk import FreqDist\n",
    "from nltk.tokenize import word_tokenize"
   ]
  },
  {
   "cell_type": "code",
   "execution_count": 4,
   "id": "62a35a45",
   "metadata": {},
   "outputs": [
    {
     "data": {
      "text/plain": [
       "'5.0.1'"
      ]
     },
     "execution_count": 4,
     "metadata": {},
     "output_type": "execute_result"
    }
   ],
   "source": [
    "alt.__version__"
   ]
  },
  {
   "cell_type": "markdown",
   "id": "9fd7e004",
   "metadata": {},
   "source": [
    "<p>carico il dataset</p>"
   ]
  },
  {
   "cell_type": "code",
   "execution_count": 5,
   "id": "a337dc7d",
   "metadata": {},
   "outputs": [],
   "source": [
    "df = pd.read_csv('datasetForAltair-eng.csv', index_col=0, low_memory=False)"
   ]
  },
  {
   "cell_type": "code",
   "execution_count": 6,
   "id": "833890af",
   "metadata": {},
   "outputs": [
    {
     "data": {
      "text/html": [
       "<div>\n",
       "<style scoped>\n",
       "    .dataframe tbody tr th:only-of-type {\n",
       "        vertical-align: middle;\n",
       "    }\n",
       "\n",
       "    .dataframe tbody tr th {\n",
       "        vertical-align: top;\n",
       "    }\n",
       "\n",
       "    .dataframe thead th {\n",
       "        text-align: right;\n",
       "    }\n",
       "</style>\n",
       "<table border=\"1\" class=\"dataframe\">\n",
       "  <thead>\n",
       "    <tr style=\"text-align: right;\">\n",
       "      <th></th>\n",
       "      <th>user</th>\n",
       "      <th>date</th>\n",
       "      <th>likeCount</th>\n",
       "      <th>tweetText</th>\n",
       "      <th>hashtags</th>\n",
       "      <th>lang</th>\n",
       "      <th>replies</th>\n",
       "      <th>retweetCount</th>\n",
       "      <th>replyCount</th>\n",
       "      <th>Year</th>\n",
       "      <th>Month</th>\n",
       "      <th>Day</th>\n",
       "      <th>WeekDay</th>\n",
       "      <th>hour</th>\n",
       "      <th>minutes</th>\n",
       "      <th>dayofYear</th>\n",
       "      <th>date_only</th>\n",
       "      <th>tweetText_proc</th>\n",
       "      <th>Sentiment</th>\n",
       "    </tr>\n",
       "  </thead>\n",
       "  <tbody>\n",
       "    <tr>\n",
       "      <th>0</th>\n",
       "      <td>jdemay</td>\n",
       "      <td>2023-02-05 23:59:16+00:00</td>\n",
       "      <td>0</td>\n",
       "      <td>Planning to use #ChatGPT to help you with high...</td>\n",
       "      <td>['ChatGPT']</td>\n",
       "      <td>en</td>\n",
       "      <td>0.0</td>\n",
       "      <td>0.0</td>\n",
       "      <td>NaN</td>\n",
       "      <td>2023</td>\n",
       "      <td>2</td>\n",
       "      <td>5</td>\n",
       "      <td>Sunday</td>\n",
       "      <td>23</td>\n",
       "      <td>59</td>\n",
       "      <td>36</td>\n",
       "      <td>2023-02-05</td>\n",
       "      <td>planning use help high school math ? maybe thi...</td>\n",
       "      <td>pos</td>\n",
       "    </tr>\n",
       "    <tr>\n",
       "      <th>1</th>\n",
       "      <td>CarlosSilvaB81</td>\n",
       "      <td>2023-02-05 23:58:51+00:00</td>\n",
       "      <td>3</td>\n",
       "      <td>@Carmtans @stkirsch Chat gpt, is nothing but a...</td>\n",
       "      <td>NaN</td>\n",
       "      <td>en</td>\n",
       "      <td>0.0</td>\n",
       "      <td>0.0</td>\n",
       "      <td>NaN</td>\n",
       "      <td>2023</td>\n",
       "      <td>2</td>\n",
       "      <td>5</td>\n",
       "      <td>Sunday</td>\n",
       "      <td>23</td>\n",
       "      <td>58</td>\n",
       "      <td>36</td>\n",
       "      <td>2023-02-05</td>\n",
       "      <td>chat gpt , nothing super search engine , progr...</td>\n",
       "      <td>neg</td>\n",
       "    </tr>\n",
       "    <tr>\n",
       "      <th>2</th>\n",
       "      <td>saadnajeebsaad</td>\n",
       "      <td>2023-02-05 23:58:15+00:00</td>\n",
       "      <td>0</td>\n",
       "      <td>#WeatherUpdate #Karachi #Khi #TempUpdate #Sunr...</td>\n",
       "      <td>['WeatherUpdate', 'Karachi', 'Khi', 'TempUpdat...</td>\n",
       "      <td>en</td>\n",
       "      <td>0.0</td>\n",
       "      <td>0.0</td>\n",
       "      <td>NaN</td>\n",
       "      <td>2023</td>\n",
       "      <td>2</td>\n",
       "      <td>5</td>\n",
       "      <td>Sunday</td>\n",
       "      <td>23</td>\n",
       "      <td>58</td>\n",
       "      <td>36</td>\n",
       "      <td>2023-02-05</td>\n",
       "      <td>sunrise : 07:12 sunset : 06:19 pm current temp...</td>\n",
       "      <td>neu</td>\n",
       "    </tr>\n",
       "  </tbody>\n",
       "</table>\n",
       "</div>"
      ],
      "text/plain": [
       "             user                       date  likeCount  \\\n",
       "0          jdemay  2023-02-05 23:59:16+00:00          0   \n",
       "1  CarlosSilvaB81  2023-02-05 23:58:51+00:00          3   \n",
       "2  saadnajeebsaad  2023-02-05 23:58:15+00:00          0   \n",
       "\n",
       "                                           tweetText  \\\n",
       "0  Planning to use #ChatGPT to help you with high...   \n",
       "1  @Carmtans @stkirsch Chat gpt, is nothing but a...   \n",
       "2  #WeatherUpdate #Karachi #Khi #TempUpdate #Sunr...   \n",
       "\n",
       "                                            hashtags lang  replies  \\\n",
       "0                                        ['ChatGPT']   en      0.0   \n",
       "1                                                NaN   en      0.0   \n",
       "2  ['WeatherUpdate', 'Karachi', 'Khi', 'TempUpdat...   en      0.0   \n",
       "\n",
       "   retweetCount  replyCount  Year  Month  Day WeekDay  hour  minutes  \\\n",
       "0           0.0         NaN  2023      2    5  Sunday    23       59   \n",
       "1           0.0         NaN  2023      2    5  Sunday    23       58   \n",
       "2           0.0         NaN  2023      2    5  Sunday    23       58   \n",
       "\n",
       "   dayofYear   date_only                                     tweetText_proc  \\\n",
       "0         36  2023-02-05  planning use help high school math ? maybe thi...   \n",
       "1         36  2023-02-05  chat gpt , nothing super search engine , progr...   \n",
       "2         36  2023-02-05  sunrise : 07:12 sunset : 06:19 pm current temp...   \n",
       "\n",
       "  Sentiment  \n",
       "0       pos  \n",
       "1       neg  \n",
       "2       neu  "
      ]
     },
     "execution_count": 6,
     "metadata": {},
     "output_type": "execute_result"
    }
   ],
   "source": [
    "df.head(3)"
   ]
  },
  {
   "cell_type": "markdown",
   "id": "45e40f57",
   "metadata": {},
   "source": [
    "<p>stampo info relative al dataset corrente</p>"
   ]
  },
  {
   "cell_type": "code",
   "execution_count": 7,
   "id": "5017b41d",
   "metadata": {},
   "outputs": [
    {
     "name": "stdout",
     "output_type": "stream",
     "text": [
      "<class 'pandas.core.frame.DataFrame'>\n",
      "Int64Index: 287309 entries, 0 to 287308\n",
      "Data columns (total 19 columns):\n",
      " #   Column          Non-Null Count   Dtype  \n",
      "---  ------          --------------   -----  \n",
      " 0   user            280601 non-null  object \n",
      " 1   date            287309 non-null  object \n",
      " 2   likeCount       287309 non-null  int64  \n",
      " 3   tweetText       287309 non-null  object \n",
      " 4   hashtags        177869 non-null  object \n",
      " 5   lang            287309 non-null  object \n",
      " 6   replies         281713 non-null  float64\n",
      " 7   retweetCount    287202 non-null  float64\n",
      " 8   replyCount      5596 non-null    float64\n",
      " 9   Year            287309 non-null  int64  \n",
      " 10  Month           287309 non-null  int64  \n",
      " 11  Day             287309 non-null  int64  \n",
      " 12  WeekDay         287309 non-null  object \n",
      " 13  hour            287309 non-null  int64  \n",
      " 14  minutes         287309 non-null  int64  \n",
      " 15  dayofYear       287309 non-null  int64  \n",
      " 16  date_only       287309 non-null  object \n",
      " 17  tweetText_proc  287151 non-null  object \n",
      " 18  Sentiment       287309 non-null  object \n",
      "dtypes: float64(3), int64(7), object(9)\n",
      "memory usage: 43.8+ MB\n"
     ]
    }
   ],
   "source": [
    "df.info()"
   ]
  },
  {
   "cell_type": "markdown",
   "id": "4a7906fc",
   "metadata": {},
   "source": [
    "<h2>Processing dei dati testuali</h2>"
   ]
  },
  {
   "cell_type": "code",
   "execution_count": 8,
   "id": "75c0106a",
   "metadata": {},
   "outputs": [],
   "source": [
    "def pre_process(text):\n",
    "    if isinstance(text, str):\n",
    "        # Remove links\n",
    "        text = re.sub(r'http\\S+', '', text)\n",
    "\n",
    "        # Remove mentions and hashtags\n",
    "        text = re.sub(r'@\\w+|#\\w+', '', text)\n",
    "\n",
    "        # Remove punctuation marks\n",
    "        text = text.translate(str.maketrans('', '', string.punctuation))\n",
    "\n",
    "        # Tokenize the text\n",
    "        tokens = word_tokenize(text)\n",
    "\n",
    "        # Remove stopwords\n",
    "        stop_words = set(stopwords.words('english'))\n",
    "        tokens = [word for word in tokens if word.lower() not in stop_words]\n",
    "\n",
    "        # Remove empty and short words\n",
    "        tokens = [word for word in tokens if len(word) > 2]\n",
    "\n",
    "        # Join the tokens back into a single string\n",
    "        cleaned_text = ' '.join(tokens)\n",
    "\n",
    "        return cleaned_text\n",
    "    else:\n",
    "        return ''"
   ]
  },
  {
   "cell_type": "code",
   "execution_count": 9,
   "id": "6c1b2249",
   "metadata": {},
   "outputs": [],
   "source": [
    "#applico la pulizia del testo\n",
    "df['tweetText_proc'] = df['tweetText_proc'].apply(pre_process)"
   ]
  },
  {
   "cell_type": "code",
   "execution_count": 12,
   "id": "36215b3d",
   "metadata": {},
   "outputs": [
    {
     "data": {
      "text/plain": [
       "pos    142430\n",
       "neu     95570\n",
       "neg     49309\n",
       "Name: Sentiment, dtype: int64"
      ]
     },
     "execution_count": 12,
     "metadata": {},
     "output_type": "execute_result"
    }
   ],
   "source": [
    "df['Sentiment'].value_counts()"
   ]
  },
  {
   "cell_type": "code",
   "execution_count": 13,
   "id": "11f5a710",
   "metadata": {},
   "outputs": [],
   "source": [
    "sentiment_mapping = {'pos': 'Positivo', 'neu': 'Neutrale', 'neg': 'Negativo'}\n",
    "\n",
    "df['sentiment_complete'] = df['Sentiment'].map(sentiment_mapping)"
   ]
  },
  {
   "cell_type": "code",
   "execution_count": 14,
   "id": "5edee58c",
   "metadata": {},
   "outputs": [
    {
     "data": {
      "text/plain": [
       "Positivo    142430\n",
       "Neutrale     95570\n",
       "Negativo     49309\n",
       "Name: sentiment_complete, dtype: int64"
      ]
     },
     "execution_count": 14,
     "metadata": {},
     "output_type": "execute_result"
    }
   ],
   "source": [
    "df['sentiment_complete'].value_counts()"
   ]
  },
  {
   "cell_type": "markdown",
   "id": "4dcb6bd6",
   "metadata": {},
   "source": [
    "<h2>Analisi del sentimento attraverso i mesi nei commenti di twitter</h2>"
   ]
  },
  {
   "cell_type": "code",
   "execution_count": 26,
   "id": "725ddd11",
   "metadata": {},
   "outputs": [
    {
     "name": "stderr",
     "output_type": "stream",
     "text": [
      "C:\\Users\\utente\\AppData\\Local\\Temp\\ipykernel_4004\\394437616.py:5: UserWarning: Converting to PeriodArray/Index representation will drop timezone information.\n",
      "  df_grouped = df.groupby([df['date'].dt.to_period('M'), 'sentiment_complete']).size().unstack()\n"
     ]
    },
    {
     "data": {
      "text/html": [
       "\n",
       "<style>\n",
       "  #altair-viz-e1e26333b3cd441d9756d309a1df28cf.vega-embed {\n",
       "    width: 100%;\n",
       "    display: flex;\n",
       "  }\n",
       "\n",
       "  #altair-viz-e1e26333b3cd441d9756d309a1df28cf.vega-embed details,\n",
       "  #altair-viz-e1e26333b3cd441d9756d309a1df28cf.vega-embed details summary {\n",
       "    position: relative;\n",
       "  }\n",
       "</style>\n",
       "<div id=\"altair-viz-e1e26333b3cd441d9756d309a1df28cf\"></div>\n",
       "<script type=\"text/javascript\">\n",
       "  var VEGA_DEBUG = (typeof VEGA_DEBUG == \"undefined\") ? {} : VEGA_DEBUG;\n",
       "  (function(spec, embedOpt){\n",
       "    let outputDiv = document.currentScript.previousElementSibling;\n",
       "    if (outputDiv.id !== \"altair-viz-e1e26333b3cd441d9756d309a1df28cf\") {\n",
       "      outputDiv = document.getElementById(\"altair-viz-e1e26333b3cd441d9756d309a1df28cf\");\n",
       "    }\n",
       "    const paths = {\n",
       "      \"vega\": \"https://cdn.jsdelivr.net/npm/vega@5?noext\",\n",
       "      \"vega-lib\": \"https://cdn.jsdelivr.net/npm/vega-lib?noext\",\n",
       "      \"vega-lite\": \"https://cdn.jsdelivr.net/npm/vega-lite@5.8.0?noext\",\n",
       "      \"vega-embed\": \"https://cdn.jsdelivr.net/npm/vega-embed@6?noext\",\n",
       "    };\n",
       "\n",
       "    function maybeLoadScript(lib, version) {\n",
       "      var key = `${lib.replace(\"-\", \"\")}_version`;\n",
       "      return (VEGA_DEBUG[key] == version) ?\n",
       "        Promise.resolve(paths[lib]) :\n",
       "        new Promise(function(resolve, reject) {\n",
       "          var s = document.createElement('script');\n",
       "          document.getElementsByTagName(\"head\")[0].appendChild(s);\n",
       "          s.async = true;\n",
       "          s.onload = () => {\n",
       "            VEGA_DEBUG[key] = version;\n",
       "            return resolve(paths[lib]);\n",
       "          };\n",
       "          s.onerror = () => reject(`Error loading script: ${paths[lib]}`);\n",
       "          s.src = paths[lib];\n",
       "        });\n",
       "    }\n",
       "\n",
       "    function showError(err) {\n",
       "      outputDiv.innerHTML = `<div class=\"error\" style=\"color:red;\">${err}</div>`;\n",
       "      throw err;\n",
       "    }\n",
       "\n",
       "    function displayChart(vegaEmbed) {\n",
       "      vegaEmbed(outputDiv, spec, embedOpt)\n",
       "        .catch(err => showError(`Javascript Error: ${err.message}<br>This usually means there's a typo in your chart specification. See the javascript console for the full traceback.`));\n",
       "    }\n",
       "\n",
       "    if(typeof define === \"function\" && define.amd) {\n",
       "      requirejs.config({paths});\n",
       "      require([\"vega-embed\"], displayChart, err => showError(`Error loading script: ${err.message}`));\n",
       "    } else {\n",
       "      maybeLoadScript(\"vega\", \"5\")\n",
       "        .then(() => maybeLoadScript(\"vega-lite\", \"5.8.0\"))\n",
       "        .then(() => maybeLoadScript(\"vega-embed\", \"6\"))\n",
       "        .catch(showError)\n",
       "        .then(() => displayChart(vegaEmbed));\n",
       "    }\n",
       "  })({\"config\": {\"view\": {\"continuousWidth\": 300, \"continuousHeight\": 300}, \"axis\": {\"grid\": false}, \"legend\": {\"orient\": \"top\"}}, \"data\": {\"name\": \"data-f5aa40d221b8f095fd9ec2a8cf953d4d\"}, \"mark\": {\"type\": \"line\", \"opacity\": 0.1}, \"encoding\": {\"color\": {\"field\": \"sentiment_complete\", \"legend\": {\"orient\": \"right\"}, \"scale\": {\"domain\": [\"Positivo\", \"Neutrale\", \"Negativo\"], \"range\": [\"#ADFC92\", \"#788BFF\", \"#F44E3F\"]}, \"title\": \"Sentimento registrato\", \"type\": \"nominal\"}, \"opacity\": {\"value\": 0.9}, \"x\": {\"axis\": {\"format\": \"%B %Y\", \"tickCount\": 12, \"title\": \"Periodo\"}, \"field\": \"date\", \"type\": \"temporal\"}, \"y\": {\"axis\": {\"title\": \"Numero di tweets\"}, \"field\": \"Value\", \"type\": \"quantitative\"}}, \"height\": 600, \"title\": {\"text\": \"Evoluzione del sentimento verso Chat GPT nell'arco dei mesi\", \"subtitle\": \"Visualizzazione dei valori relativi al dataset di Tweets\"}, \"width\": 800, \"$schema\": \"https://vega.github.io/schema/vega-lite/v5.8.0.json\", \"datasets\": {\"data-f5aa40d221b8f095fd9ec2a8cf953d4d\": [{\"date\": \"September 2022\", \"sentiment_complete\": \"Negativo\", \"Value\": 64}, {\"date\": \"October 2022\", \"sentiment_complete\": \"Negativo\", \"Value\": 103}, {\"date\": \"December 2022\", \"sentiment_complete\": \"Negativo\", \"Value\": 12890}, {\"date\": \"January 2023\", \"sentiment_complete\": \"Negativo\", \"Value\": 21900}, {\"date\": \"February 2023\", \"sentiment_complete\": \"Negativo\", \"Value\": 6205}, {\"date\": \"March 2023\", \"sentiment_complete\": \"Negativo\", \"Value\": 3109}, {\"date\": \"April 2023\", \"sentiment_complete\": \"Negativo\", \"Value\": 2138}, {\"date\": \"May 2023\", \"sentiment_complete\": \"Negativo\", \"Value\": 1901}, {\"date\": \"June 2023\", \"sentiment_complete\": \"Negativo\", \"Value\": 999}, {\"date\": \"September 2022\", \"sentiment_complete\": \"Neutrale\", \"Value\": 101}, {\"date\": \"October 2022\", \"sentiment_complete\": \"Neutrale\", \"Value\": 75}, {\"date\": \"December 2022\", \"sentiment_complete\": \"Neutrale\", \"Value\": 26609}, {\"date\": \"January 2023\", \"sentiment_complete\": \"Neutrale\", \"Value\": 44188}, {\"date\": \"February 2023\", \"sentiment_complete\": \"Neutrale\", \"Value\": 11888}, {\"date\": \"March 2023\", \"sentiment_complete\": \"Neutrale\", \"Value\": 4615}, {\"date\": \"April 2023\", \"sentiment_complete\": \"Neutrale\", \"Value\": 3418}, {\"date\": \"May 2023\", \"sentiment_complete\": \"Neutrale\", \"Value\": 3131}, {\"date\": \"June 2023\", \"sentiment_complete\": \"Neutrale\", \"Value\": 1545}, {\"date\": \"September 2022\", \"sentiment_complete\": \"Positivo\", \"Value\": 114}, {\"date\": \"October 2022\", \"sentiment_complete\": \"Positivo\", \"Value\": 104}, {\"date\": \"December 2022\", \"sentiment_complete\": \"Positivo\", \"Value\": 37278}, {\"date\": \"January 2023\", \"sentiment_complete\": \"Positivo\", \"Value\": 67973}, {\"date\": \"February 2023\", \"sentiment_complete\": \"Positivo\", \"Value\": 17068}, {\"date\": \"March 2023\", \"sentiment_complete\": \"Positivo\", \"Value\": 7458}, {\"date\": \"April 2023\", \"sentiment_complete\": \"Positivo\", \"Value\": 5070}, {\"date\": \"May 2023\", \"sentiment_complete\": \"Positivo\", \"Value\": 4859}, {\"date\": \"June 2023\", \"sentiment_complete\": \"Positivo\", \"Value\": 2506}]}}, {\"mode\": \"vega-lite\"});\n",
       "</script>"
      ],
      "text/plain": [
       "alt.Chart(...)"
      ]
     },
     "execution_count": 26,
     "metadata": {},
     "output_type": "execute_result"
    }
   ],
   "source": [
    "\n",
    "# Convert 'date' column to datetime\n",
    "df['date'] = pd.to_datetime(df['date'])\n",
    "\n",
    "# Group by month and sentiment\n",
    "df_grouped = df.groupby([df['date'].dt.to_period('M'), 'sentiment_complete']).size().unstack()\n",
    "\n",
    "# Convert index to string and extract month names\n",
    "df_grouped.index = df_grouped.index.strftime('%B %Y')\n",
    "\n",
    "# Reshape the dataframe for Altair\n",
    "df_grouped = df_grouped.reset_index().melt('date', var_name='sentiment_complete', value_name='Value')\n",
    "\n",
    "# Define color domain and range\n",
    "domain = ['Positivo', 'Neutrale', 'Negativo']\n",
    "range_ = ['#ADFC92', '#788BFF', '#F44E3F']\n",
    "\n",
    "# Create the Altair chart\n",
    "chart = alt.Chart(df_grouped, title=alt.Title(\n",
    "       \"Evoluzione del sentimento verso Chat GPT nell'arco dei mesi\",\n",
    "       subtitle=\"Visualizzazione dei valori relativi al dataset di Tweets\"\n",
    "   )).mark_line(opacity=0.1).encode(\n",
    "    x=alt.X('date:T', axis=alt.Axis(title='Periodo', format='%B %Y', tickCount=12)),\n",
    "    y=alt.Y('Value:Q', axis=alt.Axis(title='Numero di tweets')),\n",
    "    opacity=alt.value(0.9),\n",
    "    color=alt.Color('sentiment_complete',\n",
    "                    title=\"Sentimento registrato\",\n",
    "                    scale=alt.Scale(domain=domain, range=range_),\n",
    "                    legend=alt.Legend(orient=\"right\"))\n",
    ").configure_legend(\n",
    "    orient='top'\n",
    ").configure_axis(\n",
    "    grid=False\n",
    ").properties(\n",
    "    width=800,\n",
    "    height=600\n",
    ")\n",
    "chart\n",
    "#chart.save('charttest.html')"
   ]
  },
  {
   "cell_type": "code",
   "execution_count": 22,
   "id": "caf22ea5",
   "metadata": {},
   "outputs": [],
   "source": [
    "def extract_year(value):\n",
    "    return df[df['Year']==value]\n",
    "\n",
    "y22 = extract_year(2022)\n",
    "y23 = extract_year(2023)"
   ]
  },
  {
   "cell_type": "code",
   "execution_count": 23,
   "id": "39e807b8",
   "metadata": {},
   "outputs": [
    {
     "name": "stdout",
     "output_type": "stream",
     "text": [
      "dimensioni dataset 2022 (righe x colonne): (77338, 20)\n",
      "dimensioni dataset 2023 (righe x colonne): (209971, 20)\n"
     ]
    }
   ],
   "source": [
    "print (\"dimensioni dataset 2022 (righe x colonne): \"+ str(y22.shape))\n",
    "print (\"dimensioni dataset 2023 (righe x colonne): \"+ str(y23.shape))"
   ]
  },
  {
   "cell_type": "code",
   "execution_count": 24,
   "id": "490a9f63",
   "metadata": {},
   "outputs": [],
   "source": [
    "#prendo il dataset, cerco le frequenze delle parole per sentimento (=risultato: tre dataframe, uno per sentimento e relativi a un anno.)\n",
    "#creo un dataset con 2 colonne (uno per ogni sentimento), le colonne sono: word, frequency\n",
    "#creo una visualizzazione scatter plot con colore abbinato al sentimento corrente\n",
    "#mostro tutti i puntini usando un Alt che in descrizione riporta il valore label di word\n",
    "#mostro una legenda con le top 20 più frequenti"
   ]
  },
  {
   "cell_type": "code",
   "execution_count": 25,
   "id": "536a49f0",
   "metadata": {},
   "outputs": [],
   "source": [
    "#prendo il dataset, cerco le frequenze delle parole per sentimento.\n",
    "def words_finder(df, sentiment):\n",
    "    tokens = []\n",
    "    df = df[(df['Sentiment'] == sentiment)]\n",
    "    for row in df['tweetText_proc']:\n",
    "        tokens.extend(word_tokenize(str(row).lower()))  # Tokenization and lower conversion of the strings\n",
    "\n",
    "    word_freq = FreqDist(tokens)\n",
    "    sorted_freq = sorted(word_freq.items(), key=lambda x: x[1], reverse=True)\n",
    "    banned_w = ['chatgpt', 'ai', ' ai', 'ai ', 'gpt', 'openai', 'artificialintelligence', 'amp', 'https', '2022', '2023', 'also', 'still', 'could'] #words to filter out\n",
    "    sorted_freq = [(word, freq) for word, freq in sorted_freq if word not in banned_w]\n",
    "    return sorted_freq #frequencies sorted for the choosen sentiment\n",
    "\n",
    "def createDffreqs(sorted_freq): #ritorna un dataframe con una colonna contenente la parola ed una con la sua frequenza assoluta\n",
    "    freq_df = pd.DataFrame(sorted_freq, columns=['word', 'frequency'])\n",
    "    freq_df.sort_values(by='frequency', ascending=False, inplace=True)\n",
    "    return freq_df"
   ]
  },
  {
   "cell_type": "code",
   "execution_count": 27,
   "id": "45d6061a",
   "metadata": {},
   "outputs": [],
   "source": [
    "y22pos = createDffreqs(words_finder(y22, 'pos')) #dataframe commenti positivi del 2022\n",
    "top22pos = y22pos.head(30)"
   ]
  },
  {
   "cell_type": "code",
   "execution_count": 28,
   "id": "d7762faa",
   "metadata": {},
   "outputs": [],
   "source": [
    "y23pos = createDffreqs(words_finder(y23, 'pos')) #dataframe commenti positivi del 2023\n",
    "top23pos = y23pos.head(30)"
   ]
  },
  {
   "cell_type": "code",
   "execution_count": 29,
   "id": "e03ed940",
   "metadata": {},
   "outputs": [],
   "source": [
    "y22neg = createDffreqs(words_finder(y22, 'neg')) #dataframe commenti negativi del 2022\n",
    "top22neg = y22neg.head(30)"
   ]
  },
  {
   "cell_type": "code",
   "execution_count": 30,
   "id": "cd567162",
   "metadata": {},
   "outputs": [],
   "source": [
    "y23neg = createDffreqs(words_finder(y23, 'neg')) #dataframe commenti negativi del 2023\n",
    "top23neg = y23neg.head(30)"
   ]
  },
  {
   "cell_type": "code",
   "execution_count": 31,
   "id": "84036f67",
   "metadata": {},
   "outputs": [],
   "source": [
    "y22neu = createDffreqs(words_finder(y22, 'neu')) #dataframe commenti neutri del 2022\n",
    "top22neu = y22neu.head(30)"
   ]
  },
  {
   "cell_type": "code",
   "execution_count": 32,
   "id": "151994ad",
   "metadata": {},
   "outputs": [],
   "source": [
    "y23neu = createDffreqs(words_finder(y23, 'neu')) #dataframe di commenti neutri del 2023\n",
    "top23neu = y23neu.head(30)"
   ]
  },
  {
   "cell_type": "code",
   "execution_count": 33,
   "id": "49373a76",
   "metadata": {},
   "outputs": [],
   "source": [
    "# Concatenate the three DataFrames into a single DataFrame\n",
    "df22words = pd.concat([top22pos, top22neg, top22neu], keys=['Positive', 'Negative', 'Neutral'])\n",
    "options = ['Positive', 'Neutral', 'Negative']\n",
    "labels = [option + ' ' for option in options]\n",
    "\n",
    "# Define color domain and range\n",
    "domain = ['pos', 'neu', 'neg']\n",
    "range_ = ['#ADFC92', '#788BFF', '#F44E3F']\n",
    "\n",
    "input_dropdown = alt.binding_radio(\n",
    "    # Add the empty selection which shows all when clicked\n",
    "    options=options + [None],\n",
    "    labels=labels + ['All'],\n",
    "    name='Selettore sentimento 2022: '\n",
    ")\n",
    "\n",
    "selection = alt.selection_point(\n",
    "    fields=['Sentiment'],\n",
    "    bind=input_dropdown,\n",
    ")\n",
    "\n",
    "# Reset the index of the concatenated DataFrame\n",
    "df22words = df22words.reset_index(level=0).rename(columns={'level_0': 'Sentiment'})\n",
    "alt.data_transformers.disable_max_rows()\n",
    "scatter_plot_2022 = alt.Chart(df22words).mark_point(filled=True).encode(\n",
    "    alt.X('word',title=\"Parola\"),\n",
    "    alt.Y('frequency', title=\"Frequenza\").axis(labels=False),\n",
    "    alt.Size('frequency'),\n",
    "    alt.OpacityValue(0.7),\n",
    "    alt.Color('Sentiment', title=\"Sentimento registrato\").scale(domain=options, range=range_),\n",
    "    tooltip = [alt.Tooltip('word:N'),\n",
    "               alt.Tooltip('frequency:Q'),\n",
    "               alt.Tooltip('frequency:Q'),\n",
    "               #alt.Tooltip('Sentiment:Q')\n",
    "              ]\n",
    ").add_params(\n",
    "    selection\n",
    ").transform_filter(\n",
    "    selection\n",
    ").properties(\n",
    "    width=600,  # Set the width of the chart to your desired value\n",
    "    height=400,  # Set the height of the chart to your desired value\n",
    "    title='Sentiment sulle top 30 parole per categoria di sentimento: anno 2022'\n",
    ").interactive()\n",
    "#scatter_plot_2022\n",
    "#scatter_plot_2022.save('chart-wordsfrequency-2022.html')"
   ]
  },
  {
   "cell_type": "code",
   "execution_count": 34,
   "id": "4d22d5a8",
   "metadata": {},
   "outputs": [],
   "source": [
    "# Concatenate the three DataFrames into a single DataFrame\n",
    "df23words = pd.concat([top23pos, top23neg, top23neu], keys=['Positive', 'Negative', 'Neutral'])\n",
    "options = ['Positive', 'Neutral', 'Negative']\n",
    "labels = [option + ' ' for option in options]\n",
    "\n",
    "# Define color domain and range\n",
    "domain = ['pos', 'neu', 'neg']\n",
    "range_ = ['#ADFC92', '#788BFF', '#F44E3F']\n",
    "\n",
    "input_dropdown = alt.binding_radio(\n",
    "    # Add the empty selection which shows all when clicked\n",
    "    options=options + [None],\n",
    "    labels=labels + ['All'],\n",
    "    name='Selettore sentimento 2023: '\n",
    ")\n",
    "\n",
    "selection = alt.selection_point(\n",
    "    fields=['Sentiment'],\n",
    "    bind=input_dropdown,\n",
    ")\n",
    "\n",
    "# Reset the index of the concatenated DataFrame\n",
    "df23words = df23words.reset_index(level=0).rename(columns={'level_0': 'Sentiment'})\n",
    "alt.data_transformers.disable_max_rows()\n",
    "scatter_plot_2023 = alt.Chart(df23words).mark_point(filled=True).encode(\n",
    "    alt.X('word', title=\"Parola\"),\n",
    "    alt.Y('frequency', title=\"Frequenza\").axis(labels=False),\n",
    "    alt.Size('frequency', title=\"Frequenza assoluta\"),\n",
    "    alt.OpacityValue(0.7),\n",
    "    alt.Color('Sentiment', title=\"Sentimento registrato\").scale(domain=options, range=range_),\n",
    "    tooltip = [alt.Tooltip('word:N', title=\"parola\"),\n",
    "               alt.Tooltip('frequency:Q', title=\"frequenza assoluta\")\n",
    "               #alt.Tooltip('Sentiment:Q')\n",
    "              ]\n",
    ").add_params(\n",
    "    selection\n",
    ").transform_filter(\n",
    "    selection\n",
    ").properties(\n",
    "    width=600,  # Set the width of the chart to your desired value\n",
    "    height=400,  # Set the height of the chart to your desired value\n",
    "    title='Sentiment sulle top 30 parole per categoria di sentimento: anno 2023'\n",
    ").interactive()\n",
    "#scatter_plot_2023\n",
    "#scatter_plot_2023.save('chart-wordsfrequency-2023.html')"
   ]
  },
  {
   "cell_type": "code",
   "execution_count": 35,
   "id": "cbac5aa3",
   "metadata": {},
   "outputs": [
    {
     "data": {
      "text/html": [
       "\n",
       "<style>\n",
       "  #altair-viz-402165f62e7244ce9186ccde4d2f082b.vega-embed {\n",
       "    width: 100%;\n",
       "    display: flex;\n",
       "  }\n",
       "\n",
       "  #altair-viz-402165f62e7244ce9186ccde4d2f082b.vega-embed details,\n",
       "  #altair-viz-402165f62e7244ce9186ccde4d2f082b.vega-embed details summary {\n",
       "    position: relative;\n",
       "  }\n",
       "</style>\n",
       "<div id=\"altair-viz-402165f62e7244ce9186ccde4d2f082b\"></div>\n",
       "<script type=\"text/javascript\">\n",
       "  var VEGA_DEBUG = (typeof VEGA_DEBUG == \"undefined\") ? {} : VEGA_DEBUG;\n",
       "  (function(spec, embedOpt){\n",
       "    let outputDiv = document.currentScript.previousElementSibling;\n",
       "    if (outputDiv.id !== \"altair-viz-402165f62e7244ce9186ccde4d2f082b\") {\n",
       "      outputDiv = document.getElementById(\"altair-viz-402165f62e7244ce9186ccde4d2f082b\");\n",
       "    }\n",
       "    const paths = {\n",
       "      \"vega\": \"https://cdn.jsdelivr.net/npm/vega@5?noext\",\n",
       "      \"vega-lib\": \"https://cdn.jsdelivr.net/npm/vega-lib?noext\",\n",
       "      \"vega-lite\": \"https://cdn.jsdelivr.net/npm/vega-lite@5.8.0?noext\",\n",
       "      \"vega-embed\": \"https://cdn.jsdelivr.net/npm/vega-embed@6?noext\",\n",
       "    };\n",
       "\n",
       "    function maybeLoadScript(lib, version) {\n",
       "      var key = `${lib.replace(\"-\", \"\")}_version`;\n",
       "      return (VEGA_DEBUG[key] == version) ?\n",
       "        Promise.resolve(paths[lib]) :\n",
       "        new Promise(function(resolve, reject) {\n",
       "          var s = document.createElement('script');\n",
       "          document.getElementsByTagName(\"head\")[0].appendChild(s);\n",
       "          s.async = true;\n",
       "          s.onload = () => {\n",
       "            VEGA_DEBUG[key] = version;\n",
       "            return resolve(paths[lib]);\n",
       "          };\n",
       "          s.onerror = () => reject(`Error loading script: ${paths[lib]}`);\n",
       "          s.src = paths[lib];\n",
       "        });\n",
       "    }\n",
       "\n",
       "    function showError(err) {\n",
       "      outputDiv.innerHTML = `<div class=\"error\" style=\"color:red;\">${err}</div>`;\n",
       "      throw err;\n",
       "    }\n",
       "\n",
       "    function displayChart(vegaEmbed) {\n",
       "      vegaEmbed(outputDiv, spec, embedOpt)\n",
       "        .catch(err => showError(`Javascript Error: ${err.message}<br>This usually means there's a typo in your chart specification. See the javascript console for the full traceback.`));\n",
       "    }\n",
       "\n",
       "    if(typeof define === \"function\" && define.amd) {\n",
       "      requirejs.config({paths});\n",
       "      require([\"vega-embed\"], displayChart, err => showError(`Error loading script: ${err.message}`));\n",
       "    } else {\n",
       "      maybeLoadScript(\"vega\", \"5\")\n",
       "        .then(() => maybeLoadScript(\"vega-lite\", \"5.8.0\"))\n",
       "        .then(() => maybeLoadScript(\"vega-embed\", \"6\"))\n",
       "        .catch(showError)\n",
       "        .then(() => displayChart(vegaEmbed));\n",
       "    }\n",
       "  })({\"config\": {\"view\": {\"continuousWidth\": 300, \"continuousHeight\": 300}, \"axisX\": {\"labelAlign\": \"left\", \"labelAngle\": 45, \"labelPadding\": 15}}, \"hconcat\": [{\"data\": {\"name\": \"data-311dffb178b517b0b4bfda02d0ada4da\"}, \"mark\": {\"type\": \"point\", \"filled\": true}, \"encoding\": {\"color\": {\"field\": \"Sentiment\", \"scale\": {\"domain\": [\"Positive\", \"Neutral\", \"Negative\"], \"range\": [\"#ADFC92\", \"#788BFF\", \"#F44E3F\"]}, \"title\": \"Sentimento registrato\", \"type\": \"nominal\"}, \"opacity\": {\"value\": 0.7}, \"size\": {\"field\": \"frequency\", \"type\": \"quantitative\"}, \"tooltip\": [{\"field\": \"word\", \"type\": \"nominal\"}, {\"field\": \"frequency\", \"type\": \"quantitative\"}, {\"field\": \"frequency\", \"type\": \"quantitative\"}], \"x\": {\"field\": \"word\", \"title\": \"Parola\", \"type\": \"nominal\"}, \"y\": {\"axis\": {\"labels\": false}, \"field\": \"frequency\", \"title\": \"Frequenza\", \"type\": \"quantitative\"}}, \"height\": 400, \"name\": \"view_1\", \"title\": \"Sentiment sulle top 30 parole per categoria di sentimento: anno 2022\", \"transform\": [{\"filter\": {\"param\": \"param_1\"}}], \"width\": 600}, {\"data\": {\"name\": \"data-610617640abbcb60d3c9b15bc576aea8\"}, \"mark\": {\"type\": \"point\", \"filled\": true}, \"encoding\": {\"color\": {\"field\": \"Sentiment\", \"scale\": {\"domain\": [\"Positive\", \"Neutral\", \"Negative\"], \"range\": [\"#ADFC92\", \"#788BFF\", \"#F44E3F\"]}, \"title\": \"Sentimento registrato\", \"type\": \"nominal\"}, \"opacity\": {\"value\": 0.7}, \"size\": {\"field\": \"frequency\", \"title\": \"Frequenza assoluta\", \"type\": \"quantitative\"}, \"tooltip\": [{\"field\": \"word\", \"title\": \"parola\", \"type\": \"nominal\"}, {\"field\": \"frequency\", \"title\": \"frequenza assoluta\", \"type\": \"quantitative\"}], \"x\": {\"field\": \"word\", \"title\": \"Parola\", \"type\": \"nominal\"}, \"y\": {\"axis\": {\"labels\": false}, \"field\": \"frequency\", \"title\": \"Frequenza\", \"type\": \"quantitative\"}}, \"height\": 400, \"name\": \"view_2\", \"title\": \"Sentiment sulle top 30 parole per categoria di sentimento: anno 2023\", \"transform\": [{\"filter\": {\"param\": \"param_3\"}}], \"width\": 600}], \"params\": [{\"name\": \"param_1\", \"select\": {\"type\": \"point\", \"fields\": [\"Sentiment\"]}, \"bind\": {\"input\": \"radio\", \"options\": [\"Positive\", \"Neutral\", \"Negative\", null], \"labels\": [\"Positive \", \"Neutral \", \"Negative \", \"All\"], \"name\": \"Selettore sentimento 2022: \"}, \"views\": [\"view_1\"]}, {\"name\": \"param_2\", \"select\": {\"type\": \"interval\", \"encodings\": [\"x\", \"y\"]}, \"bind\": \"scales\", \"views\": [\"view_1\"]}, {\"name\": \"param_3\", \"select\": {\"type\": \"point\", \"fields\": [\"Sentiment\"]}, \"bind\": {\"input\": \"radio\", \"options\": [\"Positive\", \"Neutral\", \"Negative\", null], \"labels\": [\"Positive \", \"Neutral \", \"Negative \", \"All\"], \"name\": \"Selettore sentimento 2023: \"}, \"views\": [\"view_2\"]}, {\"name\": \"param_4\", \"select\": {\"type\": \"interval\", \"encodings\": [\"x\", \"y\"]}, \"bind\": \"scales\", \"views\": [\"view_2\"]}], \"resolve\": {\"scale\": {\"y\": \"independent\"}}, \"$schema\": \"https://vega.github.io/schema/vega-lite/v5.8.0.json\", \"datasets\": {\"data-311dffb178b517b0b4bfda02d0ada4da\": [{\"Sentiment\": \"Positive\", \"word\": \"like\", \"frequency\": 5812}, {\"Sentiment\": \"Positive\", \"word\": \"use\", \"frequency\": 3291}, {\"Sentiment\": \"Positive\", \"word\": \"chat\", \"frequency\": 3043}, {\"Sentiment\": \"Positive\", \"word\": \"google\", \"frequency\": 2786}, {\"Sentiment\": \"Positive\", \"word\": \"good\", \"frequency\": 2561}, {\"Sentiment\": \"Positive\", \"word\": \"using\", \"frequency\": 2547}, {\"Sentiment\": \"Positive\", \"word\": \"write\", \"frequency\": 2379}, {\"Sentiment\": \"Positive\", \"word\": \"new\", \"frequency\": 2286}, {\"Sentiment\": \"Positive\", \"word\": \"would\", \"frequency\": 2070}, {\"Sentiment\": \"Positive\", \"word\": \"asked\", \"frequency\": 1966}, {\"Sentiment\": \"Positive\", \"word\": \"one\", \"frequency\": 1903}, {\"Sentiment\": \"Positive\", \"word\": \"better\", \"frequency\": 1903}, {\"Sentiment\": \"Positive\", \"word\": \"get\", \"frequency\": 1877}, {\"Sentiment\": \"Positive\", \"word\": \"think\", \"frequency\": 1826}, {\"Sentiment\": \"Positive\", \"word\": \"make\", \"frequency\": 1815}, {\"Sentiment\": \"Positive\", \"word\": \"time\", \"frequency\": 1784}, {\"Sentiment\": \"Positive\", \"word\": \"code\", \"frequency\": 1775}, {\"Sentiment\": \"Positive\", \"word\": \"help\", \"frequency\": 1756}, {\"Sentiment\": \"Positive\", \"word\": \"see\", \"frequency\": 1717}, {\"Sentiment\": \"Positive\", \"word\": \"people\", \"frequency\": 1640}, {\"Sentiment\": \"Positive\", \"word\": \"know\", \"frequency\": 1471}, {\"Sentiment\": \"Positive\", \"word\": \"search\", \"frequency\": 1467}, {\"Sentiment\": \"Positive\", \"word\": \"way\", \"frequency\": 1454}, {\"Sentiment\": \"Positive\", \"word\": \"ask\", \"frequency\": 1395}, {\"Sentiment\": \"Positive\", \"word\": \"create\", \"frequency\": 1382}, {\"Sentiment\": \"Positive\", \"word\": \"great\", \"frequency\": 1373}, {\"Sentiment\": \"Positive\", \"word\": \"content\", \"frequency\": 1369}, {\"Sentiment\": \"Positive\", \"word\": \"used\", \"frequency\": 1351}, {\"Sentiment\": \"Positive\", \"word\": \"even\", \"frequency\": 1335}, {\"Sentiment\": \"Positive\", \"word\": \"writing\", \"frequency\": 1231}, {\"Sentiment\": \"Negative\", \"word\": \"google\", \"frequency\": 1384}, {\"Sentiment\": \"Negative\", \"word\": \"chat\", \"frequency\": 982}, {\"Sentiment\": \"Negative\", \"word\": \"like\", \"frequency\": 833}, {\"Sentiment\": \"Negative\", \"word\": \"use\", \"frequency\": 792}, {\"Sentiment\": \"Negative\", \"word\": \"write\", \"frequency\": 736}, {\"Sentiment\": \"Negative\", \"word\": \"people\", \"frequency\": 732}, {\"Sentiment\": \"Negative\", \"word\": \"would\", \"frequency\": 728}, {\"Sentiment\": \"Negative\", \"word\": \"using\", \"frequency\": 700}, {\"Sentiment\": \"Negative\", \"word\": \"asked\", \"frequency\": 652}, {\"Sentiment\": \"Negative\", \"word\": \"get\", \"frequency\": 645}, {\"Sentiment\": \"Negative\", \"word\": \"wrong\", \"frequency\": 644}, {\"Sentiment\": \"Negative\", \"word\": \"one\", \"frequency\": 642}, {\"Sentiment\": \"Negative\", \"word\": \"search\", \"frequency\": 634}, {\"Sentiment\": \"Negative\", \"word\": \"time\", \"frequency\": 619}, {\"Sentiment\": \"Negative\", \"word\": \"think\", \"frequency\": 617}, {\"Sentiment\": \"Negative\", \"word\": \"code\", \"frequency\": 590}, {\"Sentiment\": \"Negative\", \"word\": \"even\", \"frequency\": 552}, {\"Sentiment\": \"Negative\", \"word\": \"make\", \"frequency\": 547}, {\"Sentiment\": \"Negative\", \"word\": \"know\", \"frequency\": 519}, {\"Sentiment\": \"Negative\", \"word\": \"new\", \"frequency\": 496}, {\"Sentiment\": \"Negative\", \"word\": \"answer\", \"frequency\": 478}, {\"Sentiment\": \"Negative\", \"word\": \"ask\", \"frequency\": 453}, {\"Sentiment\": \"Negative\", \"word\": \"see\", \"frequency\": 432}, {\"Sentiment\": \"Negative\", \"word\": \"going\", \"frequency\": 398}, {\"Sentiment\": \"Negative\", \"word\": \"via\", \"frequency\": 396}, {\"Sentiment\": \"Negative\", \"word\": \"really\", \"frequency\": 378}, {\"Sentiment\": \"Negative\", \"word\": \"problem\", \"frequency\": 378}, {\"Sentiment\": \"Negative\", \"word\": \"answers\", \"frequency\": 374}, {\"Sentiment\": \"Negative\", \"word\": \"bad\", \"frequency\": 373}, {\"Sentiment\": \"Negative\", \"word\": \"way\", \"frequency\": 361}, {\"Sentiment\": \"Neutral\", \"word\": \"chat\", \"frequency\": 3485}, {\"Sentiment\": \"Neutral\", \"word\": \"google\", \"frequency\": 1441}, {\"Sentiment\": \"Neutral\", \"word\": \"use\", \"frequency\": 1312}, {\"Sentiment\": \"Neutral\", \"word\": \"using\", \"frequency\": 1259}, {\"Sentiment\": \"Neutral\", \"word\": \"write\", \"frequency\": 1138}, {\"Sentiment\": \"Neutral\", \"word\": \"via\", \"frequency\": 1021}, {\"Sentiment\": \"Neutral\", \"word\": \"search\", \"frequency\": 950}, {\"Sentiment\": \"Neutral\", \"word\": \"ask\", \"frequency\": 939}, {\"Sentiment\": \"Neutral\", \"word\": \"asked\", \"frequency\": 884}, {\"Sentiment\": \"Neutral\", \"word\": \"new\", \"frequency\": 822}, {\"Sentiment\": \"Neutral\", \"word\": \"code\", \"frequency\": 783}, {\"Sentiment\": \"Neutral\", \"word\": \"know\", \"frequency\": 632}, {\"Sentiment\": \"Neutral\", \"word\": \"make\", \"frequency\": 585}, {\"Sentiment\": \"Neutral\", \"word\": \"think\", \"frequency\": 579}, {\"Sentiment\": \"Neutral\", \"word\": \"need\", \"frequency\": 518}, {\"Sentiment\": \"Neutral\", \"word\": \"used\", \"frequency\": 505}, {\"Sentiment\": \"Neutral\", \"word\": \"get\", \"frequency\": 491}, {\"Sentiment\": \"Neutral\", \"word\": \"one\", \"frequency\": 463}, {\"Sentiment\": \"Neutral\", \"word\": \"future\", \"frequency\": 448}, {\"Sentiment\": \"Neutral\", \"word\": \"see\", \"frequency\": 409}, {\"Sentiment\": \"Neutral\", \"word\": \"answer\", \"frequency\": 401}, {\"Sentiment\": \"Neutral\", \"word\": \"seo\", \"frequency\": 385}, {\"Sentiment\": \"Neutral\", \"word\": \"time\", \"frequency\": 381}, {\"Sentiment\": \"Neutral\", \"word\": \"would\", \"frequency\": 376}, {\"Sentiment\": \"Neutral\", \"word\": \"content\", \"frequency\": 368}, {\"Sentiment\": \"Neutral\", \"word\": \"replace\", \"frequency\": 368}, {\"Sentiment\": \"Neutral\", \"word\": \"red\", \"frequency\": 353}, {\"Sentiment\": \"Neutral\", \"word\": \"going\", \"frequency\": 341}, {\"Sentiment\": \"Neutral\", \"word\": \"chatbot\", \"frequency\": 337}, {\"Sentiment\": \"Neutral\", \"word\": \"twitter\", \"frequency\": 335}], \"data-610617640abbcb60d3c9b15bc576aea8\": [{\"Sentiment\": \"Positive\", \"word\": \"chat\", \"frequency\": 21685}, {\"Sentiment\": \"Positive\", \"word\": \"like\", \"frequency\": 13438}, {\"Sentiment\": \"Positive\", \"word\": \"use\", \"frequency\": 9243}, {\"Sentiment\": \"Positive\", \"word\": \"new\", \"frequency\": 6758}, {\"Sentiment\": \"Positive\", \"word\": \"using\", \"frequency\": 6618}, {\"Sentiment\": \"Positive\", \"word\": \"help\", \"frequency\": 5553}, {\"Sentiment\": \"Positive\", \"word\": \"get\", \"frequency\": 5379}, {\"Sentiment\": \"Positive\", \"word\": \"write\", \"frequency\": 5308}, {\"Sentiment\": \"Positive\", \"word\": \"good\", \"frequency\": 4886}, {\"Sentiment\": \"Positive\", \"word\": \"make\", \"frequency\": 4784}, {\"Sentiment\": \"Positive\", \"word\": \"time\", \"frequency\": 4753}, {\"Sentiment\": \"Positive\", \"word\": \"one\", \"frequency\": 4675}, {\"Sentiment\": \"Positive\", \"word\": \"content\", \"frequency\": 4482}, {\"Sentiment\": \"Positive\", \"word\": \"asked\", \"frequency\": 4396}, {\"Sentiment\": \"Positive\", \"word\": \"would\", \"frequency\": 4249}, {\"Sentiment\": \"Positive\", \"word\": \"create\", \"frequency\": 4248}, {\"Sentiment\": \"Positive\", \"word\": \"intelligence\", \"frequency\": 4161}, {\"Sentiment\": \"Positive\", \"word\": \"people\", \"frequency\": 4099}, {\"Sentiment\": \"Positive\", \"word\": \"better\", \"frequency\": 4042}, {\"Sentiment\": \"Positive\", \"word\": \"see\", \"frequency\": 4037}, {\"Sentiment\": \"Positive\", \"word\": \"know\", \"frequency\": 3927}, {\"Sentiment\": \"Positive\", \"word\": \"think\", \"frequency\": 3846}, {\"Sentiment\": \"Positive\", \"word\": \"tool\", \"frequency\": 3793}, {\"Sentiment\": \"Positive\", \"word\": \"google\", \"frequency\": 3791}, {\"Sentiment\": \"Positive\", \"word\": \"great\", \"frequency\": 3736}, {\"Sentiment\": \"Positive\", \"word\": \"artificial\", \"frequency\": 3580}, {\"Sentiment\": \"Positive\", \"word\": \"tools\", \"frequency\": 3572}, {\"Sentiment\": \"Positive\", \"word\": \"free\", \"frequency\": 3529}, {\"Sentiment\": \"Positive\", \"word\": \"language\", \"frequency\": 3519}, {\"Sentiment\": \"Positive\", \"word\": \"best\", \"frequency\": 3492}, {\"Sentiment\": \"Negative\", \"word\": \"chat\", \"frequency\": 9226}, {\"Sentiment\": \"Negative\", \"word\": \"use\", \"frequency\": 2237}, {\"Sentiment\": \"Negative\", \"word\": \"using\", \"frequency\": 2026}, {\"Sentiment\": \"Negative\", \"word\": \"like\", \"frequency\": 1887}, {\"Sentiment\": \"Negative\", \"word\": \"people\", \"frequency\": 1841}, {\"Sentiment\": \"Negative\", \"word\": \"google\", \"frequency\": 1840}, {\"Sentiment\": \"Negative\", \"word\": \"write\", \"frequency\": 1721}, {\"Sentiment\": \"Negative\", \"word\": \"new\", \"frequency\": 1608}, {\"Sentiment\": \"Negative\", \"word\": \"asked\", \"frequency\": 1537}, {\"Sentiment\": \"Negative\", \"word\": \"get\", \"frequency\": 1519}, {\"Sentiment\": \"Negative\", \"word\": \"one\", \"frequency\": 1485}, {\"Sentiment\": \"Negative\", \"word\": \"time\", \"frequency\": 1463}, {\"Sentiment\": \"Negative\", \"word\": \"know\", \"frequency\": 1430}, {\"Sentiment\": \"Negative\", \"word\": \"would\", \"frequency\": 1423}, {\"Sentiment\": \"Negative\", \"word\": \"think\", \"frequency\": 1408}, {\"Sentiment\": \"Negative\", \"word\": \"make\", \"frequency\": 1353}, {\"Sentiment\": \"Negative\", \"word\": \"banned\", \"frequency\": 1277}, {\"Sentiment\": \"Negative\", \"word\": \"even\", \"frequency\": 1252}, {\"Sentiment\": \"Negative\", \"word\": \"wrong\", \"frequency\": 1195}, {\"Sentiment\": \"Negative\", \"word\": \"going\", \"frequency\": 1096}, {\"Sentiment\": \"Negative\", \"word\": \"content\", \"frequency\": 1006}, {\"Sentiment\": \"Negative\", \"word\": \"data\", \"frequency\": 995}, {\"Sentiment\": \"Negative\", \"word\": \"answer\", \"frequency\": 992}, {\"Sentiment\": \"Negative\", \"word\": \"human\", \"frequency\": 988}, {\"Sentiment\": \"Negative\", \"word\": \"need\", \"frequency\": 986}, {\"Sentiment\": \"Negative\", \"word\": \"used\", \"frequency\": 981}, {\"Sentiment\": \"Negative\", \"word\": \"see\", \"frequency\": 968}, {\"Sentiment\": \"Negative\", \"word\": \"many\", \"frequency\": 966}, {\"Sentiment\": \"Negative\", \"word\": \"work\", \"frequency\": 946}, {\"Sentiment\": \"Negative\", \"word\": \"via\", \"frequency\": 936}, {\"Sentiment\": \"Neutral\", \"word\": \"chat\", \"frequency\": 18918}, {\"Sentiment\": \"Neutral\", \"word\": \"use\", \"frequency\": 3684}, {\"Sentiment\": \"Neutral\", \"word\": \"using\", \"frequency\": 2845}, {\"Sentiment\": \"Neutral\", \"word\": \"new\", \"frequency\": 2800}, {\"Sentiment\": \"Neutral\", \"word\": \"via\", \"frequency\": 2549}, {\"Sentiment\": \"Neutral\", \"word\": \"google\", \"frequency\": 2373}, {\"Sentiment\": \"Neutral\", \"word\": \"write\", \"frequency\": 2286}, {\"Sentiment\": \"Neutral\", \"word\": \"asked\", \"frequency\": 2225}, {\"Sentiment\": \"Neutral\", \"word\": \"know\", \"frequency\": 1869}, {\"Sentiment\": \"Neutral\", \"word\": \"ask\", \"frequency\": 1778}, {\"Sentiment\": \"Neutral\", \"word\": \"get\", \"frequency\": 1647}, {\"Sentiment\": \"Neutral\", \"word\": \"make\", \"frequency\": 1574}, {\"Sentiment\": \"Neutral\", \"word\": \"future\", \"frequency\": 1572}, {\"Sentiment\": \"Neutral\", \"word\": \"think\", \"frequency\": 1566}, {\"Sentiment\": \"Neutral\", \"word\": \"used\", \"frequency\": 1452}, {\"Sentiment\": \"Neutral\", \"word\": \"microsoft\", \"frequency\": 1414}, {\"Sentiment\": \"Neutral\", \"word\": \"one\", \"frequency\": 1402}, {\"Sentiment\": \"Neutral\", \"word\": \"time\", \"frequency\": 1294}, {\"Sentiment\": \"Neutral\", \"word\": \"search\", \"frequency\": 1237}, {\"Sentiment\": \"Neutral\", \"word\": \"world\", \"frequency\": 1208}, {\"Sentiment\": \"Neutral\", \"word\": \"would\", \"frequency\": 1203}, {\"Sentiment\": \"Neutral\", \"word\": \"read\", \"frequency\": 1168}, {\"Sentiment\": \"Neutral\", \"word\": \"text\", \"frequency\": 1161}, {\"Sentiment\": \"Neutral\", \"word\": \"check\", \"frequency\": 1153}, {\"Sentiment\": \"Neutral\", \"word\": \"need\", \"frequency\": 1141}, {\"Sentiment\": \"Neutral\", \"word\": \"work\", \"frequency\": 1134}, {\"Sentiment\": \"Neutral\", \"word\": \"take\", \"frequency\": 1127}, {\"Sentiment\": \"Neutral\", \"word\": \"going\", \"frequency\": 1121}, {\"Sentiment\": \"Neutral\", \"word\": \"tool\", \"frequency\": 1089}, {\"Sentiment\": \"Neutral\", \"word\": \"replace\", \"frequency\": 1076}]}}, {\"mode\": \"vega-lite\"});\n",
       "</script>"
      ],
      "text/plain": [
       "alt.HConcatChart(...)"
      ]
     },
     "execution_count": 35,
     "metadata": {},
     "output_type": "execute_result"
    }
   ],
   "source": [
    "finalchart_wordsfrequency_2022_2023 = alt.hconcat(scatter_plot_2022, scatter_plot_2023).resolve_scale(y='independent'\n",
    ").configure_axisX(\n",
    "    labelAngle=45,  # Specify the degree of inclination here\n",
    "    labelAlign='left',  # Optional: Align the labels to the right for better readability\n",
    "    labelPadding=15  # Optional: Add padding to the labels for better spacing\n",
    ")\n",
    "finalchart_wordsfrequency_2022_2023.save('wordsfreq_2022_2023.html')\n",
    "finalchart_wordsfrequency_2022_2023"
   ]
  },
  {
   "cell_type": "code",
   "execution_count": 36,
   "id": "0d6b0bb0",
   "metadata": {},
   "outputs": [],
   "source": [
    "from sklearn.feature_extraction.text import CountVectorizer\n",
    "from nltk.sentiment import SentimentIntensityAnalyzer\n",
    "\n",
    "# Initialize the sentiment analysis model\n",
    "sia = SentimentIntensityAnalyzer()"
   ]
  },
  {
   "cell_type": "code",
   "execution_count": 37,
   "id": "b4a07bb1",
   "metadata": {},
   "outputs": [],
   "source": [
    "def get_top_n_ngrams(corpus, n=None, ngram=2, exclude_keywords=None):\n",
    "    if exclude_keywords is None:\n",
    "        exclude_keywords = []\n",
    "        \n",
    "    vec = CountVectorizer(ngram_range=(ngram, ngram), stop_words='english').fit(corpus)\n",
    "    bag_of_words = vec.transform(corpus)\n",
    "    sum_words = bag_of_words.sum(axis=0) \n",
    "    words_freq = [(word, sum_words[0, idx]) for word, idx in vec.vocabulary_.items()]\n",
    "    words_freq = sorted(words_freq, key=lambda x: x[1], reverse=True)\n",
    "\n",
    "    # escludo le parole forbidden (poco rilevanti)\n",
    "    words_freq = [item for item in words_freq if not any(keyword in item[0] for keyword in exclude_keywords)]\n",
    "\n",
    "    top_ngrams = words_freq[:n]\n",
    "    return top_ngrams\n",
    "\n",
    "# raggruppo i trigrammi per mese \n",
    "top_trigrams_by_month = df.groupby('Month')['tweetText_proc'].apply(lambda x: get_top_n_ngrams(x, n=10, ngram=3, exclude_keywords=['chat', 'gpt', 'chatgpt','httpstcorlyimpqw', 'ai', 'eth']))\n",
    "\n",
    "# creo un df per metterci i trigrammi e il mese\n",
    "df_top_trigrams = pd.DataFrame(top_trigrams_by_month.reset_index())\n",
    "\n",
    "# espando la lista dei trigrammi su rows distinte\n",
    "df_top_trigrams = df_top_trigrams.explode('tweetText_proc')\n",
    "\n",
    "# Split the 'tweet_text' in trigram e frequency\n",
    "df_top_trigrams[['Trigram', 'Frequency']] = pd.DataFrame(df_top_trigrams['tweetText_proc'].tolist(), index=df_top_trigrams.index)\n",
    "\n",
    "\n",
    "df_top_trigrams = df_top_trigrams.drop(columns='tweetText_proc')\n",
    "\n",
    "\n",
    "df_top_trigrams['Sentiment'] = df_top_trigrams['Trigram'].apply(lambda x: sia.polarity_scores(x)['compound'])"
   ]
  },
  {
   "cell_type": "code",
   "execution_count": 38,
   "id": "cbe85c74",
   "metadata": {},
   "outputs": [
    {
     "name": "stdout",
     "output_type": "stream",
     "text": [
      "    Month                       Trigram  Frequency  Sentiment\n",
      "0       1         large language models        304     0.0000\n",
      "0       1   natural language processing        254     0.3612\n",
      "0       1        medical licensing exam        216     0.0000\n",
      "0       1  generated based instructions        195     0.0000\n",
      "0       1         current temp humidity        189     0.0000\n",
      "..    ...                           ...        ...        ...\n",
      "8      12              launches poe way        148     0.0000\n",
      "8      12            quora launches poe        145     0.0000\n",
      "8      12             red google search        134     0.0000\n",
      "8      12                 code red amid        132     0.0000\n",
      "8      12              pros need master        130     0.0000\n",
      "\n",
      "[90 rows x 4 columns]\n"
     ]
    }
   ],
   "source": [
    "print(df_top_trigrams)"
   ]
  },
  {
   "cell_type": "code",
   "execution_count": 39,
   "id": "ac3fd82f",
   "metadata": {},
   "outputs": [
    {
     "data": {
      "text/html": [
       "<div>\n",
       "<style scoped>\n",
       "    .dataframe tbody tr th:only-of-type {\n",
       "        vertical-align: middle;\n",
       "    }\n",
       "\n",
       "    .dataframe tbody tr th {\n",
       "        vertical-align: top;\n",
       "    }\n",
       "\n",
       "    .dataframe thead th {\n",
       "        text-align: right;\n",
       "    }\n",
       "</style>\n",
       "<table border=\"1\" class=\"dataframe\">\n",
       "  <thead>\n",
       "    <tr style=\"text-align: right;\">\n",
       "      <th></th>\n",
       "      <th>Month</th>\n",
       "      <th>Trigram</th>\n",
       "      <th>Frequency</th>\n",
       "      <th>Sentiment</th>\n",
       "      <th>MonthName</th>\n",
       "    </tr>\n",
       "  </thead>\n",
       "  <tbody>\n",
       "    <tr>\n",
       "      <th>3</th>\n",
       "      <td>4</td>\n",
       "      <td>banned italy privacy</td>\n",
       "      <td>146</td>\n",
       "      <td>-0.4588</td>\n",
       "      <td>Aprile</td>\n",
       "    </tr>\n",
       "    <tr>\n",
       "      <th>3</th>\n",
       "      <td>4</td>\n",
       "      <td>spot recommendation ticker</td>\n",
       "      <td>86</td>\n",
       "      <td>0.0000</td>\n",
       "      <td>Aprile</td>\n",
       "    </tr>\n",
       "    <tr>\n",
       "      <th>3</th>\n",
       "      <td>4</td>\n",
       "      <td>recommendation ticker time</td>\n",
       "      <td>86</td>\n",
       "      <td>0.0000</td>\n",
       "      <td>Aprile</td>\n",
       "    </tr>\n",
       "    <tr>\n",
       "      <th>3</th>\n",
       "      <td>4</td>\n",
       "      <td>ticker time interval</td>\n",
       "      <td>86</td>\n",
       "      <td>0.0000</td>\n",
       "      <td>Aprile</td>\n",
       "    </tr>\n",
       "    <tr>\n",
       "      <th>3</th>\n",
       "      <td>4</td>\n",
       "      <td>special edition guide</td>\n",
       "      <td>84</td>\n",
       "      <td>0.4019</td>\n",
       "      <td>Aprile</td>\n",
       "    </tr>\n",
       "    <tr>\n",
       "      <th>...</th>\n",
       "      <td>...</td>\n",
       "      <td>...</td>\n",
       "      <td>...</td>\n",
       "      <td>...</td>\n",
       "      <td>...</td>\n",
       "    </tr>\n",
       "    <tr>\n",
       "      <th>6</th>\n",
       "      <td>9</td>\n",
       "      <td>100 3000 week</td>\n",
       "      <td>2</td>\n",
       "      <td>0.0000</td>\n",
       "      <td>Settembre</td>\n",
       "    </tr>\n",
       "    <tr>\n",
       "      <th>6</th>\n",
       "      <td>9</td>\n",
       "      <td>home owner charged</td>\n",
       "      <td>2</td>\n",
       "      <td>-0.2023</td>\n",
       "      <td>Settembre</td>\n",
       "    </tr>\n",
       "    <tr>\n",
       "      <th>6</th>\n",
       "      <td>9</td>\n",
       "      <td>flying bussing illegals</td>\n",
       "      <td>2</td>\n",
       "      <td>0.0000</td>\n",
       "      <td>Settembre</td>\n",
       "    </tr>\n",
       "    <tr>\n",
       "      <th>6</th>\n",
       "      <td>9</td>\n",
       "      <td>trillions dollars members</td>\n",
       "      <td>1</td>\n",
       "      <td>0.0000</td>\n",
       "      <td>Settembre</td>\n",
       "    </tr>\n",
       "    <tr>\n",
       "      <th>6</th>\n",
       "      <td>9</td>\n",
       "      <td>stop paying congress</td>\n",
       "      <td>2</td>\n",
       "      <td>-0.2960</td>\n",
       "      <td>Settembre</td>\n",
       "    </tr>\n",
       "  </tbody>\n",
       "</table>\n",
       "<p>90 rows × 5 columns</p>\n",
       "</div>"
      ],
      "text/plain": [
       "    Month                     Trigram  Frequency  Sentiment  MonthName\n",
       "3       4        banned italy privacy        146    -0.4588     Aprile\n",
       "3       4  spot recommendation ticker         86     0.0000     Aprile\n",
       "3       4  recommendation ticker time         86     0.0000     Aprile\n",
       "3       4        ticker time interval         86     0.0000     Aprile\n",
       "3       4       special edition guide         84     0.4019     Aprile\n",
       "..    ...                         ...        ...        ...        ...\n",
       "6       9               100 3000 week          2     0.0000  Settembre\n",
       "6       9          home owner charged          2    -0.2023  Settembre\n",
       "6       9     flying bussing illegals          2     0.0000  Settembre\n",
       "6       9   trillions dollars members          1     0.0000  Settembre\n",
       "6       9        stop paying congress          2    -0.2960  Settembre\n",
       "\n",
       "[90 rows x 5 columns]"
      ]
     },
     "execution_count": 39,
     "metadata": {},
     "output_type": "execute_result"
    }
   ],
   "source": [
    "months_mapping = {1: 'Gennaio', 2: 'Febbraio', 3: 'Marzo', 4: 'Aprile', 5: 'Maggio', 6: 'Giugno', 9: 'Settembre', 10:'Ottobre', 11:'Novembre', 12:'Dicembre'}\n",
    "\n",
    "df_top_trigrams['MonthName'] = df_top_trigrams['Month'].map(months_mapping)\n",
    "df_top_trigrams = df_top_trigrams.sort_values('MonthName')\n",
    "df_top_trigrams"
   ]
  },
  {
   "cell_type": "code",
   "execution_count": null,
   "id": "f91175cb",
   "metadata": {},
   "outputs": [],
   "source": []
  },
  {
   "cell_type": "code",
   "execution_count": 42,
   "id": "7ab49432",
   "metadata": {},
   "outputs": [],
   "source": [
    "#month_dropdown = alt.binding_select(options=df_top_trigrams['MonthName'].unique().tolist()+[None])\n",
    "#month_sel = alt.selection_single(fields=['MonthName'], bind=month_dropdown, name=\"Seleziona\", init={'MonthName': df_top_trigrams['MonthName'].iloc[0]})\n",
    "optmont = ['Settembre','Ottobre','Dicembre','Gennaio', 'Febbraio', 'Marzo', 'Aprile', 'Maggio', 'Giugno']\n",
    "labels = [option + ' ' for option in optmont]\n",
    "month_dropdown = alt.binding_select(\n",
    "    # Add the empty selection which shows all when clicked\n",
    "    options=optmont + [None],\n",
    "    labels=labels + ['All'],\n",
    "    name='Selettore del periodo: '\n",
    ")\n",
    "\n",
    "month_sel = alt.selection_point(\n",
    "    fields=['MonthName'],\n",
    "    bind=month_dropdown,\n",
    ")\n",
    "#sentiment_scale = alt.Scale(domain=[-1, 1], range=['#FC2E20', '#FD7F20', '#FDB750'])\n",
    "single = alt.selection_single(on='mouseover', nearest=True)\n",
    "\n",
    "test = alt.Chart(df_top_trigrams, title=alt.Title('Top Trigrammi sul periodo 2022/2023',\n",
    "    subtitle= 'Dati relativi al dataset di Tweets in lingua inglese')).mark_bar().encode(\n",
    "    x=alt.X('Trigram:N', sort='-y', title='Trigramma'),\n",
    "    y=alt.Y('Frequency:Q', title='Frequenza registrata'),\n",
    "    color=alt.Color('Sentiment:Q'), #, scale=sentiment_scale),\n",
    "    tooltip=[alt.Tooltip('Trigram:N', title=\"Trigramma\"),\n",
    "             alt.Tooltip('Frequency:Q', title=\"frequenza assoluta\")]\n",
    ").properties(\n",
    "    width=800,\n",
    "    height=600,\n",
    ").configure_axisX(\n",
    "    labelAngle=45,  # Specify the degree of inclination here\n",
    "    labelAlign='left',  # Optional: Align the labels to the right for better readability\n",
    "    labelPadding=15  # Optional: Add padding to the labels for better spacing\n",
    ").add_selection(month_sel, single\n",
    ").transform_filter(month_sel\n",
    ").resolve_scale(y='independent'\n",
    ").configure_legend(orient='top-right')\n"
   ]
  },
  {
   "cell_type": "code",
   "execution_count": 44,
   "id": "4b950762",
   "metadata": {},
   "outputs": [],
   "source": [
    "test.save('trigrammimensilitwitter.html')"
   ]
  },
  {
   "cell_type": "code",
   "execution_count": null,
   "id": "fb06d93d",
   "metadata": {
    "scrolled": true
   },
   "outputs": [],
   "source": [
    "df_exploded = df.explode('hashtags').reset_index(drop=True)"
   ]
  },
  {
   "cell_type": "code",
   "execution_count": null,
   "id": "34e39ad8",
   "metadata": {},
   "outputs": [],
   "source": [
    "# Parse the month column as a datetime type\n",
    "df_exploded['date'] = pd.to_datetime(df_exploded['date'])"
   ]
  },
  {
   "cell_type": "code",
   "execution_count": null,
   "id": "78484b38",
   "metadata": {},
   "outputs": [],
   "source": [
    "df_counts = df_exploded.groupby(['hashtags', 'date']).size().reset_index(name='count')"
   ]
  },
  {
   "cell_type": "code",
   "execution_count": null,
   "id": "fc87621f",
   "metadata": {},
   "outputs": [],
   "source": [
    "df_counts"
   ]
  },
  {
   "cell_type": "code",
   "execution_count": null,
   "id": "313071a4",
   "metadata": {},
   "outputs": [],
   "source": []
  }
 ],
 "metadata": {
  "kernelspec": {
   "display_name": "Python 3 (ipykernel)",
   "language": "python",
   "name": "python3"
  },
  "language_info": {
   "codemirror_mode": {
    "name": "ipython",
    "version": 3
   },
   "file_extension": ".py",
   "mimetype": "text/x-python",
   "name": "python",
   "nbconvert_exporter": "python",
   "pygments_lexer": "ipython3",
   "version": "3.9.12"
  }
 },
 "nbformat": 4,
 "nbformat_minor": 5
}
