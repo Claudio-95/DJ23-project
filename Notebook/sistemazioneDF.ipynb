{
 "cells": [
  {
   "cell_type": "markdown",
   "id": "17ae52f9",
   "metadata": {},
   "source": [
    "<h1>Elaborazione dei datasets</h1>"
   ]
  },
  {
   "cell_type": "markdown",
   "id": "79076e26",
   "metadata": {},
   "source": [
    "<p>Import delle librerie necessarie</p>"
   ]
  },
  {
   "cell_type": "code",
   "execution_count": 26,
   "id": "a2557e5d",
   "metadata": {},
   "outputs": [],
   "source": [
    "import pandas as pd\n",
    "import os\n",
    "import glob\n",
    "from pandas.api.types import is_datetime64_any_dtype as is_datetime\n",
    "import numpy as np\n",
    "import re\n",
    "import string"
   ]
  },
  {
   "cell_type": "markdown",
   "id": "9b1ea182",
   "metadata": {},
   "source": [
    "<h3>Funzione per apertura datasets</h3>"
   ]
  },
  {
   "cell_type": "code",
   "execution_count": 5,
   "id": "892fcf2b",
   "metadata": {},
   "outputs": [],
   "source": [
    "def main_f():\n",
    "    conditioner = False\n",
    "    while conditioner is not True:\n",
    "        mylist = [f for f in glob.glob(\"*.csv\")]\n",
    "        for elem in mylist: print (elem)\n",
    "        file_path = input('Scegli un file .csv: ')\n",
    "        if os.path.exists(file_path):\n",
    "            print('The file exists')\n",
    "            dfname = str(file_path)\n",
    "            df1 = pd.read_csv(dfname)\n",
    "            pd.set_option(\"display.max.columns\", None)\n",
    "            conditioner = True\n",
    "        else:\n",
    "            print('The specified file does NOT exist')\n",
    "    return df1"
   ]
  },
  {
   "cell_type": "markdown",
   "id": "325c68eb",
   "metadata": {},
   "source": [
    "<p>Chiamata alla funzione di main con stampa dei dati</p>"
   ]
  },
  {
   "cell_type": "code",
   "execution_count": 6,
   "id": "ee003adb",
   "metadata": {},
   "outputs": [
    {
     "name": "stdout",
     "output_type": "stream",
     "text": [
      "2022-medium-stories-TOWARDsDATASCIENCE.csv\n",
      "2023-medium-stories-TOWARDsDATASCIENCE.csv\n",
      "chatGPT-RACCOLTADATi-12-06-23.csv\n",
      "chatgpt_dal_2-11-22_a_31-03-23-UPDATED.csv\n",
      "chatgpt_dal_2-11-22_a_31-03-23.csv\n",
      "chatgpt_dal_2-11-22_a_31-03-23langEN-UPDATED.csv\n",
      "chatgpt_dal_2-11-22_a_31-03-23langEN.csv\n",
      "finalDF_elaborazioneTweets26-05.csv\n",
      "Scegli un file .csv: chatgpt_dal_2-11-22_a_31-03-23langEN-UPDATED.csv\n",
      "The file exists\n",
      "       Unnamed: 0.1  Unnamed: 0             User                       date  \\\n",
      "0                 0           0  GAMAnoABURA_AGE  2023-03-30 23:59:58+00:00   \n",
      "1                 1           1          jizomae  2023-03-30 23:59:56+00:00   \n",
      "2                 2           2             kenn  2023-03-30 23:59:52+00:00   \n",
      "3                 3           3          yamaike  2023-03-30 23:59:47+00:00   \n",
      "4                 4           4    tarosuke_2525  2023-03-30 23:59:45+00:00   \n",
      "...             ...         ...              ...                        ...   \n",
      "16479         16479       16479        mathe_dld  2023-03-30 16:00:43+00:00   \n",
      "16480         16480       16480           Valp32  2023-03-30 16:00:43+00:00   \n",
      "16481         16481       16481   jyushimatsu14_  2023-03-30 16:00:42+00:00   \n",
      "16482         16482       16482   MeChamaDeFelps  2023-03-30 16:00:40+00:00   \n",
      "16483         16483       16483      Mark_Ungrin  2023-03-30 16:00:39+00:00   \n",
      "\n",
      "       likeCount  source                                          tweetText  \\\n",
      "0              0     NaN  ChatGPTみてると、日本人への英語教育が必修である必要性は将来的になくなる気がするな。\\...   \n",
      "1              2     NaN  ChatGPT類似品と独自(？)音声合成で構築は難しいのかな。\\nそこらで売ってる会話ぬいぐ...   \n",
      "2             17     NaN  これだよね。ChatGPTプラグインはAIの技術的発展が続いても物理的にできないこと、リアル...   \n",
      "3              3     NaN  ChatGPTくんに、「発言はかぎかっこ、動作は小かっこでくくる」という古のPBCの流儀を教...   \n",
      "4              4     NaN  西欧諸国はこういう感じで自制があるからいいけど、中国とか北朝鮮とかだと、chatGPT習近平...   \n",
      "...          ...     ...                                                ...   \n",
      "16479         13     NaN  Comment gagner de l'argent avec ChatGPT, MidJo...   \n",
      "16480          3     NaN  Vidéo \"Je mets ChatGPT-4 à l'épreuve : est-ce ...   \n",
      "16481          1     NaN  #CastleFreak #horrorfilm #CHATGPT #StableDiffu...   \n",
      "16482          0     NaN         Chat gpt???KKKKKKK https://t.co/UZOzHe7gOC   \n",
      "16483          1     NaN  @keetmuise Seeing as ChatGPT can identify the ...   \n",
      "\n",
      "                                                hashtags lang  replies  \\\n",
      "0                                                    NaN   ja        0   \n",
      "1                                                    NaN   ja        1   \n",
      "2                                                    NaN   ja        0   \n",
      "3                                                    NaN   ja        1   \n",
      "4                                                    NaN   ja        0   \n",
      "...                                                  ...  ...      ...   \n",
      "16479                                                NaN   fr        2   \n",
      "16480  ['ia', 'ai', 'intelligenceartificielle', 'chat...   fr        0   \n",
      "16481  ['CastleFreak', 'horrorfilm', 'CHATGPT', 'Stab...   en        0   \n",
      "16482                                                NaN   en        0   \n",
      "16483                                                NaN   en        0   \n",
      "\n",
      "       retweetCount  \n",
      "0                 0  \n",
      "1                 0  \n",
      "2                 3  \n",
      "3                 0  \n",
      "4                 0  \n",
      "...             ...  \n",
      "16479             3  \n",
      "16480             1  \n",
      "16481             0  \n",
      "16482             0  \n",
      "16483             0  \n",
      "\n",
      "[16484 rows x 11 columns]\n"
     ]
    }
   ],
   "source": [
    "data = main_f()\n",
    "print(data)"
   ]
  },
  {
   "cell_type": "markdown",
   "id": "19c98d10",
   "metadata": {},
   "source": [
    "<p>Stampo le dimensioni del dataset</p>"
   ]
  },
  {
   "cell_type": "code",
   "execution_count": 7,
   "id": "c572acca",
   "metadata": {},
   "outputs": [
    {
     "name": "stdout",
     "output_type": "stream",
     "text": [
      "Ampiezza dataset: 16484 rows\n",
      "Dimensioni rows x columns: (16484, 11)\n"
     ]
    }
   ],
   "source": [
    "print(\"Ampiezza dataset: \"+str(len(data))+ \" rows\")\n",
    "print(\"Dimensioni rows x columns: \"+ str(data.shape))"
   ]
  },
  {
   "cell_type": "markdown",
   "id": "5eca45f1",
   "metadata": {},
   "source": [
    "<p>Check sui valori nulli</p>"
   ]
  },
  {
   "cell_type": "code",
   "execution_count": null,
   "id": "b335b12d",
   "metadata": {},
   "outputs": [],
   "source": [
    "np.sum(data.isnull().any(axis=1))"
   ]
  },
  {
   "cell_type": "markdown",
   "id": "f7e0088e",
   "metadata": {},
   "source": [
    "<h3>Checks sulle colonne per uniformarle</h3>"
   ]
  },
  {
   "cell_type": "code",
   "execution_count": 8,
   "id": "ea2586f3",
   "metadata": {},
   "outputs": [
    {
     "data": {
      "text/plain": [
       "Index(['Unnamed: 0.1', 'Unnamed: 0', 'User', 'date', 'likeCount', 'source',\n",
       "       'tweetText', 'hashtags', 'lang', 'replies', 'retweetCount'],\n",
       "      dtype='object')"
      ]
     },
     "execution_count": 8,
     "metadata": {},
     "output_type": "execute_result"
    }
   ],
   "source": [
    "data.columns"
   ]
  },
  {
   "cell_type": "markdown",
   "id": "0a146c2d",
   "metadata": {},
   "source": [
    "<p>funzione drop per togliere colonne irrilevanti</p>"
   ]
  },
  {
   "cell_type": "code",
   "execution_count": 9,
   "id": "0d79ff5d",
   "metadata": {},
   "outputs": [],
   "source": [
    "def dropCols(d):\n",
    "    col = input('scegli una colonna da droppare (scrivi il nome esatto): ')\n",
    "    col = str(col)\n",
    "    if col in d.columns:\n",
    "        print (\"sicuro di voler eliminare la colonna \"+ col+ \"?\")\n",
    "        ans = input(\"scrivi y o n\")\n",
    "        ans = str(ans)\n",
    "        if ans == 'y':\n",
    "            print(\"procedo..\")\n",
    "            d.drop([col], axis=1)\n",
    "        else:\n",
    "            print(\"non procedo\")\n",
    "    return d"
   ]
  },
  {
   "cell_type": "code",
   "execution_count": 10,
   "id": "620afbed",
   "metadata": {},
   "outputs": [
    {
     "name": "stdout",
     "output_type": "stream",
     "text": [
      "premi 1 per droppare una colonna, 2 per non farlo:  2\n",
      "fine drop delle colonne\n"
     ]
    }
   ],
   "source": [
    "stop = False\n",
    "while stop is not True:\n",
    "    q = (int(input(\"premi 1 per droppare una colonna, 2 per non farlo:  \")))\n",
    "    if q!=2:\n",
    "        dropCols(data)\n",
    "    else:\n",
    "        stop= True\n",
    "        print(\"fine drop delle colonne\")"
   ]
  },
  {
   "cell_type": "markdown",
   "id": "04dbf428",
   "metadata": {},
   "source": [
    "<h3>Funzione per fixare le date dal formato U.S al formato italiano</h3>\n",
    "<p>ignoro l'orario di pubblicazione dei tweets perché non mi interessa ai fini dell'analisi</p>"
   ]
  },
  {
   "cell_type": "code",
   "execution_count": 11,
   "id": "c9dfcfba",
   "metadata": {},
   "outputs": [],
   "source": [
    "boolean = is_datetime(data['date'])"
   ]
  },
  {
   "cell_type": "code",
   "execution_count": 12,
   "id": "f551b22c",
   "metadata": {},
   "outputs": [],
   "source": [
    "def dataFixing(df_name):\n",
    "    #se la data non è di tipo date time\n",
    "    if boolean != True:\n",
    "        #eseguo la conversione in datetime\n",
    "        df_name['date'] = pd.to_datetime(df_name['date'])\n",
    "    return df_name['date'].dt.strftime('%d-%m-%Y')"
   ]
  },
  {
   "cell_type": "code",
   "execution_count": 13,
   "id": "2db70474",
   "metadata": {},
   "outputs": [],
   "source": [
    "data['date'] = dataFixing(data)"
   ]
  },
  {
   "cell_type": "markdown",
   "id": "f098c2be",
   "metadata": {},
   "source": [
    "<h2>Funzioni per sistemare il testo dei tweets</h2>"
   ]
  },
  {
   "cell_type": "code",
   "execution_count": 14,
   "id": "56452da6",
   "metadata": {},
   "outputs": [
    {
     "name": "stdout",
     "output_type": "stream",
     "text": [
      "<class 'pandas.core.series.Series'>\n",
      "RangeIndex: 16484 entries, 0 to 16483\n",
      "Series name: tweetText\n",
      "Non-Null Count  Dtype \n",
      "--------------  ----- \n",
      "16484 non-null  object\n",
      "dtypes: object(1)\n",
      "memory usage: 128.9+ KB\n"
     ]
    }
   ],
   "source": [
    "data['tweetText'].info()"
   ]
  },
  {
   "cell_type": "code",
   "execution_count": 15,
   "id": "18e5ce71",
   "metadata": {},
   "outputs": [
    {
     "data": {
      "text/plain": [
       "0    ChatGPTみてると、日本人への英語教育が必修である必要性は将来的になくなる気がするな。\\...\n",
       "1    ChatGPT類似品と独自(？)音声合成で構築は難しいのかな。\\nそこらで売ってる会話ぬいぐ...\n",
       "2    これだよね。ChatGPTプラグインはAIの技術的発展が続いても物理的にできないこと、リアル...\n",
       "3    ChatGPTくんに、「発言はかぎかっこ、動作は小かっこでくくる」という古のPBCの流儀を教...\n",
       "4    西欧諸国はこういう感じで自制があるからいいけど、中国とか北朝鮮とかだと、chatGPT習近平...\n",
       "Name: tweetText, dtype: object"
      ]
     },
     "execution_count": 15,
     "metadata": {},
     "output_type": "execute_result"
    }
   ],
   "source": [
    "data['tweetText'].head()"
   ]
  },
  {
   "cell_type": "code",
   "execution_count": 16,
   "id": "dae932ce",
   "metadata": {},
   "outputs": [],
   "source": [
    "stopwordlist_en = ['a', 'about', 'above', 'after', 'again', 'ain', 'all', 'am', 'an',\n",
    "             'and','any','are', 'as', 'at', 'be', 'because', 'been', 'before',\n",
    "             'being', 'below', 'between','both', 'by', 'can', 'd', 'did', 'do',\n",
    "             'does', 'doing', 'down', 'during', 'each','few', 'for', 'from',\n",
    "             'further', 'had', 'has', 'have', 'having', 'he', 'her', 'here',\n",
    "             'hers', 'herself', 'him', 'himself', 'his', 'how', 'i', 'if', 'in',\n",
    "             'into','is', 'it', 'its', 'itself', 'just', 'll', 'm', 'ma',\n",
    "             'me', 'more', 'most','my', 'myself', 'now', 'o', 'of', 'on', 'once',\n",
    "             'only', 'or', 'other', 'our', 'ours','ourselves', 'out', 'own', 're','s', 'same', 'she', \"shes\", 'should', \"shouldve\",'so', 'some', 'such',\n",
    "             't', 'than', 'that', \"thatll\", 'the', 'their', 'theirs', 'them',\n",
    "             'themselves', 'then', 'there', 'these', 'they', 'this', 'those',\n",
    "             'through', 'to', 'too','under', 'until', 'up', 've', 'very', 'was',\n",
    "             'we', 'were', 'what', 'when', 'where','which','while', 'who', 'whom',\n",
    "             'why', 'will', 'with', 'won', 'y', 'you', \"youd\",\"youll\", \"youre\",\n",
    "             \"youve\", 'your', 'yours', 'yourself', 'yourselves']"
   ]
  },
  {
   "cell_type": "code",
   "execution_count": 17,
   "id": "5322ebc5",
   "metadata": {},
   "outputs": [],
   "source": [
    "def filtroLingua(df):\n",
    "    options = ['it', 'en'] \n",
    "    \n",
    "    #prendo solo rows che corrispondono alle lang selezionate\n",
    "    return df[df['lang'].isin(options)] "
   ]
  },
  {
   "cell_type": "code",
   "execution_count": 18,
   "id": "3d031b9b",
   "metadata": {},
   "outputs": [],
   "source": [
    "data = filtroLingua(data)"
   ]
  },
  {
   "cell_type": "code",
   "execution_count": 20,
   "id": "61241bca",
   "metadata": {},
   "outputs": [
    {
     "data": {
      "text/html": [
       "<div>\n",
       "<style scoped>\n",
       "    .dataframe tbody tr th:only-of-type {\n",
       "        vertical-align: middle;\n",
       "    }\n",
       "\n",
       "    .dataframe tbody tr th {\n",
       "        vertical-align: top;\n",
       "    }\n",
       "\n",
       "    .dataframe thead th {\n",
       "        text-align: right;\n",
       "    }\n",
       "</style>\n",
       "<table border=\"1\" class=\"dataframe\">\n",
       "  <thead>\n",
       "    <tr style=\"text-align: right;\">\n",
       "      <th></th>\n",
       "      <th>Unnamed: 0.1</th>\n",
       "      <th>Unnamed: 0</th>\n",
       "      <th>User</th>\n",
       "      <th>date</th>\n",
       "      <th>likeCount</th>\n",
       "      <th>source</th>\n",
       "      <th>tweetText</th>\n",
       "      <th>hashtags</th>\n",
       "      <th>lang</th>\n",
       "      <th>replies</th>\n",
       "      <th>retweetCount</th>\n",
       "    </tr>\n",
       "  </thead>\n",
       "  <tbody>\n",
       "    <tr>\n",
       "      <th>5</th>\n",
       "      <td>5</td>\n",
       "      <td>5</td>\n",
       "      <td>realDDDougherty</td>\n",
       "      <td>30-03-2023</td>\n",
       "      <td>0</td>\n",
       "      <td>NaN</td>\n",
       "      <td>@BoSnerdley @MailOnline Even ChatGPT says they...</td>\n",
       "      <td>NaN</td>\n",
       "      <td>en</td>\n",
       "      <td>0</td>\n",
       "      <td>0</td>\n",
       "    </tr>\n",
       "    <tr>\n",
       "      <th>6</th>\n",
       "      <td>6</td>\n",
       "      <td>6</td>\n",
       "      <td>le_debut</td>\n",
       "      <td>30-03-2023</td>\n",
       "      <td>9</td>\n",
       "      <td>NaN</td>\n",
       "      <td>letting chat GPT teach me dynamic programming</td>\n",
       "      <td>NaN</td>\n",
       "      <td>en</td>\n",
       "      <td>1</td>\n",
       "      <td>0</td>\n",
       "    </tr>\n",
       "    <tr>\n",
       "      <th>9</th>\n",
       "      <td>9</td>\n",
       "      <td>9</td>\n",
       "      <td>WirewalkerDon</td>\n",
       "      <td>30-03-2023</td>\n",
       "      <td>0</td>\n",
       "      <td>NaN</td>\n",
       "      <td>The greatest opportunity in #AI with #ChatGPT ...</td>\n",
       "      <td>['AI', 'ChatGPT', 'OpenAI', 'Entrepreneurship'...</td>\n",
       "      <td>en</td>\n",
       "      <td>0</td>\n",
       "      <td>0</td>\n",
       "    </tr>\n",
       "    <tr>\n",
       "      <th>13</th>\n",
       "      <td>13</td>\n",
       "      <td>13</td>\n",
       "      <td>bytefeedai</td>\n",
       "      <td>30-03-2023</td>\n",
       "      <td>1</td>\n",
       "      <td>NaN</td>\n",
       "      <td>ChatGPT In Education: The Pros Cons And Unknow...</td>\n",
       "      <td>['Education', 'EdTech']</td>\n",
       "      <td>en</td>\n",
       "      <td>0</td>\n",
       "      <td>0</td>\n",
       "    </tr>\n",
       "    <tr>\n",
       "      <th>19</th>\n",
       "      <td>19</td>\n",
       "      <td>19</td>\n",
       "      <td>mhdodick</td>\n",
       "      <td>30-03-2023</td>\n",
       "      <td>1</td>\n",
       "      <td>NaN</td>\n",
       "      <td>@harrymccracken You should feed the same quest...</td>\n",
       "      <td>['ChatGPT', 'ArtificialIntelligence']</td>\n",
       "      <td>en</td>\n",
       "      <td>0</td>\n",
       "      <td>0</td>\n",
       "    </tr>\n",
       "  </tbody>\n",
       "</table>\n",
       "</div>"
      ],
      "text/plain": [
       "    Unnamed: 0.1  Unnamed: 0             User        date  likeCount  source  \\\n",
       "5              5           5  realDDDougherty  30-03-2023          0     NaN   \n",
       "6              6           6         le_debut  30-03-2023          9     NaN   \n",
       "9              9           9    WirewalkerDon  30-03-2023          0     NaN   \n",
       "13            13          13       bytefeedai  30-03-2023          1     NaN   \n",
       "19            19          19         mhdodick  30-03-2023          1     NaN   \n",
       "\n",
       "                                            tweetText  \\\n",
       "5   @BoSnerdley @MailOnline Even ChatGPT says they...   \n",
       "6       letting chat GPT teach me dynamic programming   \n",
       "9   The greatest opportunity in #AI with #ChatGPT ...   \n",
       "13  ChatGPT In Education: The Pros Cons And Unknow...   \n",
       "19  @harrymccracken You should feed the same quest...   \n",
       "\n",
       "                                             hashtags lang  replies  \\\n",
       "5                                                 NaN   en        0   \n",
       "6                                                 NaN   en        1   \n",
       "9   ['AI', 'ChatGPT', 'OpenAI', 'Entrepreneurship'...   en        0   \n",
       "13                            ['Education', 'EdTech']   en        0   \n",
       "19              ['ChatGPT', 'ArtificialIntelligence']   en        0   \n",
       "\n",
       "    retweetCount  \n",
       "5              0  \n",
       "6              0  \n",
       "9              0  \n",
       "13             0  \n",
       "19             0  "
      ]
     },
     "execution_count": 20,
     "metadata": {},
     "output_type": "execute_result"
    }
   ],
   "source": [
    "data.head()"
   ]
  },
  {
   "cell_type": "markdown",
   "id": "0b13426f",
   "metadata": {},
   "source": [
    "<p>Funzione per eliminare stopwords passando una lista di stopwords</p>"
   ]
  },
  {
   "cell_type": "code",
   "execution_count": 21,
   "id": "1c231bf6",
   "metadata": {},
   "outputs": [],
   "source": [
    "STOPWORDS = set(stopwordlist_en)\n",
    "def cleaning_stopwords(text):\n",
    "    return \" \".join([word for word in str(text).split() if word not in STOPWORDS])"
   ]
  },
  {
   "cell_type": "code",
   "execution_count": 22,
   "id": "3469ae0c",
   "metadata": {},
   "outputs": [],
   "source": [
    "english_punctuations = string.punctuation\n",
    "punctuations_list = english_punctuations\n",
    "def cleaning_punctuations(text):\n",
    "    translator = str.maketrans('', '', punctuations_list)\n",
    "    return text.translate(translator)"
   ]
  },
  {
   "cell_type": "code",
   "execution_count": 23,
   "id": "7735b95c",
   "metadata": {},
   "outputs": [],
   "source": [
    "def cleaning_URLs(df):\n",
    "    return re.sub('((www.[^s]+)|(https?://[^s]+))',' ',df)"
   ]
  },
  {
   "cell_type": "markdown",
   "id": "d5e6f609",
   "metadata": {},
   "source": [
    "<p>Questa funzione consente di duplicare una colonna per poter creare elaborazioni <b>senza</b> sacrificare il testo originale</p>"
   ]
  },
  {
   "cell_type": "code",
   "execution_count": 31,
   "id": "fa35a8a1",
   "metadata": {},
   "outputs": [],
   "source": [
    "def duplicaColonna(df, col):\n",
    "    df.columns\n",
    "    #q = input(\"scegli la colonna da duplicare: \")\n",
    "    #q = str(q)\n",
    "    if col in df.columns:\n",
    "        newCol = col+\"_duplicate\"\n",
    "        print(\"NOME DELLA NUOVA COLONNA GENERATA: \"+ newCol)\n",
    "        df[newCol] = df.loc[:, col]\n",
    "    else:\n",
    "        print(\"colonna non presente\")\n",
    "    return df"
   ]
  },
  {
   "cell_type": "code",
   "execution_count": 32,
   "id": "432dda3f",
   "metadata": {},
   "outputs": [
    {
     "name": "stdout",
     "output_type": "stream",
     "text": [
      "vuoi eliminare le stopwords? y/n: y\n",
      "Ecco lista colonne: \n",
      "Index(['Unnamed: 0.1', 'Unnamed: 0', 'User', 'date', 'likeCount', 'source',\n",
      "       'tweetText', 'hashtags', 'lang', 'replies', 'retweetCount'],\n",
      "      dtype='object')\n",
      "inserisci il nome della colonna duplicata da cui rimuovere stopwords,punteggiatura e links: tweetText\n",
      "NOME DELLA NUOVA COLONNA GENERATA: tweetText_duplicate\n"
     ]
    }
   ],
   "source": [
    "q = input(\"vuoi eliminare le stopwords? y/n: \")\n",
    "\n",
    "if q==\"y\":\n",
    "    print(\"Ecco lista colonne: \")\n",
    "    print(data.columns)\n",
    "    #chiede il nome della colonna\n",
    "    nomeCol = str(input(\"inserisci il nome della colonna duplicata da cui rimuovere stopwords,punteggiatura e links: \"))\n",
    "    #funzione per il duplicato\n",
    "    data2 = duplicaColonna(data, nomeCol)\n",
    "    #funzione rimozione su colonna duplicata\n",
    "    try:\n",
    "        data[nomeCol]= data[nomeCol].apply(lambda text: cleaning_stopwords(text))\n",
    "    except:\n",
    "        print(\"errore nella rimozione stopwords\")\n",
    "    try:\n",
    "        data[nomeCol]= data[nomeCol].apply(lambda x: cleaning_punctuations(x))\n",
    "    except:\n",
    "        print(\"errore nella rimozione della punteggiatura\")\n",
    "    try:\n",
    "        data[nomeCol] = data[nomeCol].apply(lambda x: cleaning_URLs(x))\n",
    "    except:\n",
    "        print(\"errore nella rimozione dei link\")"
   ]
  },
  {
   "cell_type": "code",
   "execution_count": 33,
   "id": "5a0bc9d0",
   "metadata": {},
   "outputs": [
    {
     "data": {
      "text/plain": [
       "16476              jstinchen xPIG isn’t real I ask chatGPT\n",
       "16478    ChatGPT Why still smarter machines BBC Reel ht...\n",
       "16481    CastleFreak horrorfilm CHATGPT StableDiffusion...\n",
       "16482                   Chat gptKKKKKKK httpstcoUZOzHe7gOC\n",
       "16483    keetmuise Seeing ChatGPT identify risk widespr...\n",
       "Name: tweetText, dtype: object"
      ]
     },
     "execution_count": 33,
     "metadata": {},
     "output_type": "execute_result"
    }
   ],
   "source": [
    "data2['tweetText'].tail()"
   ]
  },
  {
   "cell_type": "code",
   "execution_count": null,
   "id": "208d8cc5",
   "metadata": {},
   "outputs": [],
   "source": []
  }
 ],
 "metadata": {
  "kernelspec": {
   "display_name": "Python 3 (ipykernel)",
   "language": "python",
   "name": "python3"
  },
  "language_info": {
   "codemirror_mode": {
    "name": "ipython",
    "version": 3
   },
   "file_extension": ".py",
   "mimetype": "text/x-python",
   "name": "python",
   "nbconvert_exporter": "python",
   "pygments_lexer": "ipython3",
   "version": "3.9.12"
  }
 },
 "nbformat": 4,
 "nbformat_minor": 5
}
