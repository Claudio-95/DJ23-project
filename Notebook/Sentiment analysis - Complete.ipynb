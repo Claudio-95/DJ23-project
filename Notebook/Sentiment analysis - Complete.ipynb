{
 "cells": [
  {
   "cell_type": "markdown",
   "id": "30d9e9a1",
   "metadata": {},
   "source": [
    "# NLTK.VADER_LEXICON"
   ]
  },
  {
   "cell_type": "code",
   "execution_count": 1,
   "id": "f7b4059d",
   "metadata": {},
   "outputs": [
    {
     "data": {
      "text/html": [
       "<div>\n",
       "<style scoped>\n",
       "    .dataframe tbody tr th:only-of-type {\n",
       "        vertical-align: middle;\n",
       "    }\n",
       "\n",
       "    .dataframe tbody tr th {\n",
       "        vertical-align: top;\n",
       "    }\n",
       "\n",
       "    .dataframe thead th {\n",
       "        text-align: right;\n",
       "    }\n",
       "</style>\n",
       "<table border=\"1\" class=\"dataframe\">\n",
       "  <thead>\n",
       "    <tr style=\"text-align: right;\">\n",
       "      <th></th>\n",
       "      <th>Post ID</th>\n",
       "      <th>Post author</th>\n",
       "      <th>Post title</th>\n",
       "      <th>Post URL</th>\n",
       "      <th>Post flair type</th>\n",
       "      <th>Post score</th>\n",
       "      <th>Post date</th>\n",
       "      <th>Comment ID</th>\n",
       "      <th>Comment author</th>\n",
       "      <th>Comment</th>\n",
       "      <th>Comment score</th>\n",
       "      <th>Comment date</th>\n",
       "    </tr>\n",
       "  </thead>\n",
       "  <tbody>\n",
       "    <tr>\n",
       "      <th>0</th>\n",
       "      <td>13ty988</td>\n",
       "      <td>FunEntersTheChat</td>\n",
       "      <td>A lawyer used ChatGPT for legal filing. The ch...</td>\n",
       "      <td>https://mashable.com/article/chatgpt-lawyer-ma...</td>\n",
       "      <td>Artificial Intelligence</td>\n",
       "      <td>45599</td>\n",
       "      <td>2023-05-28 13:32:38</td>\n",
       "      <td>jlxlcbk</td>\n",
       "      <td>HanaBothWays</td>\n",
       "      <td>TFW you are trying new and interesting ways to...</td>\n",
       "      <td>8919</td>\n",
       "      <td>2023-05-28 13:41:17</td>\n",
       "    </tr>\n",
       "    <tr>\n",
       "      <th>1</th>\n",
       "      <td>13ty988</td>\n",
       "      <td>FunEntersTheChat</td>\n",
       "      <td>A lawyer used ChatGPT for legal filing. The ch...</td>\n",
       "      <td>https://mashable.com/article/chatgpt-lawyer-ma...</td>\n",
       "      <td>Artificial Intelligence</td>\n",
       "      <td>45599</td>\n",
       "      <td>2023-05-28 13:32:38</td>\n",
       "      <td>jly9dss</td>\n",
       "      <td>ponzLL</td>\n",
       "      <td>I ask chat gpt for help with software at work ...</td>\n",
       "      <td>2207</td>\n",
       "      <td>2023-05-28 17:07:22</td>\n",
       "    </tr>\n",
       "    <tr>\n",
       "      <th>2</th>\n",
       "      <td>13ty988</td>\n",
       "      <td>FunEntersTheChat</td>\n",
       "      <td>A lawyer used ChatGPT for legal filing. The ch...</td>\n",
       "      <td>https://mashable.com/article/chatgpt-lawyer-ma...</td>\n",
       "      <td>Artificial Intelligence</td>\n",
       "      <td>45599</td>\n",
       "      <td>2023-05-28 13:32:38</td>\n",
       "      <td>jlxpxde</td>\n",
       "      <td>KiwiOk6697</td>\n",
       "      <td>Amount of people who thinks ChatGPT is a searc...</td>\n",
       "      <td>4221</td>\n",
       "      <td>2023-05-28 14:30:15</td>\n",
       "    </tr>\n",
       "    <tr>\n",
       "      <th>3</th>\n",
       "      <td>13ty988</td>\n",
       "      <td>FunEntersTheChat</td>\n",
       "      <td>A lawyer used ChatGPT for legal filing. The ch...</td>\n",
       "      <td>https://mashable.com/article/chatgpt-lawyer-ma...</td>\n",
       "      <td>Artificial Intelligence</td>\n",
       "      <td>45599</td>\n",
       "      <td>2023-05-28 13:32:38</td>\n",
       "      <td>jlxorpo</td>\n",
       "      <td>Not_Buying</td>\n",
       "      <td>I’m fine with them using the tool, but how do ...</td>\n",
       "      <td>1850</td>\n",
       "      <td>2023-05-28 14:18:28</td>\n",
       "    </tr>\n",
       "    <tr>\n",
       "      <th>4</th>\n",
       "      <td>13ty988</td>\n",
       "      <td>FunEntersTheChat</td>\n",
       "      <td>A lawyer used ChatGPT for legal filing. The ch...</td>\n",
       "      <td>https://mashable.com/article/chatgpt-lawyer-ma...</td>\n",
       "      <td>Artificial Intelligence</td>\n",
       "      <td>45599</td>\n",
       "      <td>2023-05-28 13:32:38</td>\n",
       "      <td>jly1ic2</td>\n",
       "      <td>MithranArkanere</td>\n",
       "      <td>People need to understand ChatGPT doesn't say ...</td>\n",
       "      <td>216</td>\n",
       "      <td>2023-05-28 16:09:30</td>\n",
       "    </tr>\n",
       "  </tbody>\n",
       "</table>\n",
       "</div>"
      ],
      "text/plain": [
       "   Post ID       Post author  \\\n",
       "0  13ty988  FunEntersTheChat   \n",
       "1  13ty988  FunEntersTheChat   \n",
       "2  13ty988  FunEntersTheChat   \n",
       "3  13ty988  FunEntersTheChat   \n",
       "4  13ty988  FunEntersTheChat   \n",
       "\n",
       "                                          Post title  \\\n",
       "0  A lawyer used ChatGPT for legal filing. The ch...   \n",
       "1  A lawyer used ChatGPT for legal filing. The ch...   \n",
       "2  A lawyer used ChatGPT for legal filing. The ch...   \n",
       "3  A lawyer used ChatGPT for legal filing. The ch...   \n",
       "4  A lawyer used ChatGPT for legal filing. The ch...   \n",
       "\n",
       "                                            Post URL          Post flair type  \\\n",
       "0  https://mashable.com/article/chatgpt-lawyer-ma...  Artificial Intelligence   \n",
       "1  https://mashable.com/article/chatgpt-lawyer-ma...  Artificial Intelligence   \n",
       "2  https://mashable.com/article/chatgpt-lawyer-ma...  Artificial Intelligence   \n",
       "3  https://mashable.com/article/chatgpt-lawyer-ma...  Artificial Intelligence   \n",
       "4  https://mashable.com/article/chatgpt-lawyer-ma...  Artificial Intelligence   \n",
       "\n",
       "   Post score            Post date Comment ID   Comment author  \\\n",
       "0       45599  2023-05-28 13:32:38    jlxlcbk     HanaBothWays   \n",
       "1       45599  2023-05-28 13:32:38    jly9dss           ponzLL   \n",
       "2       45599  2023-05-28 13:32:38    jlxpxde       KiwiOk6697   \n",
       "3       45599  2023-05-28 13:32:38    jlxorpo       Not_Buying   \n",
       "4       45599  2023-05-28 13:32:38    jly1ic2  MithranArkanere   \n",
       "\n",
       "                                             Comment  Comment score  \\\n",
       "0  TFW you are trying new and interesting ways to...           8919   \n",
       "1  I ask chat gpt for help with software at work ...           2207   \n",
       "2  Amount of people who thinks ChatGPT is a searc...           4221   \n",
       "3  I’m fine with them using the tool, but how do ...           1850   \n",
       "4  People need to understand ChatGPT doesn't say ...            216   \n",
       "\n",
       "          Comment date  \n",
       "0  2023-05-28 13:41:17  \n",
       "1  2023-05-28 17:07:22  \n",
       "2  2023-05-28 14:30:15  \n",
       "3  2023-05-28 14:18:28  \n",
       "4  2023-05-28 16:09:30  "
      ]
     },
     "execution_count": 1,
     "metadata": {},
     "output_type": "execute_result"
    }
   ],
   "source": [
    "import pandas as pd\n",
    "\n",
    "df = pd.read_csv(\"chatgpt_reddit - Complete.csv\")\n",
    "df.head(5)"
   ]
  },
  {
   "cell_type": "markdown",
   "id": "1444e066",
   "metadata": {},
   "source": [
    "## Preprocessing"
   ]
  },
  {
   "cell_type": "code",
   "execution_count": 2,
   "id": "0a677707",
   "metadata": {},
   "outputs": [],
   "source": [
    "import numpy as np\n",
    "from nltk.corpus import stopwords\n",
    "from nltk.tokenize import word_tokenize\n",
    "from sklearn.feature_extraction.text import re\n",
    "\n",
    "def clean_data(review):\n",
    "    \n",
    "    no_punc = re.sub(r'[^\\w\\s]', '', review)\n",
    "    no_digits = ''.join([i for i in no_punc if not i.isdigit()])\n",
    "    \n",
    "    return(no_digits)\n",
    "\n",
    "df['Post title'] = df['Post title'].apply(clean_data)\n",
    "df['Comment'] = df['Comment'].apply(clean_data)"
   ]
  },
  {
   "cell_type": "code",
   "execution_count": 3,
   "id": "ab2a87fb",
   "metadata": {},
   "outputs": [],
   "source": [
    "stop_words = set(stopwords.words('english'))  # Import english stop words\n",
    "df['Comment'] = df['Comment'].apply(lambda x: ' '.join([word for word in word_tokenize(x) if word.lower() not in stop_words]))  # Remove stop words"
   ]
  },
  {
   "cell_type": "markdown",
   "id": "a10eec02",
   "metadata": {},
   "source": [
    "## Sentiment analysis"
   ]
  },
  {
   "cell_type": "code",
   "execution_count": 4,
   "id": "4d318e04",
   "metadata": {},
   "outputs": [],
   "source": [
    "import nltk\n",
    "from nltk.sentiment import SentimentIntensityAnalyzer\n",
    "\n",
    "sia = SentimentIntensityAnalyzer()\n"
   ]
  },
  {
   "cell_type": "code",
   "execution_count": 5,
   "id": "25bcd9af",
   "metadata": {},
   "outputs": [
    {
     "data": {
      "text/plain": [
       "pos    9423\n",
       "neu    5542\n",
       "neg    4498\n",
       "Name: Sentiment, dtype: int64"
      ]
     },
     "execution_count": 5,
     "metadata": {},
     "output_type": "execute_result"
    }
   ],
   "source": [
    "df['Sentiment'] = ''\n",
    "for index, row in df.iterrows():\n",
    "    comment = row['Comment']\n",
    "    \n",
    "    # Applica VADER all'attuale commento\n",
    "    scores = sia.polarity_scores(comment)\n",
    "    compound_score = scores['compound']\n",
    "    \n",
    "    # Assegna un'etichetta di sentiment in base al punteggio compound\n",
    "    if compound_score > 0:\n",
    "        sentiment = 'pos'\n",
    "    elif compound_score < 0:\n",
    "        sentiment = 'neg'\n",
    "    else:\n",
    "        sentiment = 'neu'\n",
    "    \n",
    "    # Assegna l'etichetta di sentiment al DataFrame\n",
    "    df.at[index, 'Sentiment'] = sentiment\n",
    "\n",
    "# Stampa il DataFrame con le nuove etichette di sentiment\n",
    "df['Sentiment'].value_counts()"
   ]
  },
  {
   "cell_type": "markdown",
   "id": "dbed92c7",
   "metadata": {},
   "source": [
    "## Sentiment distribution"
   ]
  },
  {
   "cell_type": "code",
   "execution_count": 6,
   "id": "a7d39240",
   "metadata": {},
   "outputs": [],
   "source": [
    "sizes = df[\"Sentiment\"].value_counts()\n",
    "labels = df[\"Sentiment\"].unique()"
   ]
  },
  {
   "cell_type": "code",
   "execution_count": 7,
   "id": "22d56bbf",
   "metadata": {},
   "outputs": [
    {
     "data": {
      "image/png": "[encoded data removed]",
      "text/plain": [
       "<Figure size 1200x800 with 1 Axes>"
      ]
     },
     "metadata": {},
     "output_type": "display_data"
    }
   ],
   "source": [
    "import matplotlib.pyplot as plt\n",
    "\n",
    "plt.rcParams[\"figure.figsize\"] = [12, 8]\n",
    "\n",
    "plt.pie(sizes, labels = labels, autopct = '%1.1f%%', shadow = False, startangle = 90)\n",
    "plt.title(\"Sentiment distribution of complete Reddit dataset - NLTK\")\n",
    "plt.savefig(\"pie_nltksentiment-complete.png\")\n",
    "plt.show()"
   ]
  },
  {
   "cell_type": "markdown",
   "id": "45e6ea8a",
   "metadata": {},
   "source": [
    "# TextBlob"
   ]
  },
  {
   "cell_type": "code",
   "execution_count": 8,
   "id": "a26f7704",
   "metadata": {},
   "outputs": [
    {
     "data": {
      "text/html": [
       "<div>\n",
       "<style scoped>\n",
       "    .dataframe tbody tr th:only-of-type {\n",
       "        vertical-align: middle;\n",
       "    }\n",
       "\n",
       "    .dataframe tbody tr th {\n",
       "        vertical-align: top;\n",
       "    }\n",
       "\n",
       "    .dataframe thead th {\n",
       "        text-align: right;\n",
       "    }\n",
       "</style>\n",
       "<table border=\"1\" class=\"dataframe\">\n",
       "  <thead>\n",
       "    <tr style=\"text-align: right;\">\n",
       "      <th></th>\n",
       "      <th>Post ID</th>\n",
       "      <th>Post author</th>\n",
       "      <th>Post title</th>\n",
       "      <th>Post URL</th>\n",
       "      <th>Post flair type</th>\n",
       "      <th>Post score</th>\n",
       "      <th>Post date</th>\n",
       "      <th>Comment ID</th>\n",
       "      <th>Comment author</th>\n",
       "      <th>Comment</th>\n",
       "      <th>Comment score</th>\n",
       "      <th>Comment date</th>\n",
       "    </tr>\n",
       "  </thead>\n",
       "  <tbody>\n",
       "    <tr>\n",
       "      <th>0</th>\n",
       "      <td>13ty988</td>\n",
       "      <td>FunEntersTheChat</td>\n",
       "      <td>A lawyer used ChatGPT for legal filing. The ch...</td>\n",
       "      <td>https://mashable.com/article/chatgpt-lawyer-ma...</td>\n",
       "      <td>Artificial Intelligence</td>\n",
       "      <td>45599</td>\n",
       "      <td>2023-05-28 13:32:38</td>\n",
       "      <td>jlxlcbk</td>\n",
       "      <td>HanaBothWays</td>\n",
       "      <td>TFW you are trying new and interesting ways to...</td>\n",
       "      <td>8919</td>\n",
       "      <td>2023-05-28 13:41:17</td>\n",
       "    </tr>\n",
       "    <tr>\n",
       "      <th>1</th>\n",
       "      <td>13ty988</td>\n",
       "      <td>FunEntersTheChat</td>\n",
       "      <td>A lawyer used ChatGPT for legal filing. The ch...</td>\n",
       "      <td>https://mashable.com/article/chatgpt-lawyer-ma...</td>\n",
       "      <td>Artificial Intelligence</td>\n",
       "      <td>45599</td>\n",
       "      <td>2023-05-28 13:32:38</td>\n",
       "      <td>jly9dss</td>\n",
       "      <td>ponzLL</td>\n",
       "      <td>I ask chat gpt for help with software at work ...</td>\n",
       "      <td>2207</td>\n",
       "      <td>2023-05-28 17:07:22</td>\n",
       "    </tr>\n",
       "    <tr>\n",
       "      <th>2</th>\n",
       "      <td>13ty988</td>\n",
       "      <td>FunEntersTheChat</td>\n",
       "      <td>A lawyer used ChatGPT for legal filing. The ch...</td>\n",
       "      <td>https://mashable.com/article/chatgpt-lawyer-ma...</td>\n",
       "      <td>Artificial Intelligence</td>\n",
       "      <td>45599</td>\n",
       "      <td>2023-05-28 13:32:38</td>\n",
       "      <td>jlxpxde</td>\n",
       "      <td>KiwiOk6697</td>\n",
       "      <td>Amount of people who thinks ChatGPT is a searc...</td>\n",
       "      <td>4221</td>\n",
       "      <td>2023-05-28 14:30:15</td>\n",
       "    </tr>\n",
       "    <tr>\n",
       "      <th>3</th>\n",
       "      <td>13ty988</td>\n",
       "      <td>FunEntersTheChat</td>\n",
       "      <td>A lawyer used ChatGPT for legal filing. The ch...</td>\n",
       "      <td>https://mashable.com/article/chatgpt-lawyer-ma...</td>\n",
       "      <td>Artificial Intelligence</td>\n",
       "      <td>45599</td>\n",
       "      <td>2023-05-28 13:32:38</td>\n",
       "      <td>jlxorpo</td>\n",
       "      <td>Not_Buying</td>\n",
       "      <td>I’m fine with them using the tool, but how do ...</td>\n",
       "      <td>1850</td>\n",
       "      <td>2023-05-28 14:18:28</td>\n",
       "    </tr>\n",
       "    <tr>\n",
       "      <th>4</th>\n",
       "      <td>13ty988</td>\n",
       "      <td>FunEntersTheChat</td>\n",
       "      <td>A lawyer used ChatGPT for legal filing. The ch...</td>\n",
       "      <td>https://mashable.com/article/chatgpt-lawyer-ma...</td>\n",
       "      <td>Artificial Intelligence</td>\n",
       "      <td>45599</td>\n",
       "      <td>2023-05-28 13:32:38</td>\n",
       "      <td>jly1ic2</td>\n",
       "      <td>MithranArkanere</td>\n",
       "      <td>People need to understand ChatGPT doesn't say ...</td>\n",
       "      <td>216</td>\n",
       "      <td>2023-05-28 16:09:30</td>\n",
       "    </tr>\n",
       "  </tbody>\n",
       "</table>\n",
       "</div>"
      ],
      "text/plain": [
       "   Post ID       Post author  \\\n",
       "0  13ty988  FunEntersTheChat   \n",
       "1  13ty988  FunEntersTheChat   \n",
       "2  13ty988  FunEntersTheChat   \n",
       "3  13ty988  FunEntersTheChat   \n",
       "4  13ty988  FunEntersTheChat   \n",
       "\n",
       "                                          Post title  \\\n",
       "0  A lawyer used ChatGPT for legal filing. The ch...   \n",
       "1  A lawyer used ChatGPT for legal filing. The ch...   \n",
       "2  A lawyer used ChatGPT for legal filing. The ch...   \n",
       "3  A lawyer used ChatGPT for legal filing. The ch...   \n",
       "4  A lawyer used ChatGPT for legal filing. The ch...   \n",
       "\n",
       "                                            Post URL          Post flair type  \\\n",
       "0  https://mashable.com/article/chatgpt-lawyer-ma...  Artificial Intelligence   \n",
       "1  https://mashable.com/article/chatgpt-lawyer-ma...  Artificial Intelligence   \n",
       "2  https://mashable.com/article/chatgpt-lawyer-ma...  Artificial Intelligence   \n",
       "3  https://mashable.com/article/chatgpt-lawyer-ma...  Artificial Intelligence   \n",
       "4  https://mashable.com/article/chatgpt-lawyer-ma...  Artificial Intelligence   \n",
       "\n",
       "   Post score            Post date Comment ID   Comment author  \\\n",
       "0       45599  2023-05-28 13:32:38    jlxlcbk     HanaBothWays   \n",
       "1       45599  2023-05-28 13:32:38    jly9dss           ponzLL   \n",
       "2       45599  2023-05-28 13:32:38    jlxpxde       KiwiOk6697   \n",
       "3       45599  2023-05-28 13:32:38    jlxorpo       Not_Buying   \n",
       "4       45599  2023-05-28 13:32:38    jly1ic2  MithranArkanere   \n",
       "\n",
       "                                             Comment  Comment score  \\\n",
       "0  TFW you are trying new and interesting ways to...           8919   \n",
       "1  I ask chat gpt for help with software at work ...           2207   \n",
       "2  Amount of people who thinks ChatGPT is a searc...           4221   \n",
       "3  I’m fine with them using the tool, but how do ...           1850   \n",
       "4  People need to understand ChatGPT doesn't say ...            216   \n",
       "\n",
       "          Comment date  \n",
       "0  2023-05-28 13:41:17  \n",
       "1  2023-05-28 17:07:22  \n",
       "2  2023-05-28 14:30:15  \n",
       "3  2023-05-28 14:18:28  \n",
       "4  2023-05-28 16:09:30  "
      ]
     },
     "execution_count": 8,
     "metadata": {},
     "output_type": "execute_result"
    }
   ],
   "source": [
    "import pandas as pd\n",
    "\n",
    "df = pd.read_csv(\"chatgpt_reddit - Complete.csv\")\n",
    "df.head(5)"
   ]
  },
  {
   "cell_type": "markdown",
   "id": "681fc389",
   "metadata": {},
   "source": [
    "## Preprocessing"
   ]
  },
  {
   "cell_type": "code",
   "execution_count": 9,
   "id": "db9b0c93",
   "metadata": {},
   "outputs": [],
   "source": [
    "import numpy as np\n",
    "from nltk.corpus import stopwords\n",
    "from nltk.tokenize import word_tokenize\n",
    "from sklearn.feature_extraction.text import re\n",
    "\n",
    "def clean_data(review):\n",
    "    \n",
    "    no_punc = re.sub(r'[^\\w\\s]', '', review)\n",
    "    no_digits = ''.join([i for i in no_punc if not i.isdigit()])\n",
    "    \n",
    "    return(no_digits)\n",
    "\n",
    "df['Post title'] = df['Post title'].apply(clean_data)\n",
    "df['Comment'] = df['Comment'].apply(clean_data)"
   ]
  },
  {
   "cell_type": "code",
   "execution_count": 10,
   "id": "fdf993bf",
   "metadata": {},
   "outputs": [],
   "source": [
    "stop_words = set(stopwords.words('english'))  # Import english stop words\n",
    "df['Comment'] = df['Comment'].apply(lambda x: ' '.join([word for word in word_tokenize(x) if word.lower() not in stop_words]))  # Remove stop words"
   ]
  },
  {
   "cell_type": "markdown",
   "id": "eb471f72",
   "metadata": {},
   "source": [
    "## Sentiment analysis"
   ]
  },
  {
   "cell_type": "code",
   "execution_count": 11,
   "id": "4f222490",
   "metadata": {},
   "outputs": [
    {
     "data": {
      "text/plain": [
       "pos    8774\n",
       "neu    6870\n",
       "neg    3819\n",
       "Name: Sentiment, dtype: int64"
      ]
     },
     "execution_count": 11,
     "metadata": {},
     "output_type": "execute_result"
    }
   ],
   "source": [
    "from textblob import TextBlob\n",
    "\n",
    "# Crea una nuova colonna nel DataFrame per le etichette di sentiment\n",
    "df['Sentiment'] = ''\n",
    "\n",
    "# Itera attraverso ogni riga del DataFrame\n",
    "for index, row in df.iterrows():\n",
    "    comment = row['Comment']\n",
    "    \n",
    "    # Applica l'analisi dei sentimenti di TextBlob all'attuale commento\n",
    "    blob = TextBlob(comment)\n",
    "    sentiment = blob.sentiment.polarity\n",
    "    \n",
    "    # Assegna un'etichetta di sentiment in base alla polarità\n",
    "    if sentiment > 0:\n",
    "        sentiment_label = 'pos'\n",
    "    elif sentiment < 0:\n",
    "        sentiment_label = 'neg'\n",
    "    else:\n",
    "        sentiment_label = 'neu'\n",
    "    \n",
    "    # Assegna l'etichetta di sentiment al DataFrame\n",
    "    df.at[index, 'Sentiment'] = sentiment_label\n",
    "\n",
    "# Stampa il DataFrame con le nuove etichette di sentiment\n",
    "df['Sentiment'].value_counts()"
   ]
  },
  {
   "cell_type": "markdown",
   "id": "5ac07b76",
   "metadata": {},
   "source": [
    "## Sentiment distribution"
   ]
  },
  {
   "cell_type": "code",
   "execution_count": 12,
   "id": "af969ec6",
   "metadata": {},
   "outputs": [],
   "source": [
    "sizes = df[\"Sentiment\"].value_counts()\n",
    "labels = df[\"Sentiment\"].unique()"
   ]
  },
  {
   "cell_type": "code",
   "execution_count": 13,
   "id": "3b696a98",
   "metadata": {},
   "outputs": [
    {
     "data": {
      "image/png": "[encoded data removed]",
      "text/plain": [
       "<Figure size 1200x800 with 1 Axes>"
      ]
     },
     "metadata": {},
     "output_type": "display_data"
    }
   ],
   "source": [
    "import matplotlib.pyplot as plt\n",
    "\n",
    "plt.rcParams[\"figure.figsize\"] = [12, 8]\n",
    "\n",
    "plt.pie(sizes, labels = labels, autopct = '%1.1f%%', shadow = False, startangle = 90)\n",
    "plt.title(\"Sentiment distribution of complete Reddit dataset - TextBlob\")\n",
    "plt.savefig(\"pie_textblobsentiment-complete.png\")\n",
    "plt.show()"
   ]
  }
 ],
 "metadata": {
  "kernelspec": {
   "display_name": "Python 3 (ipykernel)",
   "language": "python",
   "name": "python3"
  },
  "language_info": {
   "codemirror_mode": {
    "name": "ipython",
    "version": 3
   },
   "file_extension": ".py",
   "mimetype": "text/x-python",
   "name": "python",
   "nbconvert_exporter": "python",
   "pygments_lexer": "ipython3",
   "version": "3.9.13"
  }
 },
 "nbformat": 4,
 "nbformat_minor": 5
}
