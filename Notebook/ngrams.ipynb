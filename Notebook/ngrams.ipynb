{
 "cells": [
  {
   "cell_type": "markdown",
   "id": "ec6a5a12",
   "metadata": {},
   "source": [
    "<h1>ANALISI IN BIGRAMMI, TRIGRAMMI</h1>"
   ]
  },
  {
   "cell_type": "code",
   "execution_count": 2,
   "id": "ea083bdd",
   "metadata": {},
   "outputs": [],
   "source": [
    "import pandas as pd\n",
    "import re\n",
    "import nltk\n",
    "from nltk.util import ngrams"
   ]
  },
  {
   "cell_type": "code",
   "execution_count": 3,
   "id": "9ba947ec",
   "metadata": {},
   "outputs": [],
   "source": [
    "import nltk\n",
    "from nltk.corpus import stopwords"
   ]
  },
  {
   "cell_type": "code",
   "execution_count": 4,
   "id": "41bce900",
   "metadata": {},
   "outputs": [
    {
     "name": "stderr",
     "output_type": "stream",
     "text": [
      "[nltk_data] Downloading package stopwords to\n",
      "[nltk_data]     C:\\Users\\utente\\AppData\\Roaming\\nltk_data...\n",
      "[nltk_data]   Package stopwords is already up-to-date!\n"
     ]
    },
    {
     "data": {
      "text/plain": [
       "True"
      ]
     },
     "execution_count": 4,
     "metadata": {},
     "output_type": "execute_result"
    }
   ],
   "source": [
    "nltk.download('stopwords')"
   ]
  },
  {
   "cell_type": "code",
   "execution_count": 5,
   "id": "94f59dfe",
   "metadata": {},
   "outputs": [],
   "source": [
    "df = pd.read_csv('df-italiano.csv', index_col=0, low_memory=False)"
   ]
  },
  {
   "cell_type": "code",
   "execution_count": 6,
   "id": "2d71fc2f",
   "metadata": {},
   "outputs": [],
   "source": [
    "df = df.loc[:, ~df.columns.str.contains('^Unnamed')] #rimuovo l'eventuale colonna Unnamed"
   ]
  },
  {
   "cell_type": "code",
   "execution_count": 7,
   "id": "a9b9cebe",
   "metadata": {},
   "outputs": [
    {
     "data": {
      "text/html": [
       "<div>\n",
       "<style scoped>\n",
       "    .dataframe tbody tr th:only-of-type {\n",
       "        vertical-align: middle;\n",
       "    }\n",
       "\n",
       "    .dataframe tbody tr th {\n",
       "        vertical-align: top;\n",
       "    }\n",
       "\n",
       "    .dataframe thead th {\n",
       "        text-align: right;\n",
       "    }\n",
       "</style>\n",
       "<table border=\"1\" class=\"dataframe\">\n",
       "  <thead>\n",
       "    <tr style=\"text-align: right;\">\n",
       "      <th></th>\n",
       "      <th>user</th>\n",
       "      <th>date</th>\n",
       "      <th>likeCount</th>\n",
       "      <th>tweetText</th>\n",
       "      <th>hashtags</th>\n",
       "      <th>lang</th>\n",
       "      <th>replies</th>\n",
       "      <th>retweetCount</th>\n",
       "      <th>User</th>\n",
       "      <th>replyCount</th>\n",
       "    </tr>\n",
       "  </thead>\n",
       "  <tbody>\n",
       "    <tr>\n",
       "      <th>98</th>\n",
       "      <td>40annibuttati</td>\n",
       "      <td>05-02-2023</td>\n",
       "      <td>0</td>\n",
       "      <td>Interessante riflessione: \\ni contribuenti ita...</td>\n",
       "      <td>['Alitalia', 'Microsoft', 'ChatGPT']</td>\n",
       "      <td>it</td>\n",
       "      <td>0.0</td>\n",
       "      <td>0.0</td>\n",
       "      <td>NaN</td>\n",
       "      <td>NaN</td>\n",
       "    </tr>\n",
       "    <tr>\n",
       "      <th>102</th>\n",
       "      <td>PakiAsWell</td>\n",
       "      <td>05-02-2023</td>\n",
       "      <td>0</td>\n",
       "      <td>Quando ti spari le pose con l'AI ... senza dir...</td>\n",
       "      <td>['ChatGPT', 'AppleDeveloperAcademy', 'swiftUI'...</td>\n",
       "      <td>it</td>\n",
       "      <td>0.0</td>\n",
       "      <td>0.0</td>\n",
       "      <td>NaN</td>\n",
       "      <td>NaN</td>\n",
       "    </tr>\n",
       "    <tr>\n",
       "      <th>109</th>\n",
       "      <td>GbshiatsuM</td>\n",
       "      <td>05-02-2023</td>\n",
       "      <td>0</td>\n",
       "      <td>@yarotrof Chat gpt non ragiona bensì riprende ...</td>\n",
       "      <td>NaN</td>\n",
       "      <td>it</td>\n",
       "      <td>0.0</td>\n",
       "      <td>0.0</td>\n",
       "      <td>NaN</td>\n",
       "      <td>NaN</td>\n",
       "    </tr>\n",
       "    <tr>\n",
       "      <th>203</th>\n",
       "      <td>finmoderna</td>\n",
       "      <td>05-02-2023</td>\n",
       "      <td>1</td>\n",
       "      <td>Azioni intelligenza artificiale: 15 titoli da ...</td>\n",
       "      <td>['ai', 'ia', 'intelligenzaartificiale', 'artif...</td>\n",
       "      <td>it</td>\n",
       "      <td>0.0</td>\n",
       "      <td>0.0</td>\n",
       "      <td>NaN</td>\n",
       "      <td>NaN</td>\n",
       "    </tr>\n",
       "    <tr>\n",
       "      <th>390</th>\n",
       "      <td>Tarallucci_Vino</td>\n",
       "      <td>05-02-2023</td>\n",
       "      <td>2</td>\n",
       "      <td>🙄LA FINE DEL CAPITALISMO\\n\\nSe speravate di as...</td>\n",
       "      <td>NaN</td>\n",
       "      <td>it</td>\n",
       "      <td>3.0</td>\n",
       "      <td>0.0</td>\n",
       "      <td>NaN</td>\n",
       "      <td>NaN</td>\n",
       "    </tr>\n",
       "  </tbody>\n",
       "</table>\n",
       "</div>"
      ],
      "text/plain": [
       "                user        date  likeCount  \\\n",
       "98     40annibuttati  05-02-2023          0   \n",
       "102       PakiAsWell  05-02-2023          0   \n",
       "109       GbshiatsuM  05-02-2023          0   \n",
       "203       finmoderna  05-02-2023          1   \n",
       "390  Tarallucci_Vino  05-02-2023          2   \n",
       "\n",
       "                                             tweetText  \\\n",
       "98   Interessante riflessione: \\ni contribuenti ita...   \n",
       "102  Quando ti spari le pose con l'AI ... senza dir...   \n",
       "109  @yarotrof Chat gpt non ragiona bensì riprende ...   \n",
       "203  Azioni intelligenza artificiale: 15 titoli da ...   \n",
       "390  🙄LA FINE DEL CAPITALISMO\\n\\nSe speravate di as...   \n",
       "\n",
       "                                              hashtags lang  replies  \\\n",
       "98                ['Alitalia', 'Microsoft', 'ChatGPT']   it      0.0   \n",
       "102  ['ChatGPT', 'AppleDeveloperAcademy', 'swiftUI'...   it      0.0   \n",
       "109                                                NaN   it      0.0   \n",
       "203  ['ai', 'ia', 'intelligenzaartificiale', 'artif...   it      0.0   \n",
       "390                                                NaN   it      3.0   \n",
       "\n",
       "     retweetCount User  replyCount  \n",
       "98            0.0  NaN         NaN  \n",
       "102           0.0  NaN         NaN  \n",
       "109           0.0  NaN         NaN  \n",
       "203           0.0  NaN         NaN  \n",
       "390           0.0  NaN         NaN  "
      ]
     },
     "execution_count": 7,
     "metadata": {},
     "output_type": "execute_result"
    }
   ],
   "source": [
    "df.head()"
   ]
  },
  {
   "cell_type": "markdown",
   "id": "5e9f0400",
   "metadata": {},
   "source": [
    "<h3>Pulizia preliminare del dataset</h3>"
   ]
  },
  {
   "cell_type": "code",
   "execution_count": 8,
   "id": "83648f4d",
   "metadata": {},
   "outputs": [],
   "source": [
    "def clean_data(review):\n",
    "    \n",
    "    no_punc = re.sub(r'[^\\w\\s]', '', review)\n",
    "    no_digits = ''.join([i for i in no_punc if not i.isdigit()])\n",
    "    \n",
    "    return(no_digits)\n",
    "df['tweetText'] = df['tweetText'].apply(clean_data)"
   ]
  },
  {
   "cell_type": "code",
   "execution_count": 9,
   "id": "1a3210de",
   "metadata": {},
   "outputs": [
    {
     "name": "stdout",
     "output_type": "stream",
     "text": [
      "Enter the language for stopwords (e.g., english, italian, spanish): italian\n"
     ]
    }
   ],
   "source": [
    "language = input(\"Enter the language for stopwords (e.g., english, italian, spanish): \")"
   ]
  },
  {
   "cell_type": "code",
   "execution_count": 10,
   "id": "bcd04c0b",
   "metadata": {},
   "outputs": [
    {
     "name": "stderr",
     "output_type": "stream",
     "text": [
      "[nltk_data] Downloading package stopwords to\n",
      "[nltk_data]     C:\\Users\\utente\\AppData\\Roaming\\nltk_data...\n",
      "[nltk_data]   Package stopwords is already up-to-date!\n"
     ]
    }
   ],
   "source": [
    "def remove_stopwords(text, lang):\n",
    "    stop_words = set(stopwords.words(lang))\n",
    "    words = text.split()\n",
    "    filtered_words = [word for word in words if word.lower() not in stop_words]\n",
    "    return ' '.join(filtered_words)\n",
    "\n",
    "# Download stopwords corpus if not already downloaded\n",
    "nltk.download('stopwords')\n",
    "\n",
    "df['tweetText'] = df['tweetText'].apply(lambda x: remove_stopwords(x, language))"
   ]
  },
  {
   "cell_type": "markdown",
   "id": "a988b618",
   "metadata": {},
   "source": [
    "<p>Funzione per convertire il testo in n-grams</p>"
   ]
  },
  {
   "cell_type": "code",
   "execution_count": 13,
   "id": "f08f2da2",
   "metadata": {},
   "outputs": [
    {
     "name": "stdout",
     "output_type": "stream",
     "text": [
      "Choose a name for the new n-grams column:\n",
      "- unigrams\n",
      "- bigrams\n",
      "- trigrams\n",
      "bigrams\n"
     ]
    }
   ],
   "source": [
    "def convertiNgrams(df, colname, n=3):\n",
    "    df[colname] = df['tweetText'].apply(lambda sentence: list(ngrams(sentence.split(), n)))\n",
    "    return df\n",
    "\n",
    "col = input(\"Choose a name for the new n-grams column:\\n\"\n",
    "            \"- unigrams\\n\"\n",
    "            \"- bigrams\\n\"\n",
    "            \"- trigrams\\n\")\n",
    "\n",
    "if col == 'unigrams':\n",
    "    new_df = convertiNgrams(df, col, 1)\n",
    "elif col == 'bigrams':\n",
    "    new_df = convertiNgrams(df, col, 2)\n",
    "elif col == 'trigrams':\n",
    "    new_df = convertiNgrams(df, col, 3)\n",
    "else:\n",
    "    print(\"Invalid column name!\")\n"
   ]
  },
  {
   "cell_type": "code",
   "execution_count": 14,
   "id": "f3a6ba93",
   "metadata": {},
   "outputs": [
    {
     "data": {
      "text/html": [
       "<div>\n",
       "<style scoped>\n",
       "    .dataframe tbody tr th:only-of-type {\n",
       "        vertical-align: middle;\n",
       "    }\n",
       "\n",
       "    .dataframe tbody tr th {\n",
       "        vertical-align: top;\n",
       "    }\n",
       "\n",
       "    .dataframe thead th {\n",
       "        text-align: right;\n",
       "    }\n",
       "</style>\n",
       "<table border=\"1\" class=\"dataframe\">\n",
       "  <thead>\n",
       "    <tr style=\"text-align: right;\">\n",
       "      <th></th>\n",
       "      <th>user</th>\n",
       "      <th>date</th>\n",
       "      <th>likeCount</th>\n",
       "      <th>tweetText</th>\n",
       "      <th>hashtags</th>\n",
       "      <th>lang</th>\n",
       "      <th>replies</th>\n",
       "      <th>retweetCount</th>\n",
       "      <th>User</th>\n",
       "      <th>replyCount</th>\n",
       "      <th>unigrams</th>\n",
       "      <th>bigrams</th>\n",
       "    </tr>\n",
       "  </thead>\n",
       "  <tbody>\n",
       "    <tr>\n",
       "      <th>98</th>\n",
       "      <td>40annibuttati</td>\n",
       "      <td>05-02-2023</td>\n",
       "      <td>0</td>\n",
       "      <td>Interessante riflessione contribuenti italiani...</td>\n",
       "      <td>['Alitalia', 'Microsoft', 'ChatGPT']</td>\n",
       "      <td>it</td>\n",
       "      <td>0.0</td>\n",
       "      <td>0.0</td>\n",
       "      <td>NaN</td>\n",
       "      <td>NaN</td>\n",
       "      <td>[(Interessante,), (riflessione,), (contribuent...</td>\n",
       "      <td>[(Interessante, riflessione), (riflessione, co...</td>\n",
       "    </tr>\n",
       "    <tr>\n",
       "      <th>102</th>\n",
       "      <td>PakiAsWell</td>\n",
       "      <td>05-02-2023</td>\n",
       "      <td>0</td>\n",
       "      <td>Quando spari pose lAI senza dirgli resto della...</td>\n",
       "      <td>['ChatGPT', 'AppleDeveloperAcademy', 'swiftUI'...</td>\n",
       "      <td>it</td>\n",
       "      <td>0.0</td>\n",
       "      <td>0.0</td>\n",
       "      <td>NaN</td>\n",
       "      <td>NaN</td>\n",
       "      <td>[(Quando,), (spari,), (pose,), (lAI,), (senza,...</td>\n",
       "      <td>[(Quando, spari), (spari, pose), (pose, lAI), ...</td>\n",
       "    </tr>\n",
       "    <tr>\n",
       "      <th>109</th>\n",
       "      <td>GbshiatsuM</td>\n",
       "      <td>05-02-2023</td>\n",
       "      <td>0</td>\n",
       "      <td>yarotrof Chat gpt ragiona bensì riprende infor...</td>\n",
       "      <td>NaN</td>\n",
       "      <td>it</td>\n",
       "      <td>0.0</td>\n",
       "      <td>0.0</td>\n",
       "      <td>NaN</td>\n",
       "      <td>NaN</td>\n",
       "      <td>[(yarotrof,), (Chat,), (gpt,), (ragiona,), (be...</td>\n",
       "      <td>[(yarotrof, Chat), (Chat, gpt), (gpt, ragiona)...</td>\n",
       "    </tr>\n",
       "    <tr>\n",
       "      <th>203</th>\n",
       "      <td>finmoderna</td>\n",
       "      <td>05-02-2023</td>\n",
       "      <td>1</td>\n",
       "      <td>Azioni intelligenza artificiale titoli tenere ...</td>\n",
       "      <td>['ai', 'ia', 'intelligenzaartificiale', 'artif...</td>\n",
       "      <td>it</td>\n",
       "      <td>0.0</td>\n",
       "      <td>0.0</td>\n",
       "      <td>NaN</td>\n",
       "      <td>NaN</td>\n",
       "      <td>[(Azioni,), (intelligenza,), (artificiale,), (...</td>\n",
       "      <td>[(Azioni, intelligenza), (intelligenza, artifi...</td>\n",
       "    </tr>\n",
       "    <tr>\n",
       "      <th>390</th>\n",
       "      <td>Tarallucci_Vino</td>\n",
       "      <td>05-02-2023</td>\n",
       "      <td>2</td>\n",
       "      <td>FINE CAPITALISMO speravate assistere tramonto ...</td>\n",
       "      <td>NaN</td>\n",
       "      <td>it</td>\n",
       "      <td>3.0</td>\n",
       "      <td>0.0</td>\n",
       "      <td>NaN</td>\n",
       "      <td>NaN</td>\n",
       "      <td>[(FINE,), (CAPITALISMO,), (speravate,), (assis...</td>\n",
       "      <td>[(FINE, CAPITALISMO), (CAPITALISMO, speravate)...</td>\n",
       "    </tr>\n",
       "  </tbody>\n",
       "</table>\n",
       "</div>"
      ],
      "text/plain": [
       "                user        date  likeCount  \\\n",
       "98     40annibuttati  05-02-2023          0   \n",
       "102       PakiAsWell  05-02-2023          0   \n",
       "109       GbshiatsuM  05-02-2023          0   \n",
       "203       finmoderna  05-02-2023          1   \n",
       "390  Tarallucci_Vino  05-02-2023          2   \n",
       "\n",
       "                                             tweetText  \\\n",
       "98   Interessante riflessione contribuenti italiani...   \n",
       "102  Quando spari pose lAI senza dirgli resto della...   \n",
       "109  yarotrof Chat gpt ragiona bensì riprende infor...   \n",
       "203  Azioni intelligenza artificiale titoli tenere ...   \n",
       "390  FINE CAPITALISMO speravate assistere tramonto ...   \n",
       "\n",
       "                                              hashtags lang  replies  \\\n",
       "98                ['Alitalia', 'Microsoft', 'ChatGPT']   it      0.0   \n",
       "102  ['ChatGPT', 'AppleDeveloperAcademy', 'swiftUI'...   it      0.0   \n",
       "109                                                NaN   it      0.0   \n",
       "203  ['ai', 'ia', 'intelligenzaartificiale', 'artif...   it      0.0   \n",
       "390                                                NaN   it      3.0   \n",
       "\n",
       "     retweetCount User  replyCount  \\\n",
       "98            0.0  NaN         NaN   \n",
       "102           0.0  NaN         NaN   \n",
       "109           0.0  NaN         NaN   \n",
       "203           0.0  NaN         NaN   \n",
       "390           0.0  NaN         NaN   \n",
       "\n",
       "                                              unigrams  \\\n",
       "98   [(Interessante,), (riflessione,), (contribuent...   \n",
       "102  [(Quando,), (spari,), (pose,), (lAI,), (senza,...   \n",
       "109  [(yarotrof,), (Chat,), (gpt,), (ragiona,), (be...   \n",
       "203  [(Azioni,), (intelligenza,), (artificiale,), (...   \n",
       "390  [(FINE,), (CAPITALISMO,), (speravate,), (assis...   \n",
       "\n",
       "                                               bigrams  \n",
       "98   [(Interessante, riflessione), (riflessione, co...  \n",
       "102  [(Quando, spari), (spari, pose), (pose, lAI), ...  \n",
       "109  [(yarotrof, Chat), (Chat, gpt), (gpt, ragiona)...  \n",
       "203  [(Azioni, intelligenza), (intelligenza, artifi...  \n",
       "390  [(FINE, CAPITALISMO), (CAPITALISMO, speravate)...  "
      ]
     },
     "execution_count": 14,
     "metadata": {},
     "output_type": "execute_result"
    }
   ],
   "source": [
    "new_df.head()"
   ]
  },
  {
   "cell_type": "code",
   "execution_count": null,
   "id": "88d539fd",
   "metadata": {},
   "outputs": [],
   "source": [
    "#salvo il nuovo df su csv\n",
    "new_df.to_csv('dataset-italiano-ngrams.csv', index=False)"
   ]
  },
  {
   "cell_type": "code",
   "execution_count": null,
   "id": "fccbe62e",
   "metadata": {},
   "outputs": [],
   "source": []
  }
 ],
 "metadata": {
  "kernelspec": {
   "display_name": "Python 3 (ipykernel)",
   "language": "python",
   "name": "python3"
  },
  "language_info": {
   "codemirror_mode": {
    "name": "ipython",
    "version": 3
   },
   "file_extension": ".py",
   "mimetype": "text/x-python",
   "name": "python",
   "nbconvert_exporter": "python",
   "pygments_lexer": "ipython3",
   "version": "3.9.12"
  }
 },
 "nbformat": 4,
 "nbformat_minor": 5
}
