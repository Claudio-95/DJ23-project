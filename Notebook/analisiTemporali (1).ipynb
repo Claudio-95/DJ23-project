{
 "cells": [
  {
   "cell_type": "markdown",
   "id": "479029bd",
   "metadata": {},
   "source": [
    "<h1>ANALISI TEMPORALI SUI DATASET DI TWITTER</h1>"
   ]
  },
  {
   "cell_type": "code",
   "execution_count": null,
   "id": "fbe4aebd",
   "metadata": {},
   "outputs": [],
   "source": [
    "#questa cella contiene tutti gli import necessari\n",
    "import pandas as pd\n",
    "import seaborn as sns\n",
    "import matplotlib.pyplot as plt\n",
    "from datetime import datetime\n",
    "import plotly.express as px"
   ]
  },
  {
   "cell_type": "code",
   "execution_count": null,
   "id": "c107e639",
   "metadata": {},
   "outputs": [],
   "source": [
    "dataset = input(\"specifica il nome del file (senza estensione): \")\n",
    "dataset=dataset+\".csv\"\n",
    "df = pd.read_csv(dataset, low_memory=False, index_col = 0)\n",
    "#To display maximum column width\n",
    "pd.set_option('display.max_colwidth',None)"
   ]
  },
  {
   "cell_type": "code",
   "execution_count": null,
   "id": "1b5dc0e2",
   "metadata": {},
   "outputs": [],
   "source": [
    "df.head()"
   ]
  },
  {
   "cell_type": "markdown",
   "id": "032d3478",
   "metadata": {},
   "source": [
    "<h2>Elaborazioni sulle date</h2>"
   ]
  },
  {
   "cell_type": "code",
   "execution_count": null,
   "id": "eb36b76d",
   "metadata": {},
   "outputs": [],
   "source": [
    "df['date'].info()"
   ]
  },
  {
   "cell_type": "code",
   "execution_count": null,
   "id": "1c28d594",
   "metadata": {},
   "outputs": [],
   "source": [
    "df['date'] = pd.to_datetime(df['date'], format='%Y-%m-%d %H:%M:%S', utc = True, errors='coerce')"
   ]
  },
  {
   "cell_type": "code",
   "execution_count": null,
   "id": "6a67d227",
   "metadata": {},
   "outputs": [],
   "source": [
    "df['date'].info()"
   ]
  },
  {
   "cell_type": "code",
   "execution_count": null,
   "id": "b91e4e51",
   "metadata": {},
   "outputs": [],
   "source": [
    "oldestTweet = df['date'].min()\n",
    "newestTweet = df['date'].max()\n",
    "print(\"Il tweet più vecchio è del: \"+ str(oldestTweet)+\"\\n\"+\"Il tweet più recente è del: \"+ str(newestTweet))"
   ]
  },
  {
   "cell_type": "code",
   "execution_count": null,
   "id": "4287addb",
   "metadata": {},
   "outputs": [],
   "source": [
    "df['Year'] = df['date'].dt.year"
   ]
  },
  {
   "cell_type": "code",
   "execution_count": null,
   "id": "9d987632",
   "metadata": {},
   "outputs": [],
   "source": [
    "df['Month'] = df['date'].dt.month"
   ]
  },
  {
   "cell_type": "code",
   "execution_count": null,
   "id": "2b7a1663",
   "metadata": {},
   "outputs": [],
   "source": [
    "df['Day'] = df['date'].dt.day"
   ]
  },
  {
   "cell_type": "code",
   "execution_count": null,
   "id": "714ea3ca",
   "metadata": {},
   "outputs": [],
   "source": [
    "df['WeekDay'] = df['date'].dt.dayofweek"
   ]
  },
  {
   "cell_type": "code",
   "execution_count": null,
   "id": "43249d6d",
   "metadata": {},
   "outputs": [],
   "source": [
    "df['hour'] = df['date'].dt.hour"
   ]
  },
  {
   "cell_type": "code",
   "execution_count": null,
   "id": "c196845f",
   "metadata": {},
   "outputs": [],
   "source": [
    "df['minutes'] = df['date'].dt.minute"
   ]
  },
  {
   "cell_type": "code",
   "execution_count": null,
   "id": "40596050",
   "metadata": {},
   "outputs": [],
   "source": [
    "df['dayofYear'] = df['date'].dt.dayofyear"
   ]
  },
  {
   "cell_type": "code",
   "execution_count": null,
   "id": "22ac1bce",
   "metadata": {},
   "outputs": [],
   "source": [
    "df['date_only'] = df['date'].dt.date"
   ]
  },
  {
   "cell_type": "code",
   "execution_count": null,
   "id": "0d0a5ed6",
   "metadata": {},
   "outputs": [],
   "source": [
    "df.head(2) #nuova visualizzazione sul tempo"
   ]
  },
  {
   "cell_type": "markdown",
   "id": "8ff69692",
   "metadata": {},
   "source": [
    "<p>Mapping dei giorni della settimana</p>"
   ]
  },
  {
   "cell_type": "code",
   "execution_count": null,
   "id": "2431fd73",
   "metadata": {},
   "outputs": [],
   "source": [
    "weekday_mapping = {0: 'Monday', 1: 'Tuesday', 2: 'Wednesday', 3: 'Thursday', 4: 'Friday', 5: 'Saturday', 6: 'Sunday'}\n",
    "\n",
    "df['WeekDay'] = df['WeekDay'].map(weekday_mapping)"
   ]
  },
  {
   "cell_type": "code",
   "execution_count": null,
   "id": "30f51380",
   "metadata": {},
   "outputs": [],
   "source": [
    "for day in df['WeekDay'].unique():\n",
    "    print(day)"
   ]
  },
  {
   "cell_type": "code",
   "execution_count": null,
   "id": "0285286e",
   "metadata": {},
   "outputs": [],
   "source": [
    "df['WeekDay'].value_counts()"
   ]
  },
  {
   "cell_type": "code",
   "execution_count": null,
   "id": "c2583fcd",
   "metadata": {},
   "outputs": [],
   "source": [
    "plt.figure(figsize=(15,6))\n",
    "custom_palette = ['#0000FF', '#800080', '#FFFF00']\n",
    "sns.set_palette(custom_palette)\n",
    "sns.countplot(data=df, x='WeekDay')\n",
    "plt.show()"
   ]
  },
  {
   "cell_type": "markdown",
   "id": "27e0597b",
   "metadata": {},
   "source": [
    "<p>Il giorno in cui le persone hanno twittato di più è il Giovedì. In linea di massima questa visualizzazione mostra che l'argomento ha una buona tenuta nell'arco dell'intera settimana, seppur con un incremento nella fase centro-iniziale della settimana.</p>"
   ]
  },
  {
   "cell_type": "code",
   "execution_count": null,
   "id": "5c0c1ec8",
   "metadata": {},
   "outputs": [],
   "source": [
    "df['date'].value_counts()"
   ]
  },
  {
   "cell_type": "markdown",
   "id": "4d770124",
   "metadata": {},
   "source": [
    "<h3>Comprensione dei peaks sui giorni (potenziale)</h3>"
   ]
  },
  {
   "cell_type": "markdown",
   "id": "cf8f7211",
   "metadata": {},
   "source": [
    "<p>Dai value counts risulta che il 30 marzo e il 2 febbraio sono i giorni con più tweets (entrambi giovedì).</p>"
   ]
  },
  {
   "cell_type": "markdown",
   "id": "c7589c19",
   "metadata": {},
   "source": [
    "<p>Il 2 febbraio è stimato che già nel mese di gennaio, ChatGPT aveva un numero di active users pari a 100 milioni. L'uso incrementale dell'applicazione mostrava la più ampia crescita di utilizzo mai registrata da un chatbot</p>\n",
    "<p>info disponibile qui <i>https://timelines.issarice.com/wiki/Timeline_of_ChatGPT#Full_timeline</i></p>"
   ]
  },
  {
   "cell_type": "markdown",
   "id": "ba224638",
   "metadata": {},
   "source": [
    "<p>Il 30 marzo  stato postato un software gratuito per dimostrare la potenza del language model di ChatGPT</p>\n",
    "<p>info disponibile qui <i>https://timelines.issarice.com/wiki/Timeline_of_ChatGPT#Full_timeline</i></p>"
   ]
  },
  {
   "cell_type": "markdown",
   "id": "688ec1b8",
   "metadata": {},
   "source": [
    "<p><strong><i>Suddivisione del dataset in anni: 2022 e 2023</i></strong></p>"
   ]
  },
  {
   "cell_type": "code",
   "execution_count": null,
   "id": "587a314f",
   "metadata": {},
   "outputs": [],
   "source": [
    "df23 = df[df['Year']==2023]\n",
    "df22 = df[df['Year']==2022]"
   ]
  },
  {
   "cell_type": "code",
   "execution_count": null,
   "id": "be35eef5",
   "metadata": {},
   "outputs": [],
   "source": [
    "df22.head(2)"
   ]
  },
  {
   "cell_type": "code",
   "execution_count": null,
   "id": "4b59176c",
   "metadata": {},
   "outputs": [],
   "source": [
    "df23.head(2)"
   ]
  },
  {
   "cell_type": "code",
   "execution_count": null,
   "id": "e2504676",
   "metadata": {},
   "outputs": [],
   "source": [
    "def askdf():\n",
    "    ask = input(\"scegli dataset (1 per il dataset del 2022, 2 per il dataset del 2023): \")\n",
    "    ans = df\n",
    "    if ask == '1':\n",
    "        ans = df22\n",
    "    elif ask == '2':\n",
    "        ans = df23\n",
    "    else:\n",
    "        print(\"errore inserimento, stai vedendo l'intero dataset e non uno specifico per anno. Ricompila!\")\n",
    "    return ans"
   ]
  },
  {
   "cell_type": "code",
   "execution_count": null,
   "id": "1c655aa4",
   "metadata": {},
   "outputs": [],
   "source": [
    "plt.figure(figsize=(15,6))\n",
    "sns.countplot(data=askdf(), x='Month')\n",
    "plt.show()"
   ]
  },
  {
   "cell_type": "markdown",
   "id": "c7fd6634",
   "metadata": {},
   "source": [
    "<p>Molti tweets appartengono alla fase inziale di gennaio 2023, periodo durante il quale sono emerse alcune controversie sulla natura dell'ideologia politica potenzialmente contenuta nelle risposte di ChatGPT.</p>\n",
    "<p>info disponibile qui <i>https://timelines.issarice.com/wiki/Timeline_of_ChatGPT#Full_timeline</i></p>"
   ]
  },
  {
   "cell_type": "code",
   "execution_count": null,
   "id": "d47cf8f1",
   "metadata": {},
   "outputs": [],
   "source": [
    "len_df = len(df)\n",
    "len_df22 = len(df22)\n",
    "len_df23 = len(df23)\n",
    "print(\"Dataset totale, lunghezza = \"+str(len_df))\n",
    "print(\"Dataset 2022, lunghezza = \"+str(len_df22))\n",
    "print(\"Dataset 2023, lunghezza = \"+str(len_df23))"
   ]
  },
  {
   "cell_type": "markdown",
   "id": "d245c73d",
   "metadata": {},
   "source": [
    "<p>Il mese con più tweets del 2022 è dicembre</p>\n",
    "<p>Il mese con più tweets del 2023 è gennaio</p>"
   ]
  },
  {
   "cell_type": "markdown",
   "id": "61b3f8a7",
   "metadata": {},
   "source": [
    "<h2>Data preprocessing</h2>"
   ]
  },
  {
   "cell_type": "markdown",
   "id": "ec6459f8",
   "metadata": {},
   "source": [
    "<p>Rimozione di punteggiatura, caratteri speciali e stopwords</p>"
   ]
  },
  {
   "cell_type": "code",
   "execution_count": null,
   "id": "923dc095",
   "metadata": {},
   "outputs": [],
   "source": [
    "import numpy as np\n",
    "from nltk.corpus import stopwords\n",
    "from nltk.tokenize import word_tokenize\n",
    "from nltk import FreqDist\n",
    "import re\n",
    "\n",
    "def pre_process(text):\n",
    "    # Remove links\n",
    "    text = re.sub('http://\\S+|https://\\S+', '', text)\n",
    "    text = re.sub('http[s]?://\\S+', '', text)\n",
    "    text = re.sub(r\"http\\S+\", \"\", text)\n",
    "\n",
    "    text = re.sub('&amp', 'and', text)\n",
    "    text = re.sub('&lt', '<', text)\n",
    "    text = re.sub('&gt', '>', text)\n",
    "\n",
    "    # Remove new line characters\n",
    "    text = re.sub('[\\r\\n]+', ' ', text)\n",
    "\n",
    "    text = re.sub(r'@\\w+', '', text)\n",
    "    text = re.sub(r'#\\w+', '', text)\n",
    "    \n",
    "    # Remove multiple space characters\n",
    "    text = re.sub('\\s+',' ', text)\n",
    "    \n",
    "    # Convert to lowercase\n",
    "    text = text.lower()\n",
    "    return text"
   ]
  },
  {
   "cell_type": "code",
   "execution_count": null,
   "id": "76d8f382",
   "metadata": {},
   "outputs": [],
   "source": [
    "stop_words = set(stopwords.words('english'))  # Import english stop words"
   ]
  },
  {
   "cell_type": "code",
   "execution_count": null,
   "id": "aa0ed3fd",
   "metadata": {},
   "outputs": [],
   "source": [
    "def apply(df):\n",
    "    df['tweetText_proc'] = df['tweetText'].apply(pre_process)\n",
    "    df['tweetText_proc'] = df['tweetText_proc'].apply(lambda x: ' '.join([word for word in word_tokenize(x) if word.lower() not in stop_words]))  # Remove stop words\n",
    "    return df"
   ]
  },
  {
   "cell_type": "code",
   "execution_count": null,
   "id": "c7ce2f45",
   "metadata": {},
   "outputs": [],
   "source": [
    "df = apply(df)"
   ]
  },
  {
   "cell_type": "code",
   "execution_count": null,
   "id": "b420a754",
   "metadata": {},
   "outputs": [],
   "source": [
    "df.head(3)"
   ]
  },
  {
   "cell_type": "markdown",
   "id": "aa7ef2ef",
   "metadata": {},
   "source": [
    "<h2>Sentiment Analysis</h2>"
   ]
  },
  {
   "cell_type": "code",
   "execution_count": null,
   "id": "31c1b3fc",
   "metadata": {},
   "outputs": [],
   "source": [
    "import nltk\n",
    "from nltk.sentiment import SentimentIntensityAnalyzer\n",
    "# Download NLTK resources (if not already downloaded)\n",
    "nltk.download('vader_lexicon')\n",
    "\n",
    "# Create an instance of SentimentIntensityAnalyzer\n",
    "sia = SentimentIntensityAnalyzer()"
   ]
  },
  {
   "cell_type": "code",
   "execution_count": null,
   "id": "28973856",
   "metadata": {},
   "outputs": [],
   "source": [
    "df['Sentiment'] = ''\n",
    "for index, row in df.iterrows():\n",
    "    comment = row['tweetText']\n",
    "    scores = sia.polarity_scores(comment)\n",
    "    compound_score = scores['compound']\n",
    "    if compound_score > 0:\n",
    "        sentiment = 'pos'\n",
    "    elif compound_score < 0:\n",
    "        sentiment = 'neg'\n",
    "    else:\n",
    "        sentiment = 'neu'\n",
    "\n",
    "    df.loc[index, 'Sentiment'] = sentiment\n",
    "\n",
    "sentiment_counts = df['Sentiment'].value_counts()\n",
    "print(sentiment_counts)"
   ]
  },
  {
   "cell_type": "code",
   "execution_count": null,
   "id": "2992e580",
   "metadata": {},
   "outputs": [],
   "source": [
    "df.head(2)"
   ]
  },
  {
   "cell_type": "markdown",
   "id": "b59211c6",
   "metadata": {},
   "source": [
    "<p>Suddivido il dataset con sentiment in 2022 e 2023</p>"
   ]
  },
  {
   "cell_type": "code",
   "execution_count": null,
   "id": "8468b667",
   "metadata": {},
   "outputs": [],
   "source": [
    "def monthlySentiment(df, month):\n",
    "    df_month = df[df['Month']== month]\n",
    "    return df_month"
   ]
  },
  {
   "cell_type": "code",
   "execution_count": null,
   "id": "e8d48536",
   "metadata": {},
   "outputs": [],
   "source": [
    "df22_sentiment = df[df['Year']==2022]\n",
    "df23_sentiment = df[df['Year']==2023]"
   ]
  },
  {
   "cell_type": "code",
   "execution_count": null,
   "id": "59ade60e",
   "metadata": {
    "scrolled": true
   },
   "outputs": [],
   "source": [
    "# Filter the data for each year\n",
    "df_2022 = df[df['Year'] == 2022]\n",
    "df_2023 = df[df['Year'] == 2023]\n",
    "\n",
    "# Define the sentiment categories and their order\n",
    "sentiment_categories = ['pos', 'neg', 'neu']\n",
    "\n",
    "# Calculate the counts for each sentiment category for 2022 and 2023\n",
    "counts_2022 = df_2022['Sentiment'].value_counts()[sentiment_categories]\n",
    "counts_2023 = df_2023['Sentiment'].value_counts()[sentiment_categories]\n",
    "\n",
    "sns.set_palette(\"Spectral\")\n",
    "\n",
    "# Plot the histogram\n",
    "fig, ax = plt.subplots(figsize=(10, 6))\n",
    "\n",
    "bar_width = 0.35\n",
    "index = range(len(sentiment_categories))\n",
    "\n",
    "rects1 = ax.bar(index, counts_2022, bar_width, label='2022')\n",
    "rects2 = ax.bar([i + bar_width for i in index], counts_2023, bar_width, label='2023')\n",
    "\n",
    "ax.set_xlabel('Sentiment')\n",
    "ax.set_ylabel('Frequency')\n",
    "ax.set_title('Sentiment Distribution for 2022 and 2023')\n",
    "ax.set_xticks([i + bar_width / 2 for i in index])\n",
    "ax.set_xticklabels(sentiment_categories)\n",
    "ax.legend()\n",
    "\n",
    "plt.show()\n"
   ]
  },
  {
   "cell_type": "markdown",
   "id": "4558715f",
   "metadata": {},
   "source": [
    "<p>Dal confronto, emerge che il sentimento si è distribuito in maniera sostanzialmente identica tra 2022 e 2023</p>"
   ]
  },
  {
   "cell_type": "code",
   "execution_count": null,
   "id": "1f62cb9d",
   "metadata": {},
   "outputs": [],
   "source": [
    "def percentuali(dfmensile):\n",
    "    vals = ['pos', 'neg', 'neu']\n",
    "    for val in vals:\n",
    "        tot = dfmensile['Sentiment'].value_counts()[val]\n",
    "        counts = int(dfmensile['Sentiment'].value_counts()[val] / sum(dfmensile['Sentiment'].value_counts()) * 100)\n",
    "        print(val + \":\")\n",
    "        print(str(counts)+\"%\"+\"\\nnumero tweets:\" +str(tot))"
   ]
  },
  {
   "cell_type": "code",
   "execution_count": null,
   "id": "08fabd54",
   "metadata": {},
   "outputs": [],
   "source": [
    "jan = monthlySentiment(df23_sentiment, 1)\n",
    "percentuali(jan)"
   ]
  },
  {
   "cell_type": "code",
   "execution_count": null,
   "id": "fc07a864",
   "metadata": {},
   "outputs": [],
   "source": [
    "feb = monthlySentiment(df23_sentiment, 2)\n",
    "percentuali(feb)"
   ]
  },
  {
   "cell_type": "code",
   "execution_count": null,
   "id": "86c1cb2c",
   "metadata": {},
   "outputs": [],
   "source": [
    "mar = monthlySentiment(df23_sentiment, 3)\n",
    "percentuali(mar)"
   ]
  },
  {
   "cell_type": "code",
   "execution_count": null,
   "id": "58701217",
   "metadata": {},
   "outputs": [],
   "source": [
    "apr = monthlySentiment(df23_sentiment, 4)\n",
    "percentuali(apr)"
   ]
  },
  {
   "cell_type": "code",
   "execution_count": null,
   "id": "89cabd3e",
   "metadata": {},
   "outputs": [],
   "source": [
    "may = monthlySentiment(df23_sentiment, 5)\n",
    "percentuali(may)"
   ]
  },
  {
   "cell_type": "code",
   "execution_count": null,
   "id": "107c8e47",
   "metadata": {},
   "outputs": [],
   "source": [
    "jun = monthlySentiment(df23_sentiment, 6)\n",
    "percentuali(jun)"
   ]
  },
  {
   "cell_type": "markdown",
   "id": "ae574587",
   "metadata": {},
   "source": [
    "<p>Per ciascun mese i positivi superano negativi e neutri, ma con un margine di differenza dell'1-2% a seconda del mese.</p>"
   ]
  },
  {
   "cell_type": "code",
   "execution_count": null,
   "id": "b808ead9",
   "metadata": {},
   "outputs": [],
   "source": [
    "from textblob import TextBlob\n",
    "df2 = df.copy() #creo una copia per sicurezza\n",
    "sid = SentimentIntensityAnalyzer()"
   ]
  },
  {
   "cell_type": "code",
   "execution_count": null,
   "id": "e43a64e7",
   "metadata": {},
   "outputs": [],
   "source": [
    "df['blob_polarity'] = df['tweetText'].map(lambda text: sid.polarity_scores(text)['compound']) "
   ]
  },
  {
   "cell_type": "code",
   "execution_count": null,
   "id": "c9e7f3af",
   "metadata": {},
   "outputs": [],
   "source": [
    "# Calcolo la polarità con Vader\n",
    "df['vader_polarity'] = df['tweetText'].map(lambda text: sid.polarity_scores(text)['compound']) "
   ]
  },
  {
   "cell_type": "code",
   "execution_count": null,
   "id": "282536b8",
   "metadata": {},
   "outputs": [],
   "source": [
    "# Combine both polarities to make a dataframe\n",
    "polarity_df = df[['vader_polarity', 'blob_polarity']]\n",
    "polarity_df = polarity_df.rename(columns={'vader_polarity': 'Vader','blob_polarity': 'TextBlob'})\n",
    "\n",
    "# Plot a historam to compare the polarities of both the methods\n",
    "fig = px.histogram(polarity_df, x=['Vader', 'TextBlob'], nbins=40, barmode='group', color_discrete_sequence=['#1DA1F2', '#00CC96'])\n",
    "fig.update_layout(title='Distributions of sentimental polarities Vader Vs. TextBlob', xaxis_title='Polarity', yaxis_title='Count',width=1200, height=800)\n",
    "fig.show()"
   ]
  },
  {
   "cell_type": "markdown",
   "id": "419768da",
   "metadata": {},
   "source": [
    "<p>Questo grafico mostra la distribuzione del sentimento sull'intero dataset (che comprende 22/23) per mostrare come  nltk sia in grado di recepire un più ampio range di valori di sentimento rispetto a textBlob. In linea di massima mi interessa evidenziare come la sentiment analysis su chatgpt dia in ogni caso esiti positivi da parte delle persone/account che hanno twittato.</p>"
   ]
  },
  {
   "cell_type": "markdown",
   "id": "3eb79cc8",
   "metadata": {},
   "source": [
    "<h1>Word Frequency by Year</h1>"
   ]
  },
  {
   "cell_type": "code",
   "execution_count": null,
   "id": "7f826176",
   "metadata": {},
   "outputs": [],
   "source": [
    "import pandas as pd\n",
    "import seaborn as sns\n",
    "\n",
    "from nltk import FreqDist\n",
    "from nltk.tokenize import word_tokenize"
   ]
  },
  {
   "cell_type": "markdown",
   "id": "b0bb6587",
   "metadata": {},
   "source": [
    "<h3>Tweets relativi al 2022</h3>"
   ]
  },
  {
   "cell_type": "markdown",
   "id": "83f1adda",
   "metadata": {},
   "source": [
    "<p>Suddivido il dataset del 2022 in tre sotto-datasets, uno per ciascuna categoria di sentimento</p>"
   ]
  },
  {
   "cell_type": "code",
   "execution_count": null,
   "id": "edd064f5",
   "metadata": {},
   "outputs": [],
   "source": [
    "df22_pos = df22_sentiment[df22_sentiment['Sentiment']=='pos']\n",
    "df22_neg = df22_sentiment[df22_sentiment['Sentiment']=='neg']\n",
    "df22_neu = df22_sentiment[df22_sentiment['Sentiment']=='neu']"
   ]
  },
  {
   "cell_type": "code",
   "execution_count": null,
   "id": "609f9c03",
   "metadata": {},
   "outputs": [],
   "source": [
    "df22_list= [df22_pos, df22_neg, df22_neu]"
   ]
  },
  {
   "cell_type": "markdown",
   "id": "558115bc",
   "metadata": {},
   "source": [
    "<p>Osservo le 50 parole più frequenti</p>"
   ]
  },
  {
   "cell_type": "code",
   "execution_count": null,
   "id": "e5f5c500",
   "metadata": {},
   "outputs": [],
   "source": [
    "def cinquantaParole(df, boolean):\n",
    "    tokens = []\n",
    "    for row in df['tweetText']:\n",
    "        tokens.extend(word_tokenize(str(row).lower()))  # Tokenization and lower conversion of the strings\n",
    "\n",
    "    word_freq = FreqDist(tokens)\n",
    "    sorted_freq = sorted(word_freq.items(), key=lambda x: x[1], reverse=boolean)\n",
    "    banned_w = ['chatgpt', 'ai', ' ai', 'ai ', 'gpt', 'openai', 'artificialintelligence', 'amp', 'https']\n",
    "    sorted_freq = [(word, freq) for word, freq in sorted_freq if word not in banned_w]\n",
    "    return sorted_freq\n",
    "\n",
    "def createDffreqs(sorted_freq):\n",
    "    freq_df = pd.DataFrame(sorted_freq, columns=['word', 'frequency'])\n",
    "    freq_df.sort_values(by='frequency', ascending=False, inplace=True)\n",
    "    return freq_df"
   ]
  },
  {
   "cell_type": "code",
   "execution_count": null,
   "id": "3209ca5f",
   "metadata": {},
   "outputs": [],
   "source": [
    "N = 30  #numero parole, cambiare se necessario\n",
    "colors = ['Greens', 'Reds', 'Purples']"
   ]
  },
  {
   "cell_type": "code",
   "execution_count": null,
   "id": "bdeca4c2",
   "metadata": {},
   "outputs": [],
   "source": [
    "for i, df in enumerate(df22_list):\n",
    "    sorted_freq = cinquantaParole(df, True)\n",
    "    \n",
    "    top_words = createDffreqs(sorted_freq).head(N) #prendo le n parole più frequenti\n",
    "\n",
    "    top_words_styled = top_words[:30].style.background_gradient(cmap=colors[i])\n",
    "    \n",
    "    sentiment = ['Positive', 'Negative', 'Neutral'][i]  #Metto l'etichetta\n",
    "    \n",
    "    top_words_styled.caption = f\"Top 30 parole più frequenti nel 2022 (tweets con sentimento {sentiment})\"\n",
    "    \n",
    "    display(top_words_styled)  #Mostro il dataset\n"
   ]
  },
  {
   "cell_type": "code",
   "execution_count": null,
   "id": "f7ac08cc",
   "metadata": {},
   "outputs": [],
   "source": [
    "top10_2022_general = createDffreqs(cinquantaParole(df22_sentiment, False)).head(10) #prendo le n parole più frequenti\n",
    "top10_2022_general"
   ]
  },
  {
   "cell_type": "code",
   "execution_count": null,
   "id": "9ee18646",
   "metadata": {},
   "outputs": [],
   "source": [
    "import plotly.express as px\n",
    "\n",
    "fig = px.treemap(top10_2022_general, path=['word'], values='frequency', title=\"Top 20 parole nei tweets\")\n",
    "fig.update_layout(autosize=False, width=800, height=600)\n",
    "fig.show()\n"
   ]
  },
  {
   "cell_type": "markdown",
   "id": "d1502443",
   "metadata": {},
   "source": [
    "<h3>Tweets relativi al 2023</h3>"
   ]
  },
  {
   "cell_type": "markdown",
   "id": "00790993",
   "metadata": {},
   "source": [
    "<p>Suddivido il dataset del 2023 in tre sotto-datasets, uno per ciascuna categoria di sentimento</p>"
   ]
  },
  {
   "cell_type": "code",
   "execution_count": null,
   "id": "b5b9ad41",
   "metadata": {},
   "outputs": [],
   "source": [
    "df23_pos = df23_sentiment[df23_sentiment['Sentiment']=='pos']\n",
    "df23_neg = df23_sentiment[df23_sentiment['Sentiment']=='neg']\n",
    "df23_neu = df23_sentiment[df23_sentiment['Sentiment']=='neu']"
   ]
  },
  {
   "cell_type": "code",
   "execution_count": null,
   "id": "78829ea3",
   "metadata": {},
   "outputs": [],
   "source": [
    "df23_list= [df23_pos, df23_neg, df23_neu]"
   ]
  },
  {
   "cell_type": "code",
   "execution_count": null,
   "id": "e02645bb",
   "metadata": {},
   "outputs": [],
   "source": [
    "for i, df in enumerate(df23_list):\n",
    "    sorted_freq = cinquantaParole(df, True)\n",
    "    \n",
    "    top_words = createDffreqs(sorted_freq).head(N) #prendo le n parole più frequenti\n",
    "    \n",
    "    top_words_styled = top_words[:30].style.background_gradient(cmap=colors[i])\n",
    "    \n",
    "    sentiment = ['Positive', 'Negative', 'Neutral'][i]  #Metto l'etichetta\n",
    "    \n",
    "    top_words_styled.caption = f\"Top 30 parole più frequenti nel 2023 (tweets con sentimento {sentiment})\"\n",
    "    \n",
    "    display(top_words_styled)  #Mostro il dataset"
   ]
  },
  {
   "cell_type": "code",
   "execution_count": null,
   "id": "3bf83830",
   "metadata": {},
   "outputs": [],
   "source": [
    "top10_2023_general = createDffreqs(cinquantaParole(df23_sentiment)).head(10) #prendo le n parole più frequenti\n",
    "top10_2023_general"
   ]
  },
  {
   "cell_type": "code",
   "execution_count": null,
   "id": "bdd8b902",
   "metadata": {},
   "outputs": [],
   "source": [
    "fig = px.treemap(top10_2023_general, path=['word'], values='frequency', title=\"Top 20 parole nei tweets\")\n",
    "fig.update_layout(autosize=False, width=800, height=600)\n",
    "fig.show()"
   ]
  },
  {
   "cell_type": "markdown",
   "id": "fcbeb5fd",
   "metadata": {},
   "source": [
    "<h1>Bigrams, trigrams</h1>"
   ]
  },
  {
   "cell_type": "code",
   "execution_count": null,
   "id": "12703e3c",
   "metadata": {},
   "outputs": [],
   "source": [
    "from sklearn.feature_extraction.text import CountVectorizer"
   ]
  },
  {
   "cell_type": "code",
   "execution_count": null,
   "id": "ca8159e7",
   "metadata": {},
   "outputs": [],
   "source": [
    "def get_top_n_ngrams(corpus, n=None, ngram=2, exclude_keywords=None):\n",
    "    if exclude_keywords is None:\n",
    "        exclude_keywords = []\n",
    "        \n",
    "    vec = CountVectorizer(ngram_range=(ngram, ngram), stop_words='english').fit(corpus)\n",
    "    bag_of_words = vec.transform(corpus)\n",
    "    sum_words = bag_of_words.sum(axis=0) \n",
    "    words_freq = [(word, sum_words[0, idx]) for word, idx in vec.vocabulary_.items()]\n",
    "    words_freq = sorted(words_freq, key=lambda x: x[1], reverse=True)\n",
    "\n",
    "    # Exclude n-grams containing specified keywords\n",
    "    words_freq = [item for item in words_freq if not any(keyword in item[0] for keyword in exclude_keywords)]\n",
    "\n",
    "    return words_freq[:n]"
   ]
  },
  {
   "cell_type": "code",
   "execution_count": null,
   "id": "fe7a0814",
   "metadata": {},
   "outputs": [],
   "source": [
    "#prendo i bigrammi e i trigrammi divisi per 2022 e 2023"
   ]
  },
  {
   "cell_type": "code",
   "execution_count": null,
   "id": "19920529",
   "metadata": {},
   "outputs": [],
   "source": [
    "# top 20 bigrammi 2022\n",
    "#common_bigrams = get_top_n_ngrams(df22_sentiment['tweetText'], 20, ngram=2, exclude_keywords=['chat', 'gpt', 'chatgpt','httpstcorlyimpqw', 'ai'])"
   ]
  },
  {
   "cell_type": "code",
   "execution_count": null,
   "id": "08f37300",
   "metadata": {},
   "outputs": [],
   "source": [
    "# top 20 bigrammi 2023\n",
    "#common_bigrams23 = get_top_n_ngrams(df23_sentiment['tweetText'], 20, ngram=2, exclude_keywords=['chat', 'gpt', 'chatgpt','httpstcorlyimpqw', 'ai'])"
   ]
  },
  {
   "cell_type": "code",
   "execution_count": null,
   "id": "180b1ad0",
   "metadata": {},
   "outputs": [],
   "source": [
    "# top 20 trigrammi 2022\n",
    "common_trigrams = get_top_n_ngrams(df22_sentiment['tweetText'], 20, ngram=3, exclude_keywords=['chat', 'gpt', 'chatgpt','httpstcorlyimpqw', 'ai'])"
   ]
  },
  {
   "cell_type": "code",
   "execution_count": null,
   "id": "b9b7528f",
   "metadata": {},
   "outputs": [],
   "source": [
    "# top 20 trigrammi 2023\n",
    "common_trigrams23 = get_top_n_ngrams(df23_sentiment['tweetText'], 20, ngram=3, exclude_keywords=['chat', 'gpt', 'chatgpt',' httpstcorlyimpqw', 'ai', 'sunset', 'sunrise','current', 'temp', 'pm'])"
   ]
  },
  {
   "cell_type": "code",
   "execution_count": null,
   "id": "828c413a",
   "metadata": {},
   "outputs": [],
   "source": [
    "#df_bigrams22 = pd.DataFrame(common_bigrams, columns=['NgramText', 'count'])\n",
    "#df_bigrams23 = pd.DataFrame(common_bigrams23, columns=['NgramText', 'count'])\n",
    "df_trigrams22 = pd.DataFrame(common_trigrams, columns=['NgramText', 'count'])\n",
    "df_trigrams23 = pd.DataFrame(common_trigrams23, columns=['NgramText', 'count'])"
   ]
  },
  {
   "cell_type": "markdown",
   "id": "49f5150a",
   "metadata": {},
   "source": [
    "<p>Mostro la <strong>frequenza generale</strong> dei bigrammi nei tweets del 2022</p>"
   ]
  },
  {
   "cell_type": "code",
   "execution_count": null,
   "id": "7fc594fa",
   "metadata": {
    "scrolled": true
   },
   "outputs": [],
   "source": [
    "#fig_bigrams = px.bar(df_bigrams22[1:], x='NgramText', y='count', title='Conteggio Bigrammi sul 2022', color = 'count',width=1000, height=600)\n",
    "#fig_bigrams.show()"
   ]
  },
  {
   "cell_type": "code",
   "execution_count": null,
   "id": "6b3be41a",
   "metadata": {},
   "outputs": [],
   "source": [
    "#fig_bigrams = px.bar(df_bigrams23[1:], x='NgramText', y='count', title='Conteggio Bigrammi sul 2023', color = 'count',width=1000, height=600)\n",
    "#fig_bigrams.show()"
   ]
  },
  {
   "cell_type": "code",
   "execution_count": null,
   "id": "676adf31",
   "metadata": {},
   "outputs": [],
   "source": [
    "fig_trigrams = px.bar(df_trigrams22, x='NgramText', y='count', title='Conteggio Trigrammi sul 2022', color = 'count',width=1000, height=600)\n",
    "fig_trigrams.show()"
   ]
  },
  {
   "cell_type": "code",
   "execution_count": null,
   "id": "9e47e2ea",
   "metadata": {},
   "outputs": [],
   "source": [
    "fig_bigrams = px.bar(df_trigrams23[1:], x='NgramText', y='count', title='Conteggio Trigrammi sul 2023', color = 'count',width=1000, height=600)\n",
    "fig_bigrams.show()"
   ]
  },
  {
   "cell_type": "markdown",
   "id": "74328c5a",
   "metadata": {},
   "source": [
    "<p>I bigrammi sono centrati soprattutto sull'uso di ChatGPT, ricorrono temi come ‘write’, ‘ask’, ‘tools’, ‘search engine’, etc.</p>"
   ]
  },
  {
   "cell_type": "markdown",
   "id": "93b398b2",
   "metadata": {},
   "source": [
    "<p>Alcuni bigrammi mostrano che chatgpt ha molte applicazioni con l'informatica e il coding in generale.</p>"
   ]
  },
  {
   "cell_type": "markdown",
   "id": "34101749",
   "metadata": {},
   "source": [
    "<p>Anche i trigrammi mostrano un andamento similare, in particolare, vediamo la comparsa di alcune combinazioni di rilievo come l'associazionedi chitgpt a search engine. Indice che forse  in una fase inizale si cercava di comprendere a cosa servisse chatgpt.</p> "
   ]
  },
  {
   "cell_type": "markdown",
   "id": "1849fb99",
   "metadata": {},
   "source": [
    "<p>Nella maggior parte dei casi ricorrono anche i temi relativi al language model (vedi relazione con periodo febbraio/marzo)</p>"
   ]
  },
  {
   "cell_type": "markdown",
   "id": "f9ac35c1",
   "metadata": {},
   "source": [
    "<h1>ANALISI MENSILE DEI TRIGRAMMI NEL DATASET DI COMMENTI</h1>"
   ]
  },
  {
   "cell_type": "code",
   "execution_count": null,
   "id": "f35ed380",
   "metadata": {},
   "outputs": [],
   "source": [
    "#Ricerche dei trigrammi per ogni mese\n",
    "def trigrammaMese(month):\n",
    "    df_tmp = df23_sentiment[df23_sentiment['Month']==month]\n",
    "    trig = get_top_n_ngrams(df_tmp['tweetText'], 20, ngram=3, exclude_keywords=['chat', 'gpt', 'chatgpt',' httpstcorlyimpqw', 'ai', 'sunrise', 'sunset', 'Karachi', 'whether'])\n",
    "    df = pd.DataFrame(trig, columns=['NgramText', 'count'])\n",
    "    return df"
   ]
  },
  {
   "cell_type": "code",
   "execution_count": null,
   "id": "4f677d12",
   "metadata": {},
   "outputs": [],
   "source": [
    "month = input(\"Inserisci un numero corrispondente al mese scelto: \")\n",
    "monthparam = int(month)\n",
    "\n",
    "if monthparam >= 1 and monthparam <= 12:\n",
    "    dfmonth = trigrammaMese(monthparam)\n",
    "    # Resto del codice per elaborare i risultati dei trigrammi\n",
    "else:\n",
    "    print(\"Mese non valido. Inserisci un numero compreso tra 1 e 12.\")\n"
   ]
  },
  {
   "cell_type": "code",
   "execution_count": null,
   "id": "7a8daed9",
   "metadata": {},
   "outputs": [],
   "source": [
    "def convert_number_to_month(number):\n",
    "    if number == 1:\n",
    "        return 'January'\n",
    "    elif number == 2:\n",
    "        return 'February'\n",
    "    elif number == 3:\n",
    "        return 'March'\n",
    "    elif number == 4:\n",
    "        return 'April'\n",
    "    elif number == 5:\n",
    "        return 'May'\n",
    "    elif number == 6:\n",
    "        return 'June'\n",
    "    elif number == 7:\n",
    "        return 'July'\n",
    "    elif number == 8:\n",
    "        return 'August'\n",
    "    elif number == 9:\n",
    "        return 'September'\n",
    "    elif number == 10:\n",
    "        return 'October'\n",
    "    elif number == 11:\n",
    "        return 'November'\n",
    "    elif number == 12:\n",
    "        return 'December'\n",
    "    else:\n",
    "        return None  # handle invalid input"
   ]
  },
  {
   "cell_type": "code",
   "execution_count": null,
   "id": "868ebb8c",
   "metadata": {},
   "outputs": [],
   "source": [
    "nomemese = convert_number_to_month(monthparam)\n",
    "fig_bigrams = px.bar(dfmonth[1:], x='NgramText', y='count', title='Conteggio Trigrammi sul {} 2023'.format(nomemese), color = 'count',width=1000, height=600)\n",
    "fig_bigrams.show()"
   ]
  },
  {
   "cell_type": "markdown",
   "id": "7420c177",
   "metadata": {},
   "source": [
    "<h3>Alcune riflessioni sui dati (mensili per il 2023)</h3>\n",
    "<p>\n",
    "    <ul>\n",
    "        <li>Gennaio: nel mese di Gennaio i trigrammi con maggior rilievo risultano quelli relativi alla questione del \"python deeplearning\" al \"coding\". Tra i trigrammi più frequenti si trovano anche quelli relativi alla questione del trading, numerose volte viene citato il termine \"bitcoin\" affiancato da \"fintech\" e \"cybersecurity\".\n",
    "            Da notare anche la presenza di un trigramma \"medical licensing exam\" relativo all'uso di chatgpt nella fase di ammissione agli esami di medicina.<strong> Note di rilievo:</strong> sussiste molto rumore dovuto ai tweets che parlano di <i>Wheather updates</i> e <i>metereologia in genere</i>. Si potrebbe decidere di filtrare ulteriormente i risultati per escludere queste conclusioni oppure verificare di cosa si tratta.</li>\n",
    "        <li>Febbraio: nel mese di Febbraio si trova un trigramma interessante <i>faster response times</i> che è sicuramente relativo all'uso di chatGPT e ad una sua accezione positiva. Il trigramma <i>Million monthly active</i> invece dovrebbe essere riferito alla notizia della crescita esponenziale di utilizzatori di chat gpt uscita proprio agli inizi di Febbraio. Abbiamo anche un riferimento alle <i>generated based instructions</i>, modo di utilizzo dell'intelligenza artificiale e del LM previsto da chatgpt. <strong>Note di rilievo:</strong> ancora una volta si trova rumore sulle tematiche della temperatura e della velocità del vento. Un buon volume di tweets riguarda minecraf, perché?</li>\n",
    "        <li>Marzo: i trigrammi con maggiore frequenza sono relativi alla questione del ban di chatgpt in italia e ai plugin del browser in grado di far girare comunque l'applicazione. Ancora una volta si trova il trigramma <i>large language model</i>. Rimangono numerosi trigrammi su tematiche di tipo gaming, relativi a nintendo, minecraft e fantasy in genere, perché?</li>\n",
    "        <li>Aprile: qui il trigramma più frequente risulta a tema <i>NFT</i> ed è <i>short recommendation ticker</i>. Per il resto emergono ancora risultati sulla questione del ban italiano, soprattutto relative alla ragione (vd. <i>reason italy banned</i>). Si nota un incremento dei trigrammi relativi al trading e alle criptovalute, come già evidenziato in gennaio-febbraio. In particolare relativi al <i>candle price</i>, una tecnica per incrementare i profitti.</li>\n",
    "        <li>Maggio: alcuni trigrammi mostrano l'interesse nei tweeters per la questione del tribunale di NY, a quanto pare qualcuno aveva usato chatgpt per scrivere un discorso per il tribunale (?= controlla notizia), finendo con l'usare notizie false. Inoltre parte dei trigrammi rivelano informazioni sul tema dell'educazione e il timore che le nuove generazioni siano meno capaci o più capaci per colpa/merito dello strumento. </li>\n",
    "        <li>Giugno: a Norimberga viene generato un sermone con chatgpt, i trigrammi rivelano che questa questione è stata discussa su twitter. Chatgpt come fonte religiosa con conseguenze negative/positive sul pensiero delle persone. Inoltre compaiono tra i più frequenti i trigrammi relativi al <i>fights experts</i> una questione di rilievo e preoccupazione, ovvero se chatgpt sia in grado di \"combattere\" gli esperti sulle loro discipline di applicazione. \n",
    "        </li>\n",
    "    </ul>\n",
    "</p>"
   ]
  },
  {
   "cell_type": "markdown",
   "id": "5aae01a7",
   "metadata": {},
   "source": [
    "<h2>Topic Modelling con LDA</h2>"
   ]
  },
  {
   "cell_type": "code",
   "execution_count": null,
   "id": "c682577b",
   "metadata": {},
   "outputs": [],
   "source": [
    "from nltk.stem import WordNetLemmatizer  # Add this import statement\n",
    "import gensim\n",
    "from gensim import corpora, models"
   ]
  },
  {
   "cell_type": "code",
   "execution_count": null,
   "id": "4cb6a661",
   "metadata": {},
   "outputs": [],
   "source": [
    "# Let's sort the dataframe and get top 10000 most liked tweets\n",
    "df_sorted = df.sort_values(by='likeCount', ascending=False)\n",
    "df_top_10000 = df_sorted.iloc[:10000]"
   ]
  },
  {
   "cell_type": "code",
   "execution_count": null,
   "id": "7a029ff0",
   "metadata": {},
   "outputs": [],
   "source": [
    "df_top_10000"
   ]
  },
  {
   "cell_type": "code",
   "execution_count": null,
   "id": "4f516cd3",
   "metadata": {},
   "outputs": [],
   "source": [
    "# Text Preprocessing\n",
    "stop_words = set(stopwords.words('english'))\n",
    "lemmatizer = WordNetLemmatizer()\n",
    "docs = df_top_10000['tweetText'].apply(lambda x: [lemmatizer.lemmatize(word) for word in nltk.word_tokenize(x.lower()) if word.isalpha() and word not in stop_words])"
   ]
  },
  {
   "cell_type": "code",
   "execution_count": null,
   "id": "bd5b940a",
   "metadata": {},
   "outputs": [],
   "source": [
    "# Create a dictionary of words and their frequency\n",
    "dictionary = corpora.Dictionary(docs)"
   ]
  },
  {
   "cell_type": "code",
   "execution_count": null,
   "id": "a2e17441",
   "metadata": {},
   "outputs": [],
   "source": [
    "# Create a document-term matrix\n",
    "corpus = [dictionary.doc2bow(doc) for doc in docs]\n",
    "\n",
    "# Topic modeling using LDA\n",
    "lda_model = gensim.models.ldamodel.LdaModel(corpus=corpus, id2word=dictionary, num_topics=10, random_state=100, update_every=1, chunksize=100, passes=10, alpha='auto', per_word_topics=True)"
   ]
  },
  {
   "cell_type": "code",
   "execution_count": null,
   "id": "8e4b9368",
   "metadata": {},
   "outputs": [],
   "source": [
    "for idx, topic in lda_model.print_topics(-1):\n",
    "    print('Topic: {} \\nWords: {}'.format(idx, topic))\n",
    "    print('\\n')"
   ]
  },
  {
   "cell_type": "markdown",
   "id": "0025fc88",
   "metadata": {},
   "source": [
    "<h2>Cerco di interpretare i risultati del topic modelling con LDA</h2>"
   ]
  },
  {
   "cell_type": "markdown",
   "id": "d742104a",
   "metadata": {},
   "source": [
    "<ul>\n",
    "    <li><strong>Topic 1: </strong>Asking questions and getting better answers that are generated from facts,</li>\n",
    "    <li><strong>Topic 2: </strong>Discussions about the use of ChatGPT as unique tool that can help in generating something,</li>\n",
    "    <li><strong>Topic 3: </strong>ChatGPT e OpenAI as gaming supporter but also its risks with its usage,</li>\n",
    "    <li><strong>Topic 4: </strong>The questions about the intelligence of chatGPT and the future questions about its use,</li>\n",
    "    <li><strong>Topic 5: </strong>Articles that explains the ChatGPT role in learning and generating some good answer about coding,</li>\n",
    "    <li><strong>Topic 6: </strong>The question of chatGPT as future poem writer and all of its creative applications,</li>\n",
    "    <li><strong>Topic 7: </strong>ChatGPT and its scholastic uses, is it good or bad for education,</li>\n",
    "    <li><strong>Topic 8: </strong>Probably students are loving the human language generator and obviously using it,</li>\n",
    "    <li><strong>Topic 9: </strong>AI tools, their use in the workplace, and their potential impact on various tasks such as writing.</li>\n",
    "</ul>"
   ]
  },
  {
   "cell_type": "markdown",
   "id": "573a9e65",
   "metadata": {},
   "source": [
    "<h3>Analisi per topic</h3>"
   ]
  },
  {
   "cell_type": "markdown",
   "id": "7f6a89d7",
   "metadata": {},
   "source": [
    "<p>Per questa analisi dovrò reimportare le librerie e un dataset misto tra italiano e inglese</p>"
   ]
  },
  {
   "cell_type": "code",
   "execution_count": 19,
   "id": "797dd5e8",
   "metadata": {},
   "outputs": [],
   "source": [
    "import string\n",
    "import pandas as pd\n",
    "import nltk\n",
    "import matplotlib.pyplot as plt\n",
    "from datetime import datetime\n",
    "import plotly.express as px"
   ]
  },
  {
   "cell_type": "code",
   "execution_count": 9,
   "id": "6617f8e3",
   "metadata": {},
   "outputs": [
    {
     "name": "stderr",
     "output_type": "stream",
     "text": [
      "[nltk_data] Downloading package stopwords to\n",
      "[nltk_data]     C:\\Users\\utente\\AppData\\Roaming\\nltk_data...\n",
      "[nltk_data]   Package stopwords is already up-to-date!\n",
      "[nltk_data] Downloading package punkt to\n",
      "[nltk_data]     C:\\Users\\utente\\AppData\\Roaming\\nltk_data...\n",
      "[nltk_data]   Package punkt is already up-to-date!\n"
     ]
    }
   ],
   "source": [
    "# inizializzo nltk con i download necessari\n",
    "nltk.download('stopwords')\n",
    "nltk.download('punkt')\n",
    "\n",
    "#Controllo il linguaggio e rimuovo le stopwords per caso\n",
    "def get_stop_words(lang):\n",
    "    if lang == 'en':\n",
    "        return nltk.corpus.stopwords.words('english')\n",
    "    elif lang == 'it':\n",
    "        return nltk.corpus.stopwords.words('italian')\n",
    "    else:\n",
    "        return []\n",
    "\n",
    "#Rimozione stopwords\n",
    "def remove_stop_words(text, stop_words):\n",
    "    text = text.translate(str.maketrans('', '', string.punctuation))\n",
    "    return ' '.join([word for word in text.split() if word.lower() not in stop_words])\n",
    "\n",
    "# Read the DataFrame\n",
    "df = pd.read_csv('dfITEN.csv')  # Replace 'your_data.csv' with your actual data file\n",
    "\n",
    "# Apply stop words removal\n",
    "df['lang'] = df['lang'].fillna('')  #per riempire eventuali vuoti (non dovrebbero essercene)\n",
    "df['stop_words'] = df['lang'].apply(get_stop_words)\n",
    "df['stop_content'] = df['tweetText'].apply(lambda x: remove_stop_words(x, stop_words=df['stop_words']))"
   ]
  },
  {
   "cell_type": "code",
   "execution_count": 34,
   "id": "68185c51",
   "metadata": {},
   "outputs": [
    {
     "name": "stdout",
     "output_type": "stream",
     "text": [
      "dimensione dataset: 308359\n"
     ]
    }
   ],
   "source": [
    "print(\"dimensione dataset: \"+ str(len(df)))"
   ]
  },
  {
   "cell_type": "code",
   "execution_count": 14,
   "id": "2e74a99e",
   "metadata": {},
   "outputs": [
    {
     "name": "stderr",
     "output_type": "stream",
     "text": [
      "[nltk_data] Downloading package vader_lexicon to\n",
      "[nltk_data]     C:\\Users\\utente\\AppData\\Roaming\\nltk_data...\n",
      "[nltk_data]   Package vader_lexicon is already up-to-date!\n"
     ]
    }
   ],
   "source": [
    "from nltk.sentiment.vader import SentimentIntensityAnalyzer\n",
    "from textblob import TextBlob\n",
    "\n",
    "#polarità calcolata con vader\n",
    "nltk.download('vader_lexicon')\n",
    "sid = SentimentIntensityAnalyzer()\n",
    "df['vader_polarity'] = df['tweetText'].map(lambda text: sid.polarity_scores(text)['compound']) \n",
    "\n",
    "#polarità con textblob\n",
    "df['blob_polarity'] = df['tweetText'].map(lambda text: TextBlob(text).sentiment.polarity)"
   ]
  },
  {
   "cell_type": "code",
   "execution_count": 53,
   "id": "4d08ec1a",
   "metadata": {},
   "outputs": [],
   "source": [
    "# We define a list of topics\n",
    "topics = ['ai', 'chatgpt', 'browser', 'openai', 'google', 'church', 'microsoft' ,'learning', 'school', 'cryptocurrencies', 'ban', 'italy ban','privacy']"
   ]
  },
  {
   "cell_type": "code",
   "execution_count": 54,
   "id": "a1c4a0bc",
   "metadata": {},
   "outputs": [],
   "source": [
    "# creo una colonna chiamata topic\n",
    "df['Topic'] = \"\"\n",
    "for topic in topics:\n",
    "    df.loc[df['stop_content'].str.contains(topic), 'Topic'] = topic"
   ]
  },
  {
   "cell_type": "code",
   "execution_count": 55,
   "id": "32acfc84",
   "metadata": {},
   "outputs": [],
   "source": [
    "# We create a new DataFrame with columns topic / sentiment / source\n",
    "data = []\n",
    "for topic in topics:\n",
    "    topic_rows = df[df['Topic'] == topic]\n",
    "    # Average sentiment per topic\n",
    "    vader_sentiments = topic_rows['vader_polarity'].sum() / topic_rows.shape[0]\n",
    "    textblob_sentiments = topic_rows['blob_polarity'].sum() / topic_rows.shape[0]\n",
    "    # Append data\n",
    "    data.append({'Topic': topic, 'Sentiment': vader_sentiments, 'Source': 'Vader'})\n",
    "    data.append({'Topic': topic, 'Sentiment': textblob_sentiments, 'Source': 'TextBlob'})\n",
    "\n",
    "df_new = pd.DataFrame(data)"
   ]
  },
  {
   "cell_type": "code",
   "execution_count": 56,
   "id": "d79394f2",
   "metadata": {},
   "outputs": [
    {
     "data": {
      "application/vnd.plotly.v1+json": {
       "config": {
        "plotlyServerURL": "https://plot.ly"
       },
       "data": [
        {
         "alignmentgroup": "True",
         "hovertemplate": "Source=Vader<br>Topic=%{x}<br>Sentiment=%{y}<extra></extra>",
         "legendgroup": "Vader",
         "marker": {
          "color": "#1DA1F2",
          "pattern": {
           "shape": ""
          }
         },
         "name": "Vader",
         "offsetgroup": "Vader",
         "orientation": "v",
         "showlegend": true,
         "textposition": "auto",
         "type": "bar",
         "x": [
          "ai",
          "chatgpt",
          "browser",
          "openai",
          "google",
          "church",
          "microsoft",
          "learning",
          "school",
          "cryptocurrencies",
          "ban",
          "italy ban",
          "privacy"
         ],
         "xaxis": "x",
         "y": [
          0.20671086974580494,
          0.19709014189428875,
          0.10864211576846307,
          0.21766438740725885,
          0.1512380351093317,
          0.1497836363636364,
          0.1701547239263804,
          0.28738041622198507,
          0.16611175737432488,
          0.07225978090766823,
          -0.04244195160441872,
          -0.43274,
          -0.0821723076923077
         ],
         "yaxis": "y"
        },
        {
         "alignmentgroup": "True",
         "hovertemplate": "Source=TextBlob<br>Topic=%{x}<br>Sentiment=%{y}<extra></extra>",
         "legendgroup": "TextBlob",
         "marker": {
          "color": "#00CC96",
          "pattern": {
           "shape": ""
          }
         },
         "name": "TextBlob",
         "offsetgroup": "TextBlob",
         "orientation": "v",
         "showlegend": true,
         "textposition": "auto",
         "type": "bar",
         "x": [
          "ai",
          "chatgpt",
          "browser",
          "openai",
          "google",
          "church",
          "microsoft",
          "learning",
          "school",
          "cryptocurrencies",
          "ban",
          "italy ban",
          "privacy"
         ],
         "xaxis": "x",
         "y": [
          0.11582429219205083,
          0.11346392483704579,
          0.09166555884486097,
          0.11851205055467615,
          0.1138400691867295,
          0.07403188627560638,
          0.09879887005462158,
          0.15225735887786981,
          0.11235896364836509,
          0.09040920639431867,
          0.09154277485911821,
          0.131,
          0.07838740810852761
         ],
         "yaxis": "y"
        }
       ],
       "layout": {
        "barmode": "group",
        "height": 600,
        "legend": {
         "title": {
          "text": "Source"
         },
         "tracegroupgap": 0
        },
        "template": {
         "data": {
          "bar": [
           {
            "error_x": {
             "color": "#2a3f5f"
            },
            "error_y": {
             "color": "#2a3f5f"
            },
            "marker": {
             "line": {
              "color": "white",
              "width": 0.5
             },
             "pattern": {
              "fillmode": "overlay",
              "size": 10,
              "solidity": 0.2
             }
            },
            "type": "bar"
           }
          ],
          "barpolar": [
           {
            "marker": {
             "line": {
              "color": "white",
              "width": 0.5
             },
             "pattern": {
              "fillmode": "overlay",
              "size": 10,
              "solidity": 0.2
             }
            },
            "type": "barpolar"
           }
          ],
          "carpet": [
           {
            "aaxis": {
             "endlinecolor": "#2a3f5f",
             "gridcolor": "#C8D4E3",
             "linecolor": "#C8D4E3",
             "minorgridcolor": "#C8D4E3",
             "startlinecolor": "#2a3f5f"
            },
            "baxis": {
             "endlinecolor": "#2a3f5f",
             "gridcolor": "#C8D4E3",
             "linecolor": "#C8D4E3",
             "minorgridcolor": "#C8D4E3",
             "startlinecolor": "#2a3f5f"
            },
            "type": "carpet"
           }
          ],
          "choropleth": [
           {
            "colorbar": {
             "outlinewidth": 0,
             "ticks": ""
            },
            "type": "choropleth"
           }
          ],
          "contour": [
           {
            "colorbar": {
             "outlinewidth": 0,
             "ticks": ""
            },
            "colorscale": [
             [
              0,
              "#0d0887"
             ],
             [
              0.1111111111111111,
              "#46039f"
             ],
             [
              0.2222222222222222,
              "#7201a8"
             ],
             [
              0.3333333333333333,
              "#9c179e"
             ],
             [
              0.4444444444444444,
              "#bd3786"
             ],
             [
              0.5555555555555556,
              "#d8576b"
             ],
             [
              0.6666666666666666,
              "#ed7953"
             ],
             [
              0.7777777777777778,
              "#fb9f3a"
             ],
             [
              0.8888888888888888,
              "#fdca26"
             ],
             [
              1,
              "#f0f921"
             ]
            ],
            "type": "contour"
           }
          ],
          "contourcarpet": [
           {
            "colorbar": {
             "outlinewidth": 0,
             "ticks": ""
            },
            "type": "contourcarpet"
           }
          ],
          "heatmap": [
           {
            "colorbar": {
             "outlinewidth": 0,
             "ticks": ""
            },
            "colorscale": [
             [
              0,
              "#0d0887"
             ],
             [
              0.1111111111111111,
              "#46039f"
             ],
             [
              0.2222222222222222,
              "#7201a8"
             ],
             [
              0.3333333333333333,
              "#9c179e"
             ],
             [
              0.4444444444444444,
              "#bd3786"
             ],
             [
              0.5555555555555556,
              "#d8576b"
             ],
             [
              0.6666666666666666,
              "#ed7953"
             ],
             [
              0.7777777777777778,
              "#fb9f3a"
             ],
             [
              0.8888888888888888,
              "#fdca26"
             ],
             [
              1,
              "#f0f921"
             ]
            ],
            "type": "heatmap"
           }
          ],
          "heatmapgl": [
           {
            "colorbar": {
             "outlinewidth": 0,
             "ticks": ""
            },
            "colorscale": [
             [
              0,
              "#0d0887"
             ],
             [
              0.1111111111111111,
              "#46039f"
             ],
             [
              0.2222222222222222,
              "#7201a8"
             ],
             [
              0.3333333333333333,
              "#9c179e"
             ],
             [
              0.4444444444444444,
              "#bd3786"
             ],
             [
              0.5555555555555556,
              "#d8576b"
             ],
             [
              0.6666666666666666,
              "#ed7953"
             ],
             [
              0.7777777777777778,
              "#fb9f3a"
             ],
             [
              0.8888888888888888,
              "#fdca26"
             ],
             [
              1,
              "#f0f921"
             ]
            ],
            "type": "heatmapgl"
           }
          ],
          "histogram": [
           {
            "marker": {
             "pattern": {
              "fillmode": "overlay",
              "size": 10,
              "solidity": 0.2
             }
            },
            "type": "histogram"
           }
          ],
          "histogram2d": [
           {
            "colorbar": {
             "outlinewidth": 0,
             "ticks": ""
            },
            "colorscale": [
             [
              0,
              "#0d0887"
             ],
             [
              0.1111111111111111,
              "#46039f"
             ],
             [
              0.2222222222222222,
              "#7201a8"
             ],
             [
              0.3333333333333333,
              "#9c179e"
             ],
             [
              0.4444444444444444,
              "#bd3786"
             ],
             [
              0.5555555555555556,
              "#d8576b"
             ],
             [
              0.6666666666666666,
              "#ed7953"
             ],
             [
              0.7777777777777778,
              "#fb9f3a"
             ],
             [
              0.8888888888888888,
              "#fdca26"
             ],
             [
              1,
              "#f0f921"
             ]
            ],
            "type": "histogram2d"
           }
          ],
          "histogram2dcontour": [
           {
            "colorbar": {
             "outlinewidth": 0,
             "ticks": ""
            },
            "colorscale": [
             [
              0,
              "#0d0887"
             ],
             [
              0.1111111111111111,
              "#46039f"
             ],
             [
              0.2222222222222222,
              "#7201a8"
             ],
             [
              0.3333333333333333,
              "#9c179e"
             ],
             [
              0.4444444444444444,
              "#bd3786"
             ],
             [
              0.5555555555555556,
              "#d8576b"
             ],
             [
              0.6666666666666666,
              "#ed7953"
             ],
             [
              0.7777777777777778,
              "#fb9f3a"
             ],
             [
              0.8888888888888888,
              "#fdca26"
             ],
             [
              1,
              "#f0f921"
             ]
            ],
            "type": "histogram2dcontour"
           }
          ],
          "mesh3d": [
           {
            "colorbar": {
             "outlinewidth": 0,
             "ticks": ""
            },
            "type": "mesh3d"
           }
          ],
          "parcoords": [
           {
            "line": {
             "colorbar": {
              "outlinewidth": 0,
              "ticks": ""
             }
            },
            "type": "parcoords"
           }
          ],
          "pie": [
           {
            "automargin": true,
            "type": "pie"
           }
          ],
          "scatter": [
           {
            "marker": {
             "colorbar": {
              "outlinewidth": 0,
              "ticks": ""
             }
            },
            "type": "scatter"
           }
          ],
          "scatter3d": [
           {
            "line": {
             "colorbar": {
              "outlinewidth": 0,
              "ticks": ""
             }
            },
            "marker": {
             "colorbar": {
              "outlinewidth": 0,
              "ticks": ""
             }
            },
            "type": "scatter3d"
           }
          ],
          "scattercarpet": [
           {
            "marker": {
             "colorbar": {
              "outlinewidth": 0,
              "ticks": ""
             }
            },
            "type": "scattercarpet"
           }
          ],
          "scattergeo": [
           {
            "marker": {
             "colorbar": {
              "outlinewidth": 0,
              "ticks": ""
             }
            },
            "type": "scattergeo"
           }
          ],
          "scattergl": [
           {
            "marker": {
             "colorbar": {
              "outlinewidth": 0,
              "ticks": ""
             }
            },
            "type": "scattergl"
           }
          ],
          "scattermapbox": [
           {
            "marker": {
             "colorbar": {
              "outlinewidth": 0,
              "ticks": ""
             }
            },
            "type": "scattermapbox"
           }
          ],
          "scatterpolar": [
           {
            "marker": {
             "colorbar": {
              "outlinewidth": 0,
              "ticks": ""
             }
            },
            "type": "scatterpolar"
           }
          ],
          "scatterpolargl": [
           {
            "marker": {
             "colorbar": {
              "outlinewidth": 0,
              "ticks": ""
             }
            },
            "type": "scatterpolargl"
           }
          ],
          "scatterternary": [
           {
            "marker": {
             "colorbar": {
              "outlinewidth": 0,
              "ticks": ""
             }
            },
            "type": "scatterternary"
           }
          ],
          "surface": [
           {
            "colorbar": {
             "outlinewidth": 0,
             "ticks": ""
            },
            "colorscale": [
             [
              0,
              "#0d0887"
             ],
             [
              0.1111111111111111,
              "#46039f"
             ],
             [
              0.2222222222222222,
              "#7201a8"
             ],
             [
              0.3333333333333333,
              "#9c179e"
             ],
             [
              0.4444444444444444,
              "#bd3786"
             ],
             [
              0.5555555555555556,
              "#d8576b"
             ],
             [
              0.6666666666666666,
              "#ed7953"
             ],
             [
              0.7777777777777778,
              "#fb9f3a"
             ],
             [
              0.8888888888888888,
              "#fdca26"
             ],
             [
              1,
              "#f0f921"
             ]
            ],
            "type": "surface"
           }
          ],
          "table": [
           {
            "cells": {
             "fill": {
              "color": "#EBF0F8"
             },
             "line": {
              "color": "white"
             }
            },
            "header": {
             "fill": {
              "color": "#C8D4E3"
             },
             "line": {
              "color": "white"
             }
            },
            "type": "table"
           }
          ]
         },
         "layout": {
          "annotationdefaults": {
           "arrowcolor": "#2a3f5f",
           "arrowhead": 0,
           "arrowwidth": 1
          },
          "autotypenumbers": "strict",
          "coloraxis": {
           "colorbar": {
            "outlinewidth": 0,
            "ticks": ""
           }
          },
          "colorscale": {
           "diverging": [
            [
             0,
             "#8e0152"
            ],
            [
             0.1,
             "#c51b7d"
            ],
            [
             0.2,
             "#de77ae"
            ],
            [
             0.3,
             "#f1b6da"
            ],
            [
             0.4,
             "#fde0ef"
            ],
            [
             0.5,
             "#f7f7f7"
            ],
            [
             0.6,
             "#e6f5d0"
            ],
            [
             0.7,
             "#b8e186"
            ],
            [
             0.8,
             "#7fbc41"
            ],
            [
             0.9,
             "#4d9221"
            ],
            [
             1,
             "#276419"
            ]
           ],
           "sequential": [
            [
             0,
             "#0d0887"
            ],
            [
             0.1111111111111111,
             "#46039f"
            ],
            [
             0.2222222222222222,
             "#7201a8"
            ],
            [
             0.3333333333333333,
             "#9c179e"
            ],
            [
             0.4444444444444444,
             "#bd3786"
            ],
            [
             0.5555555555555556,
             "#d8576b"
            ],
            [
             0.6666666666666666,
             "#ed7953"
            ],
            [
             0.7777777777777778,
             "#fb9f3a"
            ],
            [
             0.8888888888888888,
             "#fdca26"
            ],
            [
             1,
             "#f0f921"
            ]
           ],
           "sequentialminus": [
            [
             0,
             "#0d0887"
            ],
            [
             0.1111111111111111,
             "#46039f"
            ],
            [
             0.2222222222222222,
             "#7201a8"
            ],
            [
             0.3333333333333333,
             "#9c179e"
            ],
            [
             0.4444444444444444,
             "#bd3786"
            ],
            [
             0.5555555555555556,
             "#d8576b"
            ],
            [
             0.6666666666666666,
             "#ed7953"
            ],
            [
             0.7777777777777778,
             "#fb9f3a"
            ],
            [
             0.8888888888888888,
             "#fdca26"
            ],
            [
             1,
             "#f0f921"
            ]
           ]
          },
          "colorway": [
           "#636efa",
           "#EF553B",
           "#00cc96",
           "#ab63fa",
           "#FFA15A",
           "#19d3f3",
           "#FF6692",
           "#B6E880",
           "#FF97FF",
           "#FECB52"
          ],
          "font": {
           "color": "#2a3f5f"
          },
          "geo": {
           "bgcolor": "white",
           "lakecolor": "white",
           "landcolor": "white",
           "showlakes": true,
           "showland": true,
           "subunitcolor": "#C8D4E3"
          },
          "hoverlabel": {
           "align": "left"
          },
          "hovermode": "closest",
          "mapbox": {
           "style": "light"
          },
          "paper_bgcolor": "white",
          "plot_bgcolor": "white",
          "polar": {
           "angularaxis": {
            "gridcolor": "#EBF0F8",
            "linecolor": "#EBF0F8",
            "ticks": ""
           },
           "bgcolor": "white",
           "radialaxis": {
            "gridcolor": "#EBF0F8",
            "linecolor": "#EBF0F8",
            "ticks": ""
           }
          },
          "scene": {
           "xaxis": {
            "backgroundcolor": "white",
            "gridcolor": "#DFE8F3",
            "gridwidth": 2,
            "linecolor": "#EBF0F8",
            "showbackground": true,
            "ticks": "",
            "zerolinecolor": "#EBF0F8"
           },
           "yaxis": {
            "backgroundcolor": "white",
            "gridcolor": "#DFE8F3",
            "gridwidth": 2,
            "linecolor": "#EBF0F8",
            "showbackground": true,
            "ticks": "",
            "zerolinecolor": "#EBF0F8"
           },
           "zaxis": {
            "backgroundcolor": "white",
            "gridcolor": "#DFE8F3",
            "gridwidth": 2,
            "linecolor": "#EBF0F8",
            "showbackground": true,
            "ticks": "",
            "zerolinecolor": "#EBF0F8"
           }
          },
          "shapedefaults": {
           "line": {
            "color": "#2a3f5f"
           }
          },
          "ternary": {
           "aaxis": {
            "gridcolor": "#DFE8F3",
            "linecolor": "#A2B1C6",
            "ticks": ""
           },
           "baxis": {
            "gridcolor": "#DFE8F3",
            "linecolor": "#A2B1C6",
            "ticks": ""
           },
           "bgcolor": "white",
           "caxis": {
            "gridcolor": "#DFE8F3",
            "linecolor": "#A2B1C6",
            "ticks": ""
           }
          },
          "title": {
           "x": 0.05
          },
          "xaxis": {
           "automargin": true,
           "gridcolor": "#EBF0F8",
           "linecolor": "#EBF0F8",
           "ticks": "",
           "title": {
            "standoff": 15
           },
           "zerolinecolor": "#EBF0F8",
           "zerolinewidth": 2
          },
          "yaxis": {
           "automargin": true,
           "gridcolor": "#EBF0F8",
           "linecolor": "#EBF0F8",
           "ticks": "",
           "title": {
            "standoff": 15
           },
           "zerolinecolor": "#EBF0F8",
           "zerolinewidth": 2
          }
         }
        },
        "title": {
         "text": "Comparative sentimental analysis by topic"
        },
        "width": 1000,
        "xaxis": {
         "anchor": "y",
         "domain": [
          0,
          1
         ],
         "title": {
          "text": "Topic"
         }
        },
        "yaxis": {
         "anchor": "x",
         "domain": [
          0,
          1
         ],
         "title": {
          "text": "Sentiment"
         }
        }
       }
      },
      "text/html": [
       "<div>                            <div id=\"31aa0665-0845-422f-8c0c-48c8f86fad3b\" class=\"plotly-graph-div\" style=\"height:600px; width:1000px;\"></div>            <script type=\"text/javascript\">                require([\"plotly\"], function(Plotly) {                    window.PLOTLYENV=window.PLOTLYENV || {};                                    if (document.getElementById(\"31aa0665-0845-422f-8c0c-48c8f86fad3b\")) {                    Plotly.newPlot(                        \"31aa0665-0845-422f-8c0c-48c8f86fad3b\",                        [{\"alignmentgroup\":\"True\",\"hovertemplate\":\"Source=Vader<br>Topic=%{x}<br>Sentiment=%{y}<extra></extra>\",\"legendgroup\":\"Vader\",\"marker\":{\"color\":\"#1DA1F2\",\"pattern\":{\"shape\":\"\"}},\"name\":\"Vader\",\"offsetgroup\":\"Vader\",\"orientation\":\"v\",\"showlegend\":true,\"textposition\":\"auto\",\"x\":[\"ai\",\"chatgpt\",\"browser\",\"openai\",\"google\",\"church\",\"microsoft\",\"learning\",\"school\",\"cryptocurrencies\",\"ban\",\"italy ban\",\"privacy\"],\"xaxis\":\"x\",\"y\":[0.20671086974580494,0.19709014189428875,0.10864211576846307,0.21766438740725885,0.1512380351093317,0.1497836363636364,0.1701547239263804,0.28738041622198507,0.16611175737432488,0.07225978090766823,-0.04244195160441872,-0.43274,-0.0821723076923077],\"yaxis\":\"y\",\"type\":\"bar\"},{\"alignmentgroup\":\"True\",\"hovertemplate\":\"Source=TextBlob<br>Topic=%{x}<br>Sentiment=%{y}<extra></extra>\",\"legendgroup\":\"TextBlob\",\"marker\":{\"color\":\"#00CC96\",\"pattern\":{\"shape\":\"\"}},\"name\":\"TextBlob\",\"offsetgroup\":\"TextBlob\",\"orientation\":\"v\",\"showlegend\":true,\"textposition\":\"auto\",\"x\":[\"ai\",\"chatgpt\",\"browser\",\"openai\",\"google\",\"church\",\"microsoft\",\"learning\",\"school\",\"cryptocurrencies\",\"ban\",\"italy ban\",\"privacy\"],\"xaxis\":\"x\",\"y\":[0.11582429219205083,0.11346392483704579,0.09166555884486097,0.11851205055467615,0.1138400691867295,0.07403188627560638,0.09879887005462158,0.15225735887786981,0.11235896364836509,0.09040920639431867,0.09154277485911821,0.131,0.07838740810852761],\"yaxis\":\"y\",\"type\":\"bar\"}],                        {\"template\":{\"data\":{\"barpolar\":[{\"marker\":{\"line\":{\"color\":\"white\",\"width\":0.5},\"pattern\":{\"fillmode\":\"overlay\",\"size\":10,\"solidity\":0.2}},\"type\":\"barpolar\"}],\"bar\":[{\"error_x\":{\"color\":\"#2a3f5f\"},\"error_y\":{\"color\":\"#2a3f5f\"},\"marker\":{\"line\":{\"color\":\"white\",\"width\":0.5},\"pattern\":{\"fillmode\":\"overlay\",\"size\":10,\"solidity\":0.2}},\"type\":\"bar\"}],\"carpet\":[{\"aaxis\":{\"endlinecolor\":\"#2a3f5f\",\"gridcolor\":\"#C8D4E3\",\"linecolor\":\"#C8D4E3\",\"minorgridcolor\":\"#C8D4E3\",\"startlinecolor\":\"#2a3f5f\"},\"baxis\":{\"endlinecolor\":\"#2a3f5f\",\"gridcolor\":\"#C8D4E3\",\"linecolor\":\"#C8D4E3\",\"minorgridcolor\":\"#C8D4E3\",\"startlinecolor\":\"#2a3f5f\"},\"type\":\"carpet\"}],\"choropleth\":[{\"colorbar\":{\"outlinewidth\":0,\"ticks\":\"\"},\"type\":\"choropleth\"}],\"contourcarpet\":[{\"colorbar\":{\"outlinewidth\":0,\"ticks\":\"\"},\"type\":\"contourcarpet\"}],\"contour\":[{\"colorbar\":{\"outlinewidth\":0,\"ticks\":\"\"},\"colorscale\":[[0.0,\"#0d0887\"],[0.1111111111111111,\"#46039f\"],[0.2222222222222222,\"#7201a8\"],[0.3333333333333333,\"#9c179e\"],[0.4444444444444444,\"#bd3786\"],[0.5555555555555556,\"#d8576b\"],[0.6666666666666666,\"#ed7953\"],[0.7777777777777778,\"#fb9f3a\"],[0.8888888888888888,\"#fdca26\"],[1.0,\"#f0f921\"]],\"type\":\"contour\"}],\"heatmapgl\":[{\"colorbar\":{\"outlinewidth\":0,\"ticks\":\"\"},\"colorscale\":[[0.0,\"#0d0887\"],[0.1111111111111111,\"#46039f\"],[0.2222222222222222,\"#7201a8\"],[0.3333333333333333,\"#9c179e\"],[0.4444444444444444,\"#bd3786\"],[0.5555555555555556,\"#d8576b\"],[0.6666666666666666,\"#ed7953\"],[0.7777777777777778,\"#fb9f3a\"],[0.8888888888888888,\"#fdca26\"],[1.0,\"#f0f921\"]],\"type\":\"heatmapgl\"}],\"heatmap\":[{\"colorbar\":{\"outlinewidth\":0,\"ticks\":\"\"},\"colorscale\":[[0.0,\"#0d0887\"],[0.1111111111111111,\"#46039f\"],[0.2222222222222222,\"#7201a8\"],[0.3333333333333333,\"#9c179e\"],[0.4444444444444444,\"#bd3786\"],[0.5555555555555556,\"#d8576b\"],[0.6666666666666666,\"#ed7953\"],[0.7777777777777778,\"#fb9f3a\"],[0.8888888888888888,\"#fdca26\"],[1.0,\"#f0f921\"]],\"type\":\"heatmap\"}],\"histogram2dcontour\":[{\"colorbar\":{\"outlinewidth\":0,\"ticks\":\"\"},\"colorscale\":[[0.0,\"#0d0887\"],[0.1111111111111111,\"#46039f\"],[0.2222222222222222,\"#7201a8\"],[0.3333333333333333,\"#9c179e\"],[0.4444444444444444,\"#bd3786\"],[0.5555555555555556,\"#d8576b\"],[0.6666666666666666,\"#ed7953\"],[0.7777777777777778,\"#fb9f3a\"],[0.8888888888888888,\"#fdca26\"],[1.0,\"#f0f921\"]],\"type\":\"histogram2dcontour\"}],\"histogram2d\":[{\"colorbar\":{\"outlinewidth\":0,\"ticks\":\"\"},\"colorscale\":[[0.0,\"#0d0887\"],[0.1111111111111111,\"#46039f\"],[0.2222222222222222,\"#7201a8\"],[0.3333333333333333,\"#9c179e\"],[0.4444444444444444,\"#bd3786\"],[0.5555555555555556,\"#d8576b\"],[0.6666666666666666,\"#ed7953\"],[0.7777777777777778,\"#fb9f3a\"],[0.8888888888888888,\"#fdca26\"],[1.0,\"#f0f921\"]],\"type\":\"histogram2d\"}],\"histogram\":[{\"marker\":{\"pattern\":{\"fillmode\":\"overlay\",\"size\":10,\"solidity\":0.2}},\"type\":\"histogram\"}],\"mesh3d\":[{\"colorbar\":{\"outlinewidth\":0,\"ticks\":\"\"},\"type\":\"mesh3d\"}],\"parcoords\":[{\"line\":{\"colorbar\":{\"outlinewidth\":0,\"ticks\":\"\"}},\"type\":\"parcoords\"}],\"pie\":[{\"automargin\":true,\"type\":\"pie\"}],\"scatter3d\":[{\"line\":{\"colorbar\":{\"outlinewidth\":0,\"ticks\":\"\"}},\"marker\":{\"colorbar\":{\"outlinewidth\":0,\"ticks\":\"\"}},\"type\":\"scatter3d\"}],\"scattercarpet\":[{\"marker\":{\"colorbar\":{\"outlinewidth\":0,\"ticks\":\"\"}},\"type\":\"scattercarpet\"}],\"scattergeo\":[{\"marker\":{\"colorbar\":{\"outlinewidth\":0,\"ticks\":\"\"}},\"type\":\"scattergeo\"}],\"scattergl\":[{\"marker\":{\"colorbar\":{\"outlinewidth\":0,\"ticks\":\"\"}},\"type\":\"scattergl\"}],\"scattermapbox\":[{\"marker\":{\"colorbar\":{\"outlinewidth\":0,\"ticks\":\"\"}},\"type\":\"scattermapbox\"}],\"scatterpolargl\":[{\"marker\":{\"colorbar\":{\"outlinewidth\":0,\"ticks\":\"\"}},\"type\":\"scatterpolargl\"}],\"scatterpolar\":[{\"marker\":{\"colorbar\":{\"outlinewidth\":0,\"ticks\":\"\"}},\"type\":\"scatterpolar\"}],\"scatter\":[{\"marker\":{\"colorbar\":{\"outlinewidth\":0,\"ticks\":\"\"}},\"type\":\"scatter\"}],\"scatterternary\":[{\"marker\":{\"colorbar\":{\"outlinewidth\":0,\"ticks\":\"\"}},\"type\":\"scatterternary\"}],\"surface\":[{\"colorbar\":{\"outlinewidth\":0,\"ticks\":\"\"},\"colorscale\":[[0.0,\"#0d0887\"],[0.1111111111111111,\"#46039f\"],[0.2222222222222222,\"#7201a8\"],[0.3333333333333333,\"#9c179e\"],[0.4444444444444444,\"#bd3786\"],[0.5555555555555556,\"#d8576b\"],[0.6666666666666666,\"#ed7953\"],[0.7777777777777778,\"#fb9f3a\"],[0.8888888888888888,\"#fdca26\"],[1.0,\"#f0f921\"]],\"type\":\"surface\"}],\"table\":[{\"cells\":{\"fill\":{\"color\":\"#EBF0F8\"},\"line\":{\"color\":\"white\"}},\"header\":{\"fill\":{\"color\":\"#C8D4E3\"},\"line\":{\"color\":\"white\"}},\"type\":\"table\"}]},\"layout\":{\"annotationdefaults\":{\"arrowcolor\":\"#2a3f5f\",\"arrowhead\":0,\"arrowwidth\":1},\"autotypenumbers\":\"strict\",\"coloraxis\":{\"colorbar\":{\"outlinewidth\":0,\"ticks\":\"\"}},\"colorscale\":{\"diverging\":[[0,\"#8e0152\"],[0.1,\"#c51b7d\"],[0.2,\"#de77ae\"],[0.3,\"#f1b6da\"],[0.4,\"#fde0ef\"],[0.5,\"#f7f7f7\"],[0.6,\"#e6f5d0\"],[0.7,\"#b8e186\"],[0.8,\"#7fbc41\"],[0.9,\"#4d9221\"],[1,\"#276419\"]],\"sequential\":[[0.0,\"#0d0887\"],[0.1111111111111111,\"#46039f\"],[0.2222222222222222,\"#7201a8\"],[0.3333333333333333,\"#9c179e\"],[0.4444444444444444,\"#bd3786\"],[0.5555555555555556,\"#d8576b\"],[0.6666666666666666,\"#ed7953\"],[0.7777777777777778,\"#fb9f3a\"],[0.8888888888888888,\"#fdca26\"],[1.0,\"#f0f921\"]],\"sequentialminus\":[[0.0,\"#0d0887\"],[0.1111111111111111,\"#46039f\"],[0.2222222222222222,\"#7201a8\"],[0.3333333333333333,\"#9c179e\"],[0.4444444444444444,\"#bd3786\"],[0.5555555555555556,\"#d8576b\"],[0.6666666666666666,\"#ed7953\"],[0.7777777777777778,\"#fb9f3a\"],[0.8888888888888888,\"#fdca26\"],[1.0,\"#f0f921\"]]},\"colorway\":[\"#636efa\",\"#EF553B\",\"#00cc96\",\"#ab63fa\",\"#FFA15A\",\"#19d3f3\",\"#FF6692\",\"#B6E880\",\"#FF97FF\",\"#FECB52\"],\"font\":{\"color\":\"#2a3f5f\"},\"geo\":{\"bgcolor\":\"white\",\"lakecolor\":\"white\",\"landcolor\":\"white\",\"showlakes\":true,\"showland\":true,\"subunitcolor\":\"#C8D4E3\"},\"hoverlabel\":{\"align\":\"left\"},\"hovermode\":\"closest\",\"mapbox\":{\"style\":\"light\"},\"paper_bgcolor\":\"white\",\"plot_bgcolor\":\"white\",\"polar\":{\"angularaxis\":{\"gridcolor\":\"#EBF0F8\",\"linecolor\":\"#EBF0F8\",\"ticks\":\"\"},\"bgcolor\":\"white\",\"radialaxis\":{\"gridcolor\":\"#EBF0F8\",\"linecolor\":\"#EBF0F8\",\"ticks\":\"\"}},\"scene\":{\"xaxis\":{\"backgroundcolor\":\"white\",\"gridcolor\":\"#DFE8F3\",\"gridwidth\":2,\"linecolor\":\"#EBF0F8\",\"showbackground\":true,\"ticks\":\"\",\"zerolinecolor\":\"#EBF0F8\"},\"yaxis\":{\"backgroundcolor\":\"white\",\"gridcolor\":\"#DFE8F3\",\"gridwidth\":2,\"linecolor\":\"#EBF0F8\",\"showbackground\":true,\"ticks\":\"\",\"zerolinecolor\":\"#EBF0F8\"},\"zaxis\":{\"backgroundcolor\":\"white\",\"gridcolor\":\"#DFE8F3\",\"gridwidth\":2,\"linecolor\":\"#EBF0F8\",\"showbackground\":true,\"ticks\":\"\",\"zerolinecolor\":\"#EBF0F8\"}},\"shapedefaults\":{\"line\":{\"color\":\"#2a3f5f\"}},\"ternary\":{\"aaxis\":{\"gridcolor\":\"#DFE8F3\",\"linecolor\":\"#A2B1C6\",\"ticks\":\"\"},\"baxis\":{\"gridcolor\":\"#DFE8F3\",\"linecolor\":\"#A2B1C6\",\"ticks\":\"\"},\"bgcolor\":\"white\",\"caxis\":{\"gridcolor\":\"#DFE8F3\",\"linecolor\":\"#A2B1C6\",\"ticks\":\"\"}},\"title\":{\"x\":0.05},\"xaxis\":{\"automargin\":true,\"gridcolor\":\"#EBF0F8\",\"linecolor\":\"#EBF0F8\",\"ticks\":\"\",\"title\":{\"standoff\":15},\"zerolinecolor\":\"#EBF0F8\",\"zerolinewidth\":2},\"yaxis\":{\"automargin\":true,\"gridcolor\":\"#EBF0F8\",\"linecolor\":\"#EBF0F8\",\"ticks\":\"\",\"title\":{\"standoff\":15},\"zerolinecolor\":\"#EBF0F8\",\"zerolinewidth\":2}}},\"xaxis\":{\"anchor\":\"y\",\"domain\":[0.0,1.0],\"title\":{\"text\":\"Topic\"}},\"yaxis\":{\"anchor\":\"x\",\"domain\":[0.0,1.0],\"title\":{\"text\":\"Sentiment\"}},\"legend\":{\"title\":{\"text\":\"Source\"},\"tracegroupgap\":0},\"title\":{\"text\":\"Comparative sentimental analysis by topic\"},\"barmode\":\"group\",\"height\":600,\"width\":1000},                        {\"responsive\": true}                    ).then(function(){\n",
       "                            \n",
       "var gd = document.getElementById('31aa0665-0845-422f-8c0c-48c8f86fad3b');\n",
       "var x = new MutationObserver(function (mutations, observer) {{\n",
       "        var display = window.getComputedStyle(gd).display;\n",
       "        if (!display || display === 'none') {{\n",
       "            console.log([gd, 'removed!']);\n",
       "            Plotly.purge(gd);\n",
       "            observer.disconnect();\n",
       "        }}\n",
       "}});\n",
       "\n",
       "// Listen for the removal of the full notebook cells\n",
       "var notebookContainer = gd.closest('#notebook-container');\n",
       "if (notebookContainer) {{\n",
       "    x.observe(notebookContainer, {childList: true});\n",
       "}}\n",
       "\n",
       "// Listen for the clearing of the current output cell\n",
       "var outputEl = gd.closest('.output');\n",
       "if (outputEl) {{\n",
       "    x.observe(outputEl, {childList: true});\n",
       "}}\n",
       "\n",
       "                        })                };                });            </script>        </div>"
      ]
     },
     "metadata": {},
     "output_type": "display_data"
    }
   ],
   "source": [
    "# Plot the sentiment for each topic\n",
    "fig = px.bar(df_new,x='Topic',y='Sentiment',color='Source',barmode='group',color_discrete_sequence = ['#1DA1F2', '#00CC96'],\n",
    "             title='Comparative sentimental analysis by topic',template='plotly_white',width=1000, height=600)\n",
    "fig.show()"
   ]
  },
  {
   "cell_type": "code",
   "execution_count": null,
   "id": "b488769e",
   "metadata": {},
   "outputs": [],
   "source": []
  }
 ],
 "metadata": {
  "kernelspec": {
   "display_name": "Python 3 (ipykernel)",
   "language": "python",
   "name": "python3"
  },
  "language_info": {
   "codemirror_mode": {
    "name": "ipython",
    "version": 3
   },
   "file_extension": ".py",
   "mimetype": "text/x-python",
   "name": "python",
   "nbconvert_exporter": "python",
   "pygments_lexer": "ipython3",
   "version": "3.9.12"
  }
 },
 "nbformat": 4,
 "nbformat_minor": 5
}
