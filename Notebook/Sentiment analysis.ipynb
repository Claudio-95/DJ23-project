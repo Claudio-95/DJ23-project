{
 "cells": [
  {
   "cell_type": "markdown",
   "id": "7b9dfc8c",
   "metadata": {},
   "source": [
    "# NLTK.VADER_LEXICON"
   ]
  },
  {
   "cell_type": "code",
   "execution_count": 1,
   "id": "f7b4059d",
   "metadata": {},
   "outputs": [
    {
     "data": {
      "text/html": [
       "<div>\n",
       "<style scoped>\n",
       "    .dataframe tbody tr th:only-of-type {\n",
       "        vertical-align: middle;\n",
       "    }\n",
       "\n",
       "    .dataframe tbody tr th {\n",
       "        vertical-align: top;\n",
       "    }\n",
       "\n",
       "    .dataframe thead th {\n",
       "        text-align: right;\n",
       "    }\n",
       "</style>\n",
       "<table border=\"1\" class=\"dataframe\">\n",
       "  <thead>\n",
       "    <tr style=\"text-align: right;\">\n",
       "      <th></th>\n",
       "      <th>Post ID</th>\n",
       "      <th>Post author</th>\n",
       "      <th>Post title</th>\n",
       "      <th>Post URL</th>\n",
       "      <th>Post flair type</th>\n",
       "      <th>Post score</th>\n",
       "      <th>Post date</th>\n",
       "      <th>Comment ID</th>\n",
       "      <th>Comment author</th>\n",
       "      <th>Comment</th>\n",
       "      <th>Comment score</th>\n",
       "      <th>Comment date</th>\n",
       "    </tr>\n",
       "  </thead>\n",
       "  <tbody>\n",
       "    <tr>\n",
       "      <th>0</th>\n",
       "      <td>12qvbk5</td>\n",
       "      <td>-Nietzschean-</td>\n",
       "      <td>Elon Musk Interview With Tucker Carlson: Musk ...</td>\n",
       "      <td>https://v.redd.it/lifz28sp7oua1</td>\n",
       "      <td>BIG TECH</td>\n",
       "      <td>123</td>\n",
       "      <td>2023-04-18 18:39:33</td>\n",
       "      <td>jgrixso</td>\n",
       "      <td>AutoModerator</td>\n",
       "      <td>Join our community at tuckercarlson(dot)win.\\n...</td>\n",
       "      <td>1</td>\n",
       "      <td>2023-04-18 18:41:14</td>\n",
       "    </tr>\n",
       "    <tr>\n",
       "      <th>1</th>\n",
       "      <td>12qvbk5</td>\n",
       "      <td>-Nietzschean-</td>\n",
       "      <td>Elon Musk Interview With Tucker Carlson: Musk ...</td>\n",
       "      <td>https://v.redd.it/lifz28sp7oua1</td>\n",
       "      <td>BIG TECH</td>\n",
       "      <td>123</td>\n",
       "      <td>2023-04-18 18:39:33</td>\n",
       "      <td>jgrjo0x</td>\n",
       "      <td>-Nietzschean-</td>\n",
       "      <td>[https://stonetoss.com/comic/target-acquired/]...</td>\n",
       "      <td>3</td>\n",
       "      <td>2023-04-18 18:45:52</td>\n",
       "    </tr>\n",
       "    <tr>\n",
       "      <th>2</th>\n",
       "      <td>12qvbk5</td>\n",
       "      <td>-Nietzschean-</td>\n",
       "      <td>Elon Musk Interview With Tucker Carlson: Musk ...</td>\n",
       "      <td>https://v.redd.it/lifz28sp7oua1</td>\n",
       "      <td>BIG TECH</td>\n",
       "      <td>123</td>\n",
       "      <td>2023-04-18 18:39:33</td>\n",
       "      <td>jgvlcb5</td>\n",
       "      <td>Subtlematter1</td>\n",
       "      <td>have played with chatgpt - does seem to have a...</td>\n",
       "      <td>3</td>\n",
       "      <td>2023-04-19 15:25:10</td>\n",
       "    </tr>\n",
       "    <tr>\n",
       "      <th>3</th>\n",
       "      <td>12qvbk5</td>\n",
       "      <td>-Nietzschean-</td>\n",
       "      <td>Elon Musk Interview With Tucker Carlson: Musk ...</td>\n",
       "      <td>https://v.redd.it/lifz28sp7oua1</td>\n",
       "      <td>BIG TECH</td>\n",
       "      <td>123</td>\n",
       "      <td>2023-04-18 18:39:33</td>\n",
       "      <td>jh35xno</td>\n",
       "      <td>Ok_Permission8284</td>\n",
       "      <td>If Elon was my friend I would ask for a million</td>\n",
       "      <td>0</td>\n",
       "      <td>2023-04-21 02:58:12</td>\n",
       "    </tr>\n",
       "    <tr>\n",
       "      <th>4</th>\n",
       "      <td>10kedpj</td>\n",
       "      <td>False_Grit</td>\n",
       "      <td>I was trying to figure out the limitations of ...</td>\n",
       "      <td>https://www.reddit.com/r/ChatGPT/comments/10ke...</td>\n",
       "      <td>Interesting</td>\n",
       "      <td>3</td>\n",
       "      <td>2023-01-24 20:51:33</td>\n",
       "      <td>j5q2soj</td>\n",
       "      <td>AutoModerator</td>\n",
       "      <td>In order to prevent multiple repetitive commen...</td>\n",
       "      <td>1</td>\n",
       "      <td>2023-01-24 20:51:33</td>\n",
       "    </tr>\n",
       "  </tbody>\n",
       "</table>\n",
       "</div>"
      ],
      "text/plain": [
       "   Post ID    Post author                                         Post title  \\\n",
       "0  12qvbk5  -Nietzschean-  Elon Musk Interview With Tucker Carlson: Musk ...   \n",
       "1  12qvbk5  -Nietzschean-  Elon Musk Interview With Tucker Carlson: Musk ...   \n",
       "2  12qvbk5  -Nietzschean-  Elon Musk Interview With Tucker Carlson: Musk ...   \n",
       "3  12qvbk5  -Nietzschean-  Elon Musk Interview With Tucker Carlson: Musk ...   \n",
       "4  10kedpj     False_Grit  I was trying to figure out the limitations of ...   \n",
       "\n",
       "                                            Post URL Post flair type  \\\n",
       "0                    https://v.redd.it/lifz28sp7oua1        BIG TECH   \n",
       "1                    https://v.redd.it/lifz28sp7oua1        BIG TECH   \n",
       "2                    https://v.redd.it/lifz28sp7oua1        BIG TECH   \n",
       "3                    https://v.redd.it/lifz28sp7oua1        BIG TECH   \n",
       "4  https://www.reddit.com/r/ChatGPT/comments/10ke...    Interesting    \n",
       "\n",
       "   Post score            Post date Comment ID     Comment author  \\\n",
       "0         123  2023-04-18 18:39:33    jgrixso      AutoModerator   \n",
       "1         123  2023-04-18 18:39:33    jgrjo0x      -Nietzschean-   \n",
       "2         123  2023-04-18 18:39:33    jgvlcb5      Subtlematter1   \n",
       "3         123  2023-04-18 18:39:33    jh35xno  Ok_Permission8284   \n",
       "4           3  2023-01-24 20:51:33    j5q2soj      AutoModerator   \n",
       "\n",
       "                                             Comment  Comment score  \\\n",
       "0  Join our community at tuckercarlson(dot)win.\\n...              1   \n",
       "1  [https://stonetoss.com/comic/target-acquired/]...              3   \n",
       "2  have played with chatgpt - does seem to have a...              3   \n",
       "3    If Elon was my friend I would ask for a million              0   \n",
       "4  In order to prevent multiple repetitive commen...              1   \n",
       "\n",
       "          Comment date  \n",
       "0  2023-04-18 18:41:14  \n",
       "1  2023-04-18 18:45:52  \n",
       "2  2023-04-19 15:25:10  \n",
       "3  2023-04-21 02:58:12  \n",
       "4  2023-01-24 20:51:33  "
      ]
     },
     "execution_count": 1,
     "metadata": {},
     "output_type": "execute_result"
    }
   ],
   "source": [
    "import pandas as pd\n",
    "\n",
    "df = pd.read_csv(\"chatgpt_reddit.csv\")\n",
    "df.head(5)"
   ]
  },
  {
   "cell_type": "markdown",
   "id": "1444e066",
   "metadata": {},
   "source": [
    "## Preprocessing"
   ]
  },
  {
   "cell_type": "code",
   "execution_count": 2,
   "id": "0a677707",
   "metadata": {},
   "outputs": [],
   "source": [
    "import numpy as np\n",
    "from nltk.corpus import stopwords\n",
    "from nltk.tokenize import word_tokenize\n",
    "from sklearn.feature_extraction.text import re\n",
    "\n",
    "def clean_data(review):\n",
    "    \n",
    "    no_punc = re.sub(r'[^\\w\\s]', '', review)\n",
    "    no_digits = ''.join([i for i in no_punc if not i.isdigit()])\n",
    "    \n",
    "    return(no_digits)\n",
    "\n",
    "df['Post title'] = df['Post title'].apply(clean_data)\n",
    "df['Comment'] = df['Comment'].apply(clean_data)"
   ]
  },
  {
   "cell_type": "code",
   "execution_count": 3,
   "id": "3972873d",
   "metadata": {},
   "outputs": [
    {
     "data": {
      "text/plain": [
       "0       Join our community at tuckercarlsondotwin\\n\\nI...\n",
       "1       httpsstonetosscomcomictargetacquiredhttpsstone...\n",
       "2       have played with chatgpt  does seem to have a ...\n",
       "3         If Elon was my friend I would ask for a million\n",
       "4       In order to prevent multiple repetitive commen...\n",
       "                              ...                        \n",
       "1048    I said a tiny minority use it daily Probably m...\n",
       "1049    I disagree  I know a huge number of people who...\n",
       "1050    All did see what was possible I remember tryin...\n",
       "1051            yes i know thats why i wrote what i wrote\n",
       "1052              yeah it was a good response lol\\n\\nrung\n",
       "Name: Comment, Length: 1053, dtype: object"
      ]
     },
     "execution_count": 3,
     "metadata": {},
     "output_type": "execute_result"
    }
   ],
   "source": [
    "df['Comment']"
   ]
  },
  {
   "cell_type": "code",
   "execution_count": 4,
   "id": "ab2a87fb",
   "metadata": {},
   "outputs": [
    {
     "data": {
      "text/plain": [
       "0       Join community tuckercarlsondotwin bot action ...\n",
       "1       httpsstonetosscomcomictargetacquiredhttpsstone...\n",
       "2            played chatgpt seem leftist take many issues\n",
       "3                           Elon friend would ask million\n",
       "4       order prevent multiple repetitive comments fri...\n",
       "                              ...                        \n",
       "1048    said tiny minority use daily Probably westerne...\n",
       "1049    disagree know huge number people simply discou...\n",
       "1050    see possible remember trying convince people b...\n",
       "1051                           yes know thats wrote wrote\n",
       "1052                          yeah good response lol rung\n",
       "Name: Comment, Length: 1053, dtype: object"
      ]
     },
     "execution_count": 4,
     "metadata": {},
     "output_type": "execute_result"
    }
   ],
   "source": [
    "stop_words = set(stopwords.words('english'))  # Import english stop words\n",
    "df['Comment'] = df['Comment'].apply(lambda x: ' '.join([word for word in word_tokenize(x) if word.lower() not in stop_words]))  # Remove stop words\n",
    "df['Comment']"
   ]
  },
  {
   "cell_type": "markdown",
   "id": "89c46e5a",
   "metadata": {},
   "source": [
    "## Sentiment analysis"
   ]
  },
  {
   "cell_type": "code",
   "execution_count": 5,
   "id": "d0392a6e",
   "metadata": {},
   "outputs": [],
   "source": [
    "import nltk\n",
    "from nltk.sentiment import SentimentIntensityAnalyzer\n",
    "\n",
    "sia = SentimentIntensityAnalyzer()\n"
   ]
  },
  {
   "cell_type": "code",
   "execution_count": 6,
   "id": "1cbfced1",
   "metadata": {},
   "outputs": [
    {
     "data": {
      "text/plain": [
       "pos    666\n",
       "neg    195\n",
       "neu    192\n",
       "Name: Sentiment, dtype: int64"
      ]
     },
     "execution_count": 6,
     "metadata": {},
     "output_type": "execute_result"
    }
   ],
   "source": [
    "df['Sentiment'] = ''\n",
    "for index, row in df.iterrows():\n",
    "    comment = row['Comment']\n",
    "    \n",
    "    # Applica VADER all'attuale commento\n",
    "    scores = sia.polarity_scores(comment)\n",
    "    compound_score = scores['compound']\n",
    "    \n",
    "    # Assegna un'etichetta di sentiment in base al punteggio compound\n",
    "    if compound_score > 0:\n",
    "        sentiment = 'pos'\n",
    "    elif compound_score < 0:\n",
    "        sentiment = 'neg'\n",
    "    else:\n",
    "        sentiment = 'neu'\n",
    "    \n",
    "    # Assegna l'etichetta di sentiment al DataFrame\n",
    "    df.at[index, 'Sentiment'] = sentiment\n",
    "\n",
    "# Stampa il DataFrame con le nuove etichette di sentiment\n",
    "df['Sentiment'].value_counts()"
   ]
  },
  {
   "cell_type": "markdown",
   "id": "f7ec321f",
   "metadata": {},
   "source": [
    "## Sentiment distribution"
   ]
  },
  {
   "cell_type": "code",
   "execution_count": 7,
   "id": "2b2bcc4b",
   "metadata": {},
   "outputs": [],
   "source": [
    "sizes = df[\"Sentiment\"].value_counts()\n",
    "labels = df[\"Sentiment\"].unique()"
   ]
  },
  {
   "cell_type": "code",
   "execution_count": 8,
   "id": "282eec7c",
   "metadata": {},
   "outputs": [
    {
     "data": {
      "image/png": "[encoded data removed]",
      "text/plain": [
       "<Figure size 1200x800 with 1 Axes>"
      ]
     },
     "metadata": {},
     "output_type": "display_data"
    }
   ],
   "source": [
    "import matplotlib.pyplot as plt\n",
    "\n",
    "plt.rcParams[\"figure.figsize\"] = [12, 8]\n",
    "\n",
    "plt.pie(sizes, labels = labels, autopct = '%1.1f%%', shadow = False, startangle = 90)\n",
    "plt.title(\"Sentiment distribution of reduced Reddit dataset - NLTK\")\n",
    "plt.savefig(\"pie_nltksentiment.png\")\n",
    "plt.show()"
   ]
  },
  {
   "cell_type": "markdown",
   "id": "a465ab05",
   "metadata": {},
   "source": [
    "# TextBlob"
   ]
  },
  {
   "cell_type": "code",
   "execution_count": 9,
   "id": "39012d2d",
   "metadata": {},
   "outputs": [
    {
     "data": {
      "text/html": [
       "<div>\n",
       "<style scoped>\n",
       "    .dataframe tbody tr th:only-of-type {\n",
       "        vertical-align: middle;\n",
       "    }\n",
       "\n",
       "    .dataframe tbody tr th {\n",
       "        vertical-align: top;\n",
       "    }\n",
       "\n",
       "    .dataframe thead th {\n",
       "        text-align: right;\n",
       "    }\n",
       "</style>\n",
       "<table border=\"1\" class=\"dataframe\">\n",
       "  <thead>\n",
       "    <tr style=\"text-align: right;\">\n",
       "      <th></th>\n",
       "      <th>Post ID</th>\n",
       "      <th>Post author</th>\n",
       "      <th>Post title</th>\n",
       "      <th>Post URL</th>\n",
       "      <th>Post flair type</th>\n",
       "      <th>Post score</th>\n",
       "      <th>Post date</th>\n",
       "      <th>Comment ID</th>\n",
       "      <th>Comment author</th>\n",
       "      <th>Comment</th>\n",
       "      <th>Comment score</th>\n",
       "      <th>Comment date</th>\n",
       "    </tr>\n",
       "  </thead>\n",
       "  <tbody>\n",
       "    <tr>\n",
       "      <th>0</th>\n",
       "      <td>12qvbk5</td>\n",
       "      <td>-Nietzschean-</td>\n",
       "      <td>Elon Musk Interview With Tucker Carlson: Musk ...</td>\n",
       "      <td>https://v.redd.it/lifz28sp7oua1</td>\n",
       "      <td>BIG TECH</td>\n",
       "      <td>123</td>\n",
       "      <td>2023-04-18 18:39:33</td>\n",
       "      <td>jgrixso</td>\n",
       "      <td>AutoModerator</td>\n",
       "      <td>Join our community at tuckercarlson(dot)win.\\n...</td>\n",
       "      <td>1</td>\n",
       "      <td>2023-04-18 18:41:14</td>\n",
       "    </tr>\n",
       "    <tr>\n",
       "      <th>1</th>\n",
       "      <td>12qvbk5</td>\n",
       "      <td>-Nietzschean-</td>\n",
       "      <td>Elon Musk Interview With Tucker Carlson: Musk ...</td>\n",
       "      <td>https://v.redd.it/lifz28sp7oua1</td>\n",
       "      <td>BIG TECH</td>\n",
       "      <td>123</td>\n",
       "      <td>2023-04-18 18:39:33</td>\n",
       "      <td>jgrjo0x</td>\n",
       "      <td>-Nietzschean-</td>\n",
       "      <td>[https://stonetoss.com/comic/target-acquired/]...</td>\n",
       "      <td>3</td>\n",
       "      <td>2023-04-18 18:45:52</td>\n",
       "    </tr>\n",
       "    <tr>\n",
       "      <th>2</th>\n",
       "      <td>12qvbk5</td>\n",
       "      <td>-Nietzschean-</td>\n",
       "      <td>Elon Musk Interview With Tucker Carlson: Musk ...</td>\n",
       "      <td>https://v.redd.it/lifz28sp7oua1</td>\n",
       "      <td>BIG TECH</td>\n",
       "      <td>123</td>\n",
       "      <td>2023-04-18 18:39:33</td>\n",
       "      <td>jgvlcb5</td>\n",
       "      <td>Subtlematter1</td>\n",
       "      <td>have played with chatgpt - does seem to have a...</td>\n",
       "      <td>3</td>\n",
       "      <td>2023-04-19 15:25:10</td>\n",
       "    </tr>\n",
       "    <tr>\n",
       "      <th>3</th>\n",
       "      <td>12qvbk5</td>\n",
       "      <td>-Nietzschean-</td>\n",
       "      <td>Elon Musk Interview With Tucker Carlson: Musk ...</td>\n",
       "      <td>https://v.redd.it/lifz28sp7oua1</td>\n",
       "      <td>BIG TECH</td>\n",
       "      <td>123</td>\n",
       "      <td>2023-04-18 18:39:33</td>\n",
       "      <td>jh35xno</td>\n",
       "      <td>Ok_Permission8284</td>\n",
       "      <td>If Elon was my friend I would ask for a million</td>\n",
       "      <td>0</td>\n",
       "      <td>2023-04-21 02:58:12</td>\n",
       "    </tr>\n",
       "    <tr>\n",
       "      <th>4</th>\n",
       "      <td>10kedpj</td>\n",
       "      <td>False_Grit</td>\n",
       "      <td>I was trying to figure out the limitations of ...</td>\n",
       "      <td>https://www.reddit.com/r/ChatGPT/comments/10ke...</td>\n",
       "      <td>Interesting</td>\n",
       "      <td>3</td>\n",
       "      <td>2023-01-24 20:51:33</td>\n",
       "      <td>j5q2soj</td>\n",
       "      <td>AutoModerator</td>\n",
       "      <td>In order to prevent multiple repetitive commen...</td>\n",
       "      <td>1</td>\n",
       "      <td>2023-01-24 20:51:33</td>\n",
       "    </tr>\n",
       "  </tbody>\n",
       "</table>\n",
       "</div>"
      ],
      "text/plain": [
       "   Post ID    Post author                                         Post title  \\\n",
       "0  12qvbk5  -Nietzschean-  Elon Musk Interview With Tucker Carlson: Musk ...   \n",
       "1  12qvbk5  -Nietzschean-  Elon Musk Interview With Tucker Carlson: Musk ...   \n",
       "2  12qvbk5  -Nietzschean-  Elon Musk Interview With Tucker Carlson: Musk ...   \n",
       "3  12qvbk5  -Nietzschean-  Elon Musk Interview With Tucker Carlson: Musk ...   \n",
       "4  10kedpj     False_Grit  I was trying to figure out the limitations of ...   \n",
       "\n",
       "                                            Post URL Post flair type  \\\n",
       "0                    https://v.redd.it/lifz28sp7oua1        BIG TECH   \n",
       "1                    https://v.redd.it/lifz28sp7oua1        BIG TECH   \n",
       "2                    https://v.redd.it/lifz28sp7oua1        BIG TECH   \n",
       "3                    https://v.redd.it/lifz28sp7oua1        BIG TECH   \n",
       "4  https://www.reddit.com/r/ChatGPT/comments/10ke...    Interesting    \n",
       "\n",
       "   Post score            Post date Comment ID     Comment author  \\\n",
       "0         123  2023-04-18 18:39:33    jgrixso      AutoModerator   \n",
       "1         123  2023-04-18 18:39:33    jgrjo0x      -Nietzschean-   \n",
       "2         123  2023-04-18 18:39:33    jgvlcb5      Subtlematter1   \n",
       "3         123  2023-04-18 18:39:33    jh35xno  Ok_Permission8284   \n",
       "4           3  2023-01-24 20:51:33    j5q2soj      AutoModerator   \n",
       "\n",
       "                                             Comment  Comment score  \\\n",
       "0  Join our community at tuckercarlson(dot)win.\\n...              1   \n",
       "1  [https://stonetoss.com/comic/target-acquired/]...              3   \n",
       "2  have played with chatgpt - does seem to have a...              3   \n",
       "3    If Elon was my friend I would ask for a million              0   \n",
       "4  In order to prevent multiple repetitive commen...              1   \n",
       "\n",
       "          Comment date  \n",
       "0  2023-04-18 18:41:14  \n",
       "1  2023-04-18 18:45:52  \n",
       "2  2023-04-19 15:25:10  \n",
       "3  2023-04-21 02:58:12  \n",
       "4  2023-01-24 20:51:33  "
      ]
     },
     "execution_count": 9,
     "metadata": {},
     "output_type": "execute_result"
    }
   ],
   "source": [
    "import pandas as pd\n",
    "\n",
    "df = pd.read_csv(\"chatgpt_reddit.csv\")\n",
    "df.head(5)"
   ]
  },
  {
   "cell_type": "markdown",
   "id": "1322d082",
   "metadata": {},
   "source": [
    "## Preprocessing"
   ]
  },
  {
   "cell_type": "code",
   "execution_count": 10,
   "id": "db934b26",
   "metadata": {},
   "outputs": [],
   "source": [
    "import numpy as np\n",
    "from nltk.corpus import stopwords\n",
    "from nltk.tokenize import word_tokenize\n",
    "from sklearn.feature_extraction.text import re\n",
    "\n",
    "def clean_data(review):\n",
    "    \n",
    "    no_punc = re.sub(r'[^\\w\\s]', '', review)\n",
    "    no_digits = ''.join([i for i in no_punc if not i.isdigit()])\n",
    "    \n",
    "    return(no_digits)\n",
    "\n",
    "df['Post title'] = df['Post title'].apply(clean_data)\n",
    "df['Comment'] = df['Comment'].apply(clean_data)"
   ]
  },
  {
   "cell_type": "markdown",
   "id": "ef2087c1",
   "metadata": {},
   "source": [
    "## Sentiment analysis"
   ]
  },
  {
   "cell_type": "code",
   "execution_count": 11,
   "id": "969bf061",
   "metadata": {},
   "outputs": [
    {
     "data": {
      "text/plain": [
       "pos    648\n",
       "neu    223\n",
       "neg    182\n",
       "Name: Sentiment, dtype: int64"
      ]
     },
     "execution_count": 11,
     "metadata": {},
     "output_type": "execute_result"
    }
   ],
   "source": [
    "from textblob import TextBlob\n",
    "\n",
    "# Crea una nuova colonna nel DataFrame per le etichette di sentiment\n",
    "df['Sentiment'] = ''\n",
    "\n",
    "# Itera attraverso ogni riga del DataFrame\n",
    "for index, row in df.iterrows():\n",
    "    comment = row['Comment']\n",
    "    \n",
    "    # Applica l'analisi dei sentimenti di TextBlob all'attuale commento\n",
    "    blob = TextBlob(comment)\n",
    "    sentiment = blob.sentiment.polarity\n",
    "    \n",
    "    # Assegna un'etichetta di sentiment in base alla polarità\n",
    "    if sentiment > 0:\n",
    "        sentiment_label = 'pos'\n",
    "    elif sentiment < 0:\n",
    "        sentiment_label = 'neg'\n",
    "    else:\n",
    "        sentiment_label = 'neu'\n",
    "    \n",
    "    # Assegna l'etichetta di sentiment al DataFrame\n",
    "    df.at[index, 'Sentiment'] = sentiment_label\n",
    "\n",
    "# Stampa il DataFrame con le nuove etichette di sentiment\n",
    "df['Sentiment'].value_counts()"
   ]
  },
  {
   "cell_type": "markdown",
   "id": "2b57c42c",
   "metadata": {},
   "source": [
    "## Sentiment distribution"
   ]
  },
  {
   "cell_type": "code",
   "execution_count": 12,
   "id": "1c89da68",
   "metadata": {},
   "outputs": [],
   "source": [
    "sizes = df[\"Sentiment\"].value_counts()\n",
    "labels = df[\"Sentiment\"].unique()"
   ]
  },
  {
   "cell_type": "code",
   "execution_count": 13,
   "id": "cc083791",
   "metadata": {},
   "outputs": [
    {
     "data": {
      "image/png": "[encoded data removed]",
      "text/plain": [
       "<Figure size 1200x800 with 1 Axes>"
      ]
     },
     "metadata": {},
     "output_type": "display_data"
    }
   ],
   "source": [
    "import matplotlib.pyplot as plt\n",
    "\n",
    "plt.rcParams[\"figure.figsize\"] = [12, 8]\n",
    "\n",
    "plt.pie(sizes, labels = labels, autopct = '%1.1f%%', shadow = False, startangle = 90)\n",
    "plt.title(\"Sentiment distribution of reduced Reddit dataset - TextBlob\")\n",
    "plt.savefig(\"pie_textblobsentiment.png\")\n",
    "plt.show()"
   ]
  }
 ],
 "metadata": {
  "kernelspec": {
   "display_name": "Python 3 (ipykernel)",
   "language": "python",
   "name": "python3"
  },
  "language_info": {
   "codemirror_mode": {
    "name": "ipython",
    "version": 3
   },
   "file_extension": ".py",
   "mimetype": "text/x-python",
   "name": "python",
   "nbconvert_exporter": "python",
   "pygments_lexer": "ipython3",
   "version": "3.9.13"
  }
 },
 "nbformat": 4,
 "nbformat_minor": 5
}
