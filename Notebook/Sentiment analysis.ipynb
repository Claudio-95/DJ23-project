{
 "cells": [
  {
   "cell_type": "markdown",
   "id": "12501ead",
   "metadata": {},
   "source": [
    "# Dataset reduction"
   ]
  },
  {
   "cell_type": "code",
   "execution_count": 1,
   "id": "54b5b7be",
   "metadata": {},
   "outputs": [],
   "source": [
    "import pandas as pd\n",
    "\n",
    "df_complete = pd.read_csv(\"chatgpt_reddit - Complete.csv\")"
   ]
  },
  {
   "cell_type": "code",
   "execution_count": 2,
   "id": "92c53237",
   "metadata": {},
   "outputs": [
    {
     "data": {
      "text/plain": [
       "array(['Jailbreak', 'Educational Purpose Only ',\n",
       "       'Artificial Intelligence', 'Funny ', 'Gone Wild ', 'News 📰', nan,\n",
       "       'Other ', 'Society', 'Prompt engineering ', 'Misleading',\n",
       "       'School & College', 'Funny :snoo_facepalm:', 'Use cases ',\n",
       "       'Recipe', 'Serious replies only :closed-ai:', \"✨Mods' Chosen✨\",\n",
       "       'Politics', 'Funny', 'RANT:snoo_disapproval:', 'AI',\n",
       "       'Another AI / ChatGPT Post 🤖', 'Question?', 'Company News',\n",
       "       'Business', 'Resources '], dtype=object)"
      ]
     },
     "execution_count": 2,
     "metadata": {},
     "output_type": "execute_result"
    }
   ],
   "source": [
    "df_complete['Post flair type'].unique()"
   ]
  },
  {
   "cell_type": "code",
   "execution_count": 3,
   "id": "492e9ece",
   "metadata": {},
   "outputs": [
    {
     "data": {
      "text/plain": [
       "array(['Educational Purpose Only ', 'Artificial Intelligence',\n",
       "       'Gone Wild ', 'News 📰', nan, 'Other ', 'Society', 'Misleading',\n",
       "       'School & College', 'Use cases ', 'Recipe',\n",
       "       'Serious replies only :closed-ai:', 'Politics', 'AI',\n",
       "       'Another AI / ChatGPT Post 🤖', 'Question?', 'Company News',\n",
       "       'Business', 'Resources '], dtype=object)"
      ]
     },
     "execution_count": 3,
     "metadata": {},
     "output_type": "execute_result"
    }
   ],
   "source": [
    "filter1 = df_complete['Post flair type'] != 'Jailbreak'\n",
    "filter2 = ~df_complete['Post flair type'].astype(str).str.contains('snoo_')\n",
    "filter3 = ~df_complete['Post flair type'].astype(str).str.contains('Funny')\n",
    "filter4 = ~df_complete['Post flair type'].astype(str).str.contains('Prompt')\n",
    "filter5 = ~df_complete['Post flair type'].astype(str).str.contains('Mods')\n",
    "\n",
    "df = df_complete[filter1 & filter2 & filter3 & filter4 & filter5].copy()\n",
    "df['Post flair type'].unique()"
   ]
  },
  {
   "cell_type": "code",
   "execution_count": 4,
   "id": "967d9e59",
   "metadata": {},
   "outputs": [
    {
     "data": {
      "text/plain": [
       "26"
      ]
     },
     "execution_count": 4,
     "metadata": {},
     "output_type": "execute_result"
    }
   ],
   "source": [
    "len(df_complete['Post flair type'].unique())"
   ]
  },
  {
   "cell_type": "code",
   "execution_count": 5,
   "id": "3324675a",
   "metadata": {},
   "outputs": [
    {
     "data": {
      "text/plain": [
       "19"
      ]
     },
     "execution_count": 5,
     "metadata": {},
     "output_type": "execute_result"
    }
   ],
   "source": [
    "len(df['Post flair type'].unique())"
   ]
  },
  {
   "cell_type": "markdown",
   "id": "7b9dfc8c",
   "metadata": {},
   "source": [
    "# NLTK.VADER_LEXICON"
   ]
  },
  {
   "cell_type": "code",
   "execution_count": 6,
   "id": "f7b4059d",
   "metadata": {},
   "outputs": [
    {
     "data": {
      "text/html": [
       "<div>\n",
       "<style scoped>\n",
       "    .dataframe tbody tr th:only-of-type {\n",
       "        vertical-align: middle;\n",
       "    }\n",
       "\n",
       "    .dataframe tbody tr th {\n",
       "        vertical-align: top;\n",
       "    }\n",
       "\n",
       "    .dataframe thead th {\n",
       "        text-align: right;\n",
       "    }\n",
       "</style>\n",
       "<table border=\"1\" class=\"dataframe\">\n",
       "  <thead>\n",
       "    <tr style=\"text-align: right;\">\n",
       "      <th></th>\n",
       "      <th>Post ID</th>\n",
       "      <th>Post author</th>\n",
       "      <th>Post title</th>\n",
       "      <th>Post URL</th>\n",
       "      <th>Post flair type</th>\n",
       "      <th>Post score</th>\n",
       "      <th>Post date</th>\n",
       "      <th>Comment ID</th>\n",
       "      <th>Comment author</th>\n",
       "      <th>Comment</th>\n",
       "      <th>Comment score</th>\n",
       "      <th>Comment date</th>\n",
       "      <th>Parent Comment ID</th>\n",
       "      <th>Parent comment author</th>\n",
       "    </tr>\n",
       "  </thead>\n",
       "  <tbody>\n",
       "    <tr>\n",
       "      <th>505</th>\n",
       "      <td>13ds87o</td>\n",
       "      <td>King_In_The_East</td>\n",
       "      <td>Being accused for using ChatGPT in my assignme...</td>\n",
       "      <td>https://www.reddit.com/r/ChatGPT/comments/13ds...</td>\n",
       "      <td>Educational Purpose Only</td>\n",
       "      <td>11873</td>\n",
       "      <td>2023-05-10 16:24:17</td>\n",
       "      <td>jjlul7m</td>\n",
       "      <td>AutoModerator</td>\n",
       "      <td>Hey /u/King_In_The_East, please respond to thi...</td>\n",
       "      <td>1</td>\n",
       "      <td>2023-05-10 16:24:17</td>\n",
       "      <td>13ds87o</td>\n",
       "      <td>King_In_The_East</td>\n",
       "    </tr>\n",
       "    <tr>\n",
       "      <th>506</th>\n",
       "      <td>13ds87o</td>\n",
       "      <td>King_In_The_East</td>\n",
       "      <td>Being accused for using ChatGPT in my assignme...</td>\n",
       "      <td>https://www.reddit.com/r/ChatGPT/comments/13ds...</td>\n",
       "      <td>Educational Purpose Only</td>\n",
       "      <td>11873</td>\n",
       "      <td>2023-05-10 16:24:17</td>\n",
       "      <td>jjm42vc</td>\n",
       "      <td>elusivehonor</td>\n",
       "      <td>People in here are giving really bad advice. \\...</td>\n",
       "      <td>9648</td>\n",
       "      <td>2023-05-10 17:28:26</td>\n",
       "      <td>13ds87o</td>\n",
       "      <td>King_In_The_East</td>\n",
       "    </tr>\n",
       "    <tr>\n",
       "      <th>507</th>\n",
       "      <td>13ds87o</td>\n",
       "      <td>King_In_The_East</td>\n",
       "      <td>Being accused for using ChatGPT in my assignme...</td>\n",
       "      <td>https://www.reddit.com/r/ChatGPT/comments/13ds...</td>\n",
       "      <td>Educational Purpose Only</td>\n",
       "      <td>11873</td>\n",
       "      <td>2023-05-10 16:24:17</td>\n",
       "      <td>jjm4m5v</td>\n",
       "      <td>Great_Bad_6045</td>\n",
       "      <td>I wouldn't be worried. They are calling you in...</td>\n",
       "      <td>65</td>\n",
       "      <td>2023-05-10 17:31:58</td>\n",
       "      <td>13ds87o</td>\n",
       "      <td>King_In_The_East</td>\n",
       "    </tr>\n",
       "    <tr>\n",
       "      <th>508</th>\n",
       "      <td>13ds87o</td>\n",
       "      <td>King_In_The_East</td>\n",
       "      <td>Being accused for using ChatGPT in my assignme...</td>\n",
       "      <td>https://www.reddit.com/r/ChatGPT/comments/13ds...</td>\n",
       "      <td>Educational Purpose Only</td>\n",
       "      <td>11873</td>\n",
       "      <td>2023-05-10 16:24:17</td>\n",
       "      <td>jjmcdmk</td>\n",
       "      <td>american_amina</td>\n",
       "      <td>Show your work. Old advice, but helpful. I wou...</td>\n",
       "      <td>58</td>\n",
       "      <td>2023-05-10 18:21:03</td>\n",
       "      <td>13ds87o</td>\n",
       "      <td>King_In_The_East</td>\n",
       "    </tr>\n",
       "    <tr>\n",
       "      <th>509</th>\n",
       "      <td>13ds87o</td>\n",
       "      <td>King_In_The_East</td>\n",
       "      <td>Being accused for using ChatGPT in my assignme...</td>\n",
       "      <td>https://www.reddit.com/r/ChatGPT/comments/13ds...</td>\n",
       "      <td>Educational Purpose Only</td>\n",
       "      <td>11873</td>\n",
       "      <td>2023-05-10 16:24:17</td>\n",
       "      <td>jjmhtwj</td>\n",
       "      <td>appmapper</td>\n",
       "      <td>&gt; i put references in my work, up to 31 source...</td>\n",
       "      <td>55</td>\n",
       "      <td>2023-05-10 18:55:28</td>\n",
       "      <td>13ds87o</td>\n",
       "      <td>King_In_The_East</td>\n",
       "    </tr>\n",
       "  </tbody>\n",
       "</table>\n",
       "</div>"
      ],
      "text/plain": [
       "     Post ID       Post author  \\\n",
       "505  13ds87o  King_In_The_East   \n",
       "506  13ds87o  King_In_The_East   \n",
       "507  13ds87o  King_In_The_East   \n",
       "508  13ds87o  King_In_The_East   \n",
       "509  13ds87o  King_In_The_East   \n",
       "\n",
       "                                            Post title  \\\n",
       "505  Being accused for using ChatGPT in my assignme...   \n",
       "506  Being accused for using ChatGPT in my assignme...   \n",
       "507  Being accused for using ChatGPT in my assignme...   \n",
       "508  Being accused for using ChatGPT in my assignme...   \n",
       "509  Being accused for using ChatGPT in my assignme...   \n",
       "\n",
       "                                              Post URL  \\\n",
       "505  https://www.reddit.com/r/ChatGPT/comments/13ds...   \n",
       "506  https://www.reddit.com/r/ChatGPT/comments/13ds...   \n",
       "507  https://www.reddit.com/r/ChatGPT/comments/13ds...   \n",
       "508  https://www.reddit.com/r/ChatGPT/comments/13ds...   \n",
       "509  https://www.reddit.com/r/ChatGPT/comments/13ds...   \n",
       "\n",
       "               Post flair type  Post score            Post date Comment ID  \\\n",
       "505  Educational Purpose Only        11873  2023-05-10 16:24:17    jjlul7m   \n",
       "506  Educational Purpose Only        11873  2023-05-10 16:24:17    jjm42vc   \n",
       "507  Educational Purpose Only        11873  2023-05-10 16:24:17    jjm4m5v   \n",
       "508  Educational Purpose Only        11873  2023-05-10 16:24:17    jjmcdmk   \n",
       "509  Educational Purpose Only        11873  2023-05-10 16:24:17    jjmhtwj   \n",
       "\n",
       "     Comment author                                            Comment  \\\n",
       "505   AutoModerator  Hey /u/King_In_The_East, please respond to thi...   \n",
       "506    elusivehonor  People in here are giving really bad advice. \\...   \n",
       "507  Great_Bad_6045  I wouldn't be worried. They are calling you in...   \n",
       "508  american_amina  Show your work. Old advice, but helpful. I wou...   \n",
       "509       appmapper  > i put references in my work, up to 31 source...   \n",
       "\n",
       "     Comment score         Comment date Parent Comment ID  \\\n",
       "505              1  2023-05-10 16:24:17           13ds87o   \n",
       "506           9648  2023-05-10 17:28:26           13ds87o   \n",
       "507             65  2023-05-10 17:31:58           13ds87o   \n",
       "508             58  2023-05-10 18:21:03           13ds87o   \n",
       "509             55  2023-05-10 18:55:28           13ds87o   \n",
       "\n",
       "    Parent comment author  \n",
       "505      King_In_The_East  \n",
       "506      King_In_The_East  \n",
       "507      King_In_The_East  \n",
       "508      King_In_The_East  \n",
       "509      King_In_The_East  "
      ]
     },
     "execution_count": 6,
     "metadata": {},
     "output_type": "execute_result"
    }
   ],
   "source": [
    "import pandas as pd\n",
    "\n",
    "#df = pd.read_csv(\"chatgpt_reddit.csv\")\n",
    "df.head(5)"
   ]
  },
  {
   "cell_type": "markdown",
   "id": "1444e066",
   "metadata": {},
   "source": [
    "## Preprocessing"
   ]
  },
  {
   "cell_type": "code",
   "execution_count": 7,
   "id": "0a677707",
   "metadata": {},
   "outputs": [],
   "source": [
    "import numpy as np\n",
    "from nltk.corpus import stopwords\n",
    "from nltk.tokenize import word_tokenize\n",
    "from sklearn.feature_extraction.text import re\n",
    "\n",
    "def clean_data(review):\n",
    "    \n",
    "    no_punc = re.sub(r'[^\\w\\s]', '', review)\n",
    "    no_digits = ''.join([i for i in no_punc if not i.isdigit()])\n",
    "    \n",
    "    return(no_digits)\n",
    "\n",
    "df['Post title'] = df['Post title'].apply(clean_data)\n",
    "df['Comment'] = df['Comment'].apply(clean_data)"
   ]
  },
  {
   "cell_type": "code",
   "execution_count": 8,
   "id": "ab2a87fb",
   "metadata": {},
   "outputs": [],
   "source": [
    "stop_words = set(stopwords.words('english'))  # Import english stop words\n",
    "df['Comment'] = df['Comment'].apply(lambda x: ' '.join([word for word in word_tokenize(x) if word.lower() not in stop_words]))  # Remove stop words"
   ]
  },
  {
   "cell_type": "markdown",
   "id": "89c46e5a",
   "metadata": {},
   "source": [
    "## Sentiment analysis"
   ]
  },
  {
   "cell_type": "code",
   "execution_count": 9,
   "id": "d0392a6e",
   "metadata": {},
   "outputs": [],
   "source": [
    "import nltk\n",
    "from nltk.sentiment import SentimentIntensityAnalyzer\n",
    "\n",
    "sia = SentimentIntensityAnalyzer()\n"
   ]
  },
  {
   "cell_type": "code",
   "execution_count": 10,
   "id": "1cbfced1",
   "metadata": {},
   "outputs": [
    {
     "data": {
      "text/plain": [
       "pos    28140\n",
       "neg    14356\n",
       "neu    14269\n",
       "Name: Sentiment, dtype: int64"
      ]
     },
     "execution_count": 10,
     "metadata": {},
     "output_type": "execute_result"
    }
   ],
   "source": [
    "df['Sentiment'] = ''\n",
    "for index, row in df.iterrows():\n",
    "    comment = row['Comment']\n",
    "    \n",
    "    # Applica VADER all'attuale commento\n",
    "    scores = sia.polarity_scores(comment)\n",
    "    compound_score = scores['compound']\n",
    "    \n",
    "    # Assegna un'etichetta di sentiment in base al punteggio compound\n",
    "    if compound_score > 0:\n",
    "        sentiment = 'pos'\n",
    "    elif compound_score < 0:\n",
    "        sentiment = 'neg'\n",
    "    else:\n",
    "        sentiment = 'neu'\n",
    "    \n",
    "    # Assegna l'etichetta di sentiment al DataFrame\n",
    "    df.at[index, 'Sentiment'] = sentiment\n",
    "\n",
    "# Stampa il DataFrame con le nuove etichette di sentiment\n",
    "df['Sentiment'].value_counts()"
   ]
  },
  {
   "cell_type": "markdown",
   "id": "f7ec321f",
   "metadata": {},
   "source": [
    "## Sentiment distribution"
   ]
  },
  {
   "cell_type": "code",
   "execution_count": 11,
   "id": "2b2bcc4b",
   "metadata": {},
   "outputs": [],
   "source": [
    "sizes = df[\"Sentiment\"].value_counts()\n",
    "labels = df[\"Sentiment\"].unique()"
   ]
  },
  {
   "cell_type": "code",
   "execution_count": 12,
   "id": "282eec7c",
   "metadata": {},
   "outputs": [
    {
     "data": {
      "image/png": "[encoded data removed]",
      "text/plain": [
       "<Figure size 1200x800 with 1 Axes>"
      ]
     },
     "metadata": {},
     "output_type": "display_data"
    }
   ],
   "source": [
    "import matplotlib.pyplot as plt\n",
    "\n",
    "plt.rcParams[\"figure.figsize\"] = [12, 8]\n",
    "\n",
    "plt.pie(sizes, labels = labels, autopct = '%1.1f%%', shadow = False, startangle = 90)\n",
    "plt.title(\"Sentiment distribution of reduced Reddit dataset - NLTK\")\n",
    "plt.savefig(\"pie_nltksentiment.png\")\n",
    "plt.show()"
   ]
  },
  {
   "cell_type": "markdown",
   "id": "a465ab05",
   "metadata": {},
   "source": [
    "# TextBlob"
   ]
  },
  {
   "cell_type": "markdown",
   "id": "1322d082",
   "metadata": {},
   "source": [
    "## Preprocessing"
   ]
  },
  {
   "cell_type": "code",
   "execution_count": 13,
   "id": "db934b26",
   "metadata": {},
   "outputs": [],
   "source": [
    "import numpy as np\n",
    "from nltk.corpus import stopwords\n",
    "from nltk.tokenize import word_tokenize\n",
    "from sklearn.feature_extraction.text import re\n",
    "\n",
    "def clean_data(review):\n",
    "    \n",
    "    no_punc = re.sub(r'[^\\w\\s]', '', review)\n",
    "    no_digits = ''.join([i for i in no_punc if not i.isdigit()])\n",
    "    \n",
    "    return(no_digits)\n",
    "\n",
    "df['Post title'] = df['Post title'].apply(clean_data)\n",
    "df['Comment'] = df['Comment'].apply(clean_data)"
   ]
  },
  {
   "cell_type": "code",
   "execution_count": 14,
   "id": "db516b8b",
   "metadata": {},
   "outputs": [],
   "source": [
    "stop_words = set(stopwords.words('english'))  # Import english stop words\n",
    "df['Comment'] = df['Comment'].apply(lambda x: ' '.join([word for word in word_tokenize(x) if word.lower() not in stop_words]))  # Remove stop words"
   ]
  },
  {
   "cell_type": "markdown",
   "id": "ef2087c1",
   "metadata": {},
   "source": [
    "## Sentiment analysis"
   ]
  },
  {
   "cell_type": "code",
   "execution_count": 15,
   "id": "969bf061",
   "metadata": {},
   "outputs": [
    {
     "data": {
      "text/plain": [
       "pos    27363\n",
       "neu    17804\n",
       "neg    11598\n",
       "Name: Sentiment, dtype: int64"
      ]
     },
     "execution_count": 15,
     "metadata": {},
     "output_type": "execute_result"
    }
   ],
   "source": [
    "from textblob import TextBlob\n",
    "\n",
    "# Crea una nuova colonna nel DataFrame per le etichette di sentiment\n",
    "df['Sentiment'] = ''\n",
    "\n",
    "# Itera attraverso ogni riga del DataFrame\n",
    "for index, row in df.iterrows():\n",
    "    comment = row['Comment']\n",
    "    \n",
    "    # Applica l'analisi dei sentimenti di TextBlob all'attuale commento\n",
    "    blob = TextBlob(comment)\n",
    "    sentiment = blob.sentiment.polarity\n",
    "    \n",
    "    # Assegna un'etichetta di sentiment in base alla polarità\n",
    "    if sentiment > 0:\n",
    "        sentiment_label = 'pos'\n",
    "    elif sentiment < 0:\n",
    "        sentiment_label = 'neg'\n",
    "    else:\n",
    "        sentiment_label = 'neu'\n",
    "    \n",
    "    # Assegna l'etichetta di sentiment al DataFrame\n",
    "    df.at[index, 'Sentiment'] = sentiment_label\n",
    "\n",
    "# Stampa il DataFrame con le nuove etichette di sentiment\n",
    "df['Sentiment'].value_counts()"
   ]
  },
  {
   "cell_type": "markdown",
   "id": "2b57c42c",
   "metadata": {},
   "source": [
    "## Sentiment distribution"
   ]
  },
  {
   "cell_type": "code",
   "execution_count": 16,
   "id": "1c89da68",
   "metadata": {},
   "outputs": [],
   "source": [
    "sizes = df[\"Sentiment\"].value_counts()\n",
    "labels = df[\"Sentiment\"].unique()"
   ]
  },
  {
   "cell_type": "code",
   "execution_count": 17,
   "id": "cc083791",
   "metadata": {},
   "outputs": [
    {
     "data": {
      "image/png": "[encoded data removed]",
      "text/plain": [
       "<Figure size 1200x800 with 1 Axes>"
      ]
     },
     "metadata": {},
     "output_type": "display_data"
    }
   ],
   "source": [
    "import matplotlib.pyplot as plt\n",
    "\n",
    "plt.rcParams[\"figure.figsize\"] = [12, 8]\n",
    "\n",
    "plt.pie(sizes, labels = labels, autopct = '%1.1f%%', shadow = False, startangle = 90)\n",
    "plt.title(\"Sentiment distribution of reduced Reddit dataset - TextBlob\")\n",
    "plt.savefig(\"pie_textblobsentiment.png\")\n",
    "plt.show()"
   ]
  }
 ],
 "metadata": {
  "kernelspec": {
   "display_name": "Python 3 (ipykernel)",
   "language": "python",
   "name": "python3"
  },
  "language_info": {
   "codemirror_mode": {
    "name": "ipython",
    "version": 3
   },
   "file_extension": ".py",
   "mimetype": "text/x-python",
   "name": "python",
   "nbconvert_exporter": "python",
   "pygments_lexer": "ipython3",
   "version": "3.9.13"
  }
 },
 "nbformat": 4,
 "nbformat_minor": 5
}
